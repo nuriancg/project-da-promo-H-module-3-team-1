{
 "cells": [
  {
   "cell_type": "code",
   "execution_count": 2,
   "metadata": {},
   "outputs": [],
   "source": [
    "import numpy as np\n",
    "import pandas as pd\n",
    "pd.set_option('display.max_columns', None)\n"
   ]
  },
  {
   "cell_type": "code",
   "execution_count": 3,
   "metadata": {},
   "outputs": [],
   "source": [
    "df= pd.read_csv(\"HR RAW DATA.csv\", index_col=0)\n"
   ]
  },
  {
   "cell_type": "markdown",
   "metadata": {},
   "source": [
    "* Columnas a modificar:\n",
    "\n",
    "YearsAtCompany /\n",
    "YearsInCurrentRole /\n",
    "YearsSinceLastPromotion /\n",
    "YEARSWITHCURRMANAGER /\n",
    "SameAsMonthlyIncome /\n",
    "DateBirth /\n",
    "Salary /\n",
    "RoleDepartament /\n",
    "NUMBERCHILDREN /\n",
    "RemoteWork "
   ]
  },
  {
   "cell_type": "code",
   "execution_count": null,
   "metadata": {},
   "outputs": [],
   "source": [
    "#COLUMNAS 35 A 44\n"
   ]
  },
  {
   "cell_type": "code",
   "execution_count": 4,
   "metadata": {},
   "outputs": [],
   "source": [
    "#Cambio nombres de mis columnas\n",
    "df.rename(columns= {\"YearsAtCompany\": \"Years_At_Company\", \"YearsInCurrentRole\": \"Years_In_Current_Role\", \"YearsSinceLastPromotion\": \"Years_Since_Last_Promotion\", \"YEARSWITHCURRMANAGER\": \"Years_With_Curr_Manager\", \"DateBirth\": \"Date_Birth\", \"RemoteWork\": \"Remote_Work\"}, inplace= True)"
   ]
  },
  {
   "cell_type": "code",
   "execution_count": null,
   "metadata": {},
   "outputs": [],
   "source": [
    "#Borro columnas innecesarias\n",
    "df.drop([\"Salary\", \"RoleDepartament\", \"NUMBERCHILDREN\", \"SameAsMonthlyIncome\"], axis= 1, inplace=True )"
   ]
  },
  {
   "cell_type": "code",
   "execution_count": null,
   "metadata": {},
   "outputs": [],
   "source": [
    "df[\"Date_Birth\"].unique()"
   ]
  },
  {
   "cell_type": "code",
   "execution_count": null,
   "metadata": {},
   "outputs": [],
   "source": [
    "#COLUMNA Remote_Work\n",
    "df[\"Remote_Work\"].value_counts()"
   ]
  },
  {
   "cell_type": "code",
   "execution_count": null,
   "metadata": {},
   "outputs": [],
   "source": [
    "#Cambio a string para modificar sus valores\n",
    "df[\"Remote_Work\"] = df[\"Remote_Work\"].astype(\"str\")"
   ]
  },
  {
   "cell_type": "code",
   "execution_count": null,
   "metadata": {},
   "outputs": [],
   "source": [
    "#Unifico valores\n",
    "df[\"Remote_Work\"] = df[\"Remote_Work\"].str.replace(\"Yes\", \"True\") \n",
    "df['Remote_Work'] = df['Remote_Work'].replace({'1': True, '0': False, 'True': True, 'False': False})"
   ]
  },
  {
   "cell_type": "code",
   "execution_count": null,
   "metadata": {},
   "outputs": [],
   "source": [
    "#Para terminar, convierto en booleana la columna\n",
    "df['Remote_Work'].astype(bool)"
   ]
  },
  {
   "cell_type": "code",
   "execution_count": 13,
   "metadata": {},
   "outputs": [
    {
     "data": {
      "text/plain": [
       "array([nan, '13,0', '12,0', '11,0', '7,0', '6,0', '4,0', '3,0', '2,0',\n",
       "       '1,0', '0,0'], dtype=object)"
      ]
     },
     "execution_count": 13,
     "metadata": {},
     "output_type": "execute_result"
    }
   ],
   "source": [
    "#AHORA COLUMNA Years_In_Current_Role\n",
    "df[\"Years_In_Current_Role\"].unique()"
   ]
  },
  {
   "cell_type": "code",
   "execution_count": null,
   "metadata": {},
   "outputs": [],
   "source": [
    "df[\"Years_In_Current_Role\"]= df[\"Years_In_Current_Role\"].str.replace(\",0\", \"\")"
   ]
  },
  {
   "cell_type": "code",
   "execution_count": 17,
   "metadata": {},
   "outputs": [
    {
     "data": {
      "text/plain": [
       "1580"
      ]
     },
     "execution_count": 17,
     "metadata": {},
     "output_type": "execute_result"
    }
   ],
   "source": [
    "df[\"Years_In_Current_Role\"].isnull().sum()\n",
    "\n",
    "#OJO, muchísimos nulos, 1580, ¿qué hacemos con ellos?"
   ]
  },
  {
   "cell_type": "code",
   "execution_count": 18,
   "metadata": {},
   "outputs": [
    {
     "data": {
      "text/plain": [
       "array([15, 11,  5,  2,  4,  7,  0,  1, 13, 14,  8, 12,  3,  6, 10,  9],\n",
       "      dtype=int64)"
      ]
     },
     "execution_count": 18,
     "metadata": {},
     "output_type": "execute_result"
    }
   ],
   "source": [
    "#Compruebo value columna Years_In_Current_Role\n",
    "df[\"Years_Since_Last_Promotion\"].unique()\n",
    "\n",
    "#Parece que hay espacios en blanco"
   ]
  },
  {
   "cell_type": "code",
   "execution_count": 19,
   "metadata": {},
   "outputs": [
    {
     "data": {
      "text/plain": [
       "Years_Since_Last_Promotion\n",
       "0     625\n",
       "1     384\n",
       "2     177\n",
       "7      93\n",
       "4      67\n",
       "3      62\n",
       "5      53\n",
       "6      37\n",
       "11     26\n",
       "8      20\n",
       "9      18\n",
       "15     15\n",
       "12     11\n",
       "13     10\n",
       "14     10\n",
       "10      6\n",
       "Name: count, dtype: int64"
      ]
     },
     "execution_count": 19,
     "metadata": {},
     "output_type": "execute_result"
    }
   ],
   "source": [
    "df[\"Years_Since_Last_Promotion\"].value_counts()\n",
    "\n",
    "#Me apunto comprobar si los años sin promociones NO superan los años en la compañía (years_at_company)"
   ]
  },
  {
   "cell_type": "code",
   "execution_count": 20,
   "metadata": {},
   "outputs": [
    {
     "data": {
      "text/plain": [
       "0"
      ]
     },
     "execution_count": 20,
     "metadata": {},
     "output_type": "execute_result"
    }
   ],
   "source": [
    "df[\"Years_Since_Last_Promotion\"].isnull().sum()\n",
    "#No NULOS"
   ]
  },
  {
   "cell_type": "code",
   "execution_count": null,
   "metadata": {},
   "outputs": [],
   "source": [
    "#cambio a str y modifico para quitar espacios en blanco\n",
    "df[\"Years_Since_Last_Promotion\"] = df[\"Years_Since_Last_Promotion\"].astype(str)\n",
    "df[\"Years_Since_Last_Promotion\"].str.replace(\" \", \"\")"
   ]
  },
  {
   "cell_type": "code",
   "execution_count": null,
   "metadata": {},
   "outputs": [],
   "source": [
    "#Para terminar, vuelvo a convertir a INT64\n",
    "df[\"Years_Since_Last_Promotion\"] = df[\"Years_Since_Last_Promotion\"].astype(\"Int64\")\n",
    "\n",
    "#COMPROBADO, no hay entradas donde [\"Years_Since_Last_Promotion\"] > df[\"Years_At_Company\"]"
   ]
  },
  {
   "cell_type": "code",
   "execution_count": 24,
   "metadata": {},
   "outputs": [
    {
     "data": {
      "text/plain": [
       "array([20, 33, 22, 19, 21, 18, 24, 31, 26, 16, 23, 15, 17, 32, 14, 13, 25,\n",
       "       12, 11, 37, 40, 36, 27, 29, 10,  9, 30,  8,  7, 34,  6,  5,  4,  2,\n",
       "        3,  1,  0], dtype=int64)"
      ]
     },
     "execution_count": 24,
     "metadata": {},
     "output_type": "execute_result"
    }
   ],
   "source": [
    "#COLUMNA Years_At_Company (NO TIENE NULOS)\n",
    "df[\"Years_At_Company\"].unique()\n"
   ]
  },
  {
   "cell_type": "code",
   "execution_count": null,
   "metadata": {},
   "outputs": [],
   "source": [
    "#Convierto a string y quito espacios de nuevo\n",
    "df[\"Years_At_Company\"]= df[\"Years_At_Company\"].astype(str)\n",
    "df[\"Years_At_Company\"]= df[\"Years_At_Company\"].str.replace(\" \", \"\")"
   ]
  },
  {
   "cell_type": "code",
   "execution_count": null,
   "metadata": {},
   "outputs": [],
   "source": [
    "#vuelvo a convertir a INT\n",
    "df[\"Years_At_Company\"]= df[\"Years_At_Company\"].astype(\"int64\")"
   ]
  },
  {
   "cell_type": "code",
   "execution_count": 28,
   "metadata": {},
   "outputs": [
    {
     "data": {
      "text/plain": [
       "array([15,  9,  6,  8,  7, 11, 10, 12,  4,  0,  5, 17,  2, 14,  1, 13,  3,\n",
       "       16], dtype=int64)"
      ]
     },
     "execution_count": 28,
     "metadata": {},
     "output_type": "execute_result"
    }
   ],
   "source": [
    "#COLUMNA Years_With_Curr_Manager\n",
    "#En esta columna no hay nulos\n",
    "df[\"Years_With_Curr_Manager\"].unique()\n",
    "\n",
    "#COMPROBADO, esta columna no tiene values que superen el tiempo que llevan en la empresa (Years_At_Company)"
   ]
  },
  {
   "cell_type": "code",
   "execution_count": null,
   "metadata": {},
   "outputs": [],
   "source": [
    "#Cambio a string para modificar y quitar espacios en blanco\n",
    "df[\"Years_With_Curr_Manager\"] = df[\"Years_With_Curr_Manager\"].astype(\"str\")\n",
    "df[\"Years_With_Curr_Manager\"] = df[\"Years_With_Curr_Manager\"].str.replace(\" \", \"\") "
   ]
  },
  {
   "cell_type": "code",
   "execution_count": null,
   "metadata": {},
   "outputs": [],
   "source": [
    "#Vuelvo a pasar a INT64\n",
    "df[\"Years_With_Curr_Manager\"]= df[\"Years_With_Curr_Manager\"].astype(\"int64\")"
   ]
  },
  {
   "cell_type": "code",
   "execution_count": null,
   "metadata": {},
   "outputs": [],
   "source": [
    "#COMPRUEBO \n",
    "df[\"Years_With_Curr_Manager\"].value_counts()"
   ]
  }
 ],
 "metadata": {
  "kernelspec": {
   "display_name": "Python 3",
   "language": "python",
   "name": "python3"
  },
  "language_info": {
   "codemirror_mode": {
    "name": "ipython",
    "version": 3
   },
   "file_extension": ".py",
   "mimetype": "text/x-python",
   "name": "python",
   "nbconvert_exporter": "python",
   "pygments_lexer": "ipython3",
   "version": "3.12.3"
  }
 },
 "nbformat": 4,
 "nbformat_minor": 2
}
