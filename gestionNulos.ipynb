{
 "cells": [
  {
   "cell_type": "code",
   "execution_count": 113,
   "metadata": {},
   "outputs": [],
   "source": [
    "import numpy as np\n",
    "import pandas as pd\n",
    "from sklearn.impute import SimpleImputer\n",
    "from sklearn.experimental import enable_iterative_imputer\n",
    "from sklearn.impute import IterativeImputer\n",
    "from sklearn.impute import KNNImputer\n",
    "\n",
    "# Librerías de visualización\n",
    "# -----------------------------------------------------------------------\n",
    "import seaborn as sns\n",
    "import matplotlib.pyplot as plt"
   ]
  },
  {
   "cell_type": "code",
   "execution_count": 114,
   "metadata": {},
   "outputs": [],
   "source": [
    "df= pd.read_csv(\"HR_CLEAN_DATA.csv\", index_col=0)\n",
    "pd.set_option('display.max_columns', None)\n"
   ]
  },
  {
   "cell_type": "markdown",
   "metadata": {},
   "source": [
    "* COLUMNAS WORK LIFE BALANCE Y TOTAL WORKING YEARS"
   ]
  },
  {
   "cell_type": "code",
   "execution_count": 115,
   "metadata": {},
   "outputs": [
    {
     "data": {
      "text/plain": [
       "<IntegerArray>\n",
       "[3, 99999, 2, 4, 1]\n",
       "Length: 5, dtype: Int64"
      ]
     },
     "execution_count": 115,
     "metadata": {},
     "output_type": "execute_result"
    }
   ],
   "source": [
    "#GESTIONO NULOS COLUMNA WORK LIFE BALANCE\n",
    "#Primero, quito espacios de sobra \n",
    "df[\"Work_Life_Balance\"]= df[\"Work_Life_Balance\"].astype(str).str.replace(\" \", \"\").astype(\"Int64\")\n",
    "df[\"Work_Life_Balance\"].unique()"
   ]
  },
  {
   "cell_type": "code",
   "execution_count": 116,
   "metadata": {},
   "outputs": [
    {
     "data": {
      "text/plain": [
       "98"
      ]
     },
     "execution_count": 116,
     "metadata": {},
     "output_type": "execute_result"
    }
   ],
   "source": [
    "#Cambio los valores sentinelas por nan, los nulos de numpy, en las 2 columnas que gestiono Work_Life_Balance y \"Total_Working_Years\"\n",
    "df[[\"Work_Life_Balance\", \"Total_Working_Years\"]]= df[[\"Work_Life_Balance\", \"Total_Working_Years\"]].replace(99999, np.nan)\n",
    "\n",
    "#Compruebo que esta columna tiene muy pocos nulos, 98 de 1477 registros\n",
    "df[\"Work_Life_Balance\"].isnull().sum()\n",
    "\n",
    "#Total_Working_Years la gestiono más abajo"
   ]
  },
  {
   "cell_type": "code",
   "execution_count": 117,
   "metadata": {},
   "outputs": [
    {
     "data": {
      "text/plain": [
       "count      1379.0\n",
       "mean     2.757796\n",
       "std      0.706133\n",
       "min           1.0\n",
       "25%           2.0\n",
       "50%           3.0\n",
       "75%           3.0\n",
       "max           4.0\n",
       "Name: Work_Life_Balance, dtype: Float64"
      ]
     },
     "execution_count": 117,
     "metadata": {},
     "output_type": "execute_result"
    }
   ],
   "source": [
    "#Miro sus principales estadísticos, comprobando que la desviación estándar es pequeña\n",
    "df[\"Work_Life_Balance\"].describe().T"
   ]
  },
  {
   "cell_type": "code",
   "execution_count": 118,
   "metadata": {},
   "outputs": [
    {
     "data": {
      "text/plain": [
       "3.0"
      ]
     },
     "execution_count": 118,
     "metadata": {},
     "output_type": "execute_result"
    }
   ],
   "source": [
    "#Decido completar los nulos con la mediana, pero antes miro qué valor me da\n",
    "df[\"Work_Life_Balance\"].median()"
   ]
  },
  {
   "cell_type": "code",
   "execution_count": 119,
   "metadata": {},
   "outputs": [],
   "source": [
    "#Relleno nulos con fillna y la mediana que es 3.\n",
    "df['Work_Life_Balance'] = df['Work_Life_Balance'].fillna(df[\"Work_Life_Balance\"].median())"
   ]
  },
  {
   "cell_type": "code",
   "execution_count": 120,
   "metadata": {},
   "outputs": [
    {
     "data": {
      "text/plain": [
       "<IntegerArray>\n",
       "[3, 2, 4, 1]\n",
       "Length: 4, dtype: Int64"
      ]
     },
     "execution_count": 120,
     "metadata": {},
     "output_type": "execute_result"
    }
   ],
   "source": [
    "#Columna sin nulos recién sacada del horno.\n",
    "df['Work_Life_Balance'].unique()"
   ]
  },
  {
   "cell_type": "code",
   "execution_count": 121,
   "metadata": {},
   "outputs": [
    {
     "data": {
      "text/plain": [
       "485"
      ]
     },
     "execution_count": 121,
     "metadata": {},
     "output_type": "execute_result"
    }
   ],
   "source": [
    "#GESTIONO NULOS DE LA COLUMNA TOTAL WORKING YEARS\n",
    "#primero miro cuántos nulos tengo, aquí son mas: 485\n",
    "df[\"Total_Working_Years\"].isnull().sum()"
   ]
  },
  {
   "cell_type": "code",
   "execution_count": 127,
   "metadata": {},
   "outputs": [
    {
     "data": {
      "text/plain": [
       "array([nan, 34., 22., 28., 20., 21., 33., 40., 18., 25., 15., 17., 26.,\n",
       "       16., 24., 14., 23., 27., 19., 11., 38., 12., 13., 29., 10., 37.,\n",
       "       36., 35.,  9., 31., 32.,  8.,  7., 30.,  6.,  5.,  4.,  3.,  2.,\n",
       "        1.,  0.])"
      ]
     },
     "execution_count": 127,
     "metadata": {},
     "output_type": "execute_result"
    }
   ],
   "source": [
    "#y estos son sus values unicos\n",
    "df[\"Total_Working_Years\"].unique()"
   ]
  },
  {
   "cell_type": "code",
   "execution_count": 152,
   "metadata": {},
   "outputs": [
    {
     "data": {
      "text/plain": [
       "mean    11.316524\n",
       "50%     11.263105\n",
       "Name: Total_Working_Years, dtype: float64"
      ]
     },
     "execution_count": 152,
     "metadata": {},
     "output_type": "execute_result"
    }
   ],
   "source": [
    "#Miro estadísticos de media y mediana\n",
    "df[\"Total_Working_Years\"].describe()[[\"mean\", \"50%\"]]"
   ]
  },
  {
   "cell_type": "code",
   "execution_count": 137,
   "metadata": {},
   "outputs": [
    {
     "data": {
      "text/plain": [
       "array([[14.        ],\n",
       "       [11.26310484],\n",
       "       [10.        ],\n",
       "       ...,\n",
       "       [11.31652439],\n",
       "       [10.        ],\n",
       "       [11.31652439]])"
      ]
     },
     "execution_count": 137,
     "metadata": {},
     "output_type": "execute_result"
    }
   ],
   "source": [
    "# como la media y la mediana no son muy distintos, uso simpleImputer \n",
    "imputer_años_currando = SimpleImputer(strategy = \"mean\")\n",
    "años_currando_imputed = imputer_años_currando.fit_transform(df[[\"Total_Working_Years\"]])\n",
    "\n",
    "años_currando_imputed"
   ]
  },
  {
   "cell_type": "code",
   "execution_count": 138,
   "metadata": {},
   "outputs": [],
   "source": [
    "# Creo nueva columna para comparar resultado con la anterior columna\n",
    "df[\"working_years_SimpleImp\"] = años_currando_imputed\n",
    "\n",
    "# por último comprobamos si tenemos nulos. "
   ]
  },
  {
   "cell_type": "code",
   "execution_count": 153,
   "metadata": {},
   "outputs": [
    {
     "data": {
      "text/plain": [
       "0"
      ]
     },
     "execution_count": 153,
     "metadata": {},
     "output_type": "execute_result"
    }
   ],
   "source": [
    "#compruebo que no tengo nulos\n",
    "df['working_years_SimpleImp'].isnull().sum()"
   ]
  },
  {
   "cell_type": "code",
   "execution_count": 150,
   "metadata": {},
   "outputs": [
    {
     "data": {
      "text/html": [
       "<div>\n",
       "<style scoped>\n",
       "    .dataframe tbody tr th:only-of-type {\n",
       "        vertical-align: middle;\n",
       "    }\n",
       "\n",
       "    .dataframe tbody tr th {\n",
       "        vertical-align: top;\n",
       "    }\n",
       "\n",
       "    .dataframe thead th {\n",
       "        text-align: right;\n",
       "    }\n",
       "</style>\n",
       "<table border=\"1\" class=\"dataframe\">\n",
       "  <thead>\n",
       "    <tr style=\"text-align: right;\">\n",
       "      <th></th>\n",
       "      <th>Total_Working_Years</th>\n",
       "      <th>Work_Life_Balance</th>\n",
       "      <th>Years_Since_Last_Promotion</th>\n",
       "      <th>Date_Birth</th>\n",
       "      <th>working_years_SimpleImp</th>\n",
       "    </tr>\n",
       "    <tr>\n",
       "      <th>Employee_Number</th>\n",
       "      <th></th>\n",
       "      <th></th>\n",
       "      <th></th>\n",
       "      <th></th>\n",
       "      <th></th>\n",
       "    </tr>\n",
       "  </thead>\n",
       "  <tbody>\n",
       "    <tr>\n",
       "      <th>162</th>\n",
       "      <td>14.000000</td>\n",
       "      <td>3</td>\n",
       "      <td>15</td>\n",
       "      <td>1972</td>\n",
       "      <td>14.000000</td>\n",
       "    </tr>\n",
       "    <tr>\n",
       "      <th>259</th>\n",
       "      <td>11.263105</td>\n",
       "      <td>3</td>\n",
       "      <td>11</td>\n",
       "      <td>1971</td>\n",
       "      <td>11.263105</td>\n",
       "    </tr>\n",
       "    <tr>\n",
       "      <th>319</th>\n",
       "      <td>10.000000</td>\n",
       "      <td>3</td>\n",
       "      <td>11</td>\n",
       "      <td>1981</td>\n",
       "      <td>10.000000</td>\n",
       "    </tr>\n",
       "    <tr>\n",
       "      <th>2069</th>\n",
       "      <td>NaN</td>\n",
       "      <td>3</td>\n",
       "      <td>5</td>\n",
       "      <td>1976</td>\n",
       "      <td>11.316524</td>\n",
       "    </tr>\n",
       "    <tr>\n",
       "      <th>2070</th>\n",
       "      <td>NaN</td>\n",
       "      <td>3</td>\n",
       "      <td>2</td>\n",
       "      <td>1977</td>\n",
       "      <td>11.316524</td>\n",
       "    </tr>\n",
       "    <tr>\n",
       "      <th>...</th>\n",
       "      <td>...</td>\n",
       "      <td>...</td>\n",
       "      <td>...</td>\n",
       "      <td>...</td>\n",
       "      <td>...</td>\n",
       "    </tr>\n",
       "    <tr>\n",
       "      <th>967</th>\n",
       "      <td>27.000000</td>\n",
       "      <td>3</td>\n",
       "      <td>3</td>\n",
       "      <td>1987</td>\n",
       "      <td>27.000000</td>\n",
       "    </tr>\n",
       "    <tr>\n",
       "      <th>972</th>\n",
       "      <td>29.000000</td>\n",
       "      <td>2</td>\n",
       "      <td>0</td>\n",
       "      <td>1978</td>\n",
       "      <td>29.000000</td>\n",
       "    </tr>\n",
       "    <tr>\n",
       "      <th>2465</th>\n",
       "      <td>NaN</td>\n",
       "      <td>3</td>\n",
       "      <td>0</td>\n",
       "      <td>1984</td>\n",
       "      <td>11.316524</td>\n",
       "    </tr>\n",
       "    <tr>\n",
       "      <th>990</th>\n",
       "      <td>10.000000</td>\n",
       "      <td>3</td>\n",
       "      <td>0</td>\n",
       "      <td>1987</td>\n",
       "      <td>10.000000</td>\n",
       "    </tr>\n",
       "    <tr>\n",
       "      <th>2466</th>\n",
       "      <td>NaN</td>\n",
       "      <td>3</td>\n",
       "      <td>0</td>\n",
       "      <td>1977</td>\n",
       "      <td>11.316524</td>\n",
       "    </tr>\n",
       "  </tbody>\n",
       "</table>\n",
       "<p>1477 rows × 5 columns</p>\n",
       "</div>"
      ],
      "text/plain": [
       "                 Total_Working_Years  Work_Life_Balance  \\\n",
       "Employee_Number                                           \n",
       "162                        14.000000                  3   \n",
       "259                        11.263105                  3   \n",
       "319                        10.000000                  3   \n",
       "2069                             NaN                  3   \n",
       "2070                             NaN                  3   \n",
       "...                              ...                ...   \n",
       "967                        27.000000                  3   \n",
       "972                        29.000000                  2   \n",
       "2465                             NaN                  3   \n",
       "990                        10.000000                  3   \n",
       "2466                             NaN                  3   \n",
       "\n",
       "                 Years_Since_Last_Promotion  Date_Birth  \\\n",
       "Employee_Number                                           \n",
       "162                                      15        1972   \n",
       "259                                      11        1971   \n",
       "319                                      11        1981   \n",
       "2069                                      5        1976   \n",
       "2070                                      2        1977   \n",
       "...                                     ...         ...   \n",
       "967                                       3        1987   \n",
       "972                                       0        1978   \n",
       "2465                                      0        1984   \n",
       "990                                       0        1987   \n",
       "2466                                      0        1977   \n",
       "\n",
       "                 working_years_SimpleImp  \n",
       "Employee_Number                           \n",
       "162                            14.000000  \n",
       "259                            11.263105  \n",
       "319                            10.000000  \n",
       "2069                           11.316524  \n",
       "2070                           11.316524  \n",
       "...                                  ...  \n",
       "967                            27.000000  \n",
       "972                            29.000000  \n",
       "2465                           11.316524  \n",
       "990                            10.000000  \n",
       "2466                           11.316524  \n",
       "\n",
       "[1477 rows x 5 columns]"
      ]
     },
     "execution_count": 150,
     "metadata": {},
     "output_type": "execute_result"
    }
   ],
   "source": [
    "#comparo las columnas, parece que tiene sentido (ver 1ª y última)\n",
    "df.iloc[:, 26::2]"
   ]
  },
  {
   "cell_type": "code",
   "execution_count": 154,
   "metadata": {},
   "outputs": [],
   "source": [
    "#Ahora que he comprobado todo, borro columna antigua\n",
    "df.drop(\"Total_Working_Years\", axis= 1, inplace=True)"
   ]
  },
  {
   "cell_type": "code",
   "execution_count": 157,
   "metadata": {},
   "outputs": [],
   "source": [
    "#Renombro la nueva para que se llame como la antigua\n",
    "df.rename(columns= {\"working_years_SimpleImp\": \"Total_Working_Years\"} , inplace=True )"
   ]
  },
  {
   "cell_type": "code",
   "execution_count": 166,
   "metadata": {},
   "outputs": [],
   "source": [
    "#redondeo para tener datos más precisos, que perderé al convertir a INT\n",
    "df[\"Total_Working_Years\"] = df[\"Total_Working_Years\"].round(2)"
   ]
  },
  {
   "cell_type": "code",
   "execution_count": 167,
   "metadata": {},
   "outputs": [],
   "source": [
    "#Finalmente convierto a INT\n",
    "df[\"Total_Working_Years\"]= df[\"Total_Working_Years\"].astype(int)"
   ]
  },
  {
   "cell_type": "code",
   "execution_count": 169,
   "metadata": {},
   "outputs": [
    {
     "data": {
      "text/plain": [
       "array([14, 11, 10, 17,  5, 19, 26, 20,  7,  3,  1, 15, 24,  9, 21, 12,  6,\n",
       "       13, 25,  4,  0, 16, 29, 22, 30, 23,  2,  8, 35, 18, 40, 38, 31, 33,\n",
       "       27, 37, 36, 28, 34, 32])"
      ]
     },
     "execution_count": 169,
     "metadata": {},
     "output_type": "execute_result"
    }
   ],
   "source": [
    "df[\"Total_Working_Years\"].unique()"
   ]
  }
 ],
 "metadata": {
  "kernelspec": {
   "display_name": "Python 3",
   "language": "python",
   "name": "python3"
  },
  "language_info": {
   "codemirror_mode": {
    "name": "ipython",
    "version": 3
   },
   "file_extension": ".py",
   "mimetype": "text/x-python",
   "name": "python",
   "nbconvert_exporter": "python",
   "pygments_lexer": "ipython3",
   "version": "3.8.10"
  }
 },
 "nbformat": 4,
 "nbformat_minor": 2
}
