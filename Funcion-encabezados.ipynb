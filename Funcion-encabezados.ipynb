{
 "cells": [
  {
   "cell_type": "code",
   "execution_count": 2,
   "metadata": {},
   "outputs": [],
   "source": [
    "import pandas as pd\n",
    "import re"
   ]
  },
  {
   "cell_type": "code",
   "execution_count": 3,
   "metadata": {},
   "outputs": [],
   "source": [
    "df= pd.read_csv('HR RAW DATA.csv')\n"
   ]
  },
  {
   "cell_type": "code",
   "execution_count": 4,
   "metadata": {},
   "outputs": [
    {
     "data": {
      "text/plain": [
       "Index(['Unnamed: 0', 'Age', 'Attrition', 'BusinessTravel', 'DailyRate',\n",
       "       'Department', 'DistanceFromHome', 'Education', 'EducationField',\n",
       "       'employeecount', 'employeenumber', 'EnvironmentSatisfaction', 'Gender',\n",
       "       'HourlyRate', 'JobInvolvement', 'JobLevel', 'JobRole',\n",
       "       'JobSatisfaction', 'MaritalStatus', 'MonthlyIncome', 'MonthlyRate',\n",
       "       'NUMCOMPANIESWORKED', 'Over18', 'OverTime', 'PercentSalaryHike',\n",
       "       'PerformanceRating', 'RelationshipSatisfaction', 'StandardHours',\n",
       "       'StockOptionLevel', 'TOTALWORKINGYEARS', 'TrainingTimesLastYear',\n",
       "       'WORKLIFEBALANCE', 'YearsAtCompany', 'YearsInCurrentRole',\n",
       "       'YearsSinceLastPromotion', 'YEARSWITHCURRMANAGER',\n",
       "       'SameAsMonthlyIncome', 'DateBirth', 'Salary', 'RoleDepartament',\n",
       "       'NUMBERCHILDREN', 'RemoteWork'],\n",
       "      dtype='object')"
      ]
     },
     "execution_count": 4,
     "metadata": {},
     "output_type": "execute_result"
    }
   ],
   "source": [
    "columnas = df.columns\n",
    "columnas"
   ]
  },
  {
   "cell_type": "code",
   "execution_count": 5,
   "metadata": {},
   "outputs": [
    {
     "name": "stdout",
     "output_type": "stream",
     "text": [
      "['Unnamed: 0', 'Age', 'Attrition', 'Business_Travel', 'Daily_Rate', 'Department', 'Distance_From_Home', 'Education', 'Education_Field', 'Employee_Count', 'Employee_Number', 'Environment_Satisfaction', 'Gender', 'Hourly_Rate', 'Job_Involvement', 'Job_Level', 'Job_Role', 'Job_Satisfaction', 'Marital_Status', 'Monthly_Income', 'Monthly_Rate', 'Num_Companies_Worked', 'Over_18', 'Over_Time', 'Percent_Salary_Hike', 'Performance_Rating', 'Relationship_Satisfaction', 'Standard_Hours', 'Stock_Option_Level', 'Total_Working_Years', 'Training_Times_Last_Year', 'Work_Life_Balance', 'Years_At_Company', 'Years_In_Current_Role', 'Years_Since_Last_Promotion', 'Years_With_Curr_Manager', 'Same_As_Monthly_Income', 'Date_Birth', 'Salary', 'Role_Departament', 'Number_Children', 'Remote_Work']\n"
     ]
    }
   ],
   "source": [
    "\n",
    "def normalizar_encabezados(encabezado):\n",
    "    # Mapeo para palabras completamente en mayúsculas pq no encuentro patrón para dividir.\n",
    "    casos_especiales = {\n",
    "        'NUMCOMPANIESWORKED': 'Num_Companies_Worked',\n",
    "        'TOTALWORKINGYEARS': 'Total_Working_Years',\n",
    "        'YEARSWITHCURRMANAGER': 'Years_With_Curr_Manager',\n",
    "        'OVERTIME': 'Over_Time',\n",
    "        'PERCENTSALARYHIKE': 'Percent_Salary_Hike',\n",
    "        'RELATIONSHIPSATISFACTION': 'Relationship_Satisfaction',\n",
    "        'STANDARDHOURS': 'Standard_Hours',\n",
    "        'STOCKOPTIONLEVEL': 'Stock_Option_Level',\n",
    "        'WORKLIFEBALANCE': 'Work_Life_Balance',\n",
    "        'EMPLOYEECOUNT': 'Employee_Count',\n",
    "        'EMPLOYEENUMBER': 'Employee_Number',\n",
    "        'NUMBERCHILDREN': 'Number_Children' \n",
    "    }\n",
    "\n",
    "    # Si el encabezado está en casos especiales devolver el formato especificado\n",
    "    if encabezado.upper() in casos_especiales:\n",
    "        return casos_especiales[encabezado.upper()]\n",
    "\n",
    "    # Añadir guion bajo entre letras y números\n",
    "    encabezado = re.sub(r'([a-zA-Z])(\\d)', r'\\1_\\2', encabezado)\n",
    "\n",
    "    # Para otros formatos que incluyen transiciones de minúscula a mayúscula\n",
    "    if re.match(r'^[A-Za-z0-9]+$', encabezado):  # Si son letras seguidas de números sin guiones\n",
    "        encabezado = re.sub(r'([a-z])([A-Z])', r'\\1_\\2', encabezado)\n",
    "        encabezado = re.sub(r'([A-Z]+)([A-Z][a-z]+)', r'\\1_\\2', encabezado)\n",
    "\n",
    "    # Capitalizar cada string separado por guiones\n",
    "    words = encabezado.split('_')\n",
    "    return '_'.join(word.capitalize() for word in words)\n",
    "\n",
    "encabezados_normalizados = [normalizar_encabezados(col) for col in columnas]\n",
    "\n",
    "print(encabezados_normalizados)\n"
   ]
  },
  {
   "cell_type": "code",
   "execution_count": 6,
   "metadata": {},
   "outputs": [
    {
     "data": {
      "text/plain": [
       "['Unnamed: 0',\n",
       " 'Age',\n",
       " 'Attrition',\n",
       " 'Business_Travel',\n",
       " 'Daily_Rate',\n",
       " 'Department',\n",
       " 'Distance_From_Home',\n",
       " 'Education',\n",
       " 'Education_Field',\n",
       " 'Employee_Count',\n",
       " 'Employee_Number',\n",
       " 'Environment_Satisfaction',\n",
       " 'Gender',\n",
       " 'Hourly_Rate',\n",
       " 'Job_Involvement',\n",
       " 'Job_Level',\n",
       " 'Job_Role',\n",
       " 'Job_Satisfaction',\n",
       " 'Marital_Status',\n",
       " 'Monthly_Income',\n",
       " 'Monthly_Rate',\n",
       " 'Num_Companies_Worked',\n",
       " 'Over_18',\n",
       " 'Over_Time',\n",
       " 'Percent_Salary_Hike',\n",
       " 'Performance_Rating',\n",
       " 'Relationship_Satisfaction',\n",
       " 'Standard_Hours',\n",
       " 'Stock_Option_Level',\n",
       " 'Total_Working_Years',\n",
       " 'Training_Times_Last_Year',\n",
       " 'Work_Life_Balance',\n",
       " 'Years_At_Company',\n",
       " 'Years_In_Current_Role',\n",
       " 'Years_Since_Last_Promotion',\n",
       " 'Years_With_Curr_Manager',\n",
       " 'Same_As_Monthly_Income',\n",
       " 'Date_Birth',\n",
       " 'Salary',\n",
       " 'Role_Departament',\n",
       " 'Number_Children',\n",
       " 'Remote_Work']"
      ]
     },
     "execution_count": 6,
     "metadata": {},
     "output_type": "execute_result"
    }
   ],
   "source": [
    "encabezados_normalizados"
   ]
  }
 ],
 "metadata": {
  "kernelspec": {
   "display_name": "base",
   "language": "python",
   "name": "python3"
  },
  "language_info": {
   "codemirror_mode": {
    "name": "ipython",
    "version": 3
   },
   "file_extension": ".py",
   "mimetype": "text/x-python",
   "name": "python",
   "nbconvert_exporter": "python",
   "pygments_lexer": "ipython3",
   "version": "3.11.8"
  }
 },
 "nbformat": 4,
 "nbformat_minor": 2
}
