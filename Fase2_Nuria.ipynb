{
 "cells": [
  {
   "cell_type": "markdown",
   "metadata": {},
   "source": [
    "## Employee_Number\n",
    "- 1080 valores únicos (incluyendo el 0)\n",
    "- 534 duplicados\n",
    "- (1080 + 534 = 1614 totales)\n",
    "- ...................\n",
    "- dtype  -> object"
   ]
  },
  {
   "cell_type": "markdown",
   "metadata": {},
   "source": [
    "## Duplicados\n",
    "\n",
    "- 431 son 'Employee_Number'= 0\n",
    "- 104 en las siguientes situaciones\n",
    "\n",
    "- df_duplicados = 639 rows -> 431 'Employee_Number'=0 + (104 x 2)\n"
   ]
  },
  {
   "cell_type": "markdown",
   "metadata": {},
   "source": [
    "- Situación 1: 51 employees\n",
    "    - Todas las columnas son iguales\n",
    "   \n",
    "    ➡️ Solución: eliminar el primer registro   \n",
    "\n",
    "- Situación 2: 13 employees\n",
    "    - Distance_From_Home diferentes\n",
    "   \n",
    "    ➡️ Solución: eliminar el primer registro   \n",
    "\n",
    "- Situación 3: 48 employees\n",
    "    - Remote_Work diferentes\n",
    "   \n",
    "    ➡️ Solución: eliminar el primer registro   \n",
    "\n",
    "- Situación 4: ?? employees\n",
    "    - Hourly_Rate -> Not Available\n",
    "   \n",
    "    ➡️ Solución: eliminar Hourly_Rate == Not Available     \n",
    "\n",
    "- Situación 5: ?? employees\n",
    "    - Distance_From_Home diferentes\n",
    "    - Distance_From_Home = Environment_Satisfaction\n",
    "   \n",
    "    ➡️ Solución: eliminar Distance_From_Home = Environment_Satisfaction\n"
   ]
  },
  {
   "cell_type": "code",
   "execution_count": 1,
   "metadata": {},
   "outputs": [],
   "source": [
    "# Importamos librerias\n",
    "import pandas as pd\n",
    "import numpy as np\n",
    "\n",
    "# Ajustes de visualización\n",
    "pd.set_option('display.max_columns',None)\n",
    "#pd.set_option('display.max_rows',None)"
   ]
  },
  {
   "cell_type": "code",
   "execution_count": 46,
   "metadata": {},
   "outputs": [],
   "source": [
    "# Leemos el .csv y lo guardamos en una variable df\n",
    "df_original = pd.read_csv('HR RAW DATA_Nuria.csv', index_col=0)"
   ]
  },
  {
   "cell_type": "code",
   "execution_count": 47,
   "metadata": {},
   "outputs": [],
   "source": [
    "#creamos una copia del df con la que trabajaremos\n",
    "df=df_original.copy()"
   ]
  },
  {
   "cell_type": "code",
   "execution_count": 48,
   "metadata": {},
   "outputs": [
    {
     "name": "stdout",
     "output_type": "stream",
     "text": [
      "<class 'pandas.core.frame.DataFrame'>\n",
      "Int64Index: 1614 entries, 0 to 1613\n",
      "Data columns (total 41 columns):\n",
      " #   Column                    Non-Null Count  Dtype  \n",
      "---  ------                    --------------  -----  \n",
      " 0   Age                       1614 non-null   object \n",
      " 1   Attrition                 1614 non-null   object \n",
      " 2   BusinessTravel            842 non-null    object \n",
      " 3   DailyRate                 1614 non-null   object \n",
      " 4   Department                302 non-null    object \n",
      " 5   DistanceFromHome          1614 non-null   int64  \n",
      " 6   Education                 1614 non-null   int64  \n",
      " 7   EducationField            869 non-null    object \n",
      " 8   employeecount             1614 non-null   int64  \n",
      " 9   employeenumber            1183 non-null   object \n",
      " 10  EnvironmentSatisfaction   1614 non-null   int64  \n",
      " 11  Gender                    1614 non-null   int64  \n",
      " 12  HourlyRate                1614 non-null   object \n",
      " 13  JobInvolvement            1614 non-null   int64  \n",
      " 14  JobLevel                  1614 non-null   int64  \n",
      " 15  JobRole                   1614 non-null   object \n",
      " 16  JobSatisfaction           1614 non-null   int64  \n",
      " 17  MaritalStatus             963 non-null    object \n",
      " 18  MonthlyIncome             771 non-null    object \n",
      " 19  MonthlyRate               1614 non-null   int64  \n",
      " 20  NUMCOMPANIESWORKED        1614 non-null   int64  \n",
      " 21  Over18                    713 non-null    object \n",
      " 22  OverTime                  938 non-null    object \n",
      " 23  PercentSalaryHike         1614 non-null   int64  \n",
      " 24  PerformanceRating         1419 non-null   object \n",
      " 25  RelationshipSatisfaction  1614 non-null   int64  \n",
      " 26  StandardHours             419 non-null    object \n",
      " 27  StockOptionLevel          1614 non-null   int64  \n",
      " 28  TOTALWORKINGYEARS         1088 non-null   object \n",
      " 29  TrainingTimesLastYear     1614 non-null   int64  \n",
      " 30  WORKLIFEBALANCE           1506 non-null   object \n",
      " 31  YearsAtCompany            1614 non-null   int64  \n",
      " 32  YearsInCurrentRole        34 non-null     object \n",
      " 33  YearsSinceLastPromotion   1614 non-null   int64  \n",
      " 34  YEARSWITHCURRMANAGER      1614 non-null   int64  \n",
      " 35  SameAsMonthlyIncome       771 non-null    object \n",
      " 36  DateBirth                 1614 non-null   int64  \n",
      " 37  Salary                    1614 non-null   object \n",
      " 38  RoleDepartament           302 non-null    object \n",
      " 39  NUMBERCHILDREN            0 non-null      float64\n",
      " 40  RemoteWork                1614 non-null   object \n",
      "dtypes: float64(1), int64(18), object(22)\n",
      "memory usage: 529.6+ KB\n"
     ]
    }
   ],
   "source": [
    "df.info()"
   ]
  },
  {
   "cell_type": "markdown",
   "metadata": {},
   "source": [
    "## Paso 1: Limpieza de datos"
   ]
  },
  {
   "cell_type": "markdown",
   "metadata": {},
   "source": [
    "### 1.1. Modificar nombre columnas\n"
   ]
  },
  {
   "cell_type": "code",
   "execution_count": 5,
   "metadata": {},
   "outputs": [],
   "source": [
    "# def cambio_col_names(col_name):\n",
    "\n",
    "    \n",
    "\n",
    "#     return col_name"
   ]
  },
  {
   "cell_type": "code",
   "execution_count": 49,
   "metadata": {},
   "outputs": [],
   "source": [
    "# cambiamos el nombre a las columnas \n",
    "dict_nombre_columnas= {'BusinessTravel':'Business_Travel',\n",
    "                       'DailyRate': 'Daily_Rate',\n",
    "                       'DistanceFromHome': 'Distance_From_Home',\n",
    "                       'EducationField': 'Education_Field',\n",
    "                       'employeenumber':'Employee_Number', \n",
    "                       'EnvironmentSatisfaction': 'Environment_Satisfaction', \n",
    "                       'HourlyRate': 'Hourly_Rate', \n",
    "                       'JobInvolvement': 'Job_Involvement', \n",
    "                       'JobLevel': 'Job_Level', \n",
    "                       'JobRole': 'Job_Role', \n",
    "                       'JobSatisfaction': 'Job_Satisfaction', \n",
    "                       'MaritalStatus': 'Marital_Status',\n",
    "                       'MonthlyIncome': 'Monthly_Income',\n",
    "                       'MonthlyRate': 'Monthly_Rate',\n",
    "                       'NUMCOMPANIESWORKED':'Num_Companies_Worked',\n",
    "                       'Over18':'Over_18',\n",
    "                       'OverTime':'Over_Time',\n",
    "                       'PercentSalaryHike':'Percent_Salary_Hike',\n",
    "                       'PerformanceRating':'Performance_Rating',\n",
    "                       'RelationshipSatisfaction':'Relationship_Satisfaction',\n",
    "                       'StandardHours':'Standard_Hours',\n",
    "                       'StockOptionLevel':'Stock_Option_Level',\n",
    "                       'TOTALWORKINGYEARS':'Total_Working_Years',\n",
    "                       'TrainingTimesLastYear':'Training_Times_Last_Year',\n",
    "                       'WORKLIFEBALANCE':'Work_Life_Balance',\n",
    "                       'YearsAtCompany': 'Years_At_Company', \n",
    "                       'YearsSinceLastPromotion': 'Years_Since_Last_Promotion', \n",
    "                       'YEARSWITHCURRMANAGER': 'Years_With_Curr_Manager', \n",
    "                       'DateBirth': 'Date_Birth', \n",
    "                       'RemoteWork': 'Remote_Work'\n",
    "                       }\n",
    "df.rename(columns=dict_nombre_columnas, inplace=True)"
   ]
  },
  {
   "cell_type": "markdown",
   "metadata": {},
   "source": [
    "### 1.2. Eliminar columnas no necesarias"
   ]
  },
  {
   "cell_type": "code",
   "execution_count": 50,
   "metadata": {},
   "outputs": [],
   "source": [
    "lista_col_eliminar=['Department','employeecount','SameAsMonthlyIncome','Salary', 'RoleDepartament', 'NUMBERCHILDREN','YearsInCurrentRole']\n",
    "\n",
    "for col in lista_col_eliminar:\n",
    "    df.drop(col, axis=1, inplace=True)"
   ]
  },
  {
   "cell_type": "code",
   "execution_count": 51,
   "metadata": {},
   "outputs": [
    {
     "data": {
      "text/plain": [
       "(1614, 34)"
      ]
     },
     "execution_count": 51,
     "metadata": {},
     "output_type": "execute_result"
    }
   ],
   "source": [
    "df.shape"
   ]
  },
  {
   "cell_type": "markdown",
   "metadata": {},
   "source": [
    "### 1.3. Crear columnas nuevas"
   ]
  },
  {
   "cell_type": "code",
   "execution_count": 52,
   "metadata": {},
   "outputs": [],
   "source": [
    "df.insert(1, 'Age_Group', '')"
   ]
  },
  {
   "cell_type": "code",
   "execution_count": 53,
   "metadata": {},
   "outputs": [
    {
     "data": {
      "text/plain": [
       "(1614, 35)"
      ]
     },
     "execution_count": 53,
     "metadata": {},
     "output_type": "execute_result"
    }
   ],
   "source": [
    "df.shape"
   ]
  },
  {
   "cell_type": "markdown",
   "metadata": {},
   "source": [
    "### 1.4. Modificar valores en columnas"
   ]
  },
  {
   "cell_type": "markdown",
   "metadata": {},
   "source": [
    "1.4.1 Convertir a str"
   ]
  },
  {
   "cell_type": "code",
   "execution_count": 54,
   "metadata": {},
   "outputs": [],
   "source": [
    "lista_col_to_str=['Daily_Rate','Employee_Number','Distance_From_Home','Environment_Satisfaction','Gender','Performance_Rating','Remote_Work','Standard_Hours','Total_Working_Years','Work_Life_Balance' ]\n",
    "\n",
    "for col in lista_col_to_str:\n",
    "    df[col] = df[col].astype(str)"
   ]
  },
  {
   "cell_type": "markdown",
   "metadata": {},
   "source": [
    "1.4.2 Cambio de ',' por '.'"
   ]
  },
  {
   "cell_type": "code",
   "execution_count": 55,
   "metadata": {},
   "outputs": [],
   "source": [
    "lista_col_to_punto=['Daily_Rate','Monthly_Income','Standard_Hours']\n",
    "\n",
    "for col in lista_col_to_punto:\n",
    "    df[col] = df[col].str.replace(',','.')"
   ]
  },
  {
   "cell_type": "markdown",
   "metadata": {},
   "source": [
    "1.4.3 Cambio de ',0' por ''"
   ]
  },
  {
   "cell_type": "code",
   "execution_count": 56,
   "metadata": {},
   "outputs": [],
   "source": [
    "lista_col_to_no_coma=['Employee_Number', 'Performance_Rating','Total_Working_Years','Work_Life_Balance']\n",
    "\n",
    "for col in lista_col_to_no_coma:\n",
    "    df[col] = df[col].str.replace(',0','')"
   ]
  },
  {
   "cell_type": "markdown",
   "metadata": {},
   "source": [
    "1.4.4 Booleanos"
   ]
  },
  {
   "cell_type": "code",
   "execution_count": 57,
   "metadata": {},
   "outputs": [],
   "source": [
    "dict_booleanos = {'1': True, \n",
    "                  'Yes': True, \n",
    "                  'True':True, \n",
    "                  '0': False, \n",
    "                  'No':False,\n",
    "                  'False':False}\n",
    "\n",
    "lista_col_to_booleanos = ['Attrition', 'Over_Time', 'Remote_Work']\n",
    "\n",
    "for col in lista_col_to_booleanos:\n",
    "    df[col] = df[col].replace(dict_booleanos)"
   ]
  },
  {
   "cell_type": "markdown",
   "metadata": {},
   "source": [
    "1.4.5 Otros cambios"
   ]
  },
  {
   "cell_type": "code",
   "execution_count": 58,
   "metadata": {},
   "outputs": [
    {
     "name": "stderr",
     "output_type": "stream",
     "text": [
      "/var/folders/g3/22l1jqy501nblpbhtydz9b0w0000gn/T/ipykernel_4569/1484104590.py:17: FutureWarning: The default value of regex will change from True to False in a future version. In addition, single character regular expressions will *not* be treated as literal strings when regex=True.\n",
      "  df['Daily_Rate'] = df['Daily_Rate'].str.replace('$', '')\n"
     ]
    }
   ],
   "source": [
    "reemplazos = {\n",
    "    'forty-seven': 47,\n",
    "    'fifty-eight': 58,\n",
    "    'thirty-six': 36,\n",
    "    'fifty-five': 55,\n",
    "    'fifty-two': 52,\n",
    "    'thirty-one': 31,\n",
    "    'thirty': 30,\n",
    "    'twenty-six': 26,\n",
    "    'thirty-seven': 37,\n",
    "    'thirty-two': 32,\n",
    "    'twenty-four': 24\n",
    "}\n",
    "\n",
    "df['Age'] = df['Age'].replace(reemplazos)\n",
    "df['Business_Travel'] = df['Business_Travel'].str.replace('-', '_').str.title()\n",
    "df['Daily_Rate'] = df['Daily_Rate'].str.replace('$', '')\n",
    "df['Distance_From_Home'] = df['Distance_From_Home'].str.replace('-', '')\n",
    "df['Gender'] = df['Gender'].replace({'0': 'M', '1': 'F'})\n",
    "df['Job_Role'] = df['Job_Role'].str.title()\n",
    "df['Marital_Status']= df['Marital_Status'].replace({'Marreid':'Married'}).str.title()\n"
   ]
  },
  {
   "cell_type": "markdown",
   "metadata": {},
   "source": [
    "1.4.6 Cambio de nulos\n"
   ]
  },
  {
   "cell_type": "code",
   "execution_count": 59,
   "metadata": {},
   "outputs": [],
   "source": [
    "lista_col_int_nulos=['Employee_Number','Hourly_Rate','Performance_Rating','Total_Working_Years','Work_Life_Balance']\n",
    "\n",
    "for col in lista_col_int_nulos:\n",
    "    df[col]=df[col].replace({'nan':99999,'NaN':99999, 'Not Available':99999})\n"
   ]
  },
  {
   "cell_type": "markdown",
   "metadata": {},
   "source": [
    "1.4.7 Cambio a int"
   ]
  },
  {
   "cell_type": "code",
   "execution_count": 60,
   "metadata": {},
   "outputs": [],
   "source": [
    "lista_col_to_int=['Age','Distance_From_Home','Employee_Number','Environment_Satisfaction','Hourly_Rate','Job_Involvement','Total_Working_Years','Performance_Rating','Work_Life_Balance']\n",
    "\n",
    "for col in lista_col_to_int:\n",
    "    df[col] = df[col].astype(int)"
   ]
  },
  {
   "cell_type": "markdown",
   "metadata": {},
   "source": [
    "1.4.8 Cambio a float"
   ]
  },
  {
   "cell_type": "code",
   "execution_count": 61,
   "metadata": {},
   "outputs": [],
   "source": [
    "lista_col_to_float=['Daily_Rate','Monthly_Income','Monthly_Rate','Standard_Hours']\n",
    "\n",
    "for col in lista_col_to_float:\n",
    "    df[col] = df[col].astype(float)"
   ]
  },
  {
   "cell_type": "markdown",
   "metadata": {},
   "source": [
    "1.4.9 Cambio a Bool"
   ]
  },
  {
   "cell_type": "code",
   "execution_count": 62,
   "metadata": {},
   "outputs": [],
   "source": [
    "lista_col_to_bool=['Remote_Work']\n",
    "\n",
    "for col in lista_col_to_bool:\n",
    "    df[col] = df[col].astype(bool)"
   ]
  },
  {
   "cell_type": "markdown",
   "metadata": {},
   "source": [
    "## Paso 2:Eliminamos duplicados"
   ]
  },
  {
   "cell_type": "code",
   "execution_count": 63,
   "metadata": {},
   "outputs": [
    {
     "data": {
      "text/plain": [
       "35"
      ]
     },
     "execution_count": 63,
     "metadata": {},
     "output_type": "execute_result"
    }
   ],
   "source": [
    "#Obtenemos el listado del nombre de las columnas del DF\n",
    "lista_col_names = set(df.columns.tolist())\n",
    "len(lista_col_names)"
   ]
  },
  {
   "cell_type": "code",
   "execution_count": 64,
   "metadata": {},
   "outputs": [
    {
     "data": {
      "text/html": [
       "<div>\n",
       "<style scoped>\n",
       "    .dataframe tbody tr th:only-of-type {\n",
       "        vertical-align: middle;\n",
       "    }\n",
       "\n",
       "    .dataframe tbody tr th {\n",
       "        vertical-align: top;\n",
       "    }\n",
       "\n",
       "    .dataframe thead th {\n",
       "        text-align: right;\n",
       "    }\n",
       "</style>\n",
       "<table border=\"1\" class=\"dataframe\">\n",
       "  <thead>\n",
       "    <tr style=\"text-align: right;\">\n",
       "      <th></th>\n",
       "      <th>Age</th>\n",
       "      <th>Age_Group</th>\n",
       "      <th>Attrition</th>\n",
       "      <th>Business_Travel</th>\n",
       "      <th>Daily_Rate</th>\n",
       "      <th>Distance_From_Home</th>\n",
       "      <th>Education</th>\n",
       "      <th>Education_Field</th>\n",
       "      <th>Employee_Number</th>\n",
       "      <th>Environment_Satisfaction</th>\n",
       "      <th>Gender</th>\n",
       "      <th>Hourly_Rate</th>\n",
       "      <th>Job_Involvement</th>\n",
       "      <th>Job_Level</th>\n",
       "      <th>Job_Role</th>\n",
       "      <th>Job_Satisfaction</th>\n",
       "      <th>Marital_Status</th>\n",
       "      <th>Monthly_Income</th>\n",
       "      <th>Monthly_Rate</th>\n",
       "      <th>Num_Companies_Worked</th>\n",
       "      <th>Over_18</th>\n",
       "      <th>Over_Time</th>\n",
       "      <th>Percent_Salary_Hike</th>\n",
       "      <th>Performance_Rating</th>\n",
       "      <th>Relationship_Satisfaction</th>\n",
       "      <th>Standard_Hours</th>\n",
       "      <th>Stock_Option_Level</th>\n",
       "      <th>Total_Working_Years</th>\n",
       "      <th>Training_Times_Last_Year</th>\n",
       "      <th>Work_Life_Balance</th>\n",
       "      <th>Years_At_Company</th>\n",
       "      <th>Years_Since_Last_Promotion</th>\n",
       "      <th>Years_With_Curr_Manager</th>\n",
       "      <th>Date_Birth</th>\n",
       "      <th>Remote_Work</th>\n",
       "    </tr>\n",
       "  </thead>\n",
       "  <tbody>\n",
       "    <tr>\n",
       "      <th>82</th>\n",
       "      <td>38</td>\n",
       "      <td></td>\n",
       "      <td>False</td>\n",
       "      <td>NaN</td>\n",
       "      <td>119.0</td>\n",
       "      <td>3</td>\n",
       "      <td>3</td>\n",
       "      <td>Life Sciences</td>\n",
       "      <td>307</td>\n",
       "      <td>1</td>\n",
       "      <td>M</td>\n",
       "      <td>76</td>\n",
       "      <td>3</td>\n",
       "      <td>3</td>\n",
       "      <td>Sales Executive</td>\n",
       "      <td>3</td>\n",
       "      <td>Divorced</td>\n",
       "      <td>NaN</td>\n",
       "      <td>9647.0</td>\n",
       "      <td>0</td>\n",
       "      <td>Y</td>\n",
       "      <td>NaN</td>\n",
       "      <td>12</td>\n",
       "      <td>3</td>\n",
       "      <td>3</td>\n",
       "      <td>NaN</td>\n",
       "      <td>2</td>\n",
       "      <td>99999</td>\n",
       "      <td>6</td>\n",
       "      <td>2</td>\n",
       "      <td>16</td>\n",
       "      <td>5</td>\n",
       "      <td>13</td>\n",
       "      <td>1985</td>\n",
       "      <td>True</td>\n",
       "    </tr>\n",
       "    <tr>\n",
       "      <th>1474</th>\n",
       "      <td>38</td>\n",
       "      <td></td>\n",
       "      <td>False</td>\n",
       "      <td>NaN</td>\n",
       "      <td>119.0</td>\n",
       "      <td>3</td>\n",
       "      <td>3</td>\n",
       "      <td>Life Sciences</td>\n",
       "      <td>307</td>\n",
       "      <td>1</td>\n",
       "      <td>M</td>\n",
       "      <td>76</td>\n",
       "      <td>3</td>\n",
       "      <td>3</td>\n",
       "      <td>Sales Executive</td>\n",
       "      <td>3</td>\n",
       "      <td>Divorced</td>\n",
       "      <td>NaN</td>\n",
       "      <td>9647.0</td>\n",
       "      <td>0</td>\n",
       "      <td>Y</td>\n",
       "      <td>NaN</td>\n",
       "      <td>12</td>\n",
       "      <td>3</td>\n",
       "      <td>3</td>\n",
       "      <td>NaN</td>\n",
       "      <td>2</td>\n",
       "      <td>99999</td>\n",
       "      <td>6</td>\n",
       "      <td>2</td>\n",
       "      <td>16</td>\n",
       "      <td>5</td>\n",
       "      <td>13</td>\n",
       "      <td>1985</td>\n",
       "      <td>True</td>\n",
       "    </tr>\n",
       "    <tr>\n",
       "      <th>1476</th>\n",
       "      <td>55</td>\n",
       "      <td></td>\n",
       "      <td>False</td>\n",
       "      <td>Travel_Rarely</td>\n",
       "      <td>452.0</td>\n",
       "      <td>1</td>\n",
       "      <td>3</td>\n",
       "      <td>Medical</td>\n",
       "      <td>374</td>\n",
       "      <td>4</td>\n",
       "      <td>M</td>\n",
       "      <td>81</td>\n",
       "      <td>3</td>\n",
       "      <td>5</td>\n",
       "      <td>Manager</td>\n",
       "      <td>1</td>\n",
       "      <td>Single</td>\n",
       "      <td>19045.0</td>\n",
       "      <td>18938.0</td>\n",
       "      <td>0</td>\n",
       "      <td>Y</td>\n",
       "      <td>NaN</td>\n",
       "      <td>14</td>\n",
       "      <td>3</td>\n",
       "      <td>3</td>\n",
       "      <td>NaN</td>\n",
       "      <td>0</td>\n",
       "      <td>37</td>\n",
       "      <td>2</td>\n",
       "      <td>3</td>\n",
       "      <td>36</td>\n",
       "      <td>4</td>\n",
       "      <td>13</td>\n",
       "      <td>1968</td>\n",
       "      <td>True</td>\n",
       "    </tr>\n",
       "    <tr>\n",
       "      <th>84</th>\n",
       "      <td>55</td>\n",
       "      <td></td>\n",
       "      <td>False</td>\n",
       "      <td>Travel_Rarely</td>\n",
       "      <td>452.0</td>\n",
       "      <td>1</td>\n",
       "      <td>3</td>\n",
       "      <td>Medical</td>\n",
       "      <td>374</td>\n",
       "      <td>4</td>\n",
       "      <td>M</td>\n",
       "      <td>81</td>\n",
       "      <td>3</td>\n",
       "      <td>5</td>\n",
       "      <td>Manager</td>\n",
       "      <td>1</td>\n",
       "      <td>Single</td>\n",
       "      <td>19045.0</td>\n",
       "      <td>18938.0</td>\n",
       "      <td>0</td>\n",
       "      <td>Y</td>\n",
       "      <td>NaN</td>\n",
       "      <td>14</td>\n",
       "      <td>3</td>\n",
       "      <td>3</td>\n",
       "      <td>NaN</td>\n",
       "      <td>0</td>\n",
       "      <td>37</td>\n",
       "      <td>2</td>\n",
       "      <td>3</td>\n",
       "      <td>36</td>\n",
       "      <td>4</td>\n",
       "      <td>13</td>\n",
       "      <td>1968</td>\n",
       "      <td>True</td>\n",
       "    </tr>\n",
       "    <tr>\n",
       "      <th>1542</th>\n",
       "      <td>47</td>\n",
       "      <td></td>\n",
       "      <td>True</td>\n",
       "      <td>Non_Travel</td>\n",
       "      <td>666.0</td>\n",
       "      <td>29</td>\n",
       "      <td>4</td>\n",
       "      <td>Life Sciences</td>\n",
       "      <td>376</td>\n",
       "      <td>1</td>\n",
       "      <td>M</td>\n",
       "      <td>88</td>\n",
       "      <td>3</td>\n",
       "      <td>3</td>\n",
       "      <td>Manager</td>\n",
       "      <td>2</td>\n",
       "      <td>Married</td>\n",
       "      <td>NaN</td>\n",
       "      <td>10268.0</td>\n",
       "      <td>1</td>\n",
       "      <td>NaN</td>\n",
       "      <td>NaN</td>\n",
       "      <td>12</td>\n",
       "      <td>3</td>\n",
       "      <td>4</td>\n",
       "      <td>NaN</td>\n",
       "      <td>1</td>\n",
       "      <td>99999</td>\n",
       "      <td>2</td>\n",
       "      <td>2</td>\n",
       "      <td>10</td>\n",
       "      <td>9</td>\n",
       "      <td>9</td>\n",
       "      <td>1976</td>\n",
       "      <td>False</td>\n",
       "    </tr>\n",
       "    <tr>\n",
       "      <th>...</th>\n",
       "      <td>...</td>\n",
       "      <td>...</td>\n",
       "      <td>...</td>\n",
       "      <td>...</td>\n",
       "      <td>...</td>\n",
       "      <td>...</td>\n",
       "      <td>...</td>\n",
       "      <td>...</td>\n",
       "      <td>...</td>\n",
       "      <td>...</td>\n",
       "      <td>...</td>\n",
       "      <td>...</td>\n",
       "      <td>...</td>\n",
       "      <td>...</td>\n",
       "      <td>...</td>\n",
       "      <td>...</td>\n",
       "      <td>...</td>\n",
       "      <td>...</td>\n",
       "      <td>...</td>\n",
       "      <td>...</td>\n",
       "      <td>...</td>\n",
       "      <td>...</td>\n",
       "      <td>...</td>\n",
       "      <td>...</td>\n",
       "      <td>...</td>\n",
       "      <td>...</td>\n",
       "      <td>...</td>\n",
       "      <td>...</td>\n",
       "      <td>...</td>\n",
       "      <td>...</td>\n",
       "      <td>...</td>\n",
       "      <td>...</td>\n",
       "      <td>...</td>\n",
       "      <td>...</td>\n",
       "      <td>...</td>\n",
       "    </tr>\n",
       "    <tr>\n",
       "      <th>614</th>\n",
       "      <td>35</td>\n",
       "      <td></td>\n",
       "      <td>False</td>\n",
       "      <td>Travel_Rarely</td>\n",
       "      <td>528.0</td>\n",
       "      <td>8</td>\n",
       "      <td>4</td>\n",
       "      <td>Technical Degree</td>\n",
       "      <td>99999</td>\n",
       "      <td>3</td>\n",
       "      <td>M</td>\n",
       "      <td>100</td>\n",
       "      <td>3</td>\n",
       "      <td>1</td>\n",
       "      <td>Human Resources</td>\n",
       "      <td>3</td>\n",
       "      <td>NaN</td>\n",
       "      <td>4323.0</td>\n",
       "      <td>7108.0</td>\n",
       "      <td>1</td>\n",
       "      <td>Y</td>\n",
       "      <td>False</td>\n",
       "      <td>17</td>\n",
       "      <td>3</td>\n",
       "      <td>2</td>\n",
       "      <td>NaN</td>\n",
       "      <td>0</td>\n",
       "      <td>6</td>\n",
       "      <td>2</td>\n",
       "      <td>1</td>\n",
       "      <td>5</td>\n",
       "      <td>1</td>\n",
       "      <td>4</td>\n",
       "      <td>1988</td>\n",
       "      <td>True</td>\n",
       "    </tr>\n",
       "    <tr>\n",
       "      <th>610</th>\n",
       "      <td>54</td>\n",
       "      <td></td>\n",
       "      <td>False</td>\n",
       "      <td>NaN</td>\n",
       "      <td>1082.0</td>\n",
       "      <td>2</td>\n",
       "      <td>4</td>\n",
       "      <td>Life Sciences</td>\n",
       "      <td>99999</td>\n",
       "      <td>3</td>\n",
       "      <td>F</td>\n",
       "      <td>41</td>\n",
       "      <td>2</td>\n",
       "      <td>3</td>\n",
       "      <td>Sales Executive</td>\n",
       "      <td>3</td>\n",
       "      <td>Married</td>\n",
       "      <td>NaN</td>\n",
       "      <td>8392.0</td>\n",
       "      <td>6</td>\n",
       "      <td>Y</td>\n",
       "      <td>False</td>\n",
       "      <td>11</td>\n",
       "      <td>3</td>\n",
       "      <td>2</td>\n",
       "      <td>80.0</td>\n",
       "      <td>1</td>\n",
       "      <td>13</td>\n",
       "      <td>4</td>\n",
       "      <td>3</td>\n",
       "      <td>9</td>\n",
       "      <td>7</td>\n",
       "      <td>0</td>\n",
       "      <td>1969</td>\n",
       "      <td>True</td>\n",
       "    </tr>\n",
       "    <tr>\n",
       "      <th>607</th>\n",
       "      <td>30</td>\n",
       "      <td></td>\n",
       "      <td>False</td>\n",
       "      <td>Travel_Rarely</td>\n",
       "      <td>231.0</td>\n",
       "      <td>8</td>\n",
       "      <td>2</td>\n",
       "      <td>NaN</td>\n",
       "      <td>99999</td>\n",
       "      <td>3</td>\n",
       "      <td>M</td>\n",
       "      <td>62</td>\n",
       "      <td>3</td>\n",
       "      <td>3</td>\n",
       "      <td>Sales Executive</td>\n",
       "      <td>3</td>\n",
       "      <td>NaN</td>\n",
       "      <td>NaN</td>\n",
       "      <td>9977.0</td>\n",
       "      <td>5</td>\n",
       "      <td>NaN</td>\n",
       "      <td>False</td>\n",
       "      <td>11</td>\n",
       "      <td>3</td>\n",
       "      <td>1</td>\n",
       "      <td>NaN</td>\n",
       "      <td>1</td>\n",
       "      <td>99999</td>\n",
       "      <td>2</td>\n",
       "      <td>4</td>\n",
       "      <td>8</td>\n",
       "      <td>7</td>\n",
       "      <td>7</td>\n",
       "      <td>1993</td>\n",
       "      <td>False</td>\n",
       "    </tr>\n",
       "    <tr>\n",
       "      <th>661</th>\n",
       "      <td>31</td>\n",
       "      <td></td>\n",
       "      <td>False</td>\n",
       "      <td>Non_Travel</td>\n",
       "      <td>NaN</td>\n",
       "      <td>5</td>\n",
       "      <td>3</td>\n",
       "      <td>Medical</td>\n",
       "      <td>99999</td>\n",
       "      <td>2</td>\n",
       "      <td>M</td>\n",
       "      <td>74</td>\n",
       "      <td>3</td>\n",
       "      <td>2</td>\n",
       "      <td>Manufacturing Director</td>\n",
       "      <td>1</td>\n",
       "      <td>NaN</td>\n",
       "      <td>9936.0</td>\n",
       "      <td>3787.0</td>\n",
       "      <td>0</td>\n",
       "      <td>Y</td>\n",
       "      <td>False</td>\n",
       "      <td>19</td>\n",
       "      <td>3</td>\n",
       "      <td>2</td>\n",
       "      <td>NaN</td>\n",
       "      <td>0</td>\n",
       "      <td>10</td>\n",
       "      <td>2</td>\n",
       "      <td>3</td>\n",
       "      <td>9</td>\n",
       "      <td>1</td>\n",
       "      <td>7</td>\n",
       "      <td>1992</td>\n",
       "      <td>True</td>\n",
       "    </tr>\n",
       "    <tr>\n",
       "      <th>1613</th>\n",
       "      <td>46</td>\n",
       "      <td></td>\n",
       "      <td>False</td>\n",
       "      <td>NaN</td>\n",
       "      <td>566.0</td>\n",
       "      <td>7</td>\n",
       "      <td>2</td>\n",
       "      <td>Medical</td>\n",
       "      <td>99999</td>\n",
       "      <td>4</td>\n",
       "      <td>M</td>\n",
       "      <td>75</td>\n",
       "      <td>3</td>\n",
       "      <td>3</td>\n",
       "      <td>Manufacturing Director</td>\n",
       "      <td>3</td>\n",
       "      <td>NaN</td>\n",
       "      <td>10845.0</td>\n",
       "      <td>24208.0</td>\n",
       "      <td>6</td>\n",
       "      <td>Y</td>\n",
       "      <td>NaN</td>\n",
       "      <td>13</td>\n",
       "      <td>3</td>\n",
       "      <td>2</td>\n",
       "      <td>NaN</td>\n",
       "      <td>1</td>\n",
       "      <td>99999</td>\n",
       "      <td>3</td>\n",
       "      <td>3</td>\n",
       "      <td>8</td>\n",
       "      <td>0</td>\n",
       "      <td>7</td>\n",
       "      <td>1977</td>\n",
       "      <td>False</td>\n",
       "    </tr>\n",
       "  </tbody>\n",
       "</table>\n",
       "<p>639 rows × 35 columns</p>\n",
       "</div>"
      ],
      "text/plain": [
       "      Age Age_Group  Attrition Business_Travel  Daily_Rate  \\\n",
       "82     38                False             NaN       119.0   \n",
       "1474   38                False             NaN       119.0   \n",
       "1476   55                False   Travel_Rarely       452.0   \n",
       "84     55                False   Travel_Rarely       452.0   \n",
       "1542   47                 True      Non_Travel       666.0   \n",
       "...   ...       ...        ...             ...         ...   \n",
       "614    35                False   Travel_Rarely       528.0   \n",
       "610    54                False             NaN      1082.0   \n",
       "607    30                False   Travel_Rarely       231.0   \n",
       "661    31                False      Non_Travel         NaN   \n",
       "1613   46                False             NaN       566.0   \n",
       "\n",
       "      Distance_From_Home  Education   Education_Field  Employee_Number  \\\n",
       "82                     3          3     Life Sciences              307   \n",
       "1474                   3          3     Life Sciences              307   \n",
       "1476                   1          3           Medical              374   \n",
       "84                     1          3           Medical              374   \n",
       "1542                  29          4     Life Sciences              376   \n",
       "...                  ...        ...               ...              ...   \n",
       "614                    8          4  Technical Degree            99999   \n",
       "610                    2          4     Life Sciences            99999   \n",
       "607                    8          2               NaN            99999   \n",
       "661                    5          3           Medical            99999   \n",
       "1613                   7          2           Medical            99999   \n",
       "\n",
       "      Environment_Satisfaction Gender  Hourly_Rate  Job_Involvement  \\\n",
       "82                           1      M           76                3   \n",
       "1474                         1      M           76                3   \n",
       "1476                         4      M           81                3   \n",
       "84                           4      M           81                3   \n",
       "1542                         1      M           88                3   \n",
       "...                        ...    ...          ...              ...   \n",
       "614                          3      M          100                3   \n",
       "610                          3      F           41                2   \n",
       "607                          3      M           62                3   \n",
       "661                          2      M           74                3   \n",
       "1613                         4      M           75                3   \n",
       "\n",
       "      Job_Level                  Job_Role  Job_Satisfaction Marital_Status  \\\n",
       "82            3          Sales Executive                  3       Divorced   \n",
       "1474          3          Sales Executive                  3       Divorced   \n",
       "1476          5                  Manager                  1         Single   \n",
       "84            5                  Manager                  1         Single   \n",
       "1542          3                  Manager                  2        Married   \n",
       "...         ...                       ...               ...            ...   \n",
       "614           1          Human Resources                  3            NaN   \n",
       "610           3          Sales Executive                  3        Married   \n",
       "607           3          Sales Executive                  3            NaN   \n",
       "661           2   Manufacturing Director                  1            NaN   \n",
       "1613          3   Manufacturing Director                  3            NaN   \n",
       "\n",
       "      Monthly_Income  Monthly_Rate  Num_Companies_Worked Over_18 Over_Time  \\\n",
       "82               NaN        9647.0                     0       Y       NaN   \n",
       "1474             NaN        9647.0                     0       Y       NaN   \n",
       "1476         19045.0       18938.0                     0       Y       NaN   \n",
       "84           19045.0       18938.0                     0       Y       NaN   \n",
       "1542             NaN       10268.0                     1     NaN       NaN   \n",
       "...              ...           ...                   ...     ...       ...   \n",
       "614           4323.0        7108.0                     1       Y     False   \n",
       "610              NaN        8392.0                     6       Y     False   \n",
       "607              NaN        9977.0                     5     NaN     False   \n",
       "661           9936.0        3787.0                     0       Y     False   \n",
       "1613         10845.0       24208.0                     6       Y       NaN   \n",
       "\n",
       "      Percent_Salary_Hike  Performance_Rating  Relationship_Satisfaction  \\\n",
       "82                     12                   3                          3   \n",
       "1474                   12                   3                          3   \n",
       "1476                   14                   3                          3   \n",
       "84                     14                   3                          3   \n",
       "1542                   12                   3                          4   \n",
       "...                   ...                 ...                        ...   \n",
       "614                    17                   3                          2   \n",
       "610                    11                   3                          2   \n",
       "607                    11                   3                          1   \n",
       "661                    19                   3                          2   \n",
       "1613                   13                   3                          2   \n",
       "\n",
       "      Standard_Hours  Stock_Option_Level  Total_Working_Years  \\\n",
       "82               NaN                   2                99999   \n",
       "1474             NaN                   2                99999   \n",
       "1476             NaN                   0                   37   \n",
       "84               NaN                   0                   37   \n",
       "1542             NaN                   1                99999   \n",
       "...              ...                 ...                  ...   \n",
       "614              NaN                   0                    6   \n",
       "610             80.0                   1                   13   \n",
       "607              NaN                   1                99999   \n",
       "661              NaN                   0                   10   \n",
       "1613             NaN                   1                99999   \n",
       "\n",
       "      Training_Times_Last_Year  Work_Life_Balance  Years_At_Company  \\\n",
       "82                           6                  2                16   \n",
       "1474                         6                  2                16   \n",
       "1476                         2                  3                36   \n",
       "84                           2                  3                36   \n",
       "1542                         2                  2                10   \n",
       "...                        ...                ...               ...   \n",
       "614                          2                  1                 5   \n",
       "610                          4                  3                 9   \n",
       "607                          2                  4                 8   \n",
       "661                          2                  3                 9   \n",
       "1613                         3                  3                 8   \n",
       "\n",
       "      Years_Since_Last_Promotion  Years_With_Curr_Manager  Date_Birth  \\\n",
       "82                             5                       13        1985   \n",
       "1474                           5                       13        1985   \n",
       "1476                           4                       13        1968   \n",
       "84                             4                       13        1968   \n",
       "1542                           9                        9        1976   \n",
       "...                          ...                      ...         ...   \n",
       "614                            1                        4        1988   \n",
       "610                            7                        0        1969   \n",
       "607                            7                        7        1993   \n",
       "661                            1                        7        1992   \n",
       "1613                           0                        7        1977   \n",
       "\n",
       "      Remote_Work  \n",
       "82           True  \n",
       "1474         True  \n",
       "1476         True  \n",
       "84           True  \n",
       "1542        False  \n",
       "...           ...  \n",
       "614          True  \n",
       "610          True  \n",
       "607         False  \n",
       "661          True  \n",
       "1613        False  \n",
       "\n",
       "[639 rows x 35 columns]"
      ]
     },
     "execution_count": 64,
     "metadata": {},
     "output_type": "execute_result"
    }
   ],
   "source": [
    "#Obtenemos un df de los duplicados\n",
    "df_duplicados = df[df['Employee_Number'].isin(df['Employee_Number'][df['Employee_Number'].duplicated()])].sort_values('Employee_Number')\n",
    "df_duplicados"
   ]
  },
  {
   "cell_type": "code",
   "execution_count": 65,
   "metadata": {},
   "outputs": [
    {
     "data": {
      "text/plain": [
       "534"
      ]
     },
     "execution_count": 65,
     "metadata": {},
     "output_type": "execute_result"
    }
   ],
   "source": [
    "#Comprobamos cuantos duplicados tenemos en 'Employee_Number' \n",
    "df['Employee_Number'].duplicated().sum()"
   ]
  },
  {
   "cell_type": "code",
   "execution_count": 66,
   "metadata": {},
   "outputs": [
    {
     "data": {
      "text/plain": [
       "431"
      ]
     },
     "execution_count": 66,
     "metadata": {},
     "output_type": "execute_result"
    }
   ],
   "source": [
    "#Comprobamos la cantidad que tenemos de 'Employee_Number'==99999\n",
    "df[df['Employee_Number']==99999].shape[0]"
   ]
  },
  {
   "cell_type": "markdown",
   "metadata": {},
   "source": [
    "### 2.1 Situación 1: Todas las columnas son iguales"
   ]
  },
  {
   "cell_type": "code",
   "execution_count": 67,
   "metadata": {},
   "outputs": [
    {
     "data": {
      "text/plain": [
       "51"
      ]
     },
     "execution_count": 67,
     "metadata": {},
     "output_type": "execute_result"
    }
   ],
   "source": [
    "#Comprobamos el número de duplicados en el DF\n",
    "df.duplicated().sum()"
   ]
  },
  {
   "cell_type": "code",
   "execution_count": 68,
   "metadata": {},
   "outputs": [],
   "source": [
    "#Eliminamos los duplicados \n",
    "df.drop_duplicates(keep='last',inplace=True)"
   ]
  },
  {
   "cell_type": "code",
   "execution_count": 69,
   "metadata": {},
   "outputs": [
    {
     "data": {
      "text/plain": [
       "0"
      ]
     },
     "execution_count": 69,
     "metadata": {},
     "output_type": "execute_result"
    }
   ],
   "source": [
    "#Comprobamos el número de duplicados en el DF\n",
    "df.duplicated().sum()"
   ]
  },
  {
   "cell_type": "markdown",
   "metadata": {},
   "source": [
    "### 2.2 Situación 2:Columna 'Distance_From_Home' diferente"
   ]
  },
  {
   "cell_type": "code",
   "execution_count": 70,
   "metadata": {},
   "outputs": [
    {
     "data": {
      "text/plain": [
       "34"
      ]
     },
     "execution_count": 70,
     "metadata": {},
     "output_type": "execute_result"
    }
   ],
   "source": [
    "#Creamos la lista con el subset de columnas a analizar\n",
    "lista_columnas_2 = set(lista_col_names)\n",
    "lista_columnas_2.remove('Distance_From_Home')\n",
    "len(lista_columnas_2)"
   ]
  },
  {
   "cell_type": "code",
   "execution_count": 71,
   "metadata": {},
   "outputs": [
    {
     "data": {
      "text/plain": [
       "13"
      ]
     },
     "execution_count": 71,
     "metadata": {},
     "output_type": "execute_result"
    }
   ],
   "source": [
    "#Comprobamos el numero de duplicados en el subset\n",
    "df[lista_columnas_2].duplicated().sum()"
   ]
  },
  {
   "cell_type": "code",
   "execution_count": 72,
   "metadata": {},
   "outputs": [],
   "source": [
    "#Eliminamos los duplicados del subset\n",
    "df.drop_duplicates(subset=lista_columnas_2, keep='last',inplace=True)"
   ]
  },
  {
   "cell_type": "code",
   "execution_count": 73,
   "metadata": {},
   "outputs": [
    {
     "data": {
      "text/plain": [
       "0"
      ]
     },
     "execution_count": 73,
     "metadata": {},
     "output_type": "execute_result"
    }
   ],
   "source": [
    "#Comprobamos el numero de duplicados en el subset\n",
    "df[lista_columnas_2].duplicated().sum()"
   ]
  },
  {
   "cell_type": "markdown",
   "metadata": {},
   "source": [
    "2.3 Situación 3: Columnas 'Remote_Work' diferente"
   ]
  },
  {
   "cell_type": "code",
   "execution_count": 75,
   "metadata": {},
   "outputs": [
    {
     "data": {
      "text/plain": [
       "34"
      ]
     },
     "execution_count": 75,
     "metadata": {},
     "output_type": "execute_result"
    }
   ],
   "source": [
    "#Creamos la lista con el subset de columnas a analizar\n",
    "lista_columnas_3 = set(lista_col_names)\n",
    "lista_columnas_3.remove('Remote_Work')\n",
    "len(lista_columnas_3)"
   ]
  },
  {
   "cell_type": "code",
   "execution_count": 76,
   "metadata": {},
   "outputs": [
    {
     "data": {
      "text/plain": [
       "48"
      ]
     },
     "execution_count": 76,
     "metadata": {},
     "output_type": "execute_result"
    }
   ],
   "source": [
    "#Comprobamos el numero de duplicados en el subset\n",
    "df[lista_columnas_3].duplicated().sum()"
   ]
  },
  {
   "cell_type": "code",
   "execution_count": 77,
   "metadata": {},
   "outputs": [],
   "source": [
    "#Eliminamos los duplicados del subset\n",
    "df.drop_duplicates(subset=lista_columnas_3,keep='last',inplace=True)"
   ]
  },
  {
   "cell_type": "code",
   "execution_count": 78,
   "metadata": {},
   "outputs": [
    {
     "data": {
      "text/plain": [
       "0"
      ]
     },
     "execution_count": 78,
     "metadata": {},
     "output_type": "execute_result"
    }
   ],
   "source": [
    "#Comprobamos el numero de duplicados en el subset\n",
    "df[lista_columnas_3].duplicated().sum()"
   ]
  },
  {
   "cell_type": "markdown",
   "metadata": {},
   "source": [
    "2.4 Situación 4: Columna 'Hourly_Rate' == 'Not_Available'"
   ]
  },
  {
   "cell_type": "code",
   "execution_count": 141,
   "metadata": {},
   "outputs": [
    {
     "ename": "IndexingError",
     "evalue": "Unalignable boolean Series provided as indexer (index of the boolean Series and of the indexed object do not match).",
     "output_type": "error",
     "traceback": [
      "\u001b[0;31m---------------------------------------------------------------------------\u001b[0m",
      "\u001b[0;31mIndexingError\u001b[0m                             Traceback (most recent call last)",
      "\u001b[0;32m/var/folders/g3/22l1jqy501nblpbhtydz9b0w0000gn/T/ipykernel_1172/593198085.py\u001b[0m in \u001b[0;36m<module>\u001b[0;34m\u001b[0m\n\u001b[0;32m----> 1\u001b[0;31m \u001b[0mdf_duplicados\u001b[0m\u001b[0;34m.\u001b[0m\u001b[0mloc\u001b[0m\u001b[0;34m[\u001b[0m\u001b[0;34m:\u001b[0m\u001b[0;34m,\u001b[0m\u001b[0mdf_duplicados\u001b[0m\u001b[0;34m[\u001b[0m\u001b[0;34m'Hourly_Rate'\u001b[0m\u001b[0;34m]\u001b[0m\u001b[0;34m==\u001b[0m\u001b[0;36m99999\u001b[0m\u001b[0;34m]\u001b[0m\u001b[0;34m\u001b[0m\u001b[0;34m\u001b[0m\u001b[0m\n\u001b[0m",
      "\u001b[0;32m~/opt/anaconda3/lib/python3.9/site-packages/pandas/core/indexing.py\u001b[0m in \u001b[0;36m__getitem__\u001b[0;34m(self, key)\u001b[0m\n\u001b[1;32m    923\u001b[0m                 \u001b[0;32mwith\u001b[0m \u001b[0msuppress\u001b[0m\u001b[0;34m(\u001b[0m\u001b[0mKeyError\u001b[0m\u001b[0;34m,\u001b[0m \u001b[0mIndexError\u001b[0m\u001b[0;34m)\u001b[0m\u001b[0;34m:\u001b[0m\u001b[0;34m\u001b[0m\u001b[0;34m\u001b[0m\u001b[0m\n\u001b[1;32m    924\u001b[0m                     \u001b[0;32mreturn\u001b[0m \u001b[0mself\u001b[0m\u001b[0;34m.\u001b[0m\u001b[0mobj\u001b[0m\u001b[0;34m.\u001b[0m\u001b[0m_get_value\u001b[0m\u001b[0;34m(\u001b[0m\u001b[0;34m*\u001b[0m\u001b[0mkey\u001b[0m\u001b[0;34m,\u001b[0m \u001b[0mtakeable\u001b[0m\u001b[0;34m=\u001b[0m\u001b[0mself\u001b[0m\u001b[0;34m.\u001b[0m\u001b[0m_takeable\u001b[0m\u001b[0;34m)\u001b[0m\u001b[0;34m\u001b[0m\u001b[0;34m\u001b[0m\u001b[0m\n\u001b[0;32m--> 925\u001b[0;31m             \u001b[0;32mreturn\u001b[0m \u001b[0mself\u001b[0m\u001b[0;34m.\u001b[0m\u001b[0m_getitem_tuple\u001b[0m\u001b[0;34m(\u001b[0m\u001b[0mkey\u001b[0m\u001b[0;34m)\u001b[0m\u001b[0;34m\u001b[0m\u001b[0;34m\u001b[0m\u001b[0m\n\u001b[0m\u001b[1;32m    926\u001b[0m         \u001b[0;32melse\u001b[0m\u001b[0;34m:\u001b[0m\u001b[0;34m\u001b[0m\u001b[0;34m\u001b[0m\u001b[0m\n\u001b[1;32m    927\u001b[0m             \u001b[0;31m# we by definition only have the 0th axis\u001b[0m\u001b[0;34m\u001b[0m\u001b[0;34m\u001b[0m\u001b[0m\n",
      "\u001b[0;32m~/opt/anaconda3/lib/python3.9/site-packages/pandas/core/indexing.py\u001b[0m in \u001b[0;36m_getitem_tuple\u001b[0;34m(self, tup)\u001b[0m\n\u001b[1;32m   1107\u001b[0m             \u001b[0;32mreturn\u001b[0m \u001b[0mself\u001b[0m\u001b[0;34m.\u001b[0m\u001b[0m_multi_take\u001b[0m\u001b[0;34m(\u001b[0m\u001b[0mtup\u001b[0m\u001b[0;34m)\u001b[0m\u001b[0;34m\u001b[0m\u001b[0;34m\u001b[0m\u001b[0m\n\u001b[1;32m   1108\u001b[0m \u001b[0;34m\u001b[0m\u001b[0m\n\u001b[0;32m-> 1109\u001b[0;31m         \u001b[0;32mreturn\u001b[0m \u001b[0mself\u001b[0m\u001b[0;34m.\u001b[0m\u001b[0m_getitem_tuple_same_dim\u001b[0m\u001b[0;34m(\u001b[0m\u001b[0mtup\u001b[0m\u001b[0;34m)\u001b[0m\u001b[0;34m\u001b[0m\u001b[0;34m\u001b[0m\u001b[0m\n\u001b[0m\u001b[1;32m   1110\u001b[0m \u001b[0;34m\u001b[0m\u001b[0m\n\u001b[1;32m   1111\u001b[0m     \u001b[0;32mdef\u001b[0m \u001b[0m_get_label\u001b[0m\u001b[0;34m(\u001b[0m\u001b[0mself\u001b[0m\u001b[0;34m,\u001b[0m \u001b[0mlabel\u001b[0m\u001b[0;34m,\u001b[0m \u001b[0maxis\u001b[0m\u001b[0;34m:\u001b[0m \u001b[0mint\u001b[0m\u001b[0;34m)\u001b[0m\u001b[0;34m:\u001b[0m\u001b[0;34m\u001b[0m\u001b[0;34m\u001b[0m\u001b[0m\n",
      "\u001b[0;32m~/opt/anaconda3/lib/python3.9/site-packages/pandas/core/indexing.py\u001b[0m in \u001b[0;36m_getitem_tuple_same_dim\u001b[0;34m(self, tup)\u001b[0m\n\u001b[1;32m    804\u001b[0m                 \u001b[0;32mcontinue\u001b[0m\u001b[0;34m\u001b[0m\u001b[0;34m\u001b[0m\u001b[0m\n\u001b[1;32m    805\u001b[0m \u001b[0;34m\u001b[0m\u001b[0m\n\u001b[0;32m--> 806\u001b[0;31m             \u001b[0mretval\u001b[0m \u001b[0;34m=\u001b[0m \u001b[0mgetattr\u001b[0m\u001b[0;34m(\u001b[0m\u001b[0mretval\u001b[0m\u001b[0;34m,\u001b[0m \u001b[0mself\u001b[0m\u001b[0;34m.\u001b[0m\u001b[0mname\u001b[0m\u001b[0;34m)\u001b[0m\u001b[0;34m.\u001b[0m\u001b[0m_getitem_axis\u001b[0m\u001b[0;34m(\u001b[0m\u001b[0mkey\u001b[0m\u001b[0;34m,\u001b[0m \u001b[0maxis\u001b[0m\u001b[0;34m=\u001b[0m\u001b[0mi\u001b[0m\u001b[0;34m)\u001b[0m\u001b[0;34m\u001b[0m\u001b[0;34m\u001b[0m\u001b[0m\n\u001b[0m\u001b[1;32m    807\u001b[0m             \u001b[0;31m# We should never have retval.ndim < self.ndim, as that should\u001b[0m\u001b[0;34m\u001b[0m\u001b[0;34m\u001b[0m\u001b[0m\n\u001b[1;32m    808\u001b[0m             \u001b[0;31m#  be handled by the _getitem_lowerdim call above.\u001b[0m\u001b[0;34m\u001b[0m\u001b[0;34m\u001b[0m\u001b[0m\n",
      "\u001b[0;32m~/opt/anaconda3/lib/python3.9/site-packages/pandas/core/indexing.py\u001b[0m in \u001b[0;36m_getitem_axis\u001b[0;34m(self, key, axis)\u001b[0m\n\u001b[1;32m   1142\u001b[0m             \u001b[0;32mreturn\u001b[0m \u001b[0mself\u001b[0m\u001b[0;34m.\u001b[0m\u001b[0m_get_slice_axis\u001b[0m\u001b[0;34m(\u001b[0m\u001b[0mkey\u001b[0m\u001b[0;34m,\u001b[0m \u001b[0maxis\u001b[0m\u001b[0;34m=\u001b[0m\u001b[0maxis\u001b[0m\u001b[0;34m)\u001b[0m\u001b[0;34m\u001b[0m\u001b[0;34m\u001b[0m\u001b[0m\n\u001b[1;32m   1143\u001b[0m         \u001b[0;32melif\u001b[0m \u001b[0mcom\u001b[0m\u001b[0;34m.\u001b[0m\u001b[0mis_bool_indexer\u001b[0m\u001b[0;34m(\u001b[0m\u001b[0mkey\u001b[0m\u001b[0;34m)\u001b[0m\u001b[0;34m:\u001b[0m\u001b[0;34m\u001b[0m\u001b[0;34m\u001b[0m\u001b[0m\n\u001b[0;32m-> 1144\u001b[0;31m             \u001b[0;32mreturn\u001b[0m \u001b[0mself\u001b[0m\u001b[0;34m.\u001b[0m\u001b[0m_getbool_axis\u001b[0m\u001b[0;34m(\u001b[0m\u001b[0mkey\u001b[0m\u001b[0;34m,\u001b[0m \u001b[0maxis\u001b[0m\u001b[0;34m=\u001b[0m\u001b[0maxis\u001b[0m\u001b[0;34m)\u001b[0m\u001b[0;34m\u001b[0m\u001b[0;34m\u001b[0m\u001b[0m\n\u001b[0m\u001b[1;32m   1145\u001b[0m         \u001b[0;32melif\u001b[0m \u001b[0mis_list_like_indexer\u001b[0m\u001b[0;34m(\u001b[0m\u001b[0mkey\u001b[0m\u001b[0;34m)\u001b[0m\u001b[0;34m:\u001b[0m\u001b[0;34m\u001b[0m\u001b[0;34m\u001b[0m\u001b[0m\n\u001b[1;32m   1146\u001b[0m \u001b[0;34m\u001b[0m\u001b[0m\n",
      "\u001b[0;32m~/opt/anaconda3/lib/python3.9/site-packages/pandas/core/indexing.py\u001b[0m in \u001b[0;36m_getbool_axis\u001b[0;34m(self, key, axis)\u001b[0m\n\u001b[1;32m    946\u001b[0m         \u001b[0;31m# caller is responsible for ensuring non-None axis\u001b[0m\u001b[0;34m\u001b[0m\u001b[0;34m\u001b[0m\u001b[0m\n\u001b[1;32m    947\u001b[0m         \u001b[0mlabels\u001b[0m \u001b[0;34m=\u001b[0m \u001b[0mself\u001b[0m\u001b[0;34m.\u001b[0m\u001b[0mobj\u001b[0m\u001b[0;34m.\u001b[0m\u001b[0m_get_axis\u001b[0m\u001b[0;34m(\u001b[0m\u001b[0maxis\u001b[0m\u001b[0;34m)\u001b[0m\u001b[0;34m\u001b[0m\u001b[0;34m\u001b[0m\u001b[0m\n\u001b[0;32m--> 948\u001b[0;31m         \u001b[0mkey\u001b[0m \u001b[0;34m=\u001b[0m \u001b[0mcheck_bool_indexer\u001b[0m\u001b[0;34m(\u001b[0m\u001b[0mlabels\u001b[0m\u001b[0;34m,\u001b[0m \u001b[0mkey\u001b[0m\u001b[0;34m)\u001b[0m\u001b[0;34m\u001b[0m\u001b[0;34m\u001b[0m\u001b[0m\n\u001b[0m\u001b[1;32m    949\u001b[0m         \u001b[0minds\u001b[0m \u001b[0;34m=\u001b[0m \u001b[0mkey\u001b[0m\u001b[0;34m.\u001b[0m\u001b[0mnonzero\u001b[0m\u001b[0;34m(\u001b[0m\u001b[0;34m)\u001b[0m\u001b[0;34m[\u001b[0m\u001b[0;36m0\u001b[0m\u001b[0;34m]\u001b[0m\u001b[0;34m\u001b[0m\u001b[0;34m\u001b[0m\u001b[0m\n\u001b[1;32m    950\u001b[0m         \u001b[0;32mreturn\u001b[0m \u001b[0mself\u001b[0m\u001b[0;34m.\u001b[0m\u001b[0mobj\u001b[0m\u001b[0;34m.\u001b[0m\u001b[0m_take_with_is_copy\u001b[0m\u001b[0;34m(\u001b[0m\u001b[0minds\u001b[0m\u001b[0;34m,\u001b[0m \u001b[0maxis\u001b[0m\u001b[0;34m=\u001b[0m\u001b[0maxis\u001b[0m\u001b[0;34m)\u001b[0m\u001b[0;34m\u001b[0m\u001b[0;34m\u001b[0m\u001b[0m\n",
      "\u001b[0;32m~/opt/anaconda3/lib/python3.9/site-packages/pandas/core/indexing.py\u001b[0m in \u001b[0;36mcheck_bool_indexer\u001b[0;34m(index, key)\u001b[0m\n\u001b[1;32m   2386\u001b[0m         \u001b[0mmask\u001b[0m \u001b[0;34m=\u001b[0m \u001b[0misna\u001b[0m\u001b[0;34m(\u001b[0m\u001b[0mresult\u001b[0m\u001b[0;34m.\u001b[0m\u001b[0m_values\u001b[0m\u001b[0;34m)\u001b[0m\u001b[0;34m\u001b[0m\u001b[0;34m\u001b[0m\u001b[0m\n\u001b[1;32m   2387\u001b[0m         \u001b[0;32mif\u001b[0m \u001b[0mmask\u001b[0m\u001b[0;34m.\u001b[0m\u001b[0many\u001b[0m\u001b[0;34m(\u001b[0m\u001b[0;34m)\u001b[0m\u001b[0;34m:\u001b[0m\u001b[0;34m\u001b[0m\u001b[0;34m\u001b[0m\u001b[0m\n\u001b[0;32m-> 2388\u001b[0;31m             raise IndexingError(\n\u001b[0m\u001b[1;32m   2389\u001b[0m                 \u001b[0;34m\"Unalignable boolean Series provided as \"\u001b[0m\u001b[0;34m\u001b[0m\u001b[0;34m\u001b[0m\u001b[0m\n\u001b[1;32m   2390\u001b[0m                 \u001b[0;34m\"indexer (index of the boolean Series and of \"\u001b[0m\u001b[0;34m\u001b[0m\u001b[0;34m\u001b[0m\u001b[0m\n",
      "\u001b[0;31mIndexingError\u001b[0m: Unalignable boolean Series provided as indexer (index of the boolean Series and of the indexed object do not match)."
     ]
    }
   ],
   "source": [
    "df_duplicados.loc[:,df_duplicados['Hourly_Rate']==99999]"
   ]
  },
  {
   "cell_type": "code",
   "execution_count": null,
   "metadata": {},
   "outputs": [],
   "source": []
  },
  {
   "cell_type": "code",
   "execution_count": 131,
   "metadata": {},
   "outputs": [
    {
     "data": {
      "text/html": [
       "<div>\n",
       "<style scoped>\n",
       "    .dataframe tbody tr th:only-of-type {\n",
       "        vertical-align: middle;\n",
       "    }\n",
       "\n",
       "    .dataframe tbody tr th {\n",
       "        vertical-align: top;\n",
       "    }\n",
       "\n",
       "    .dataframe thead th {\n",
       "        text-align: right;\n",
       "    }\n",
       "</style>\n",
       "<table border=\"1\" class=\"dataframe\">\n",
       "  <thead>\n",
       "    <tr style=\"text-align: right;\">\n",
       "      <th></th>\n",
       "      <th>Age</th>\n",
       "      <th>Age_Group</th>\n",
       "      <th>Attrition</th>\n",
       "      <th>Business_Travel</th>\n",
       "      <th>Daily_Rate</th>\n",
       "      <th>Department</th>\n",
       "      <th>Distance_From_Home</th>\n",
       "      <th>Education</th>\n",
       "      <th>Education_Field</th>\n",
       "      <th>Employee_Number</th>\n",
       "      <th>Environment_Satisfaction</th>\n",
       "      <th>Gender</th>\n",
       "      <th>Hourly_Rate</th>\n",
       "      <th>Job_Involvement</th>\n",
       "      <th>Job_Level</th>\n",
       "      <th>Job_Role</th>\n",
       "      <th>Job_Satisfaction</th>\n",
       "      <th>Marital_Status</th>\n",
       "      <th>Monthly_Income</th>\n",
       "      <th>Monthly_Rate</th>\n",
       "      <th>Num_Companies_Worked</th>\n",
       "      <th>Over_18</th>\n",
       "      <th>Over_Time</th>\n",
       "      <th>Percent_Salary_Hike</th>\n",
       "      <th>Performance_Rating</th>\n",
       "      <th>Relationship_Satisfaction</th>\n",
       "      <th>Standard_Hours</th>\n",
       "      <th>Stock_Option_Level</th>\n",
       "      <th>Total_Working_Years</th>\n",
       "      <th>Training_Times_Last_Year</th>\n",
       "      <th>Work_Life_Balance</th>\n",
       "      <th>Years_At_Company</th>\n",
       "      <th>Years_In_Current_Role</th>\n",
       "      <th>Years_Since_Last_Promotion</th>\n",
       "      <th>Years_With_Curr_Manager</th>\n",
       "      <th>Date_Birth</th>\n",
       "      <th>Remote_Work</th>\n",
       "    </tr>\n",
       "  </thead>\n",
       "  <tbody>\n",
       "  </tbody>\n",
       "</table>\n",
       "</div>"
      ],
      "text/plain": [
       "Empty DataFrame\n",
       "Columns: [Age, Age_Group, Attrition, Business_Travel, Daily_Rate, Department, Distance_From_Home, Education, Education_Field, Employee_Number, Environment_Satisfaction, Gender, Hourly_Rate, Job_Involvement, Job_Level, Job_Role, Job_Satisfaction, Marital_Status, Monthly_Income, Monthly_Rate, Num_Companies_Worked, Over_18, Over_Time, Percent_Salary_Hike, Performance_Rating, Relationship_Satisfaction, Standard_Hours, Stock_Option_Level, Total_Working_Years, Training_Times_Last_Year, Work_Life_Balance, Years_At_Company, Years_In_Current_Role, Years_Since_Last_Promotion, Years_With_Curr_Manager, Date_Birth, Remote_Work]\n",
       "Index: []"
      ]
     },
     "execution_count": 131,
     "metadata": {},
     "output_type": "execute_result"
    }
   ],
   "source": [
    "df[df['Employee_Number'].isin(df['Employee_Number'][df['Employee_Number'].duplicated()])& df['Employee_Number']==927].sort_values('Employee_Number')"
   ]
  },
  {
   "cell_type": "code",
   "execution_count": 133,
   "metadata": {},
   "outputs": [
    {
     "data": {
      "text/html": [
       "<div>\n",
       "<style scoped>\n",
       "    .dataframe tbody tr th:only-of-type {\n",
       "        vertical-align: middle;\n",
       "    }\n",
       "\n",
       "    .dataframe tbody tr th {\n",
       "        vertical-align: top;\n",
       "    }\n",
       "\n",
       "    .dataframe thead th {\n",
       "        text-align: right;\n",
       "    }\n",
       "</style>\n",
       "<table border=\"1\" class=\"dataframe\">\n",
       "  <thead>\n",
       "    <tr style=\"text-align: right;\">\n",
       "      <th></th>\n",
       "      <th>Age</th>\n",
       "      <th>Age_Group</th>\n",
       "      <th>Attrition</th>\n",
       "      <th>Business_Travel</th>\n",
       "      <th>Daily_Rate</th>\n",
       "      <th>Department</th>\n",
       "      <th>Distance_From_Home</th>\n",
       "      <th>Education</th>\n",
       "      <th>Education_Field</th>\n",
       "      <th>Employee_Number</th>\n",
       "      <th>Environment_Satisfaction</th>\n",
       "      <th>Gender</th>\n",
       "      <th>Hourly_Rate</th>\n",
       "      <th>Job_Involvement</th>\n",
       "      <th>Job_Level</th>\n",
       "      <th>Job_Role</th>\n",
       "      <th>Job_Satisfaction</th>\n",
       "      <th>Marital_Status</th>\n",
       "      <th>Monthly_Income</th>\n",
       "      <th>Monthly_Rate</th>\n",
       "      <th>Num_Companies_Worked</th>\n",
       "      <th>Over_18</th>\n",
       "      <th>Over_Time</th>\n",
       "      <th>Percent_Salary_Hike</th>\n",
       "      <th>Performance_Rating</th>\n",
       "      <th>Relationship_Satisfaction</th>\n",
       "      <th>Standard_Hours</th>\n",
       "      <th>Stock_Option_Level</th>\n",
       "      <th>Total_Working_Years</th>\n",
       "      <th>Training_Times_Last_Year</th>\n",
       "      <th>Work_Life_Balance</th>\n",
       "      <th>Years_At_Company</th>\n",
       "      <th>Years_In_Current_Role</th>\n",
       "      <th>Years_Since_Last_Promotion</th>\n",
       "      <th>Years_With_Curr_Manager</th>\n",
       "      <th>Date_Birth</th>\n",
       "      <th>Remote_Work</th>\n",
       "    </tr>\n",
       "  </thead>\n",
       "  <tbody>\n",
       "  </tbody>\n",
       "</table>\n",
       "</div>"
      ],
      "text/plain": [
       "Empty DataFrame\n",
       "Columns: [Age, Age_Group, Attrition, Business_Travel, Daily_Rate, Department, Distance_From_Home, Education, Education_Field, Employee_Number, Environment_Satisfaction, Gender, Hourly_Rate, Job_Involvement, Job_Level, Job_Role, Job_Satisfaction, Marital_Status, Monthly_Income, Monthly_Rate, Num_Companies_Worked, Over_18, Over_Time, Percent_Salary_Hike, Performance_Rating, Relationship_Satisfaction, Standard_Hours, Stock_Option_Level, Total_Working_Years, Training_Times_Last_Year, Work_Life_Balance, Years_At_Company, Years_In_Current_Role, Years_Since_Last_Promotion, Years_With_Curr_Manager, Date_Birth, Remote_Work]\n",
       "Index: []"
      ]
     },
     "execution_count": 133,
     "metadata": {},
     "output_type": "execute_result"
    }
   ],
   "source": [
    "df[df['Employee_Number'].isin(df['Employee_Number'].duplicated())]"
   ]
  },
  {
   "cell_type": "code",
   "execution_count": 135,
   "metadata": {},
   "outputs": [
    {
     "data": {
      "text/plain": [
       "0       False\n",
       "1       False\n",
       "2       False\n",
       "3       False\n",
       "4       False\n",
       "        ...  \n",
       "1609    False\n",
       "1610    False\n",
       "1611    False\n",
       "1612    False\n",
       "1613    False\n",
       "Name: Employee_Number, Length: 1496, dtype: bool"
      ]
     },
     "execution_count": 135,
     "metadata": {},
     "output_type": "execute_result"
    }
   ],
   "source": []
  },
  {
   "cell_type": "markdown",
   "metadata": {},
   "source": [
    "2.5 Situación 5: Columna 'Distance_From_Home' == 'Environment_Satisfaction'"
   ]
  },
  {
   "cell_type": "code",
   "execution_count": null,
   "metadata": {},
   "outputs": [],
   "source": []
  },
  {
   "cell_type": "markdown",
   "metadata": {},
   "source": [
    "# TESTING 👇🏻👇🏻"
   ]
  }
 ],
 "metadata": {
  "kernelspec": {
   "display_name": "base",
   "language": "python",
   "name": "python3"
  },
  "language_info": {
   "codemirror_mode": {
    "name": "ipython",
    "version": 3
   },
   "file_extension": ".py",
   "mimetype": "text/x-python",
   "name": "python",
   "nbconvert_exporter": "python",
   "pygments_lexer": "ipython3",
   "version": "3.9.7"
  }
 },
 "nbformat": 4,
 "nbformat_minor": 2
}
