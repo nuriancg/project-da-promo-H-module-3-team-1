{
 "cells": [
  {
   "cell_type": "markdown",
   "metadata": {},
   "source": [
    "## Employee_Number\n",
    "- 1080 valores únicos (incluyendo el 0)\n",
    "- 534 duplicados\n",
    "- (1080 + 534 = 1614 totales)\n",
    "- ...................\n",
    "- dtype  -> object"
   ]
  },
  {
   "cell_type": "markdown",
   "metadata": {},
   "source": [
    "## Duplicados\n",
    "\n",
    "- 431 son 'Employee_Number'= 0\n",
    "- 104 en las siguientes situaciones\n",
    "\n"
   ]
  },
  {
   "cell_type": "markdown",
   "metadata": {},
   "source": [
    "- Situación 1: ? employees\n",
    "    - Todas las columnas son iguales\n",
    "   \n",
    "    ➡️ Solución: eliminar el primer registro   \n",
    "\n",
    "- Situación 2: 13 employees\n",
    "    - Distance_From_Home diferentes\n",
    "   \n",
    "    ➡️ Solución: eliminar el primer registro   \n",
    "\n",
    "- Situación 3: 35 employees\n",
    "    - Remote_Work diferentes\n",
    "   \n",
    "    ➡️ Solución: eliminar el primer registro   \n",
    "\n",
    "- Situación 4: 35 employees\n",
    "    - Hourly_Rate -> Not Available\n",
    "   \n",
    "    ➡️ Solución: eliminar Hourly_Rate == Not Available     \n",
    "\n",
    "- Situación 5:\n",
    "    - Distance_From_Home diferentes\n",
    "    - (-1) * Distance_From_Home = Environment_Satisfaction\n",
    "   \n",
    "    ➡️ Solución: eliminar (-1) * Distance_From_Home = Environment_Satisfaction\n"
   ]
  },
  {
   "cell_type": "code",
   "execution_count": 1,
   "metadata": {},
   "outputs": [],
   "source": [
    "# Importamos librerias\n",
    "import pandas as pd\n",
    "import numpy as np\n",
    "\n",
    "# Ajustes de visualización\n",
    "pd.set_option('display.max_columns',None)\n",
    "#pd.set_option('display.max_rows',None)"
   ]
  },
  {
   "cell_type": "code",
   "execution_count": 2,
   "metadata": {},
   "outputs": [],
   "source": [
    "# Leemos el .csv y lo guardamos en una variable df\n",
    "df_original = pd.read_csv('HR RAW DATA_Nuria.csv', index_col=0)"
   ]
  },
  {
   "cell_type": "code",
   "execution_count": 27,
   "metadata": {},
   "outputs": [],
   "source": [
    "#creamos una copia del df con la que trabajaremos\n",
    "df=df_original.copy()"
   ]
  },
  {
   "cell_type": "code",
   "execution_count": 4,
   "metadata": {},
   "outputs": [
    {
     "name": "stdout",
     "output_type": "stream",
     "text": [
      "<class 'pandas.core.frame.DataFrame'>\n",
      "Int64Index: 1614 entries, 0 to 1613\n",
      "Data columns (total 41 columns):\n",
      " #   Column                    Non-Null Count  Dtype  \n",
      "---  ------                    --------------  -----  \n",
      " 0   Age                       1614 non-null   object \n",
      " 1   Attrition                 1614 non-null   object \n",
      " 2   BusinessTravel            842 non-null    object \n",
      " 3   DailyRate                 1614 non-null   object \n",
      " 4   Department                302 non-null    object \n",
      " 5   DistanceFromHome          1614 non-null   int64  \n",
      " 6   Education                 1614 non-null   int64  \n",
      " 7   EducationField            869 non-null    object \n",
      " 8   employeecount             1614 non-null   int64  \n",
      " 9   employeenumber            1183 non-null   object \n",
      " 10  EnvironmentSatisfaction   1614 non-null   int64  \n",
      " 11  Gender                    1614 non-null   int64  \n",
      " 12  HourlyRate                1614 non-null   object \n",
      " 13  JobInvolvement            1614 non-null   int64  \n",
      " 14  JobLevel                  1614 non-null   int64  \n",
      " 15  JobRole                   1614 non-null   object \n",
      " 16  JobSatisfaction           1614 non-null   int64  \n",
      " 17  MaritalStatus             963 non-null    object \n",
      " 18  MonthlyIncome             771 non-null    object \n",
      " 19  MonthlyRate               1614 non-null   int64  \n",
      " 20  NUMCOMPANIESWORKED        1614 non-null   int64  \n",
      " 21  Over18                    713 non-null    object \n",
      " 22  OverTime                  938 non-null    object \n",
      " 23  PercentSalaryHike         1614 non-null   int64  \n",
      " 24  PerformanceRating         1419 non-null   object \n",
      " 25  RelationshipSatisfaction  1614 non-null   int64  \n",
      " 26  StandardHours             419 non-null    object \n",
      " 27  StockOptionLevel          1614 non-null   int64  \n",
      " 28  TOTALWORKINGYEARS         1088 non-null   object \n",
      " 29  TrainingTimesLastYear     1614 non-null   int64  \n",
      " 30  WORKLIFEBALANCE           1506 non-null   object \n",
      " 31  YearsAtCompany            1614 non-null   int64  \n",
      " 32  YearsInCurrentRole        34 non-null     object \n",
      " 33  YearsSinceLastPromotion   1614 non-null   int64  \n",
      " 34  YEARSWITHCURRMANAGER      1614 non-null   int64  \n",
      " 35  SameAsMonthlyIncome       771 non-null    object \n",
      " 36  DateBirth                 1614 non-null   int64  \n",
      " 37  Salary                    1614 non-null   object \n",
      " 38  RoleDepartament           302 non-null    object \n",
      " 39  NUMBERCHILDREN            0 non-null      float64\n",
      " 40  RemoteWork                1614 non-null   object \n",
      "dtypes: float64(1), int64(18), object(22)\n",
      "memory usage: 529.6+ KB\n"
     ]
    }
   ],
   "source": [
    "df.info()"
   ]
  },
  {
   "cell_type": "markdown",
   "metadata": {},
   "source": [
    "## Paso 1: Limpieza de datos"
   ]
  },
  {
   "cell_type": "markdown",
   "metadata": {},
   "source": [
    "### 1.1. Modificar nombre columnas\n"
   ]
  },
  {
   "cell_type": "code",
   "execution_count": null,
   "metadata": {},
   "outputs": [],
   "source": [
    "# def cambio_col_names(col_name):\n",
    "\n",
    "    \n",
    "\n",
    "#     return col_name"
   ]
  },
  {
   "cell_type": "code",
   "execution_count": 29,
   "metadata": {},
   "outputs": [],
   "source": [
    "# cambiamos el nombre a las columnas \n",
    "dict_nombre_columnas= {'BusinessTravel':'Business_Travel',\n",
    "                       'DailyRate': 'Daily_Rate',\n",
    "                       'DistanceFromHome': 'Distance_From_Home',\n",
    "                       'EducationField': 'Education_Field',\n",
    "                       'employeenumber':'Employee_Number', \n",
    "                       'EnvironmentSatisfaction': 'Environment_Satisfaction', \n",
    "                       'HourlyRate': 'Hourly_Rate', \n",
    "                       'JobInvolvement': 'Job_Involvement', \n",
    "                       'JobLevel': 'Job_Level', \n",
    "                       'JobRole': 'Job_Role', \n",
    "                       'JobSatisfaction': 'Job_Satisfaction', \n",
    "                       'MaritalStatus': 'Marital_Status',\n",
    "                       'MonthlyIncome': 'Monthly_Income',\n",
    "                       'MonthlyRate': 'Monthly_Rate',\n",
    "                       'NUMCOMPANIESWORKED':'Num_Companies_Worked',\n",
    "                       'Over18':'Over_18',\n",
    "                       'OverTime':'Over_Time',\n",
    "                       'PercentSalaryHike':'Percent_Salary_Hike',\n",
    "                       'PerformanceRating':'Performance_Rating',\n",
    "                       'RelationshipSatisfaction':'Relationship_Satisfaction',\n",
    "                       'StandardHours':'Standard_Hours',\n",
    "                       'StockOptionLevel':'Stock_Option_Level',\n",
    "                       'TOTALWORKINGYEARS':'Total_Working_Years',\n",
    "                       'TrainingTimesLastYear':'Training_Times_Last_Year',\n",
    "                       'WORKLIFEBALANCE':'Work_Life_Balance',\n",
    "                       'YearsAtCompany': 'Years_At_Company', \n",
    "                       'YearsInCurrentRole': 'Years_In_Current_Role', \n",
    "                       'YearsSinceLastPromotion': 'Years_Since_Last_Promotion', \n",
    "                       'YEARSWITHCURRMANAGER': 'Years_With_Curr_Manager', \n",
    "                       'DateBirth': 'Date_Birth', \n",
    "                       'RemoteWork': 'Remote_Work'\n",
    "                       }\n",
    "df.rename(columns=dict_nombre_columnas, inplace=True)"
   ]
  },
  {
   "cell_type": "markdown",
   "metadata": {},
   "source": [
    "### 1.2. Eliminar columnas no necesarias"
   ]
  },
  {
   "cell_type": "code",
   "execution_count": 35,
   "metadata": {},
   "outputs": [],
   "source": [
    "lista_col_eliminar=['employeecount','SameAsMonthlyIncome','Salary', 'RoleDepartament', 'NUMBERCHILDREN']\n",
    "\n",
    "for col in lista_col_eliminar:\n",
    "    df.drop(col, axis=1, inplace=True)"
   ]
  },
  {
   "cell_type": "code",
   "execution_count": 103,
   "metadata": {},
   "outputs": [
    {
     "data": {
      "text/plain": [
       "(1614, 36)"
      ]
     },
     "execution_count": 103,
     "metadata": {},
     "output_type": "execute_result"
    }
   ],
   "source": [
    "df.shape"
   ]
  },
  {
   "cell_type": "markdown",
   "metadata": {},
   "source": [
    "### 1.3. Crear columnas nuevas"
   ]
  },
  {
   "cell_type": "code",
   "execution_count": 34,
   "metadata": {},
   "outputs": [],
   "source": [
    "df.insert(1, 'Age_Group', '')"
   ]
  },
  {
   "cell_type": "code",
   "execution_count": 80,
   "metadata": {},
   "outputs": [
    {
     "data": {
      "text/plain": [
       "(1614, 37)"
      ]
     },
     "execution_count": 80,
     "metadata": {},
     "output_type": "execute_result"
    }
   ],
   "source": [
    "df.shape"
   ]
  },
  {
   "cell_type": "markdown",
   "metadata": {},
   "source": [
    "### 1.4. Modificar valores en columnas"
   ]
  },
  {
   "cell_type": "markdown",
   "metadata": {},
   "source": [
    "1.4.1 Convertir a str"
   ]
  },
  {
   "cell_type": "code",
   "execution_count": 33,
   "metadata": {},
   "outputs": [],
   "source": [
    "lista_col_to_str=['Daily_Rate','Employee_Number','Distance_From_Home','Environment_Satisfaction','Gender','Performance_Rating','Remote_Work','Standard_Hours','Total_Working_Years','Work_Life_Balance','Years_In_Current_Role' ]\n",
    "\n",
    "for col in lista_col_to_str:\n",
    "    df[col] = df[col].astype(str)"
   ]
  },
  {
   "cell_type": "markdown",
   "metadata": {},
   "source": [
    "1.4.2 Cambio de ',' por '.'"
   ]
  },
  {
   "cell_type": "code",
   "execution_count": null,
   "metadata": {},
   "outputs": [],
   "source": [
    "# def coma_a_punto (col_name):\n",
    "#     try:\n",
    "#         col_name.replace(',','.')\n",
    "#     except:\n",
    "#         print(f'La columna {col_name} no se ha podido modificar.')"
   ]
  },
  {
   "cell_type": "code",
   "execution_count": 37,
   "metadata": {},
   "outputs": [],
   "source": [
    "lista_col_to_punto=['Daily_Rate','Monthly_Income','Standard_Hours']\n",
    "\n",
    "for col in lista_col_to_punto:\n",
    "    df[col] = df[col].str.replace(',','.')"
   ]
  },
  {
   "cell_type": "markdown",
   "metadata": {},
   "source": [
    "1.4.3 Cambio de ',0' por ''"
   ]
  },
  {
   "cell_type": "code",
   "execution_count": 38,
   "metadata": {},
   "outputs": [],
   "source": [
    "lista_col_to_no_coma=['Employee_Number', 'Performance_Rating','Total_Working_Years','Work_Life_Balance','Years_In_Current_Role']\n",
    "\n",
    "for col in lista_col_to_no_coma:\n",
    "    df[col] = df[col].str.replace(',0','')"
   ]
  },
  {
   "cell_type": "markdown",
   "metadata": {},
   "source": [
    "1.4.4 Booleanos"
   ]
  },
  {
   "cell_type": "code",
   "execution_count": 42,
   "metadata": {},
   "outputs": [],
   "source": [
    "dict_booleanos = {'1': True, \n",
    "                  'Yes': True, \n",
    "                  'True':True, \n",
    "                  '0': False, \n",
    "                  'No':False,\n",
    "                  'False':False}\n",
    "\n",
    "lista_col_to_booleanos = ['Attrition', 'Over_Time', 'Remote_Work']\n",
    "\n",
    "for col in lista_col_to_booleanos:\n",
    "    df[col] = df[col].replace(dict_booleanos)"
   ]
  },
  {
   "cell_type": "markdown",
   "metadata": {},
   "source": [
    "1.4.5 Otros cambios"
   ]
  },
  {
   "cell_type": "code",
   "execution_count": 43,
   "metadata": {},
   "outputs": [
    {
     "name": "stderr",
     "output_type": "stream",
     "text": [
      "/var/folders/g3/22l1jqy501nblpbhtydz9b0w0000gn/T/ipykernel_1172/2535777136.py:17: FutureWarning: The default value of regex will change from True to False in a future version. In addition, single character regular expressions will *not* be treated as literal strings when regex=True.\n",
      "  df['Daily_Rate'] = df['Daily_Rate'].str.replace('$', '')\n"
     ]
    }
   ],
   "source": [
    "reemplazos = {\n",
    "    'forty-seven': 47,\n",
    "    'fifty-eight': 58,\n",
    "    'thirty-six': 36,\n",
    "    'fifty-five': 55,\n",
    "    'fifty-two': 52,\n",
    "    'thirty-one': 31,\n",
    "    'thirty': 30,\n",
    "    'twenty-six': 26,\n",
    "    'thirty-seven': 37,\n",
    "    'thirty-two': 32,\n",
    "    'twenty-four': 24\n",
    "}\n",
    "\n",
    "df['Age'] = df['Age'].replace(reemplazos)\n",
    "df['Business_Travel'] = df['Business_Travel'].str.replace('-', '_').str.title()\n",
    "df['Daily_Rate'] = df['Daily_Rate'].str.replace('$', '')\n",
    "df['Department'] = df['Department'].str.strip()\n",
    "df['Distance_From_Home'] = df['Distance_From_Home'].str.replace('-', '')\n",
    "df['Gender'] = df['Gender'].replace({'0': 'M', '1': 'F'})\n",
    "df['Job_Role'] = df['Job_Role'].str.title()\n",
    "df['Marital_Status']= df['Marital_Status'].replace({'Marreid':'Married'}).str.title()\n"
   ]
  },
  {
   "cell_type": "markdown",
   "metadata": {},
   "source": [
    "1.4.6 Cambio de nulos\n"
   ]
  },
  {
   "cell_type": "code",
   "execution_count": 44,
   "metadata": {},
   "outputs": [],
   "source": [
    "lista_col_int_nulos=['Employee_Number','Hourly_Rate','Performance_Rating','Total_Working_Years','Work_Life_Balance','Years_In_Current_Role']\n",
    "\n",
    "for col in lista_col_int_nulos:\n",
    "    df[col]=df[col].replace({'nan':99999,'NaN':99999, 'Not Available':99999})\n"
   ]
  },
  {
   "cell_type": "markdown",
   "metadata": {},
   "source": [
    "1.4.7 Cambio a int"
   ]
  },
  {
   "cell_type": "code",
   "execution_count": 48,
   "metadata": {},
   "outputs": [],
   "source": [
    "lista_col_to_int=['Age','Distance_From_Home','Employee_Number','Environment_Satisfaction','Hourly_Rate','Job_Involvement','Total_Working_Years','Performance_Rating','Years_In_Current_Role','Work_Life_Balance']\n",
    "\n",
    "for col in lista_col_to_int:\n",
    "    df[col] = df[col].astype(int)"
   ]
  },
  {
   "cell_type": "markdown",
   "metadata": {},
   "source": [
    "1.4.8 Cambio a float"
   ]
  },
  {
   "cell_type": "code",
   "execution_count": 49,
   "metadata": {},
   "outputs": [],
   "source": [
    "lista_col_to_float=['Daily_Rate','Monthly_Income','Monthly_Rate','Standard_Hours']\n",
    "\n",
    "for col in lista_col_to_float:\n",
    "    df[col] = df[col].astype(float)"
   ]
  },
  {
   "cell_type": "markdown",
   "metadata": {},
   "source": [
    "1.4.9 Cambio a Bool"
   ]
  },
  {
   "cell_type": "code",
   "execution_count": 50,
   "metadata": {},
   "outputs": [],
   "source": [
    "lista_col_to_bool=['Remote_Work']\n",
    "\n",
    "for col in lista_col_to_bool:\n",
    "    df[col] = df[col].astype(bool)"
   ]
  },
  {
   "cell_type": "markdown",
   "metadata": {},
   "source": [
    "## Paso 2:Eliminamos duplicados"
   ]
  },
  {
   "cell_type": "code",
   "execution_count": 108,
   "metadata": {},
   "outputs": [
    {
     "data": {
      "text/plain": [
       "37"
      ]
     },
     "execution_count": 108,
     "metadata": {},
     "output_type": "execute_result"
    }
   ],
   "source": [
    "#Obtenemos el listado del nombre de las columnas del DF\n",
    "lista_col_names = set(df.columns.tolist())\n",
    "len(lista_col_names)"
   ]
  },
  {
   "cell_type": "code",
   "execution_count": 103,
   "metadata": {},
   "outputs": [
    {
     "data": {
      "text/plain": [
       "37"
      ]
     },
     "execution_count": 103,
     "metadata": {},
     "output_type": "execute_result"
    }
   ],
   "source": [
    "nueva_lista_2 = lista_col_names\n",
    "len(nueva_lista_2)"
   ]
  },
  {
   "cell_type": "code",
   "execution_count": 104,
   "metadata": {},
   "outputs": [],
   "source": [
    "nueva_lista_2.remove('Employee_Number')"
   ]
  },
  {
   "cell_type": "code",
   "execution_count": 106,
   "metadata": {},
   "outputs": [
    {
     "data": {
      "text/plain": [
       "36"
      ]
     },
     "execution_count": 106,
     "metadata": {},
     "output_type": "execute_result"
    }
   ],
   "source": [
    "len(lista_col_names)"
   ]
  },
  {
   "cell_type": "code",
   "execution_count": 109,
   "metadata": {},
   "outputs": [
    {
     "data": {
      "text/html": [
       "<div>\n",
       "<style scoped>\n",
       "    .dataframe tbody tr th:only-of-type {\n",
       "        vertical-align: middle;\n",
       "    }\n",
       "\n",
       "    .dataframe tbody tr th {\n",
       "        vertical-align: top;\n",
       "    }\n",
       "\n",
       "    .dataframe thead th {\n",
       "        text-align: right;\n",
       "    }\n",
       "</style>\n",
       "<table border=\"1\" class=\"dataframe\">\n",
       "  <thead>\n",
       "    <tr style=\"text-align: right;\">\n",
       "      <th></th>\n",
       "      <th>Age</th>\n",
       "      <th>Age_Group</th>\n",
       "      <th>Attrition</th>\n",
       "      <th>Business_Travel</th>\n",
       "      <th>Daily_Rate</th>\n",
       "      <th>Department</th>\n",
       "      <th>Distance_From_Home</th>\n",
       "      <th>Education</th>\n",
       "      <th>Education_Field</th>\n",
       "      <th>Employee_Number</th>\n",
       "      <th>Environment_Satisfaction</th>\n",
       "      <th>Gender</th>\n",
       "      <th>Hourly_Rate</th>\n",
       "      <th>Job_Involvement</th>\n",
       "      <th>Job_Level</th>\n",
       "      <th>Job_Role</th>\n",
       "      <th>Job_Satisfaction</th>\n",
       "      <th>Marital_Status</th>\n",
       "      <th>Monthly_Income</th>\n",
       "      <th>Monthly_Rate</th>\n",
       "      <th>Num_Companies_Worked</th>\n",
       "      <th>Over_18</th>\n",
       "      <th>Over_Time</th>\n",
       "      <th>Percent_Salary_Hike</th>\n",
       "      <th>Performance_Rating</th>\n",
       "      <th>Relationship_Satisfaction</th>\n",
       "      <th>Standard_Hours</th>\n",
       "      <th>Stock_Option_Level</th>\n",
       "      <th>Total_Working_Years</th>\n",
       "      <th>Training_Times_Last_Year</th>\n",
       "      <th>Work_Life_Balance</th>\n",
       "      <th>Years_At_Company</th>\n",
       "      <th>Years_In_Current_Role</th>\n",
       "      <th>Years_Since_Last_Promotion</th>\n",
       "      <th>Years_With_Curr_Manager</th>\n",
       "      <th>Date_Birth</th>\n",
       "      <th>Remote_Work</th>\n",
       "    </tr>\n",
       "  </thead>\n",
       "  <tbody>\n",
       "    <tr>\n",
       "      <th>302</th>\n",
       "      <td>55</td>\n",
       "      <td></td>\n",
       "      <td>False</td>\n",
       "      <td>Travel_Rarely</td>\n",
       "      <td>147.0</td>\n",
       "      <td>Research &amp; Development</td>\n",
       "      <td>20</td>\n",
       "      <td>2</td>\n",
       "      <td>Technical Degree</td>\n",
       "      <td>389</td>\n",
       "      <td>2</td>\n",
       "      <td>M</td>\n",
       "      <td>37</td>\n",
       "      <td>3</td>\n",
       "      <td>2</td>\n",
       "      <td>Laboratory Technician</td>\n",
       "      <td>4</td>\n",
       "      <td>Married</td>\n",
       "      <td>NaN</td>\n",
       "      <td>15972.0</td>\n",
       "      <td>3</td>\n",
       "      <td>Y</td>\n",
       "      <td>NaN</td>\n",
       "      <td>19</td>\n",
       "      <td>99999</td>\n",
       "      <td>4</td>\n",
       "      <td>NaN</td>\n",
       "      <td>1</td>\n",
       "      <td>12</td>\n",
       "      <td>4</td>\n",
       "      <td>3</td>\n",
       "      <td>10</td>\n",
       "      <td>99999</td>\n",
       "      <td>0</td>\n",
       "      <td>8</td>\n",
       "      <td>1968</td>\n",
       "      <td>True</td>\n",
       "    </tr>\n",
       "    <tr>\n",
       "      <th>1545</th>\n",
       "      <td>55</td>\n",
       "      <td></td>\n",
       "      <td>False</td>\n",
       "      <td>Travel_Rarely</td>\n",
       "      <td>147.0</td>\n",
       "      <td>Research &amp; Development</td>\n",
       "      <td>17</td>\n",
       "      <td>2</td>\n",
       "      <td>Technical Degree</td>\n",
       "      <td>389</td>\n",
       "      <td>17</td>\n",
       "      <td>M</td>\n",
       "      <td>37</td>\n",
       "      <td>3</td>\n",
       "      <td>2</td>\n",
       "      <td>Laboratory Technician</td>\n",
       "      <td>4</td>\n",
       "      <td>Married</td>\n",
       "      <td>NaN</td>\n",
       "      <td>15972.0</td>\n",
       "      <td>3</td>\n",
       "      <td>Y</td>\n",
       "      <td>NaN</td>\n",
       "      <td>19</td>\n",
       "      <td>99999</td>\n",
       "      <td>4</td>\n",
       "      <td>NaN</td>\n",
       "      <td>1</td>\n",
       "      <td>12</td>\n",
       "      <td>4</td>\n",
       "      <td>3</td>\n",
       "      <td>10</td>\n",
       "      <td>99999</td>\n",
       "      <td>0</td>\n",
       "      <td>8</td>\n",
       "      <td>1968</td>\n",
       "      <td>True</td>\n",
       "    </tr>\n",
       "    <tr>\n",
       "      <th>1512</th>\n",
       "      <td>31</td>\n",
       "      <td></td>\n",
       "      <td>False</td>\n",
       "      <td>Travel_Rarely</td>\n",
       "      <td>691.0</td>\n",
       "      <td>Research &amp; Development</td>\n",
       "      <td>5</td>\n",
       "      <td>4</td>\n",
       "      <td>NaN</td>\n",
       "      <td>423</td>\n",
       "      <td>3</td>\n",
       "      <td>M</td>\n",
       "      <td>86</td>\n",
       "      <td>3</td>\n",
       "      <td>1</td>\n",
       "      <td>Research Scientist</td>\n",
       "      <td>4</td>\n",
       "      <td>Married</td>\n",
       "      <td>NaN</td>\n",
       "      <td>10077.0</td>\n",
       "      <td>0</td>\n",
       "      <td>NaN</td>\n",
       "      <td>NaN</td>\n",
       "      <td>12</td>\n",
       "      <td>3</td>\n",
       "      <td>3</td>\n",
       "      <td>NaN</td>\n",
       "      <td>1</td>\n",
       "      <td>99999</td>\n",
       "      <td>4</td>\n",
       "      <td>3</td>\n",
       "      <td>5</td>\n",
       "      <td>99999</td>\n",
       "      <td>0</td>\n",
       "      <td>3</td>\n",
       "      <td>1992</td>\n",
       "      <td>True</td>\n",
       "    </tr>\n",
       "    <tr>\n",
       "      <th>871</th>\n",
       "      <td>31</td>\n",
       "      <td></td>\n",
       "      <td>False</td>\n",
       "      <td>Travel_Rarely</td>\n",
       "      <td>691.0</td>\n",
       "      <td>Research &amp; Development</td>\n",
       "      <td>11</td>\n",
       "      <td>4</td>\n",
       "      <td>NaN</td>\n",
       "      <td>423</td>\n",
       "      <td>11</td>\n",
       "      <td>M</td>\n",
       "      <td>86</td>\n",
       "      <td>3</td>\n",
       "      <td>1</td>\n",
       "      <td>Research Scientist</td>\n",
       "      <td>4</td>\n",
       "      <td>Married</td>\n",
       "      <td>NaN</td>\n",
       "      <td>10077.0</td>\n",
       "      <td>0</td>\n",
       "      <td>NaN</td>\n",
       "      <td>NaN</td>\n",
       "      <td>12</td>\n",
       "      <td>3</td>\n",
       "      <td>3</td>\n",
       "      <td>NaN</td>\n",
       "      <td>1</td>\n",
       "      <td>99999</td>\n",
       "      <td>4</td>\n",
       "      <td>3</td>\n",
       "      <td>5</td>\n",
       "      <td>99999</td>\n",
       "      <td>0</td>\n",
       "      <td>3</td>\n",
       "      <td>1992</td>\n",
       "      <td>True</td>\n",
       "    </tr>\n",
       "    <tr>\n",
       "      <th>874</th>\n",
       "      <td>52</td>\n",
       "      <td></td>\n",
       "      <td>True</td>\n",
       "      <td>NaN</td>\n",
       "      <td>723.0</td>\n",
       "      <td>NaN</td>\n",
       "      <td>17</td>\n",
       "      <td>4</td>\n",
       "      <td>Medical</td>\n",
       "      <td>433</td>\n",
       "      <td>17</td>\n",
       "      <td>M</td>\n",
       "      <td>85</td>\n",
       "      <td>2</td>\n",
       "      <td>2</td>\n",
       "      <td>Research Scientist</td>\n",
       "      <td>2</td>\n",
       "      <td>NaN</td>\n",
       "      <td>4941.0</td>\n",
       "      <td>17747.0</td>\n",
       "      <td>2</td>\n",
       "      <td>NaN</td>\n",
       "      <td>False</td>\n",
       "      <td>15</td>\n",
       "      <td>99999</td>\n",
       "      <td>1</td>\n",
       "      <td>80.0</td>\n",
       "      <td>0</td>\n",
       "      <td>11</td>\n",
       "      <td>3</td>\n",
       "      <td>2</td>\n",
       "      <td>8</td>\n",
       "      <td>99999</td>\n",
       "      <td>7</td>\n",
       "      <td>7</td>\n",
       "      <td>1971</td>\n",
       "      <td>False</td>\n",
       "    </tr>\n",
       "    <tr>\n",
       "      <th>...</th>\n",
       "      <td>...</td>\n",
       "      <td>...</td>\n",
       "      <td>...</td>\n",
       "      <td>...</td>\n",
       "      <td>...</td>\n",
       "      <td>...</td>\n",
       "      <td>...</td>\n",
       "      <td>...</td>\n",
       "      <td>...</td>\n",
       "      <td>...</td>\n",
       "      <td>...</td>\n",
       "      <td>...</td>\n",
       "      <td>...</td>\n",
       "      <td>...</td>\n",
       "      <td>...</td>\n",
       "      <td>...</td>\n",
       "      <td>...</td>\n",
       "      <td>...</td>\n",
       "      <td>...</td>\n",
       "      <td>...</td>\n",
       "      <td>...</td>\n",
       "      <td>...</td>\n",
       "      <td>...</td>\n",
       "      <td>...</td>\n",
       "      <td>...</td>\n",
       "      <td>...</td>\n",
       "      <td>...</td>\n",
       "      <td>...</td>\n",
       "      <td>...</td>\n",
       "      <td>...</td>\n",
       "      <td>...</td>\n",
       "      <td>...</td>\n",
       "      <td>...</td>\n",
       "      <td>...</td>\n",
       "      <td>...</td>\n",
       "      <td>...</td>\n",
       "      <td>...</td>\n",
       "    </tr>\n",
       "    <tr>\n",
       "      <th>579</th>\n",
       "      <td>50</td>\n",
       "      <td></td>\n",
       "      <td>False</td>\n",
       "      <td>NaN</td>\n",
       "      <td>797.0</td>\n",
       "      <td>Research &amp; Development</td>\n",
       "      <td>4</td>\n",
       "      <td>1</td>\n",
       "      <td>NaN</td>\n",
       "      <td>99999</td>\n",
       "      <td>1</td>\n",
       "      <td>M</td>\n",
       "      <td>96</td>\n",
       "      <td>3</td>\n",
       "      <td>5</td>\n",
       "      <td>Research Director</td>\n",
       "      <td>2</td>\n",
       "      <td>Divorced</td>\n",
       "      <td>NaN</td>\n",
       "      <td>15815.0</td>\n",
       "      <td>3</td>\n",
       "      <td>NaN</td>\n",
       "      <td>False</td>\n",
       "      <td>14</td>\n",
       "      <td>3</td>\n",
       "      <td>1</td>\n",
       "      <td>NaN</td>\n",
       "      <td>2</td>\n",
       "      <td>28</td>\n",
       "      <td>4</td>\n",
       "      <td>2</td>\n",
       "      <td>10</td>\n",
       "      <td>99999</td>\n",
       "      <td>1</td>\n",
       "      <td>6</td>\n",
       "      <td>1973</td>\n",
       "      <td>False</td>\n",
       "    </tr>\n",
       "    <tr>\n",
       "      <th>562</th>\n",
       "      <td>35</td>\n",
       "      <td></td>\n",
       "      <td>False</td>\n",
       "      <td>Travel_Rarely</td>\n",
       "      <td>1214.0</td>\n",
       "      <td>NaN</td>\n",
       "      <td>1</td>\n",
       "      <td>3</td>\n",
       "      <td>Medical</td>\n",
       "      <td>99999</td>\n",
       "      <td>2</td>\n",
       "      <td>M</td>\n",
       "      <td>30</td>\n",
       "      <td>2</td>\n",
       "      <td>1</td>\n",
       "      <td>Research Scientist</td>\n",
       "      <td>3</td>\n",
       "      <td>Single</td>\n",
       "      <td>NaN</td>\n",
       "      <td>26278.0</td>\n",
       "      <td>1</td>\n",
       "      <td>NaN</td>\n",
       "      <td>False</td>\n",
       "      <td>18</td>\n",
       "      <td>3</td>\n",
       "      <td>1</td>\n",
       "      <td>NaN</td>\n",
       "      <td>0</td>\n",
       "      <td>6</td>\n",
       "      <td>3</td>\n",
       "      <td>3</td>\n",
       "      <td>6</td>\n",
       "      <td>99999</td>\n",
       "      <td>0</td>\n",
       "      <td>4</td>\n",
       "      <td>1988</td>\n",
       "      <td>False</td>\n",
       "    </tr>\n",
       "    <tr>\n",
       "      <th>561</th>\n",
       "      <td>32</td>\n",
       "      <td></td>\n",
       "      <td>False</td>\n",
       "      <td>Travel_Rarely</td>\n",
       "      <td>548.0</td>\n",
       "      <td>NaN</td>\n",
       "      <td>1</td>\n",
       "      <td>3</td>\n",
       "      <td>Life Sciences</td>\n",
       "      <td>99999</td>\n",
       "      <td>2</td>\n",
       "      <td>M</td>\n",
       "      <td>66</td>\n",
       "      <td>3</td>\n",
       "      <td>2</td>\n",
       "      <td>Research Scientist</td>\n",
       "      <td>2</td>\n",
       "      <td>NaN</td>\n",
       "      <td>NaN</td>\n",
       "      <td>7346.0</td>\n",
       "      <td>1</td>\n",
       "      <td>Y</td>\n",
       "      <td>False</td>\n",
       "      <td>17</td>\n",
       "      <td>3</td>\n",
       "      <td>2</td>\n",
       "      <td>80.0</td>\n",
       "      <td>2</td>\n",
       "      <td>10</td>\n",
       "      <td>3</td>\n",
       "      <td>3</td>\n",
       "      <td>10</td>\n",
       "      <td>99999</td>\n",
       "      <td>0</td>\n",
       "      <td>9</td>\n",
       "      <td>1991</td>\n",
       "      <td>True</td>\n",
       "    </tr>\n",
       "    <tr>\n",
       "      <th>659</th>\n",
       "      <td>41</td>\n",
       "      <td></td>\n",
       "      <td>False</td>\n",
       "      <td>NaN</td>\n",
       "      <td>930.0</td>\n",
       "      <td>NaN</td>\n",
       "      <td>3</td>\n",
       "      <td>3</td>\n",
       "      <td>Life Sciences</td>\n",
       "      <td>99999</td>\n",
       "      <td>3</td>\n",
       "      <td>M</td>\n",
       "      <td>57</td>\n",
       "      <td>2</td>\n",
       "      <td>2</td>\n",
       "      <td>Sales Executive</td>\n",
       "      <td>2</td>\n",
       "      <td>Divorced</td>\n",
       "      <td>8938.0</td>\n",
       "      <td>12227.0</td>\n",
       "      <td>2</td>\n",
       "      <td>Y</td>\n",
       "      <td>NaN</td>\n",
       "      <td>11</td>\n",
       "      <td>3</td>\n",
       "      <td>3</td>\n",
       "      <td>NaN</td>\n",
       "      <td>1</td>\n",
       "      <td>14</td>\n",
       "      <td>5</td>\n",
       "      <td>3</td>\n",
       "      <td>5</td>\n",
       "      <td>99999</td>\n",
       "      <td>0</td>\n",
       "      <td>4</td>\n",
       "      <td>1982</td>\n",
       "      <td>False</td>\n",
       "    </tr>\n",
       "    <tr>\n",
       "      <th>1613</th>\n",
       "      <td>46</td>\n",
       "      <td></td>\n",
       "      <td>False</td>\n",
       "      <td>NaN</td>\n",
       "      <td>566.0</td>\n",
       "      <td>NaN</td>\n",
       "      <td>7</td>\n",
       "      <td>2</td>\n",
       "      <td>Medical</td>\n",
       "      <td>99999</td>\n",
       "      <td>4</td>\n",
       "      <td>M</td>\n",
       "      <td>75</td>\n",
       "      <td>3</td>\n",
       "      <td>3</td>\n",
       "      <td>Manufacturing Director</td>\n",
       "      <td>3</td>\n",
       "      <td>NaN</td>\n",
       "      <td>10845.0</td>\n",
       "      <td>24208.0</td>\n",
       "      <td>6</td>\n",
       "      <td>Y</td>\n",
       "      <td>NaN</td>\n",
       "      <td>13</td>\n",
       "      <td>3</td>\n",
       "      <td>2</td>\n",
       "      <td>NaN</td>\n",
       "      <td>1</td>\n",
       "      <td>99999</td>\n",
       "      <td>3</td>\n",
       "      <td>3</td>\n",
       "      <td>8</td>\n",
       "      <td>99999</td>\n",
       "      <td>0</td>\n",
       "      <td>7</td>\n",
       "      <td>1977</td>\n",
       "      <td>False</td>\n",
       "    </tr>\n",
       "  </tbody>\n",
       "</table>\n",
       "<p>436 rows × 37 columns</p>\n",
       "</div>"
      ],
      "text/plain": [
       "      Age Age_Group  Attrition Business_Travel  Daily_Rate  \\\n",
       "302    55                False   Travel_Rarely       147.0   \n",
       "1545   55                False   Travel_Rarely       147.0   \n",
       "1512   31                False   Travel_Rarely       691.0   \n",
       "871    31                False   Travel_Rarely       691.0   \n",
       "874    52                 True             NaN       723.0   \n",
       "...   ...       ...        ...             ...         ...   \n",
       "579    50                False             NaN       797.0   \n",
       "562    35                False   Travel_Rarely      1214.0   \n",
       "561    32                False   Travel_Rarely       548.0   \n",
       "659    41                False             NaN       930.0   \n",
       "1613   46                False             NaN       566.0   \n",
       "\n",
       "                  Department  Distance_From_Home  Education   Education_Field  \\\n",
       "302   Research & Development                  20          2  Technical Degree   \n",
       "1545  Research & Development                  17          2  Technical Degree   \n",
       "1512  Research & Development                   5          4               NaN   \n",
       "871   Research & Development                  11          4               NaN   \n",
       "874                      NaN                  17          4           Medical   \n",
       "...                      ...                 ...        ...               ...   \n",
       "579   Research & Development                   4          1               NaN   \n",
       "562                      NaN                   1          3           Medical   \n",
       "561                      NaN                   1          3     Life Sciences   \n",
       "659                      NaN                   3          3     Life Sciences   \n",
       "1613                     NaN                   7          2           Medical   \n",
       "\n",
       "      Employee_Number  Environment_Satisfaction Gender  Hourly_Rate  \\\n",
       "302               389                         2      M           37   \n",
       "1545              389                        17      M           37   \n",
       "1512              423                         3      M           86   \n",
       "871               423                        11      M           86   \n",
       "874               433                        17      M           85   \n",
       "...               ...                       ...    ...          ...   \n",
       "579             99999                         1      M           96   \n",
       "562             99999                         2      M           30   \n",
       "561             99999                         2      M           66   \n",
       "659             99999                         3      M           57   \n",
       "1613            99999                         4      M           75   \n",
       "\n",
       "      Job_Involvement  Job_Level                  Job_Role  Job_Satisfaction  \\\n",
       "302                 3          2    Laboratory Technician                  4   \n",
       "1545                3          2    Laboratory Technician                  4   \n",
       "1512                3          1       Research Scientist                  4   \n",
       "871                 3          1       Research Scientist                  4   \n",
       "874                 2          2       Research Scientist                  2   \n",
       "...               ...        ...                       ...               ...   \n",
       "579                 3          5        Research Director                  2   \n",
       "562                 2          1       Research Scientist                  3   \n",
       "561                 3          2       Research Scientist                  2   \n",
       "659                 2          2          Sales Executive                  2   \n",
       "1613                3          3   Manufacturing Director                  3   \n",
       "\n",
       "     Marital_Status  Monthly_Income  Monthly_Rate  Num_Companies_Worked  \\\n",
       "302         Married             NaN       15972.0                     3   \n",
       "1545        Married             NaN       15972.0                     3   \n",
       "1512        Married             NaN       10077.0                     0   \n",
       "871         Married             NaN       10077.0                     0   \n",
       "874             NaN          4941.0       17747.0                     2   \n",
       "...             ...             ...           ...                   ...   \n",
       "579        Divorced             NaN       15815.0                     3   \n",
       "562          Single             NaN       26278.0                     1   \n",
       "561             NaN             NaN        7346.0                     1   \n",
       "659        Divorced          8938.0       12227.0                     2   \n",
       "1613            NaN         10845.0       24208.0                     6   \n",
       "\n",
       "     Over_18 Over_Time  Percent_Salary_Hike  Performance_Rating  \\\n",
       "302        Y       NaN                   19               99999   \n",
       "1545       Y       NaN                   19               99999   \n",
       "1512     NaN       NaN                   12                   3   \n",
       "871      NaN       NaN                   12                   3   \n",
       "874      NaN     False                   15               99999   \n",
       "...      ...       ...                  ...                 ...   \n",
       "579      NaN     False                   14                   3   \n",
       "562      NaN     False                   18                   3   \n",
       "561        Y     False                   17                   3   \n",
       "659        Y       NaN                   11                   3   \n",
       "1613       Y       NaN                   13                   3   \n",
       "\n",
       "      Relationship_Satisfaction  Standard_Hours  Stock_Option_Level  \\\n",
       "302                           4             NaN                   1   \n",
       "1545                          4             NaN                   1   \n",
       "1512                          3             NaN                   1   \n",
       "871                           3             NaN                   1   \n",
       "874                           1            80.0                   0   \n",
       "...                         ...             ...                 ...   \n",
       "579                           1             NaN                   2   \n",
       "562                           1             NaN                   0   \n",
       "561                           2            80.0                   2   \n",
       "659                           3             NaN                   1   \n",
       "1613                          2             NaN                   1   \n",
       "\n",
       "      Total_Working_Years  Training_Times_Last_Year  Work_Life_Balance  \\\n",
       "302                    12                         4                  3   \n",
       "1545                   12                         4                  3   \n",
       "1512                99999                         4                  3   \n",
       "871                 99999                         4                  3   \n",
       "874                    11                         3                  2   \n",
       "...                   ...                       ...                ...   \n",
       "579                    28                         4                  2   \n",
       "562                     6                         3                  3   \n",
       "561                    10                         3                  3   \n",
       "659                    14                         5                  3   \n",
       "1613                99999                         3                  3   \n",
       "\n",
       "      Years_At_Company  Years_In_Current_Role  Years_Since_Last_Promotion  \\\n",
       "302                 10                  99999                           0   \n",
       "1545                10                  99999                           0   \n",
       "1512                 5                  99999                           0   \n",
       "871                  5                  99999                           0   \n",
       "874                  8                  99999                           7   \n",
       "...                ...                    ...                         ...   \n",
       "579                 10                  99999                           1   \n",
       "562                  6                  99999                           0   \n",
       "561                 10                  99999                           0   \n",
       "659                  5                  99999                           0   \n",
       "1613                 8                  99999                           0   \n",
       "\n",
       "      Years_With_Curr_Manager  Date_Birth  Remote_Work  \n",
       "302                         8        1968         True  \n",
       "1545                        8        1968         True  \n",
       "1512                        3        1992         True  \n",
       "871                         3        1992         True  \n",
       "874                         7        1971        False  \n",
       "...                       ...         ...          ...  \n",
       "579                         6        1973        False  \n",
       "562                         4        1988        False  \n",
       "561                         9        1991         True  \n",
       "659                         4        1982        False  \n",
       "1613                        7        1977        False  \n",
       "\n",
       "[436 rows x 37 columns]"
      ]
     },
     "execution_count": 109,
     "metadata": {},
     "output_type": "execute_result"
    }
   ],
   "source": [
    "#Obtenemos un df de los duplicados\n",
    "df_duplicados = df[df['Employee_Number'].isin(df['Employee_Number'][df['Employee_Number'].duplicated()])].sort_values('Employee_Number')\n",
    "df_duplicados"
   ]
  },
  {
   "cell_type": "code",
   "execution_count": 110,
   "metadata": {},
   "outputs": [
    {
     "data": {
      "text/plain": [
       "416"
      ]
     },
     "execution_count": 110,
     "metadata": {},
     "output_type": "execute_result"
    }
   ],
   "source": [
    "#Comprobamos cuantos duplicados tenemos en 'Employee_Number' \n",
    "df['Employee_Number'].duplicated().sum()"
   ]
  },
  {
   "cell_type": "code",
   "execution_count": 111,
   "metadata": {},
   "outputs": [
    {
     "data": {
      "text/plain": [
       "398"
      ]
     },
     "execution_count": 111,
     "metadata": {},
     "output_type": "execute_result"
    }
   ],
   "source": [
    "#Comprobamos la cantidad que tenemos de 'Employee_Number'==99999\n",
    "df[df['Employee_Number']==99999].shape[0]"
   ]
  },
  {
   "cell_type": "markdown",
   "metadata": {},
   "source": [
    "### 2.1 Situación 1: Todas las columnas son iguales"
   ]
  },
  {
   "cell_type": "code",
   "execution_count": 112,
   "metadata": {},
   "outputs": [
    {
     "data": {
      "text/plain": [
       "0"
      ]
     },
     "execution_count": 112,
     "metadata": {},
     "output_type": "execute_result"
    }
   ],
   "source": [
    "#Comprobamos el número de duplicados en el DF\n",
    "df.duplicated().sum()"
   ]
  },
  {
   "cell_type": "code",
   "execution_count": 113,
   "metadata": {},
   "outputs": [],
   "source": [
    "#Eliminamos los duplicados \n",
    "df.drop_duplicates(keep='last',inplace=True)"
   ]
  },
  {
   "cell_type": "markdown",
   "metadata": {},
   "source": [
    "### 2.2 Situación 2:Columna 'Distance_From_Home' diferente"
   ]
  },
  {
   "cell_type": "code",
   "execution_count": 114,
   "metadata": {},
   "outputs": [
    {
     "data": {
      "text/plain": [
       "36"
      ]
     },
     "execution_count": 114,
     "metadata": {},
     "output_type": "execute_result"
    }
   ],
   "source": [
    "#Creamos la lista con el subset de columnas a analizar\n",
    "lista_columnas_2 = set(lista_col_names)\n",
    "lista_columnas_2.remove('Distance_From_Home')\n",
    "len(lista_columnas_2)"
   ]
  },
  {
   "cell_type": "code",
   "execution_count": 115,
   "metadata": {},
   "outputs": [
    {
     "data": {
      "text/plain": [
       "0"
      ]
     },
     "execution_count": 115,
     "metadata": {},
     "output_type": "execute_result"
    }
   ],
   "source": [
    "#Comprobamos el numero de duplicados en el subset\n",
    "df[lista_columnas_2].duplicated().sum()"
   ]
  },
  {
   "cell_type": "code",
   "execution_count": 116,
   "metadata": {},
   "outputs": [],
   "source": [
    "#Eliminamos los duplicados del subset\n",
    "df.drop_duplicates(subset=lista_columnas_2, keep='last',inplace=True)"
   ]
  },
  {
   "cell_type": "markdown",
   "metadata": {},
   "source": [
    "2.3 Situación 3: Columnas 'Remote_Work' diferente"
   ]
  },
  {
   "cell_type": "code",
   "execution_count": 117,
   "metadata": {},
   "outputs": [
    {
     "data": {
      "text/plain": [
       "36"
      ]
     },
     "execution_count": 117,
     "metadata": {},
     "output_type": "execute_result"
    }
   ],
   "source": [
    "#Creamos la lista con el subset de columnas a analizar\n",
    "lista_columnas_3 = set(lista_col_names)\n",
    "lista_columnas_3.remove('Remote_Work')\n",
    "len(lista_columnas_3)"
   ]
  },
  {
   "cell_type": "code",
   "execution_count": 118,
   "metadata": {},
   "outputs": [
    {
     "data": {
      "text/plain": [
       "0"
      ]
     },
     "execution_count": 118,
     "metadata": {},
     "output_type": "execute_result"
    }
   ],
   "source": [
    "#Comprobamos el numero de duplicados en el subset\n",
    "df[lista_columnas_3].duplicated().sum()"
   ]
  },
  {
   "cell_type": "code",
   "execution_count": 119,
   "metadata": {},
   "outputs": [],
   "source": [
    "#Eliminamos los duplicados del subset\n",
    "df.drop_duplicates(subset=lista_columnas_3,keep='last',inplace=True)"
   ]
  },
  {
   "cell_type": "markdown",
   "metadata": {},
   "source": [
    "2.4 Situación 4: Columna 'Hourly_Rate' == 'Not_Available'"
   ]
  },
  {
   "cell_type": "code",
   "execution_count": 141,
   "metadata": {},
   "outputs": [
    {
     "ename": "IndexingError",
     "evalue": "Unalignable boolean Series provided as indexer (index of the boolean Series and of the indexed object do not match).",
     "output_type": "error",
     "traceback": [
      "\u001b[0;31m---------------------------------------------------------------------------\u001b[0m",
      "\u001b[0;31mIndexingError\u001b[0m                             Traceback (most recent call last)",
      "\u001b[0;32m/var/folders/g3/22l1jqy501nblpbhtydz9b0w0000gn/T/ipykernel_1172/593198085.py\u001b[0m in \u001b[0;36m<module>\u001b[0;34m\u001b[0m\n\u001b[0;32m----> 1\u001b[0;31m \u001b[0mdf_duplicados\u001b[0m\u001b[0;34m.\u001b[0m\u001b[0mloc\u001b[0m\u001b[0;34m[\u001b[0m\u001b[0;34m:\u001b[0m\u001b[0;34m,\u001b[0m\u001b[0mdf_duplicados\u001b[0m\u001b[0;34m[\u001b[0m\u001b[0;34m'Hourly_Rate'\u001b[0m\u001b[0;34m]\u001b[0m\u001b[0;34m==\u001b[0m\u001b[0;36m99999\u001b[0m\u001b[0;34m]\u001b[0m\u001b[0;34m\u001b[0m\u001b[0;34m\u001b[0m\u001b[0m\n\u001b[0m",
      "\u001b[0;32m~/opt/anaconda3/lib/python3.9/site-packages/pandas/core/indexing.py\u001b[0m in \u001b[0;36m__getitem__\u001b[0;34m(self, key)\u001b[0m\n\u001b[1;32m    923\u001b[0m                 \u001b[0;32mwith\u001b[0m \u001b[0msuppress\u001b[0m\u001b[0;34m(\u001b[0m\u001b[0mKeyError\u001b[0m\u001b[0;34m,\u001b[0m \u001b[0mIndexError\u001b[0m\u001b[0;34m)\u001b[0m\u001b[0;34m:\u001b[0m\u001b[0;34m\u001b[0m\u001b[0;34m\u001b[0m\u001b[0m\n\u001b[1;32m    924\u001b[0m                     \u001b[0;32mreturn\u001b[0m \u001b[0mself\u001b[0m\u001b[0;34m.\u001b[0m\u001b[0mobj\u001b[0m\u001b[0;34m.\u001b[0m\u001b[0m_get_value\u001b[0m\u001b[0;34m(\u001b[0m\u001b[0;34m*\u001b[0m\u001b[0mkey\u001b[0m\u001b[0;34m,\u001b[0m \u001b[0mtakeable\u001b[0m\u001b[0;34m=\u001b[0m\u001b[0mself\u001b[0m\u001b[0;34m.\u001b[0m\u001b[0m_takeable\u001b[0m\u001b[0;34m)\u001b[0m\u001b[0;34m\u001b[0m\u001b[0;34m\u001b[0m\u001b[0m\n\u001b[0;32m--> 925\u001b[0;31m             \u001b[0;32mreturn\u001b[0m \u001b[0mself\u001b[0m\u001b[0;34m.\u001b[0m\u001b[0m_getitem_tuple\u001b[0m\u001b[0;34m(\u001b[0m\u001b[0mkey\u001b[0m\u001b[0;34m)\u001b[0m\u001b[0;34m\u001b[0m\u001b[0;34m\u001b[0m\u001b[0m\n\u001b[0m\u001b[1;32m    926\u001b[0m         \u001b[0;32melse\u001b[0m\u001b[0;34m:\u001b[0m\u001b[0;34m\u001b[0m\u001b[0;34m\u001b[0m\u001b[0m\n\u001b[1;32m    927\u001b[0m             \u001b[0;31m# we by definition only have the 0th axis\u001b[0m\u001b[0;34m\u001b[0m\u001b[0;34m\u001b[0m\u001b[0m\n",
      "\u001b[0;32m~/opt/anaconda3/lib/python3.9/site-packages/pandas/core/indexing.py\u001b[0m in \u001b[0;36m_getitem_tuple\u001b[0;34m(self, tup)\u001b[0m\n\u001b[1;32m   1107\u001b[0m             \u001b[0;32mreturn\u001b[0m \u001b[0mself\u001b[0m\u001b[0;34m.\u001b[0m\u001b[0m_multi_take\u001b[0m\u001b[0;34m(\u001b[0m\u001b[0mtup\u001b[0m\u001b[0;34m)\u001b[0m\u001b[0;34m\u001b[0m\u001b[0;34m\u001b[0m\u001b[0m\n\u001b[1;32m   1108\u001b[0m \u001b[0;34m\u001b[0m\u001b[0m\n\u001b[0;32m-> 1109\u001b[0;31m         \u001b[0;32mreturn\u001b[0m \u001b[0mself\u001b[0m\u001b[0;34m.\u001b[0m\u001b[0m_getitem_tuple_same_dim\u001b[0m\u001b[0;34m(\u001b[0m\u001b[0mtup\u001b[0m\u001b[0;34m)\u001b[0m\u001b[0;34m\u001b[0m\u001b[0;34m\u001b[0m\u001b[0m\n\u001b[0m\u001b[1;32m   1110\u001b[0m \u001b[0;34m\u001b[0m\u001b[0m\n\u001b[1;32m   1111\u001b[0m     \u001b[0;32mdef\u001b[0m \u001b[0m_get_label\u001b[0m\u001b[0;34m(\u001b[0m\u001b[0mself\u001b[0m\u001b[0;34m,\u001b[0m \u001b[0mlabel\u001b[0m\u001b[0;34m,\u001b[0m \u001b[0maxis\u001b[0m\u001b[0;34m:\u001b[0m \u001b[0mint\u001b[0m\u001b[0;34m)\u001b[0m\u001b[0;34m:\u001b[0m\u001b[0;34m\u001b[0m\u001b[0;34m\u001b[0m\u001b[0m\n",
      "\u001b[0;32m~/opt/anaconda3/lib/python3.9/site-packages/pandas/core/indexing.py\u001b[0m in \u001b[0;36m_getitem_tuple_same_dim\u001b[0;34m(self, tup)\u001b[0m\n\u001b[1;32m    804\u001b[0m                 \u001b[0;32mcontinue\u001b[0m\u001b[0;34m\u001b[0m\u001b[0;34m\u001b[0m\u001b[0m\n\u001b[1;32m    805\u001b[0m \u001b[0;34m\u001b[0m\u001b[0m\n\u001b[0;32m--> 806\u001b[0;31m             \u001b[0mretval\u001b[0m \u001b[0;34m=\u001b[0m \u001b[0mgetattr\u001b[0m\u001b[0;34m(\u001b[0m\u001b[0mretval\u001b[0m\u001b[0;34m,\u001b[0m \u001b[0mself\u001b[0m\u001b[0;34m.\u001b[0m\u001b[0mname\u001b[0m\u001b[0;34m)\u001b[0m\u001b[0;34m.\u001b[0m\u001b[0m_getitem_axis\u001b[0m\u001b[0;34m(\u001b[0m\u001b[0mkey\u001b[0m\u001b[0;34m,\u001b[0m \u001b[0maxis\u001b[0m\u001b[0;34m=\u001b[0m\u001b[0mi\u001b[0m\u001b[0;34m)\u001b[0m\u001b[0;34m\u001b[0m\u001b[0;34m\u001b[0m\u001b[0m\n\u001b[0m\u001b[1;32m    807\u001b[0m             \u001b[0;31m# We should never have retval.ndim < self.ndim, as that should\u001b[0m\u001b[0;34m\u001b[0m\u001b[0;34m\u001b[0m\u001b[0m\n\u001b[1;32m    808\u001b[0m             \u001b[0;31m#  be handled by the _getitem_lowerdim call above.\u001b[0m\u001b[0;34m\u001b[0m\u001b[0;34m\u001b[0m\u001b[0m\n",
      "\u001b[0;32m~/opt/anaconda3/lib/python3.9/site-packages/pandas/core/indexing.py\u001b[0m in \u001b[0;36m_getitem_axis\u001b[0;34m(self, key, axis)\u001b[0m\n\u001b[1;32m   1142\u001b[0m             \u001b[0;32mreturn\u001b[0m \u001b[0mself\u001b[0m\u001b[0;34m.\u001b[0m\u001b[0m_get_slice_axis\u001b[0m\u001b[0;34m(\u001b[0m\u001b[0mkey\u001b[0m\u001b[0;34m,\u001b[0m \u001b[0maxis\u001b[0m\u001b[0;34m=\u001b[0m\u001b[0maxis\u001b[0m\u001b[0;34m)\u001b[0m\u001b[0;34m\u001b[0m\u001b[0;34m\u001b[0m\u001b[0m\n\u001b[1;32m   1143\u001b[0m         \u001b[0;32melif\u001b[0m \u001b[0mcom\u001b[0m\u001b[0;34m.\u001b[0m\u001b[0mis_bool_indexer\u001b[0m\u001b[0;34m(\u001b[0m\u001b[0mkey\u001b[0m\u001b[0;34m)\u001b[0m\u001b[0;34m:\u001b[0m\u001b[0;34m\u001b[0m\u001b[0;34m\u001b[0m\u001b[0m\n\u001b[0;32m-> 1144\u001b[0;31m             \u001b[0;32mreturn\u001b[0m \u001b[0mself\u001b[0m\u001b[0;34m.\u001b[0m\u001b[0m_getbool_axis\u001b[0m\u001b[0;34m(\u001b[0m\u001b[0mkey\u001b[0m\u001b[0;34m,\u001b[0m \u001b[0maxis\u001b[0m\u001b[0;34m=\u001b[0m\u001b[0maxis\u001b[0m\u001b[0;34m)\u001b[0m\u001b[0;34m\u001b[0m\u001b[0;34m\u001b[0m\u001b[0m\n\u001b[0m\u001b[1;32m   1145\u001b[0m         \u001b[0;32melif\u001b[0m \u001b[0mis_list_like_indexer\u001b[0m\u001b[0;34m(\u001b[0m\u001b[0mkey\u001b[0m\u001b[0;34m)\u001b[0m\u001b[0;34m:\u001b[0m\u001b[0;34m\u001b[0m\u001b[0;34m\u001b[0m\u001b[0m\n\u001b[1;32m   1146\u001b[0m \u001b[0;34m\u001b[0m\u001b[0m\n",
      "\u001b[0;32m~/opt/anaconda3/lib/python3.9/site-packages/pandas/core/indexing.py\u001b[0m in \u001b[0;36m_getbool_axis\u001b[0;34m(self, key, axis)\u001b[0m\n\u001b[1;32m    946\u001b[0m         \u001b[0;31m# caller is responsible for ensuring non-None axis\u001b[0m\u001b[0;34m\u001b[0m\u001b[0;34m\u001b[0m\u001b[0m\n\u001b[1;32m    947\u001b[0m         \u001b[0mlabels\u001b[0m \u001b[0;34m=\u001b[0m \u001b[0mself\u001b[0m\u001b[0;34m.\u001b[0m\u001b[0mobj\u001b[0m\u001b[0;34m.\u001b[0m\u001b[0m_get_axis\u001b[0m\u001b[0;34m(\u001b[0m\u001b[0maxis\u001b[0m\u001b[0;34m)\u001b[0m\u001b[0;34m\u001b[0m\u001b[0;34m\u001b[0m\u001b[0m\n\u001b[0;32m--> 948\u001b[0;31m         \u001b[0mkey\u001b[0m \u001b[0;34m=\u001b[0m \u001b[0mcheck_bool_indexer\u001b[0m\u001b[0;34m(\u001b[0m\u001b[0mlabels\u001b[0m\u001b[0;34m,\u001b[0m \u001b[0mkey\u001b[0m\u001b[0;34m)\u001b[0m\u001b[0;34m\u001b[0m\u001b[0;34m\u001b[0m\u001b[0m\n\u001b[0m\u001b[1;32m    949\u001b[0m         \u001b[0minds\u001b[0m \u001b[0;34m=\u001b[0m \u001b[0mkey\u001b[0m\u001b[0;34m.\u001b[0m\u001b[0mnonzero\u001b[0m\u001b[0;34m(\u001b[0m\u001b[0;34m)\u001b[0m\u001b[0;34m[\u001b[0m\u001b[0;36m0\u001b[0m\u001b[0;34m]\u001b[0m\u001b[0;34m\u001b[0m\u001b[0;34m\u001b[0m\u001b[0m\n\u001b[1;32m    950\u001b[0m         \u001b[0;32mreturn\u001b[0m \u001b[0mself\u001b[0m\u001b[0;34m.\u001b[0m\u001b[0mobj\u001b[0m\u001b[0;34m.\u001b[0m\u001b[0m_take_with_is_copy\u001b[0m\u001b[0;34m(\u001b[0m\u001b[0minds\u001b[0m\u001b[0;34m,\u001b[0m \u001b[0maxis\u001b[0m\u001b[0;34m=\u001b[0m\u001b[0maxis\u001b[0m\u001b[0;34m)\u001b[0m\u001b[0;34m\u001b[0m\u001b[0;34m\u001b[0m\u001b[0m\n",
      "\u001b[0;32m~/opt/anaconda3/lib/python3.9/site-packages/pandas/core/indexing.py\u001b[0m in \u001b[0;36mcheck_bool_indexer\u001b[0;34m(index, key)\u001b[0m\n\u001b[1;32m   2386\u001b[0m         \u001b[0mmask\u001b[0m \u001b[0;34m=\u001b[0m \u001b[0misna\u001b[0m\u001b[0;34m(\u001b[0m\u001b[0mresult\u001b[0m\u001b[0;34m.\u001b[0m\u001b[0m_values\u001b[0m\u001b[0;34m)\u001b[0m\u001b[0;34m\u001b[0m\u001b[0;34m\u001b[0m\u001b[0m\n\u001b[1;32m   2387\u001b[0m         \u001b[0;32mif\u001b[0m \u001b[0mmask\u001b[0m\u001b[0;34m.\u001b[0m\u001b[0many\u001b[0m\u001b[0;34m(\u001b[0m\u001b[0;34m)\u001b[0m\u001b[0;34m:\u001b[0m\u001b[0;34m\u001b[0m\u001b[0;34m\u001b[0m\u001b[0m\n\u001b[0;32m-> 2388\u001b[0;31m             raise IndexingError(\n\u001b[0m\u001b[1;32m   2389\u001b[0m                 \u001b[0;34m\"Unalignable boolean Series provided as \"\u001b[0m\u001b[0;34m\u001b[0m\u001b[0;34m\u001b[0m\u001b[0m\n\u001b[1;32m   2390\u001b[0m                 \u001b[0;34m\"indexer (index of the boolean Series and of \"\u001b[0m\u001b[0;34m\u001b[0m\u001b[0;34m\u001b[0m\u001b[0m\n",
      "\u001b[0;31mIndexingError\u001b[0m: Unalignable boolean Series provided as indexer (index of the boolean Series and of the indexed object do not match)."
     ]
    }
   ],
   "source": [
    "df_duplicados.loc[:,df_duplicados['Hourly_Rate']==99999]"
   ]
  },
  {
   "cell_type": "code",
   "execution_count": null,
   "metadata": {},
   "outputs": [],
   "source": []
  },
  {
   "cell_type": "code",
   "execution_count": 131,
   "metadata": {},
   "outputs": [
    {
     "data": {
      "text/html": [
       "<div>\n",
       "<style scoped>\n",
       "    .dataframe tbody tr th:only-of-type {\n",
       "        vertical-align: middle;\n",
       "    }\n",
       "\n",
       "    .dataframe tbody tr th {\n",
       "        vertical-align: top;\n",
       "    }\n",
       "\n",
       "    .dataframe thead th {\n",
       "        text-align: right;\n",
       "    }\n",
       "</style>\n",
       "<table border=\"1\" class=\"dataframe\">\n",
       "  <thead>\n",
       "    <tr style=\"text-align: right;\">\n",
       "      <th></th>\n",
       "      <th>Age</th>\n",
       "      <th>Age_Group</th>\n",
       "      <th>Attrition</th>\n",
       "      <th>Business_Travel</th>\n",
       "      <th>Daily_Rate</th>\n",
       "      <th>Department</th>\n",
       "      <th>Distance_From_Home</th>\n",
       "      <th>Education</th>\n",
       "      <th>Education_Field</th>\n",
       "      <th>Employee_Number</th>\n",
       "      <th>Environment_Satisfaction</th>\n",
       "      <th>Gender</th>\n",
       "      <th>Hourly_Rate</th>\n",
       "      <th>Job_Involvement</th>\n",
       "      <th>Job_Level</th>\n",
       "      <th>Job_Role</th>\n",
       "      <th>Job_Satisfaction</th>\n",
       "      <th>Marital_Status</th>\n",
       "      <th>Monthly_Income</th>\n",
       "      <th>Monthly_Rate</th>\n",
       "      <th>Num_Companies_Worked</th>\n",
       "      <th>Over_18</th>\n",
       "      <th>Over_Time</th>\n",
       "      <th>Percent_Salary_Hike</th>\n",
       "      <th>Performance_Rating</th>\n",
       "      <th>Relationship_Satisfaction</th>\n",
       "      <th>Standard_Hours</th>\n",
       "      <th>Stock_Option_Level</th>\n",
       "      <th>Total_Working_Years</th>\n",
       "      <th>Training_Times_Last_Year</th>\n",
       "      <th>Work_Life_Balance</th>\n",
       "      <th>Years_At_Company</th>\n",
       "      <th>Years_In_Current_Role</th>\n",
       "      <th>Years_Since_Last_Promotion</th>\n",
       "      <th>Years_With_Curr_Manager</th>\n",
       "      <th>Date_Birth</th>\n",
       "      <th>Remote_Work</th>\n",
       "    </tr>\n",
       "  </thead>\n",
       "  <tbody>\n",
       "  </tbody>\n",
       "</table>\n",
       "</div>"
      ],
      "text/plain": [
       "Empty DataFrame\n",
       "Columns: [Age, Age_Group, Attrition, Business_Travel, Daily_Rate, Department, Distance_From_Home, Education, Education_Field, Employee_Number, Environment_Satisfaction, Gender, Hourly_Rate, Job_Involvement, Job_Level, Job_Role, Job_Satisfaction, Marital_Status, Monthly_Income, Monthly_Rate, Num_Companies_Worked, Over_18, Over_Time, Percent_Salary_Hike, Performance_Rating, Relationship_Satisfaction, Standard_Hours, Stock_Option_Level, Total_Working_Years, Training_Times_Last_Year, Work_Life_Balance, Years_At_Company, Years_In_Current_Role, Years_Since_Last_Promotion, Years_With_Curr_Manager, Date_Birth, Remote_Work]\n",
       "Index: []"
      ]
     },
     "execution_count": 131,
     "metadata": {},
     "output_type": "execute_result"
    }
   ],
   "source": [
    "df[df['Employee_Number'].isin(df['Employee_Number'][df['Employee_Number'].duplicated()])& df['Employee_Number']==927].sort_values('Employee_Number')"
   ]
  },
  {
   "cell_type": "code",
   "execution_count": 133,
   "metadata": {},
   "outputs": [
    {
     "data": {
      "text/html": [
       "<div>\n",
       "<style scoped>\n",
       "    .dataframe tbody tr th:only-of-type {\n",
       "        vertical-align: middle;\n",
       "    }\n",
       "\n",
       "    .dataframe tbody tr th {\n",
       "        vertical-align: top;\n",
       "    }\n",
       "\n",
       "    .dataframe thead th {\n",
       "        text-align: right;\n",
       "    }\n",
       "</style>\n",
       "<table border=\"1\" class=\"dataframe\">\n",
       "  <thead>\n",
       "    <tr style=\"text-align: right;\">\n",
       "      <th></th>\n",
       "      <th>Age</th>\n",
       "      <th>Age_Group</th>\n",
       "      <th>Attrition</th>\n",
       "      <th>Business_Travel</th>\n",
       "      <th>Daily_Rate</th>\n",
       "      <th>Department</th>\n",
       "      <th>Distance_From_Home</th>\n",
       "      <th>Education</th>\n",
       "      <th>Education_Field</th>\n",
       "      <th>Employee_Number</th>\n",
       "      <th>Environment_Satisfaction</th>\n",
       "      <th>Gender</th>\n",
       "      <th>Hourly_Rate</th>\n",
       "      <th>Job_Involvement</th>\n",
       "      <th>Job_Level</th>\n",
       "      <th>Job_Role</th>\n",
       "      <th>Job_Satisfaction</th>\n",
       "      <th>Marital_Status</th>\n",
       "      <th>Monthly_Income</th>\n",
       "      <th>Monthly_Rate</th>\n",
       "      <th>Num_Companies_Worked</th>\n",
       "      <th>Over_18</th>\n",
       "      <th>Over_Time</th>\n",
       "      <th>Percent_Salary_Hike</th>\n",
       "      <th>Performance_Rating</th>\n",
       "      <th>Relationship_Satisfaction</th>\n",
       "      <th>Standard_Hours</th>\n",
       "      <th>Stock_Option_Level</th>\n",
       "      <th>Total_Working_Years</th>\n",
       "      <th>Training_Times_Last_Year</th>\n",
       "      <th>Work_Life_Balance</th>\n",
       "      <th>Years_At_Company</th>\n",
       "      <th>Years_In_Current_Role</th>\n",
       "      <th>Years_Since_Last_Promotion</th>\n",
       "      <th>Years_With_Curr_Manager</th>\n",
       "      <th>Date_Birth</th>\n",
       "      <th>Remote_Work</th>\n",
       "    </tr>\n",
       "  </thead>\n",
       "  <tbody>\n",
       "  </tbody>\n",
       "</table>\n",
       "</div>"
      ],
      "text/plain": [
       "Empty DataFrame\n",
       "Columns: [Age, Age_Group, Attrition, Business_Travel, Daily_Rate, Department, Distance_From_Home, Education, Education_Field, Employee_Number, Environment_Satisfaction, Gender, Hourly_Rate, Job_Involvement, Job_Level, Job_Role, Job_Satisfaction, Marital_Status, Monthly_Income, Monthly_Rate, Num_Companies_Worked, Over_18, Over_Time, Percent_Salary_Hike, Performance_Rating, Relationship_Satisfaction, Standard_Hours, Stock_Option_Level, Total_Working_Years, Training_Times_Last_Year, Work_Life_Balance, Years_At_Company, Years_In_Current_Role, Years_Since_Last_Promotion, Years_With_Curr_Manager, Date_Birth, Remote_Work]\n",
       "Index: []"
      ]
     },
     "execution_count": 133,
     "metadata": {},
     "output_type": "execute_result"
    }
   ],
   "source": [
    "df[df['Employee_Number'].isin(df['Employee_Number'].duplicated())]"
   ]
  },
  {
   "cell_type": "code",
   "execution_count": 135,
   "metadata": {},
   "outputs": [
    {
     "data": {
      "text/plain": [
       "0       False\n",
       "1       False\n",
       "2       False\n",
       "3       False\n",
       "4       False\n",
       "        ...  \n",
       "1609    False\n",
       "1610    False\n",
       "1611    False\n",
       "1612    False\n",
       "1613    False\n",
       "Name: Employee_Number, Length: 1496, dtype: bool"
      ]
     },
     "execution_count": 135,
     "metadata": {},
     "output_type": "execute_result"
    }
   ],
   "source": []
  },
  {
   "cell_type": "markdown",
   "metadata": {},
   "source": [
    "2.5 Situación 5: Columna 'Distance_From_Home' == 'Environment_Satisfaction'"
   ]
  },
  {
   "cell_type": "code",
   "execution_count": null,
   "metadata": {},
   "outputs": [],
   "source": []
  },
  {
   "cell_type": "markdown",
   "metadata": {},
   "source": [
    "# TESTING 👇🏻👇🏻"
   ]
  }
 ],
 "metadata": {
  "kernelspec": {
   "display_name": "base",
   "language": "python",
   "name": "python3"
  },
  "language_info": {
   "codemirror_mode": {
    "name": "ipython",
    "version": 3
   },
   "file_extension": ".py",
   "mimetype": "text/x-python",
   "name": "python",
   "nbconvert_exporter": "python",
   "pygments_lexer": "ipython3",
   "version": "3.9.7"
  }
 },
 "nbformat": 4,
 "nbformat_minor": 2
}
