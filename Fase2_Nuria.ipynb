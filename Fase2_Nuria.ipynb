{
 "cells": [
  {
   "cell_type": "markdown",
   "metadata": {},
   "source": [
    "## Employee_Number\n",
    "- 1080 valores únicos (incluyendo el 0)\n",
    "- 534 duplicados\n",
    "- (1080 + 534 = 1614 totales)\n",
    "- ...................\n",
    "- dtype  -> object"
   ]
  },
  {
   "cell_type": "markdown",
   "metadata": {},
   "source": [
    "## Duplicados\n",
    "\n",
    "- 431 son 'Employee_Number'= 0\n",
    "- 104 en las siguientes situaciones\n",
    "\n"
   ]
  },
  {
   "cell_type": "markdown",
   "metadata": {},
   "source": [
    "- Situación 1: 34 employees\n",
    "    - Todas las columnas son iguales\n",
    "   \n",
    "    ➡️ Solución: eliminar el primer registro   \n",
    "\n",
    "- Situación 2: 0 employees\n",
    "    - Distance_From_Home diferentes\n",
    "   \n",
    "    ➡️ Solución: eliminar el primer registro   \n",
    "\n",
    "- Situación 3: 35 employees\n",
    "    - Remote_Work diferentes\n",
    "   \n",
    "    ➡️ Solución: eliminar el primer registro   \n",
    "\n",
    "- Situación 4: 35 employees\n",
    "    - Hourly_Rate -> Not Available\n",
    "   \n",
    "    ➡️ Solución: eliminar Hourly_Rate == Not Available     \n",
    "\n",
    "- Situación 5:\n",
    "    - Distance_From_Home diferentes\n",
    "    - (-1) * Distance_From_Home = Environment_Satisfaction\n",
    "   \n",
    "    ➡️ Solución: eliminar (-1) * Distance_From_Home = Environment_Satisfaction\n"
   ]
  },
  {
   "cell_type": "code",
   "execution_count": 1,
   "metadata": {},
   "outputs": [],
   "source": [
    "# Importamos librerias\n",
    "import pandas as pd\n",
    "import numpy as np\n",
    "\n",
    "# Ajustes de visualización\n",
    "pd.set_option('display.max_columns',None)\n",
    "#pd.set_option('display.max_rows',None)"
   ]
  },
  {
   "cell_type": "code",
   "execution_count": 2,
   "metadata": {},
   "outputs": [],
   "source": [
    "# Leemos el .csv y lo guardamos en una variable hrd\n",
    "hrd = pd.read_csv('HR RAW DATA_Nuria.csv', index_col=0)"
   ]
  },
  {
   "cell_type": "markdown",
   "metadata": {},
   "source": [
    "## Paso 1: Limpieza de datos"
   ]
  },
  {
   "cell_type": "markdown",
   "metadata": {},
   "source": [
    "### 1. Modificar nombre columnas\n"
   ]
  },
  {
   "cell_type": "code",
   "execution_count": 3,
   "metadata": {},
   "outputs": [],
   "source": [
    "# cambiamos el nombre a la columna 'employeenumber' a 'Employee_Number'\n",
    "hrd.rename(columns={'employeenumber':'Employee_Number'}, inplace=True)"
   ]
  },
  {
   "cell_type": "code",
   "execution_count": null,
   "metadata": {},
   "outputs": [],
   "source": [
    "# columna 14\n",
    "# Rename\n",
    "hrd = hrd.rename(columns={'EnvironmentSatisfaction': 'Environment_Satisfaction'})"
   ]
  },
  {
   "cell_type": "code",
   "execution_count": null,
   "metadata": {},
   "outputs": [],
   "source": [
    "#columna 16\n",
    "# Rename\n",
    "hrd = hrd.rename(columns={'HourlyRate': 'Hourly_Rate'})"
   ]
  },
  {
   "cell_type": "code",
   "execution_count": null,
   "metadata": {},
   "outputs": [],
   "source": [
    "# columna 17\n",
    "# Rename\n",
    "hrd = hrd.rename(columns={'JobInvolvement': 'Job_Involvement'})"
   ]
  },
  {
   "cell_type": "code",
   "execution_count": null,
   "metadata": {},
   "outputs": [],
   "source": [
    "# columna 18\n",
    "# Rename\n",
    "hrd = hrd.rename(columns={'JobLevel': 'Job_Level'})"
   ]
  },
  {
   "cell_type": "code",
   "execution_count": 3,
   "metadata": {},
   "outputs": [],
   "source": [
    "#columna 19\n",
    "# Rename\n",
    "hrd = hrd.rename(columns={'JobRole': 'Job_Role'})"
   ]
  },
  {
   "cell_type": "code",
   "execution_count": null,
   "metadata": {},
   "outputs": [],
   "source": [
    "#columna 20\n",
    "#Rename\n",
    "hrd = hrd.rename(columns={'JobSatisfaction': 'Job_Satisfaction'})"
   ]
  },
  {
   "cell_type": "code",
   "execution_count": null,
   "metadata": {},
   "outputs": [],
   "source": [
    "# columna 21\n",
    "# Rename\n",
    "hrd = hrd.rename(columns={'MaritalStatus': 'Marital_Status'})"
   ]
  },
  {
   "cell_type": "code",
   "execution_count": null,
   "metadata": {},
   "outputs": [],
   "source": [
    "# columna 22\n",
    "# Rename\n",
    "hrd = hrd.rename(columns={'MonthlyIncome': 'Monthly_Income'})"
   ]
  },
  {
   "cell_type": "code",
   "execution_count": null,
   "metadata": {},
   "outputs": [],
   "source": [
    "# columna 23\n",
    "# Rename\n",
    "hrd = hrd.rename(columns={'MonthlyRate': 'Monthly_Rate'})"
   ]
  },
  {
   "cell_type": "code",
   "execution_count": null,
   "metadata": {},
   "outputs": [],
   "source": [
    "# col 35 a 44\n",
    "#Cambio nombres de mis columnas\n",
    "hrd.rename(columns= {\"YearsAtCompany\": \"Years_At_Company\", \"YearsInCurrentRole\": \"Years_In_Current_Role\", \"YearsSinceLastPromotion\": \"Years_Since_Last_Promotion\", \"YEARSWITHCURRMANAGER\": \"Years_With_Curr_Manager\", \"DateBirth\": \"Date_Birth\", \"RemoteWork\": \"Remote_Work\"}, inplace= True)"
   ]
  },
  {
   "cell_type": "code",
   "execution_count": null,
   "metadata": {},
   "outputs": [],
   "source": [
    "hrd.rename(columns={'DailyRate': 'Daily_Rate'}, inplace=True)"
   ]
  },
  {
   "cell_type": "code",
   "execution_count": null,
   "metadata": {},
   "outputs": [],
   "source": [
    "hrd.rename(columns={'DistanceFromHome': 'Distance_From_Home'}, inplace=True)"
   ]
  },
  {
   "cell_type": "code",
   "execution_count": null,
   "metadata": {},
   "outputs": [],
   "source": [
    "hrd.rename(columns={'EducationField': 'Education_Field'}, inplace=True)"
   ]
  },
  {
   "cell_type": "markdown",
   "metadata": {},
   "source": [
    "2. Modificar valores en columnas"
   ]
  },
  {
   "cell_type": "code",
   "execution_count": 4,
   "metadata": {},
   "outputs": [],
   "source": [
    "# Convertimos a 'str' / Eliminamos los ',0' / Cambiamos los 'nan' por '0' / Convertimos a 'int'\n",
    "hrd['Employee_Number'] = hrd['Employee_Number'].astype(str).str.replace(',0','').str.replace('nan','0',case=False).astype(int)"
   ]
  },
  {
   "cell_type": "code",
   "execution_count": null,
   "metadata": {},
   "outputs": [],
   "source": [
    "\n",
    "\n",
    "# Convert to String\n",
    "hrd['Environment_Satisfaction'] = hrd['Environment_Satisfaction'].astype(str)\n",
    "\n",
    "#Changing values\n",
    "for i, val in enumerate(hrd['Environment_Satisfaction']):\n",
    "    if len(val) == 2:\n",
    "        # Add a dot in the middle\n",
    "       hrd.loc[i, 'Environment_Satisfaction'] = val[0] + '.' + val[1]\n",
    "    elif len(val) == 1:\n",
    "        # Add a zero at the end:\n",
    "       hrd.loc[i, 'Environment_Satisfaction'] = val + '.0'\n",
    "       \n",
    "#Convert to float\n",
    "hrd['Environment_Satisfaction'] = hrd['Environment_Satisfaction'].astype(float)\n",
    "\n",
    "# Checking valid values within the range of (1,5) in the column\n",
    "hrd[(hrd['Environment_Satisfaction'] >= 1) & (hrd['Environment_Satisfaction'] <= 5)].head(5)"
   ]
  },
  {
   "cell_type": "code",
   "execution_count": null,
   "metadata": {},
   "outputs": [],
   "source": [
    "# gender\n",
    "\n",
    "# Convert to String\n",
    "hrd['Gender'] = hrd['Gender'].astype(str)\n",
    "\n",
    "# Changing values\n",
    "hrd['Gender'] = hrd['Gender'].replace({'0': 'M', '1': 'F'})"
   ]
  },
  {
   "cell_type": "code",
   "execution_count": null,
   "metadata": {},
   "outputs": [],
   "source": [
    "# Removing 'Not Available'\n",
    "hrd['Hourly_Rate'] = hrd['Hourly_Rate'].replace({'Not Available': '99999'})\n",
    "\n",
    "# Convert to Integer\n",
    "hrd['Hourly_Rate'] = hrd['Hourly_Rate'].astype(int)"
   ]
  },
  {
   "cell_type": "code",
   "execution_count": null,
   "metadata": {},
   "outputs": [],
   "source": [
    "#Convert to Integer\n",
    "hrd['Job_Involvement'] = hrd['Job_Involvement'].astype(int)"
   ]
  },
  {
   "cell_type": "code",
   "execution_count": null,
   "metadata": {},
   "outputs": [],
   "source": [
    "# Sorting column values\n",
    "hrd['Job_Role'] = hrd['Job_Role'].str.title()"
   ]
  },
  {
   "cell_type": "code",
   "execution_count": null,
   "metadata": {},
   "outputs": [],
   "source": [
    "# Sorting column values\n",
    "hrd['Marital_Status'] = hrd['Marital_Status'].str.title()\n",
    "\n",
    "# Ortografic errors\n",
    "hrd['Marital_Status']= hrd['Marital_Status'].replace({'Marreid':'Married'})"
   ]
  },
  {
   "cell_type": "code",
   "execution_count": null,
   "metadata": {},
   "outputs": [],
   "source": [
    "\n",
    "\n",
    "# Replace (.)\n",
    "hrd['Monthly_Income'] = hrd['Monthly_Income'].str.replace(\",\", \".\")\n",
    "\n",
    "# Convert to float\n",
    "hrd['Monthly_Income'] = hrd['Monthly_Income'].astype(float)"
   ]
  },
  {
   "cell_type": "code",
   "execution_count": null,
   "metadata": {},
   "outputs": [],
   "source": [
    "#Convert to Integer\n",
    "hrd['Monthly_Rate'] = hrd['Monthly_Rate'].astype(float)"
   ]
  },
  {
   "cell_type": "code",
   "execution_count": null,
   "metadata": {},
   "outputs": [],
   "source": [
    "#Cambio a string para modificar sus valores\n",
    "hrd[\"Remote_Work\"] = hrd[\"Remote_Work\"].astype(\"str\")"
   ]
  },
  {
   "cell_type": "code",
   "execution_count": null,
   "metadata": {},
   "outputs": [],
   "source": [
    "#Unifico valores\n",
    "hrd[\"Remote_Work\"] = hrd[\"Remote_Work\"].str.replace(\"Yes\", \"True\") \n",
    "hrd['Remote_Work'] = hrd['Remote_Work'].replace({'1': True, '0': False, 'True': True, 'False': False})"
   ]
  },
  {
   "cell_type": "code",
   "execution_count": null,
   "metadata": {},
   "outputs": [],
   "source": [
    "#Convierto en booleana la columna\n",
    "hrd['Remote_Work'].astype(bool)"
   ]
  },
  {
   "cell_type": "code",
   "execution_count": null,
   "metadata": {},
   "outputs": [],
   "source": [
    "reemplazos = {\n",
    "    'forty-seven': 47,\n",
    "    'fifty-eight': 58,\n",
    "    'thirty-six': 36,\n",
    "    'fifty-five': 55,\n",
    "    'fifty-two': 52,\n",
    "    'thirty-one': 31,\n",
    "    'thirty': 30,\n",
    "    'twenty-six': 26,\n",
    "    'thirty-seven': 37,\n",
    "    'thirty-two': 32,\n",
    "    'twenty-four': 24\n",
    "}\n",
    "\n",
    "hrd['Age'] = hrd['Age'].replace(reemplazos)"
   ]
  },
  {
   "cell_type": "code",
   "execution_count": null,
   "metadata": {},
   "outputs": [],
   "source": [
    "hrd['Age'] = hrd['Age'].astype(int)\n",
    "print(hrd['Age'].dtypes)"
   ]
  },
  {
   "cell_type": "code",
   "execution_count": null,
   "metadata": {},
   "outputs": [],
   "source": [
    "hrd['Attrition'] = hrd['Attrition'].replace({'No': False, 'Yes': True})"
   ]
  },
  {
   "cell_type": "code",
   "execution_count": null,
   "metadata": {},
   "outputs": [],
   "source": [
    "hrd['Business_Travel'] = hrd['Business_Travel'].str.replace('-', '_')"
   ]
  },
  {
   "cell_type": "code",
   "execution_count": null,
   "metadata": {},
   "outputs": [],
   "source": [
    "hrd['Daily_Rate'] = hrd['Daily_Rate'].str.replace(',', '.').str.replace('$', '')\n",
    "hrd['Daily_Rate'] = hrd['Daily_Rate'].astype(float)"
   ]
  },
  {
   "cell_type": "code",
   "execution_count": null,
   "metadata": {},
   "outputs": [],
   "source": [
    "hrd['Department'] = hrd['Department'].str.strip()\n",
    "\n",
    "hrd['Distance_From_Home'] = hrd['Distance_From_Home'].astype(str)\n",
    "hrd['Distance_From_Home'] = hrd['Distance_From_Home'].str.replace('-', '')\n",
    "hrd['Distance_From_Home'] = hrd['Distance_From_Home'].astype(int)"
   ]
  },
  {
   "cell_type": "markdown",
   "metadata": {},
   "source": [
    "3. Eliminamar columnas"
   ]
  },
  {
   "cell_type": "code",
   "execution_count": 5,
   "metadata": {},
   "outputs": [],
   "source": [
    "# Remove  employeecount column\n",
    "hrd.drop(\"employeecount\", axis = 1, inplace = True)"
   ]
  },
  {
   "cell_type": "code",
   "execution_count": null,
   "metadata": {},
   "outputs": [],
   "source": [
    "#Borro columnas innecesarias\n",
    "hrd.drop([\"Salary\", \"RoleDepartament\", \"NUMBERCHILDREN\", \"SameAsMonthlyIncome\"], axis= 1, inplace=True )"
   ]
  },
  {
   "cell_type": "markdown",
   "metadata": {},
   "source": [
    "4. Crear columnas"
   ]
  },
  {
   "cell_type": "code",
   "execution_count": null,
   "metadata": {},
   "outputs": [],
   "source": [
    "##patri\n",
    "hrd.insert(1, 'Age_Group', '')"
   ]
  },
  {
   "cell_type": "code",
   "execution_count": 18,
   "metadata": {},
   "outputs": [],
   "source": []
  },
  {
   "cell_type": "markdown",
   "metadata": {},
   "source": [
    "## Paso 2: Identificamos los IDs que nos faltan"
   ]
  },
  {
   "cell_type": "code",
   "execution_count": 32,
   "metadata": {},
   "outputs": [
    {
     "data": {
      "text/plain": [
       "1079"
      ]
     },
     "execution_count": 32,
     "metadata": {},
     "output_type": "execute_result"
    }
   ],
   "source": [
    "# Creamos una lista con los 'Employee_Number' que tenemnos\n",
    "lista_id_iniciales = hrd['Employee_Number'].unique().tolist()\n",
    "lista_id_iniciales.remove(0)\n",
    "lista_id_iniciales.sort(reverse=False)\n",
    "len(lista_id_iniciales)"
   ]
  },
  {
   "cell_type": "code",
   "execution_count": 33,
   "metadata": {},
   "outputs": [
    {
     "data": {
      "text/plain": [
       "766"
      ]
     },
     "execution_count": 33,
     "metadata": {},
     "output_type": "execute_result"
    }
   ],
   "source": [
    "#Creamos una lista con los 'Employee_Number' que nos faltan utilizando un for loop y iterando por 'lista_id_iniciales'\n",
    "lista_id_faltantes=[id for id in range(1,hrd.shape[0]+1) if id not in lista_id_iniciales]\n",
    "len(lista_id_faltantes)"
   ]
  },
  {
   "cell_type": "markdown",
   "metadata": {},
   "source": [
    "## Paso 3:Eliminamos duplicados"
   ]
  },
  {
   "cell_type": "code",
   "execution_count": 66,
   "metadata": {},
   "outputs": [
    {
     "data": {
      "text/html": [
       "<div>\n",
       "<style scoped>\n",
       "    .dataframe tbody tr th:only-of-type {\n",
       "        vertical-align: middle;\n",
       "    }\n",
       "\n",
       "    .dataframe tbody tr th {\n",
       "        vertical-align: top;\n",
       "    }\n",
       "\n",
       "    .dataframe thead th {\n",
       "        text-align: right;\n",
       "    }\n",
       "</style>\n",
       "<table border=\"1\" class=\"dataframe\">\n",
       "  <thead>\n",
       "    <tr style=\"text-align: right;\">\n",
       "      <th></th>\n",
       "      <th>Age</th>\n",
       "      <th>Age_Group</th>\n",
       "      <th>Attrition</th>\n",
       "      <th>Business_Travel</th>\n",
       "      <th>Daily_Rate</th>\n",
       "      <th>Department</th>\n",
       "      <th>Distance_From_Home</th>\n",
       "      <th>Education</th>\n",
       "      <th>Education_Field</th>\n",
       "      <th>Employee_Number</th>\n",
       "      <th>Environment_Satisfaction</th>\n",
       "      <th>Gender</th>\n",
       "      <th>Hourly_Rate</th>\n",
       "      <th>Job_Involvement</th>\n",
       "      <th>Job_Level</th>\n",
       "      <th>Job_Role</th>\n",
       "      <th>Job_Satisfaction</th>\n",
       "      <th>Marital_Status</th>\n",
       "      <th>Monthly_Income</th>\n",
       "      <th>Monthly_Rate</th>\n",
       "      <th>NUMCOMPANIESWORKED</th>\n",
       "      <th>Over18</th>\n",
       "      <th>OverTime</th>\n",
       "      <th>PercentSalaryHike</th>\n",
       "      <th>PerformanceRating</th>\n",
       "      <th>RelationshipSatisfaction</th>\n",
       "      <th>StandardHours</th>\n",
       "      <th>StockOptionLevel</th>\n",
       "      <th>TOTALWORKINGYEARS</th>\n",
       "      <th>TrainingTimesLastYear</th>\n",
       "      <th>WORKLIFEBALANCE</th>\n",
       "      <th>Years_At_Company</th>\n",
       "      <th>Years_In_Current_Role</th>\n",
       "      <th>Years_Since_Last_Promotion</th>\n",
       "      <th>Years_With_Curr_Manager</th>\n",
       "      <th>Date_Birth</th>\n",
       "      <th>Remote_Work</th>\n",
       "    </tr>\n",
       "  </thead>\n",
       "  <tbody>\n",
       "    <tr>\n",
       "      <th>3</th>\n",
       "      <td>47</td>\n",
       "      <td></td>\n",
       "      <td>False</td>\n",
       "      <td>travel_rarely</td>\n",
       "      <td>359.0</td>\n",
       "      <td>NaN</td>\n",
       "      <td>2</td>\n",
       "      <td>4</td>\n",
       "      <td>Medical</td>\n",
       "      <td>0</td>\n",
       "      <td>1.0</td>\n",
       "      <td>F</td>\n",
       "      <td>82</td>\n",
       "      <td>3</td>\n",
       "      <td>4</td>\n",
       "      <td>Research Director</td>\n",
       "      <td>3</td>\n",
       "      <td>Married</td>\n",
       "      <td>17169.0</td>\n",
       "      <td>26703.0</td>\n",
       "      <td>3</td>\n",
       "      <td>Y</td>\n",
       "      <td>NaN</td>\n",
       "      <td>19</td>\n",
       "      <td>3,0</td>\n",
       "      <td>2</td>\n",
       "      <td>NaN</td>\n",
       "      <td>2</td>\n",
       "      <td>NaN</td>\n",
       "      <td>2</td>\n",
       "      <td>NaN</td>\n",
       "      <td>20</td>\n",
       "      <td>NaN</td>\n",
       "      <td>5</td>\n",
       "      <td>6</td>\n",
       "      <td>1976</td>\n",
       "      <td>False</td>\n",
       "    </tr>\n",
       "    <tr>\n",
       "      <th>1120</th>\n",
       "      <td>53</td>\n",
       "      <td></td>\n",
       "      <td>False</td>\n",
       "      <td>NaN</td>\n",
       "      <td>661.0</td>\n",
       "      <td>NaN</td>\n",
       "      <td>31</td>\n",
       "      <td>4</td>\n",
       "      <td>NaN</td>\n",
       "      <td>0</td>\n",
       "      <td>1.0</td>\n",
       "      <td>F</td>\n",
       "      <td>60</td>\n",
       "      <td>2</td>\n",
       "      <td>4</td>\n",
       "      <td>Manufacturing Director</td>\n",
       "      <td>3</td>\n",
       "      <td>Married</td>\n",
       "      <td>NaN</td>\n",
       "      <td>22308.0</td>\n",
       "      <td>4</td>\n",
       "      <td>Y</td>\n",
       "      <td>Yes</td>\n",
       "      <td>20</td>\n",
       "      <td>4,0</td>\n",
       "      <td>4</td>\n",
       "      <td>NaN</td>\n",
       "      <td>3</td>\n",
       "      <td>27,0</td>\n",
       "      <td>2</td>\n",
       "      <td>2,0</td>\n",
       "      <td>3</td>\n",
       "      <td>NaN</td>\n",
       "      <td>0</td>\n",
       "      <td>2</td>\n",
       "      <td>1970</td>\n",
       "      <td>True</td>\n",
       "    </tr>\n",
       "    <tr>\n",
       "      <th>1118</th>\n",
       "      <td>29</td>\n",
       "      <td></td>\n",
       "      <td>True</td>\n",
       "      <td>travel_rarely</td>\n",
       "      <td>428.0</td>\n",
       "      <td>NaN</td>\n",
       "      <td>9</td>\n",
       "      <td>3</td>\n",
       "      <td>NaN</td>\n",
       "      <td>0</td>\n",
       "      <td>2.0</td>\n",
       "      <td>F</td>\n",
       "      <td>99999</td>\n",
       "      <td>1</td>\n",
       "      <td>1</td>\n",
       "      <td>Sales Representative</td>\n",
       "      <td>2</td>\n",
       "      <td>Single</td>\n",
       "      <td>2760.0</td>\n",
       "      <td>14630.0</td>\n",
       "      <td>1</td>\n",
       "      <td>NaN</td>\n",
       "      <td>NaN</td>\n",
       "      <td>13</td>\n",
       "      <td>3,0</td>\n",
       "      <td>3</td>\n",
       "      <td>80,0</td>\n",
       "      <td>0</td>\n",
       "      <td>2,0</td>\n",
       "      <td>3</td>\n",
       "      <td>3,0</td>\n",
       "      <td>2</td>\n",
       "      <td>NaN</td>\n",
       "      <td>2</td>\n",
       "      <td>2</td>\n",
       "      <td>1994</td>\n",
       "      <td>True</td>\n",
       "    </tr>\n",
       "    <tr>\n",
       "      <th>1116</th>\n",
       "      <td>31</td>\n",
       "      <td></td>\n",
       "      <td>False</td>\n",
       "      <td>NaN</td>\n",
       "      <td>1003.0</td>\n",
       "      <td>NaN</td>\n",
       "      <td>5</td>\n",
       "      <td>3</td>\n",
       "      <td>NaN</td>\n",
       "      <td>0</td>\n",
       "      <td>1.0</td>\n",
       "      <td>M</td>\n",
       "      <td>51</td>\n",
       "      <td>3</td>\n",
       "      <td>2</td>\n",
       "      <td>Sales Executive</td>\n",
       "      <td>3</td>\n",
       "      <td>NaN</td>\n",
       "      <td>NaN</td>\n",
       "      <td>20943.0</td>\n",
       "      <td>1</td>\n",
       "      <td>NaN</td>\n",
       "      <td>No</td>\n",
       "      <td>19</td>\n",
       "      <td>3,0</td>\n",
       "      <td>3</td>\n",
       "      <td>NaN</td>\n",
       "      <td>1</td>\n",
       "      <td>6,0</td>\n",
       "      <td>3</td>\n",
       "      <td>3,0</td>\n",
       "      <td>5</td>\n",
       "      <td>NaN</td>\n",
       "      <td>0</td>\n",
       "      <td>2</td>\n",
       "      <td>1992</td>\n",
       "      <td>True</td>\n",
       "    </tr>\n",
       "    <tr>\n",
       "      <th>1115</th>\n",
       "      <td>30</td>\n",
       "      <td></td>\n",
       "      <td>True</td>\n",
       "      <td>travel_frequently</td>\n",
       "      <td>600.0</td>\n",
       "      <td>NaN</td>\n",
       "      <td>42</td>\n",
       "      <td>3</td>\n",
       "      <td>NaN</td>\n",
       "      <td>0</td>\n",
       "      <td>3.0</td>\n",
       "      <td>F</td>\n",
       "      <td>99999</td>\n",
       "      <td>2</td>\n",
       "      <td>1</td>\n",
       "      <td>Human Resources</td>\n",
       "      <td>4</td>\n",
       "      <td>Divorced</td>\n",
       "      <td>NaN</td>\n",
       "      <td>9732.0</td>\n",
       "      <td>6</td>\n",
       "      <td>Y</td>\n",
       "      <td>No</td>\n",
       "      <td>11</td>\n",
       "      <td>3,0</td>\n",
       "      <td>3</td>\n",
       "      <td>NaN</td>\n",
       "      <td>1</td>\n",
       "      <td>NaN</td>\n",
       "      <td>0</td>\n",
       "      <td>2,0</td>\n",
       "      <td>4</td>\n",
       "      <td>NaN</td>\n",
       "      <td>1</td>\n",
       "      <td>2</td>\n",
       "      <td>1993</td>\n",
       "      <td>False</td>\n",
       "    </tr>\n",
       "    <tr>\n",
       "      <th>...</th>\n",
       "      <td>...</td>\n",
       "      <td>...</td>\n",
       "      <td>...</td>\n",
       "      <td>...</td>\n",
       "      <td>...</td>\n",
       "      <td>...</td>\n",
       "      <td>...</td>\n",
       "      <td>...</td>\n",
       "      <td>...</td>\n",
       "      <td>...</td>\n",
       "      <td>...</td>\n",
       "      <td>...</td>\n",
       "      <td>...</td>\n",
       "      <td>...</td>\n",
       "      <td>...</td>\n",
       "      <td>...</td>\n",
       "      <td>...</td>\n",
       "      <td>...</td>\n",
       "      <td>...</td>\n",
       "      <td>...</td>\n",
       "      <td>...</td>\n",
       "      <td>...</td>\n",
       "      <td>...</td>\n",
       "      <td>...</td>\n",
       "      <td>...</td>\n",
       "      <td>...</td>\n",
       "      <td>...</td>\n",
       "      <td>...</td>\n",
       "      <td>...</td>\n",
       "      <td>...</td>\n",
       "      <td>...</td>\n",
       "      <td>...</td>\n",
       "      <td>...</td>\n",
       "      <td>...</td>\n",
       "      <td>...</td>\n",
       "      <td>...</td>\n",
       "      <td>...</td>\n",
       "    </tr>\n",
       "    <tr>\n",
       "      <th>1495</th>\n",
       "      <td>35</td>\n",
       "      <td></td>\n",
       "      <td>False</td>\n",
       "      <td>travel_frequently</td>\n",
       "      <td>NaN</td>\n",
       "      <td>NaN</td>\n",
       "      <td>4</td>\n",
       "      <td>4</td>\n",
       "      <td>Other</td>\n",
       "      <td>1185</td>\n",
       "      <td>4.0</td>\n",
       "      <td>M</td>\n",
       "      <td>47</td>\n",
       "      <td>2</td>\n",
       "      <td>1</td>\n",
       "      <td>Laboratory Technician</td>\n",
       "      <td>4</td>\n",
       "      <td>Married</td>\n",
       "      <td>2376.0</td>\n",
       "      <td>26537.0</td>\n",
       "      <td>1</td>\n",
       "      <td>NaN</td>\n",
       "      <td>NaN</td>\n",
       "      <td>13</td>\n",
       "      <td>3,0</td>\n",
       "      <td>2</td>\n",
       "      <td>NaN</td>\n",
       "      <td>1</td>\n",
       "      <td>2,0</td>\n",
       "      <td>2</td>\n",
       "      <td>4,0</td>\n",
       "      <td>2</td>\n",
       "      <td>NaN</td>\n",
       "      <td>2</td>\n",
       "      <td>2</td>\n",
       "      <td>1988</td>\n",
       "      <td>True</td>\n",
       "    </tr>\n",
       "    <tr>\n",
       "      <th>1502</th>\n",
       "      <td>30</td>\n",
       "      <td></td>\n",
       "      <td>False</td>\n",
       "      <td>NaN</td>\n",
       "      <td>1092.0</td>\n",
       "      <td>NaN</td>\n",
       "      <td>47</td>\n",
       "      <td>3</td>\n",
       "      <td>Medical</td>\n",
       "      <td>1816</td>\n",
       "      <td>4.7</td>\n",
       "      <td>F</td>\n",
       "      <td>64</td>\n",
       "      <td>3</td>\n",
       "      <td>3</td>\n",
       "      <td>Manufacturing Director</td>\n",
       "      <td>3</td>\n",
       "      <td>Single</td>\n",
       "      <td>9667.0</td>\n",
       "      <td>2739.0</td>\n",
       "      <td>9</td>\n",
       "      <td>Y</td>\n",
       "      <td>No</td>\n",
       "      <td>14</td>\n",
       "      <td>3,0</td>\n",
       "      <td>2</td>\n",
       "      <td>NaN</td>\n",
       "      <td>0</td>\n",
       "      <td>9,0</td>\n",
       "      <td>3</td>\n",
       "      <td>3,0</td>\n",
       "      <td>7</td>\n",
       "      <td>NaN</td>\n",
       "      <td>0</td>\n",
       "      <td>2</td>\n",
       "      <td>1993</td>\n",
       "      <td>False</td>\n",
       "    </tr>\n",
       "    <tr>\n",
       "      <th>460</th>\n",
       "      <td>30</td>\n",
       "      <td></td>\n",
       "      <td>False</td>\n",
       "      <td>NaN</td>\n",
       "      <td>1092.0</td>\n",
       "      <td>NaN</td>\n",
       "      <td>10</td>\n",
       "      <td>3</td>\n",
       "      <td>Medical</td>\n",
       "      <td>1816</td>\n",
       "      <td>1.0</td>\n",
       "      <td>F</td>\n",
       "      <td>64</td>\n",
       "      <td>3</td>\n",
       "      <td>3</td>\n",
       "      <td>Manufacturing Director</td>\n",
       "      <td>3</td>\n",
       "      <td>Single</td>\n",
       "      <td>9667.0</td>\n",
       "      <td>2739.0</td>\n",
       "      <td>9</td>\n",
       "      <td>Y</td>\n",
       "      <td>No</td>\n",
       "      <td>14</td>\n",
       "      <td>3,0</td>\n",
       "      <td>2</td>\n",
       "      <td>NaN</td>\n",
       "      <td>0</td>\n",
       "      <td>9,0</td>\n",
       "      <td>3</td>\n",
       "      <td>3,0</td>\n",
       "      <td>7</td>\n",
       "      <td>NaN</td>\n",
       "      <td>0</td>\n",
       "      <td>2</td>\n",
       "      <td>1993</td>\n",
       "      <td>False</td>\n",
       "    </tr>\n",
       "    <tr>\n",
       "      <th>1503</th>\n",
       "      <td>46</td>\n",
       "      <td></td>\n",
       "      <td>True</td>\n",
       "      <td>travel_rarely</td>\n",
       "      <td>261.0</td>\n",
       "      <td>NaN</td>\n",
       "      <td>21</td>\n",
       "      <td>2</td>\n",
       "      <td>Medical</td>\n",
       "      <td>1821</td>\n",
       "      <td>4.0</td>\n",
       "      <td>F</td>\n",
       "      <td>66</td>\n",
       "      <td>3</td>\n",
       "      <td>2</td>\n",
       "      <td>Healthcare Representative</td>\n",
       "      <td>2</td>\n",
       "      <td>Married</td>\n",
       "      <td>NaN</td>\n",
       "      <td>10842.0</td>\n",
       "      <td>4</td>\n",
       "      <td>NaN</td>\n",
       "      <td>No</td>\n",
       "      <td>22</td>\n",
       "      <td>4,0</td>\n",
       "      <td>4</td>\n",
       "      <td>NaN</td>\n",
       "      <td>1</td>\n",
       "      <td>13,0</td>\n",
       "      <td>2</td>\n",
       "      <td>4,0</td>\n",
       "      <td>9</td>\n",
       "      <td>7,0</td>\n",
       "      <td>3</td>\n",
       "      <td>7</td>\n",
       "      <td>1977</td>\n",
       "      <td>False</td>\n",
       "    </tr>\n",
       "    <tr>\n",
       "      <th>461</th>\n",
       "      <td>46</td>\n",
       "      <td></td>\n",
       "      <td>True</td>\n",
       "      <td>travel_rarely</td>\n",
       "      <td>261.0</td>\n",
       "      <td>NaN</td>\n",
       "      <td>19</td>\n",
       "      <td>2</td>\n",
       "      <td>Medical</td>\n",
       "      <td>1821</td>\n",
       "      <td>4.0</td>\n",
       "      <td>F</td>\n",
       "      <td>66</td>\n",
       "      <td>3</td>\n",
       "      <td>2</td>\n",
       "      <td>Healthcare Representative</td>\n",
       "      <td>2</td>\n",
       "      <td>Married</td>\n",
       "      <td>NaN</td>\n",
       "      <td>10842.0</td>\n",
       "      <td>4</td>\n",
       "      <td>NaN</td>\n",
       "      <td>No</td>\n",
       "      <td>22</td>\n",
       "      <td>4,0</td>\n",
       "      <td>4</td>\n",
       "      <td>NaN</td>\n",
       "      <td>1</td>\n",
       "      <td>13,0</td>\n",
       "      <td>2</td>\n",
       "      <td>4,0</td>\n",
       "      <td>9</td>\n",
       "      <td>7,0</td>\n",
       "      <td>3</td>\n",
       "      <td>7</td>\n",
       "      <td>1977</td>\n",
       "      <td>False</td>\n",
       "    </tr>\n",
       "  </tbody>\n",
       "</table>\n",
       "<p>471 rows × 37 columns</p>\n",
       "</div>"
      ],
      "text/plain": [
       "      Age Age_Group  Attrition    Business_Travel  Daily_Rate Department  \\\n",
       "3      47                False      travel_rarely       359.0        NaN   \n",
       "1120   53                False                NaN       661.0        NaN   \n",
       "1118   29                 True      travel_rarely       428.0        NaN   \n",
       "1116   31                False                NaN      1003.0        NaN   \n",
       "1115   30                 True  travel_frequently       600.0        NaN   \n",
       "...   ...       ...        ...                ...         ...        ...   \n",
       "1495   35                False  travel_frequently         NaN        NaN   \n",
       "1502   30                False                NaN      1092.0        NaN   \n",
       "460    30                False                NaN      1092.0        NaN   \n",
       "1503   46                 True      travel_rarely       261.0        NaN   \n",
       "461    46                 True      travel_rarely       261.0        NaN   \n",
       "\n",
       "      Distance_From_Home  Education Education_Field  Employee_Number  \\\n",
       "3                      2          4         Medical                0   \n",
       "1120                  31          4             NaN                0   \n",
       "1118                   9          3             NaN                0   \n",
       "1116                   5          3             NaN                0   \n",
       "1115                  42          3             NaN                0   \n",
       "...                  ...        ...             ...              ...   \n",
       "1495                   4          4           Other             1185   \n",
       "1502                  47          3         Medical             1816   \n",
       "460                   10          3         Medical             1816   \n",
       "1503                  21          2         Medical             1821   \n",
       "461                   19          2         Medical             1821   \n",
       "\n",
       "      Environment_Satisfaction Gender  Hourly_Rate  Job_Involvement  \\\n",
       "3                          1.0      F           82                3   \n",
       "1120                       1.0      F           60                2   \n",
       "1118                       2.0      F        99999                1   \n",
       "1116                       1.0      M           51                3   \n",
       "1115                       3.0      F        99999                2   \n",
       "...                        ...    ...          ...              ...   \n",
       "1495                       4.0      M           47                2   \n",
       "1502                       4.7      F           64                3   \n",
       "460                        1.0      F           64                3   \n",
       "1503                       4.0      F           66                3   \n",
       "461                        4.0      F           66                3   \n",
       "\n",
       "      Job_Level                     Job_Role  Job_Satisfaction Marital_Status  \\\n",
       "3             4           Research Director                  3        Married   \n",
       "1120          4      Manufacturing Director                  3        Married   \n",
       "1118          1        Sales Representative                  2         Single   \n",
       "1116          2             Sales Executive                  3            NaN   \n",
       "1115          1             Human Resources                  4       Divorced   \n",
       "...         ...                          ...               ...            ...   \n",
       "1495          1       Laboratory Technician                  4        Married   \n",
       "1502          3      Manufacturing Director                  3         Single   \n",
       "460           3      Manufacturing Director                  3         Single   \n",
       "1503          2   Healthcare Representative                  2        Married   \n",
       "461           2   Healthcare Representative                  2        Married   \n",
       "\n",
       "      Monthly_Income  Monthly_Rate  NUMCOMPANIESWORKED Over18 OverTime  \\\n",
       "3            17169.0       26703.0                   3      Y      NaN   \n",
       "1120             NaN       22308.0                   4      Y      Yes   \n",
       "1118          2760.0       14630.0                   1    NaN      NaN   \n",
       "1116             NaN       20943.0                   1    NaN       No   \n",
       "1115             NaN        9732.0                   6      Y       No   \n",
       "...              ...           ...                 ...    ...      ...   \n",
       "1495          2376.0       26537.0                   1    NaN      NaN   \n",
       "1502          9667.0        2739.0                   9      Y       No   \n",
       "460           9667.0        2739.0                   9      Y       No   \n",
       "1503             NaN       10842.0                   4    NaN       No   \n",
       "461              NaN       10842.0                   4    NaN       No   \n",
       "\n",
       "      PercentSalaryHike PerformanceRating  RelationshipSatisfaction  \\\n",
       "3                    19               3,0                         2   \n",
       "1120                 20               4,0                         4   \n",
       "1118                 13               3,0                         3   \n",
       "1116                 19               3,0                         3   \n",
       "1115                 11               3,0                         3   \n",
       "...                 ...               ...                       ...   \n",
       "1495                 13               3,0                         2   \n",
       "1502                 14               3,0                         2   \n",
       "460                  14               3,0                         2   \n",
       "1503                 22               4,0                         4   \n",
       "461                  22               4,0                         4   \n",
       "\n",
       "     StandardHours  StockOptionLevel TOTALWORKINGYEARS  TrainingTimesLastYear  \\\n",
       "3              NaN                 2               NaN                      2   \n",
       "1120           NaN                 3              27,0                      2   \n",
       "1118          80,0                 0               2,0                      3   \n",
       "1116           NaN                 1               6,0                      3   \n",
       "1115           NaN                 1               NaN                      0   \n",
       "...            ...               ...               ...                    ...   \n",
       "1495           NaN                 1               2,0                      2   \n",
       "1502           NaN                 0               9,0                      3   \n",
       "460            NaN                 0               9,0                      3   \n",
       "1503           NaN                 1              13,0                      2   \n",
       "461            NaN                 1              13,0                      2   \n",
       "\n",
       "     WORKLIFEBALANCE  Years_At_Company Years_In_Current_Role  \\\n",
       "3                NaN                20                   NaN   \n",
       "1120             2,0                 3                   NaN   \n",
       "1118             3,0                 2                   NaN   \n",
       "1116             3,0                 5                   NaN   \n",
       "1115             2,0                 4                   NaN   \n",
       "...              ...               ...                   ...   \n",
       "1495             4,0                 2                   NaN   \n",
       "1502             3,0                 7                   NaN   \n",
       "460              3,0                 7                   NaN   \n",
       "1503             4,0                 9                   7,0   \n",
       "461              4,0                 9                   7,0   \n",
       "\n",
       "      Years_Since_Last_Promotion  Years_With_Curr_Manager  Date_Birth  \\\n",
       "3                              5                        6        1976   \n",
       "1120                           0                        2        1970   \n",
       "1118                           2                        2        1994   \n",
       "1116                           0                        2        1992   \n",
       "1115                           1                        2        1993   \n",
       "...                          ...                      ...         ...   \n",
       "1495                           2                        2        1988   \n",
       "1502                           0                        2        1993   \n",
       "460                            0                        2        1993   \n",
       "1503                           3                        7        1977   \n",
       "461                            3                        7        1977   \n",
       "\n",
       "      Remote_Work  \n",
       "3           False  \n",
       "1120         True  \n",
       "1118         True  \n",
       "1116         True  \n",
       "1115        False  \n",
       "...           ...  \n",
       "1495         True  \n",
       "1502        False  \n",
       "460         False  \n",
       "1503        False  \n",
       "461         False  \n",
       "\n",
       "[471 rows x 37 columns]"
      ]
     },
     "execution_count": 66,
     "metadata": {},
     "output_type": "execute_result"
    }
   ],
   "source": [
    "#Obtenemos un hrd de los duplicados\n",
    "df_duplicados = hrd[hrd['Employee_Number'].isin(hrd['Employee_Number'][hrd['Employee_Number'].duplicated()])].sort_values('Employee_Number')\n",
    "df_duplicados"
   ]
  },
  {
   "cell_type": "code",
   "execution_count": 67,
   "metadata": {},
   "outputs": [
    {
     "data": {
      "text/plain": [
       "401"
      ]
     },
     "execution_count": 67,
     "metadata": {},
     "output_type": "execute_result"
    }
   ],
   "source": [
    "#Comprobamos la cantidad que tenemos de 'Employee_Number'==0\n",
    "df_duplicados[df_duplicados['Employee_Number']==0].shape[0]"
   ]
  },
  {
   "cell_type": "code",
   "execution_count": 36,
   "metadata": {},
   "outputs": [
    {
     "data": {
      "text/plain": [
       "(208, 37)"
      ]
     },
     "execution_count": 36,
     "metadata": {},
     "output_type": "execute_result"
    }
   ],
   "source": [
    "# #Eliminamos todos los 'Employee_Number'==0 del df_duplicados\n",
    "# df_duplicados=df_duplicados[df_duplicados['Employee_Number']!=0]\n",
    "# df_duplicados.shape"
   ]
  },
  {
   "cell_type": "code",
   "execution_count": 13,
   "metadata": {},
   "outputs": [
    {
     "data": {
      "text/plain": [
       "104"
      ]
     },
     "execution_count": 13,
     "metadata": {},
     "output_type": "execute_result"
    }
   ],
   "source": [
    "# #Obtenemos la lista de los 'Employee_Number' del DF de diplicados sin 'Employee_Number'==0\n",
    "# lista_id_duplicados = df_duplicados['Employee_Number'].unique().tolist()\n",
    "# lista_id_duplicados.sort(reverse=False)\n",
    "# len(lista_id_duplicados)"
   ]
  },
  {
   "cell_type": "code",
   "execution_count": 68,
   "metadata": {},
   "outputs": [
    {
     "data": {
      "text/plain": [
       "0"
      ]
     },
     "execution_count": 68,
     "metadata": {},
     "output_type": "execute_result"
    }
   ],
   "source": [
    "hrd.duplicated().sum()"
   ]
  },
  {
   "cell_type": "code",
   "execution_count": 75,
   "metadata": {},
   "outputs": [
    {
     "data": {
      "text/plain": [
       "422"
      ]
     },
     "execution_count": 75,
     "metadata": {},
     "output_type": "execute_result"
    }
   ],
   "source": [
    "hrd['Employee_Number'].duplicated().sum()"
   ]
  },
  {
   "cell_type": "code",
   "execution_count": 70,
   "metadata": {},
   "outputs": [],
   "source": [
    "#Situacion 1\n",
    "hrd.drop_duplicates(keep='last',inplace=True)"
   ]
  },
  {
   "cell_type": "code",
   "execution_count": 71,
   "metadata": {},
   "outputs": [],
   "source": [
    "#Situacion 2\n",
    "lista_columnas = hrd.columns.tolist()\n",
    "lista_columnas.remove('Distance_From_Home')\n",
    "hrd.drop_duplicates(subset=lista_columnas,keep='last',inplace=True)"
   ]
  },
  {
   "cell_type": "code",
   "execution_count": 73,
   "metadata": {},
   "outputs": [],
   "source": [
    "#situacion 3\n",
    "lista_columnas = hrd.columns.tolist()\n",
    "lista_columnas.remove('Remote_Work')\n",
    "hrd.drop_duplicates(subset=lista_columnas,keep='last',inplace=True)"
   ]
  },
  {
   "cell_type": "markdown",
   "metadata": {},
   "source": [
    "# TESTING 👇🏻👇🏻"
   ]
  }
 ],
 "metadata": {
  "kernelspec": {
   "display_name": "base",
   "language": "python",
   "name": "python3"
  },
  "language_info": {
   "codemirror_mode": {
    "name": "ipython",
    "version": 3
   },
   "file_extension": ".py",
   "mimetype": "text/x-python",
   "name": "python",
   "nbconvert_exporter": "python",
   "pygments_lexer": "ipython3",
   "version": "3.9.7"
  }
 },
 "nbformat": 4,
 "nbformat_minor": 2
}
