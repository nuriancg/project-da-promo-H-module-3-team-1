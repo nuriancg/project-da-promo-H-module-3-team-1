{
 "cells": [
  {
   "cell_type": "markdown",
   "metadata": {},
   "source": [
    " - #### En este Notebook he aplicado las 5 posibles soluciones para el problema de employeenumber duplicados. Ha devuelto un  df sin duplicados en employeenumber (No quiere decir que esté bien?). \n",
    " - #### Nota: No se han cambiado nombres a columnas ni se ha hecho limpieza. Es sólo para probrar las 5 posibles soluciones sobre columna employeenumber."
   ]
  },
  {
   "cell_type": "code",
   "execution_count": 1,
   "metadata": {},
   "outputs": [],
   "source": [
    "import pandas as pd\n",
    "import numpy as np\n",
    "pd.set_option('display.max_columns', None)"
   ]
  },
  {
   "cell_type": "code",
   "execution_count": 2,
   "metadata": {},
   "outputs": [
    {
     "data": {
      "text/html": [
       "<div>\n",
       "<style scoped>\n",
       "    .dataframe tbody tr th:only-of-type {\n",
       "        vertical-align: middle;\n",
       "    }\n",
       "\n",
       "    .dataframe tbody tr th {\n",
       "        vertical-align: top;\n",
       "    }\n",
       "\n",
       "    .dataframe thead th {\n",
       "        text-align: right;\n",
       "    }\n",
       "</style>\n",
       "<table border=\"1\" class=\"dataframe\">\n",
       "  <thead>\n",
       "    <tr style=\"text-align: right;\">\n",
       "      <th></th>\n",
       "      <th>Age</th>\n",
       "      <th>Attrition</th>\n",
       "      <th>BusinessTravel</th>\n",
       "      <th>DailyRate</th>\n",
       "      <th>Department</th>\n",
       "      <th>DistanceFromHome</th>\n",
       "      <th>Education</th>\n",
       "      <th>EducationField</th>\n",
       "      <th>employeecount</th>\n",
       "      <th>employeenumber</th>\n",
       "      <th>EnvironmentSatisfaction</th>\n",
       "      <th>Gender</th>\n",
       "      <th>HourlyRate</th>\n",
       "      <th>JobInvolvement</th>\n",
       "      <th>JobLevel</th>\n",
       "      <th>JobRole</th>\n",
       "      <th>JobSatisfaction</th>\n",
       "      <th>MaritalStatus</th>\n",
       "      <th>MonthlyIncome</th>\n",
       "      <th>MonthlyRate</th>\n",
       "      <th>NUMCOMPANIESWORKED</th>\n",
       "      <th>Over18</th>\n",
       "      <th>OverTime</th>\n",
       "      <th>PercentSalaryHike</th>\n",
       "      <th>PerformanceRating</th>\n",
       "      <th>RelationshipSatisfaction</th>\n",
       "      <th>StandardHours</th>\n",
       "      <th>StockOptionLevel</th>\n",
       "      <th>TOTALWORKINGYEARS</th>\n",
       "      <th>TrainingTimesLastYear</th>\n",
       "      <th>WORKLIFEBALANCE</th>\n",
       "      <th>YearsAtCompany</th>\n",
       "      <th>YearsInCurrentRole</th>\n",
       "      <th>YearsSinceLastPromotion</th>\n",
       "      <th>YEARSWITHCURRMANAGER</th>\n",
       "      <th>SameAsMonthlyIncome</th>\n",
       "      <th>DateBirth</th>\n",
       "      <th>Salary</th>\n",
       "      <th>RoleDepartament</th>\n",
       "      <th>NUMBERCHILDREN</th>\n",
       "      <th>RemoteWork</th>\n",
       "    </tr>\n",
       "  </thead>\n",
       "  <tbody>\n",
       "    <tr>\n",
       "      <th>0</th>\n",
       "      <td>51</td>\n",
       "      <td>No</td>\n",
       "      <td>NaN</td>\n",
       "      <td>684,0$</td>\n",
       "      <td>NaN</td>\n",
       "      <td>6</td>\n",
       "      <td>3</td>\n",
       "      <td>NaN</td>\n",
       "      <td>1</td>\n",
       "      <td>162,0</td>\n",
       "      <td>1</td>\n",
       "      <td>0</td>\n",
       "      <td>51</td>\n",
       "      <td>3</td>\n",
       "      <td>5</td>\n",
       "      <td>resEArch DIREcToR</td>\n",
       "      <td>3</td>\n",
       "      <td>NaN</td>\n",
       "      <td>19537,0</td>\n",
       "      <td>6462</td>\n",
       "      <td>7</td>\n",
       "      <td>Y</td>\n",
       "      <td>No</td>\n",
       "      <td>13</td>\n",
       "      <td>3,0</td>\n",
       "      <td>3</td>\n",
       "      <td>NaN</td>\n",
       "      <td>0</td>\n",
       "      <td>NaN</td>\n",
       "      <td>5</td>\n",
       "      <td>3,0</td>\n",
       "      <td>20</td>\n",
       "      <td>NaN</td>\n",
       "      <td>15</td>\n",
       "      <td>15</td>\n",
       "      <td>19537,0</td>\n",
       "      <td>1972</td>\n",
       "      <td>1000000000$</td>\n",
       "      <td>NaN</td>\n",
       "      <td>NaN</td>\n",
       "      <td>Yes</td>\n",
       "    </tr>\n",
       "    <tr>\n",
       "      <th>1</th>\n",
       "      <td>52</td>\n",
       "      <td>No</td>\n",
       "      <td>NaN</td>\n",
       "      <td>699,0$</td>\n",
       "      <td>NaN</td>\n",
       "      <td>1</td>\n",
       "      <td>4</td>\n",
       "      <td>Life Sciences</td>\n",
       "      <td>1</td>\n",
       "      <td>259,0</td>\n",
       "      <td>3</td>\n",
       "      <td>0</td>\n",
       "      <td>65</td>\n",
       "      <td>2</td>\n",
       "      <td>5</td>\n",
       "      <td>ManAGeR</td>\n",
       "      <td>3</td>\n",
       "      <td>NaN</td>\n",
       "      <td>19999,0</td>\n",
       "      <td>5678</td>\n",
       "      <td>0</td>\n",
       "      <td>NaN</td>\n",
       "      <td>NaN</td>\n",
       "      <td>14</td>\n",
       "      <td>3,0</td>\n",
       "      <td>1</td>\n",
       "      <td>NaN</td>\n",
       "      <td>1</td>\n",
       "      <td>34,0</td>\n",
       "      <td>5</td>\n",
       "      <td>3,0</td>\n",
       "      <td>33</td>\n",
       "      <td>NaN</td>\n",
       "      <td>11</td>\n",
       "      <td>9</td>\n",
       "      <td>19999,0</td>\n",
       "      <td>1971</td>\n",
       "      <td>1000000000$</td>\n",
       "      <td>NaN</td>\n",
       "      <td>NaN</td>\n",
       "      <td>1</td>\n",
       "    </tr>\n",
       "  </tbody>\n",
       "</table>\n",
       "</div>"
      ],
      "text/plain": [
       "  Age Attrition BusinessTravel DailyRate Department  DistanceFromHome  \\\n",
       "0  51        No            NaN    684,0$        NaN                 6   \n",
       "1  52        No            NaN    699,0$        NaN                 1   \n",
       "\n",
       "   Education EducationField  employeecount employeenumber  \\\n",
       "0          3            NaN              1          162,0   \n",
       "1          4  Life Sciences              1          259,0   \n",
       "\n",
       "   EnvironmentSatisfaction  Gender HourlyRate  JobInvolvement  JobLevel  \\\n",
       "0                        1       0         51               3         5   \n",
       "1                        3       0         65               2         5   \n",
       "\n",
       "               JobRole  JobSatisfaction MaritalStatus MonthlyIncome  \\\n",
       "0   resEArch DIREcToR                 3           NaN       19537,0   \n",
       "1             ManAGeR                 3           NaN       19999,0   \n",
       "\n",
       "   MonthlyRate  NUMCOMPANIESWORKED Over18 OverTime  PercentSalaryHike  \\\n",
       "0         6462                   7      Y       No                 13   \n",
       "1         5678                   0    NaN      NaN                 14   \n",
       "\n",
       "  PerformanceRating  RelationshipSatisfaction StandardHours  StockOptionLevel  \\\n",
       "0               3,0                         3           NaN                 0   \n",
       "1               3,0                         1           NaN                 1   \n",
       "\n",
       "  TOTALWORKINGYEARS  TrainingTimesLastYear WORKLIFEBALANCE  YearsAtCompany  \\\n",
       "0               NaN                      5             3,0              20   \n",
       "1              34,0                      5             3,0              33   \n",
       "\n",
       "  YearsInCurrentRole  YearsSinceLastPromotion  YEARSWITHCURRMANAGER  \\\n",
       "0                NaN                       15                    15   \n",
       "1                NaN                       11                     9   \n",
       "\n",
       "  SameAsMonthlyIncome  DateBirth       Salary RoleDepartament  NUMBERCHILDREN  \\\n",
       "0             19537,0       1972  1000000000$             NaN             NaN   \n",
       "1             19999,0       1971  1000000000$             NaN             NaN   \n",
       "\n",
       "  RemoteWork  \n",
       "0        Yes  \n",
       "1          1  "
      ]
     },
     "execution_count": 2,
     "metadata": {},
     "output_type": "execute_result"
    }
   ],
   "source": [
    "df= pd.read_csv('HR RAW DATA.csv', index_col=0)\n",
    "df.head(2)"
   ]
  },
  {
   "cell_type": "markdown",
   "metadata": {},
   "source": [
    "#### Verificar el numero de  valores únicos y duplicados en 'employeenumber':"
   ]
  },
  {
   "cell_type": "code",
   "execution_count": 3,
   "metadata": {},
   "outputs": [
    {
     "name": "stdout",
     "output_type": "stream",
     "text": [
      "Valores únicos en employeenumber: 1079\n",
      "Duplicados en employeenumber: 534\n"
     ]
    }
   ],
   "source": [
    "valores_unicos = df['employeenumber'].nunique()\n",
    "duplicados = df.duplicated(subset=['employeenumber']).sum()\n",
    "\n",
    "print(f\"Valores únicos en employeenumber: {valores_unicos}\")\n",
    "print(f\"Duplicados en employeenumber: {duplicados}\")\n"
   ]
  },
  {
   "cell_type": "markdown",
   "metadata": {},
   "source": [
    "#### Situación 1: Todas las columnas son iguales. Vamos a identificar y eliminar los duplicados donde todas las columnas son iguales."
   ]
  },
  {
   "cell_type": "code",
   "execution_count": 4,
   "metadata": {},
   "outputs": [
    {
     "name": "stdout",
     "output_type": "stream",
     "text": [
      "Situación 1 (todas las columnas iguales): 0\n",
      "Empty DataFrame\n",
      "Columns: [Age, Attrition, BusinessTravel, DailyRate, Department, DistanceFromHome, Education, EducationField, employeecount, employeenumber, EnvironmentSatisfaction, Gender, HourlyRate, JobInvolvement, JobLevel, JobRole, JobSatisfaction, MaritalStatus, MonthlyIncome, MonthlyRate, NUMCOMPANIESWORKED, Over18, OverTime, PercentSalaryHike, PerformanceRating, RelationshipSatisfaction, StandardHours, StockOptionLevel, TOTALWORKINGYEARS, TrainingTimesLastYear, WORKLIFEBALANCE, YearsAtCompany, YearsInCurrentRole, YearsSinceLastPromotion, YEARSWITHCURRMANAGER, SameAsMonthlyIncome, DateBirth, Salary, RoleDepartament, NUMBERCHILDREN, RemoteWork]\n",
      "Index: []\n",
      "Forma del DataFrame después de eliminar la situación 1: (1614, 41)\n",
      "Duplicados restantes en employeenumber después de eliminar situación 1: 534\n"
     ]
    }
   ],
   "source": [
    "situacion_1 = df[df.duplicated(keep=False)] #  keep=False asegura que todas las ocurrencias de duplicados se marquen como True. Si hay múltiples filas idénticas, serán consideradas duplicados.\n",
    "print(f\"Situación 1 (todas las columnas iguales): {situacion_1.shape[0]}\")  # .shape[0] imprime  solo el numero de filas duplicadas encontradas.\n",
    "print(situacion_1.head())\n",
    "\n",
    "# Eliminar duplicados en Situación 1\n",
    "df = df.drop_duplicates(keep='last') # El parámetro keep='last' indica que debemos conservar solo la última ocurrencia (como habíamos acordado en caso que la información haya sido actualizada) de cada conjunto de filas duplicadas y eliminar las demás.\n",
    "\n",
    "# Verificar la forma del DataFrame después de la eliminación\n",
    "print(f\"Forma del DataFrame después de eliminar la situación 1: {df.shape}\")\n",
    "print(f\"Duplicados restantes en employeenumber después de eliminar situación 1: {df.duplicated(subset=['employeenumber']).sum()}\")\n"
   ]
  },
  {
   "cell_type": "markdown",
   "metadata": {},
   "source": [
    "... No se encontraron duplicados con todas las columnas iguales. Proceddemos con situacion 2."
   ]
  },
  {
   "cell_type": "markdown",
   "metadata": {},
   "source": [
    "### Situación 2: DistanceFromHome diferente."
   ]
  },
  {
   "cell_type": "code",
   "execution_count": 5,
   "metadata": {},
   "outputs": [
    {
     "name": "stdout",
     "output_type": "stream",
     "text": [
      "Situación 2 (DistanceFromHome diferentes): 0\n",
      "Empty DataFrame\n",
      "Columns: [Age, Attrition, BusinessTravel, DailyRate, Department, DistanceFromHome, Education, EducationField, employeecount, employeenumber, EnvironmentSatisfaction, Gender, HourlyRate, JobInvolvement, JobLevel, JobRole, JobSatisfaction, MaritalStatus, MonthlyIncome, MonthlyRate, NUMCOMPANIESWORKED, Over18, OverTime, PercentSalaryHike, PerformanceRating, RelationshipSatisfaction, StandardHours, StockOptionLevel, TOTALWORKINGYEARS, TrainingTimesLastYear, WORKLIFEBALANCE, YearsAtCompany, YearsInCurrentRole, YearsSinceLastPromotion, YEARSWITHCURRMANAGER, SameAsMonthlyIncome, DateBirth, Salary, RoleDepartament, NUMBERCHILDREN, RemoteWork]\n",
      "Index: []\n",
      "Forma del DataFrame después de eliminar la situación 2: (1614, 41)\n",
      "Duplicados restantes en employeenumber después de eliminar situación 2: 534\n"
     ]
    }
   ],
   "source": [
    "#  Pruebo buscando registros donde todas las columnas sean iguales excepto DistanceFromHome y employeenumber.\n",
    "cols_excluidas = df.columns.difference(['DistanceFromHome', 'employeenumber']) # cols_excluidas es una lista de todas las columnas del DataFrame excepto DistanceFromHome y employeenumber\n",
    "situacion_2 = df[df.duplicated(subset=cols_excluidas, keep=False)] # keep=False asegura que todas las ocurrencias de filas duplicadas sean marcadas como True. Esto significa que si hay varias filas duplicadas, todas serán consideradas como duplicados, no solo la primera o la última.\n",
    "print(f\"Situación 2 (DistanceFromHome diferentes): {situacion_2.shape[0]}\")\n",
    "print(situacion_2.head())\n",
    "\n",
    "# Eliminar duplicados en Situación 2\n",
    "df = df.drop_duplicates(subset=cols_excluidas, keep='last') # 'keep=last' para eliminar el primer registro en cada conjunto de duplicados.\n",
    "\n",
    "# Verificar la forma del DataFrame después de la eliminación\n",
    "print(f\"Forma del DataFrame después de eliminar la situación 2: {df.shape}\")\n",
    "print(f\"Duplicados restantes en employeenumber después de eliminar situación 2: {df.duplicated(subset=['employeenumber']).sum()}\")\n"
   ]
  },
  {
   "cell_type": "markdown",
   "metadata": {},
   "source": [
    "...No se encontraron duplicados con DistanceFromHome diferente. Procedemos a Situacion 3"
   ]
  },
  {
   "cell_type": "markdown",
   "metadata": {},
   "source": [
    "###  Situación 3: RemoteWork diferente."
   ]
  },
  {
   "cell_type": "code",
   "execution_count": 6,
   "metadata": {},
   "outputs": [
    {
     "name": "stdout",
     "output_type": "stream",
     "text": [
      "Situación 3 (RemoteWork diferentes): 0\n",
      "Empty DataFrame\n",
      "Columns: [Age, Attrition, BusinessTravel, DailyRate, Department, DistanceFromHome, Education, EducationField, employeecount, employeenumber, EnvironmentSatisfaction, Gender, HourlyRate, JobInvolvement, JobLevel, JobRole, JobSatisfaction, MaritalStatus, MonthlyIncome, MonthlyRate, NUMCOMPANIESWORKED, Over18, OverTime, PercentSalaryHike, PerformanceRating, RelationshipSatisfaction, StandardHours, StockOptionLevel, TOTALWORKINGYEARS, TrainingTimesLastYear, WORKLIFEBALANCE, YearsAtCompany, YearsInCurrentRole, YearsSinceLastPromotion, YEARSWITHCURRMANAGER, SameAsMonthlyIncome, DateBirth, Salary, RoleDepartament, NUMBERCHILDREN, RemoteWork]\n",
      "Index: []\n",
      "Forma del DataFrame después de eliminar la situación 3: (1614, 41)\n",
      "Duplicados restantes en employeenumber después de eliminar situación 3: 534\n"
     ]
    }
   ],
   "source": [
    "cols_excluidas = df.columns.difference(['RemoteWork', 'employeenumber']) # Hacemos lo mismo que en bloque anterior, pero con RemoteWork\n",
    "situacion_3 = df[df.duplicated(subset=cols_excluidas, keep=False)]\n",
    "print(f\"Situación 3 (RemoteWork diferentes): {situacion_3.shape[0]}\")\n",
    "print(situacion_3.head())\n",
    "\n",
    "# Eliminar duplicados en Situación 3\n",
    "df = df.drop_duplicates(subset=cols_excluidas, keep='last')\n",
    "\n",
    "# Verificar la forma del DataFrame después de la eliminación\n",
    "print(f\"Forma del DataFrame después de eliminar la situación 3: {df.shape}\")\n",
    "print(f\"Duplicados restantes en employeenumber después de eliminar situación 3: {df.duplicated(subset=['employeenumber']).sum()}\")\n"
   ]
  },
  {
   "cell_type": "markdown",
   "metadata": {},
   "source": [
    "...No se encontraron duplicados con RemoteWork diferente. Ahora procederemos con la Situación 4"
   ]
  },
  {
   "cell_type": "markdown",
   "metadata": {},
   "source": [
    "### Situación 4: HourlyRate == 'Not Available':"
   ]
  },
  {
   "cell_type": "code",
   "execution_count": 7,
   "metadata": {},
   "outputs": [
    {
     "name": "stdout",
     "output_type": "stream",
     "text": [
      "Situación 4 (HourlyRate == 'Not Available'): 84\n",
      "    Age Attrition     BusinessTravel DailyRate                Department  \\\n",
      "42   53        No                NaN   1376,0$                       NaN   \n",
      "63   33        No  travel_frequently   1296,0$                       NaN   \n",
      "64   50        No      travel_rarely    939,0$   Research & Development    \n",
      "136  35        No                NaN    882,0$                       NaN   \n",
      "138  46        No                NaN    406,0$                    Sales    \n",
      "\n",
      "     DistanceFromHome  Education EducationField  employeecount employeenumber  \\\n",
      "42                  2          2        Medical              1          981,0   \n",
      "63                  6          3  Life Sciences              1          692,0   \n",
      "64                 24          3            NaN              1         1005,0   \n",
      "136               -21          4            NaN              1          984,0   \n",
      "138                 3          1      Marketing              1         1124,0   \n",
      "\n",
      "     EnvironmentSatisfaction  Gender     HourlyRate  JobInvolvement  JobLevel  \\\n",
      "42                         3       0  Not Available               3         4   \n",
      "63                         3       0  Not Available               3         2   \n",
      "64                         4       0  Not Available               3         4   \n",
      "136                       21       0  Not Available               3         3   \n",
      "138                        1       0  Not Available               3         4   \n",
      "\n",
      "                         JobRole  JobSatisfaction MaritalStatus MonthlyIncome  \\\n",
      "42                      ManageR                 3      Divorced           NaN   \n",
      "63    heaLthCaRE ReprEseNtaTiVe                 4      Divorced           NaN   \n",
      "64       ManufactUrINg DiReCTOr                 3       Married       13973,0   \n",
      "136             SaLeS exEcuTIVE                 4           NaN           NaN   \n",
      "138                     MaNAgeR                 3       Married           NaN   \n",
      "\n",
      "     MonthlyRate  NUMCOMPANIESWORKED Over18 OverTime  PercentSalaryHike  \\\n",
      "42         13938                   6    NaN       No                 13   \n",
      "63          5335                   3    NaN       No                 23   \n",
      "64          4161                   3    NaN      Yes                 18   \n",
      "136         6812                   6      Y      NaN                 13   \n",
      "138        15596                   3      Y       No                 12   \n",
      "\n",
      "    PerformanceRating  RelationshipSatisfaction StandardHours  \\\n",
      "42                3,0                         3           NaN   \n",
      "63                4,0                         3           NaN   \n",
      "64                3,0                         4           NaN   \n",
      "136               3,0                         2          80,0   \n",
      "138               3,0                         4           NaN   \n",
      "\n",
      "     StockOptionLevel TOTALWORKINGYEARS  TrainingTimesLastYear  \\\n",
      "42                  1              22,0                      3   \n",
      "63                  1              15,0                      2   \n",
      "64                  1              22,0                      2   \n",
      "136                 1               NaN                      2   \n",
      "138                 1               NaN                      3   \n",
      "\n",
      "    WORKLIFEBALANCE  YearsAtCompany YearsInCurrentRole  \\\n",
      "42              4,0              17                NaN   \n",
      "63              1,0              13                NaN   \n",
      "64              3,0              12                NaN   \n",
      "136             3,0              10                NaN   \n",
      "138             3,0              12                NaN   \n",
      "\n",
      "     YearsSinceLastPromotion  YEARSWITHCURRMANAGER SameAsMonthlyIncome  \\\n",
      "42                        15                     2                 NaN   \n",
      "63                         4                     7                 NaN   \n",
      "64                         1                     5             13973,0   \n",
      "136                        0                     8                 NaN   \n",
      "138                        4                     9                 NaN   \n",
      "\n",
      "     DateBirth       Salary  \\\n",
      "42        1970  1000000000$   \n",
      "63        1990  1000000000$   \n",
      "64        1973  1000000000$   \n",
      "136       1988  1000000000$   \n",
      "138       1977  1000000000$   \n",
      "\n",
      "                                       RoleDepartament  NUMBERCHILDREN  \\\n",
      "42                                                 NaN             NaN   \n",
      "63                                                 NaN             NaN   \n",
      "64    ManufactUrINg DiReCTOr  -  Research & Develop...             NaN   \n",
      "136                                                NaN             NaN   \n",
      "138                                 MaNAgeR  -  Sales              NaN   \n",
      "\n",
      "    RemoteWork  \n",
      "42       False  \n",
      "63       False  \n",
      "64       False  \n",
      "136          0  \n",
      "138          0  \n",
      "Forma del DataFrame después de eliminar la situación 4: (1530, 41)\n",
      "Duplicados restantes en employeenumber después de eliminar situación 4: 508\n"
     ]
    }
   ],
   "source": [
    "situacion_4 = df[df['HourlyRate'] == 'Not Available']\n",
    "print(f\"Situación 4 (HourlyRate == 'Not Available'): {situacion_4.shape[0]}\")\n",
    "print(situacion_4.head())\n",
    "\n",
    "# Eliminar filas con HourlyRate == 'Not Available'\n",
    "df = df[df['HourlyRate'] != 'Not Available']\n",
    "\n",
    "# Verificar la forma del DataFrame después de la eliminación\n",
    "print(f\"Forma del DataFrame después de eliminar la situación 4: {df.shape}\")\n",
    "print(f\"Duplicados restantes en employeenumber después de eliminar situación 4: {df.duplicated(subset=['employeenumber']).sum()}\")\n"
   ]
  },
  {
   "cell_type": "markdown",
   "metadata": {},
   "source": [
    "...La situación 4 ha eliminado las filas correspondientes con HourlyRate == 'Not Available', y ahora tenemos 508 duplicados restantes en employeenumber. Procedemos con Situación 5."
   ]
  },
  {
   "cell_type": "markdown",
   "metadata": {},
   "source": [
    "### Situación 5: EnvironmentSatisfaction = DistanceFromHome: eliminar (-1) * Distance_From_Home = Environment_Satisfaction"
   ]
  },
  {
   "cell_type": "code",
   "execution_count": 8,
   "metadata": {},
   "outputs": [
    {
     "name": "stdout",
     "output_type": "stream",
     "text": [
      "Situación 5 (EnvironmentSatisfaction = -DistanceFromHome): 94\n",
      "   Age Attrition BusinessTravel DailyRate                Department  \\\n",
      "24  36        No  travel_rarely    928,0$                       NaN   \n",
      "30  41        No            NaN      nan$                    Sales    \n",
      "41  41        No  travel_rarely    263,0$                       NaN   \n",
      "68  40        No            NaN   1202,0$                       NaN   \n",
      "90  50        No  travel_rarely   1099,0$   Research & Development    \n",
      "\n",
      "    DistanceFromHome  Education EducationField  employeecount employeenumber  \\\n",
      "24               -42          2  Life Sciences              1            NaN   \n",
      "30               -37          1            NaN              1         1815,0   \n",
      "41               -35          3            NaN              1            NaN   \n",
      "68               -25          1            NaN              1         1375,0   \n",
      "90               -27          4  Life Sciences              1          569,0   \n",
      "\n",
      "    EnvironmentSatisfaction  Gender HourlyRate  JobInvolvement  JobLevel  \\\n",
      "24                       42       0         56               3         2   \n",
      "30                       37       1         81               3         3   \n",
      "41                       35       0         59               3         1   \n",
      "68                       25       1         89               4         2   \n",
      "90                       27       0         88               2         4   \n",
      "\n",
      "                        JobRole  JobSatisfaction MaritalStatus MonthlyIncome  \\\n",
      "24             SALEs exeCUtIVe                 4           NaN        6201,0   \n",
      "30             Sales ExECuTIVe                 3      Divorced       10447,0   \n",
      "41       LaboRAtorY TecHNiCiAn                 1        Single        4721,0   \n",
      "68   HEAlTHcaRe ReprESeNtatIVe                 3           NaN           NaN   \n",
      "90                     mANaGer                 3       Marreid       17046,0   \n",
      "\n",
      "    MonthlyRate  NUMCOMPANIESWORKED Over18 OverTime  PercentSalaryHike  \\\n",
      "24         2823                   1      Y      NaN                 14   \n",
      "30        26458                   0    NaN      NaN                 13   \n",
      "41         3119                   2    NaN      Yes                 13   \n",
      "68        13888                   5    NaN       No                 20   \n",
      "90         9314                   0      Y       No                 15   \n",
      "\n",
      "   PerformanceRating  RelationshipSatisfaction StandardHours  \\\n",
      "24               3,0                         4           NaN   \n",
      "30               3,0                         4           NaN   \n",
      "41               NaN                         3           NaN   \n",
      "68               4,0                         2           NaN   \n",
      "90               3,0                         2           NaN   \n",
      "\n",
      "    StockOptionLevel TOTALWORKINGYEARS  TrainingTimesLastYear WORKLIFEBALANCE  \\\n",
      "24                 1              18,0                      1             NaN   \n",
      "30                 1               NaN                      3             4,0   \n",
      "41                 0              20,0                      3             3,0   \n",
      "68                 3              15,0                      0             3,0   \n",
      "90                 1              28,0                      2             3,0   \n",
      "\n",
      "    YearsAtCompany YearsInCurrentRole  YearsSinceLastPromotion  \\\n",
      "24              18                NaN                        4   \n",
      "30              22                NaN                       13   \n",
      "41              18                NaN                        2   \n",
      "68              12                NaN                       11   \n",
      "90              27                NaN                       15   \n",
      "\n",
      "    YEARSWITHCURRMANAGER SameAsMonthlyIncome  DateBirth       Salary  \\\n",
      "24                    11              6201,0       1987  1000000000$   \n",
      "30                     5             10447,0       1982  1000000000$   \n",
      "41                    17              4721,0       1982  1000000000$   \n",
      "68                     8                 NaN       1983  1000000000$   \n",
      "90                     7             17046,0       1973  1000000000$   \n",
      "\n",
      "                         RoleDepartament  NUMBERCHILDREN RemoteWork  \n",
      "24                                   NaN             NaN       True  \n",
      "30            Sales ExECuTIVe  -  Sales              NaN        Yes  \n",
      "41                                   NaN             NaN          1  \n",
      "68                                   NaN             NaN       True  \n",
      "90   mANaGer  -  Research & Development              NaN       True  \n",
      "Forma del DataFrame después de eliminar la situación 5: (1436, 41)\n",
      "Duplicados restantes en employeenumber después de eliminar situación 5: 471\n"
     ]
    }
   ],
   "source": [
    "situacion_5 = df[df.apply(lambda row: row['EnvironmentSatisfaction'] == -row['DistanceFromHome'], axis=1)]\n",
    "print(f\"Situación 5 (EnvironmentSatisfaction = -DistanceFromHome): {situacion_5.shape[0]}\") # '-DistanceFromHome' toma este valor y lo convierte en su opuesto. Si DistanceFromHome es 5, -DistanceFromHome será -5.\n",
    "print(situacion_5.head())\n",
    "\n",
    "# Eliminar filas en situación 5\n",
    "df = df.drop(situacion_5.index)\n",
    "\n",
    "# Verificar la forma del DataFrame después de la eliminación\n",
    "print(f\"Forma del DataFrame después de eliminar la situación 5: {df.shape}\")\n",
    "print(f\"Duplicados restantes en employeenumber después de eliminar situación 5: {df.duplicated(subset=['employeenumber']).sum()}\")\n"
   ]
  },
  {
   "cell_type": "markdown",
   "metadata": {},
   "source": [
    "... La situación 5 ha eliminado las filas correspondientes con EnvironmentSatisfaction = DistanceFromHome, y ahora tenemos 471 duplicados restantes en employeenumber."
   ]
  },
  {
   "cell_type": "markdown",
   "metadata": {},
   "source": [
    "###  Revisamos el número total de duplicados y procedamos a eliminarlos:"
   ]
  },
  {
   "cell_type": "code",
   "execution_count": 9,
   "metadata": {},
   "outputs": [
    {
     "name": "stdout",
     "output_type": "stream",
     "text": [
      "Duplicados finales en employeenumber: 471\n",
      "Forma final del DataFrame: (965, 41)\n",
      "Duplicados restantes en employeenumber: 0\n"
     ]
    }
   ],
   "source": [
    "# Comprobamos el número total de duplicados en employeenumber\n",
    "total_duplicados = df.duplicated(subset=['employeenumber']).sum()\n",
    "print(f\"Duplicados finales en employeenumber: {total_duplicados}\")\n",
    "\n",
    "# Eliminamos duplicados, manteniendo el último\n",
    "df = df.drop_duplicates(subset=['employeenumber'], keep='last')\n",
    "\n",
    "# Verificamos la forma final del DataFrame\n",
    "print(f\"Forma final del DataFrame: {df.shape}\")\n",
    "print(f\"Duplicados restantes en employeenumber: {df.duplicated(subset=['employeenumber']).sum()}\")\n"
   ]
  },
  {
   "cell_type": "markdown",
   "metadata": {},
   "source": [
    "###  Se han eliminado todos los duplicados de employeenumber, el DataFrame está limpio en términos de duplicados."
   ]
  },
  {
   "cell_type": "code",
   "execution_count": 10,
   "metadata": {},
   "outputs": [],
   "source": [
    "# Guardo resultados en archivo.csv\n",
    "# df.to_csv('employeenumber-duplicados-CLEANED.csv', index=False)\n"
   ]
  }
 ],
 "metadata": {
  "kernelspec": {
   "display_name": "base",
   "language": "python",
   "name": "python3"
  },
  "language_info": {
   "codemirror_mode": {
    "name": "ipython",
    "version": 3
   },
   "file_extension": ".py",
   "mimetype": "text/x-python",
   "name": "python",
   "nbconvert_exporter": "python",
   "pygments_lexer": "ipython3",
   "version": "3.11.8"
  }
 },
 "nbformat": 4,
 "nbformat_minor": 2
}
