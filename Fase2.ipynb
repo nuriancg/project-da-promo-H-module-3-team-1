{
 "cells": [
  {
   "cell_type": "markdown",
   "metadata": {},
   "source": [
    "## Employee_Number\n",
    "- 1080 valores únicos (incluyendo el 0)\n",
    "- 534 duplicados\n",
    "- (1080 + 534 = 1614 totales)\n",
    "- ...................\n",
    "- dtype  -> object"
   ]
  },
  {
   "cell_type": "markdown",
   "metadata": {},
   "source": [
    "## Duplicados\n",
    "\n",
    "- 431 son 'Employee_Number'= 0\n",
    "- 104 en las siguientes situaciones\n",
    "\n",
    "- df_duplicados = 639 rows -> 431 'Employee_Number'=0 + (104 x 2)\n"
   ]
  },
  {
   "cell_type": "markdown",
   "metadata": {},
   "source": [
    "- Situación 1: 51 employees\n",
    "    - Todas las columnas son iguales\n",
    "   \n",
    "    ➡️ Solución: eliminar el primer registro   \n",
    "\n",
    "- Situación 2: 13 employees\n",
    "    - Distance_From_Home diferentes\n",
    "   \n",
    "    ➡️ Solución: eliminar el primer registro   \n",
    "\n",
    "- Situación 3: 48 employees\n",
    "    - Remote_Work diferentes\n",
    "   \n",
    "    ➡️ Solución: eliminar el primer registro  \n",
    "\n",
    "- Situación 4: 4 employees\n",
    "    - Distance_From_Home diferentes\n",
    "    - Remote_Work diferentes\n",
    "\n",
    "    ➡️ Solución: eliminar el primer registro\n",
    "\n",
    "- Situación 5: 8 employees\n",
    "    - Hourly_Rate -> Not Available\n",
    "   \n",
    "    ➡️ Solución: eliminar Hourly_Rate == Not Available     \n",
    "\n",
    "- Situación 6: 12 employees\n",
    "    - Distance_From_Home diferentes\n",
    "    - Distance_From_Home = Environment_Satisfaction\n",
    "   \n",
    "    ➡️ Solución: eliminar Distance_From_Home = Environment_Satisfaction\n"
   ]
  },
  {
   "cell_type": "code",
<<<<<<< HEAD
<<<<<<< HEAD
   "execution_count": 151,
=======
   "execution_count": 102,
>>>>>>> 1d05b4e (Actualizar: Fase2.ipynb, Fase3_1.xlsx, HR_CLEAN_DATA.csv)
=======
   "execution_count": 227,
>>>>>>> d6bd9fd (Actualizar: Fase2.ipynb, Fase3_1.xlsx y HR_CLEAN_DATA.csv)
   "metadata": {},
   "outputs": [],
   "source": [
    "# Importamos librerias\n",
    "import pandas as pd\n",
    "import numpy as np\n",
    "\n",
    "import re\n",
    "\n",
<<<<<<< HEAD
<<<<<<< HEAD
=======
>>>>>>> d6bd9fd (Actualizar: Fase2.ipynb, Fase3_1.xlsx y HR_CLEAN_DATA.csv)
    "from sklearn.impute import SimpleImputer\n",
    "from sklearn.experimental import enable_iterative_imputer\n",
    "from sklearn.impute import IterativeImputer\n",
    "from sklearn.impute import KNNImputer\n",
    "\n",
    "# Librerías de visualización\n",
    "# -----------------------------------------------------------------------\n",
    "import seaborn as sns\n",
    "import matplotlib.pyplot as plt\n",
    "\n",
<<<<<<< HEAD
=======
>>>>>>> 1d05b4e (Actualizar: Fase2.ipynb, Fase3_1.xlsx, HR_CLEAN_DATA.csv)
=======
>>>>>>> d6bd9fd (Actualizar: Fase2.ipynb, Fase3_1.xlsx y HR_CLEAN_DATA.csv)
    "# Ajustes de visualización\n",
    "pd.set_option('display.max_columns',None)\n",
    "#pd.set_option('display.max_rows',None)"
   ]
  },
  {
   "cell_type": "code",
<<<<<<< HEAD
<<<<<<< HEAD
   "execution_count": 152,
=======
   "execution_count": 103,
>>>>>>> 1d05b4e (Actualizar: Fase2.ipynb, Fase3_1.xlsx, HR_CLEAN_DATA.csv)
=======
   "execution_count": 228,
>>>>>>> d6bd9fd (Actualizar: Fase2.ipynb, Fase3_1.xlsx y HR_CLEAN_DATA.csv)
   "metadata": {},
   "outputs": [],
   "source": [
    "# Leemos el .csv y lo guardamos en una variable df\n",
    "url_raw_data='https://raw.githubusercontent.com/nuriancg/project-da-promo-H-module-3-team-1/master/HR_RAW_DATA.csv'\n",
    "df_original = pd.read_csv(url_raw_data, index_col=0)"
   ]
  },
  {
   "cell_type": "code",
<<<<<<< HEAD
<<<<<<< HEAD
   "execution_count": 153,
=======
   "execution_count": 104,
>>>>>>> 1d05b4e (Actualizar: Fase2.ipynb, Fase3_1.xlsx, HR_CLEAN_DATA.csv)
=======
   "execution_count": 229,
>>>>>>> d6bd9fd (Actualizar: Fase2.ipynb, Fase3_1.xlsx y HR_CLEAN_DATA.csv)
   "metadata": {},
   "outputs": [],
   "source": [
    "#creamos una copia del df con la que trabajaremos\n",
    "df=df_original.copy()"
   ]
  },
  {
   "cell_type": "code",
<<<<<<< HEAD
<<<<<<< HEAD
   "execution_count": 154,
=======
   "execution_count": 105,
>>>>>>> 1d05b4e (Actualizar: Fase2.ipynb, Fase3_1.xlsx, HR_CLEAN_DATA.csv)
=======
   "execution_count": 230,
>>>>>>> d6bd9fd (Actualizar: Fase2.ipynb, Fase3_1.xlsx y HR_CLEAN_DATA.csv)
   "metadata": {},
   "outputs": [
    {
     "name": "stdout",
     "output_type": "stream",
     "text": [
      "<class 'pandas.core.frame.DataFrame'>\n",
      "Int64Index: 1614 entries, 0 to 1613\n",
      "Data columns (total 41 columns):\n",
      " #   Column                    Non-Null Count  Dtype  \n",
      "---  ------                    --------------  -----  \n",
      " 0   Age                       1614 non-null   object \n",
      " 1   Attrition                 1614 non-null   object \n",
      " 2   BusinessTravel            842 non-null    object \n",
      " 3   DailyRate                 1614 non-null   object \n",
      " 4   Department                302 non-null    object \n",
      " 5   DistanceFromHome          1614 non-null   int64  \n",
      " 6   Education                 1614 non-null   int64  \n",
      " 7   EducationField            869 non-null    object \n",
      " 8   employeecount             1614 non-null   int64  \n",
      " 9   employeenumber            1183 non-null   object \n",
      " 10  EnvironmentSatisfaction   1614 non-null   int64  \n",
      " 11  Gender                    1614 non-null   int64  \n",
      " 12  HourlyRate                1614 non-null   object \n",
      " 13  JobInvolvement            1614 non-null   int64  \n",
      " 14  JobLevel                  1614 non-null   int64  \n",
      " 15  JobRole                   1614 non-null   object \n",
      " 16  JobSatisfaction           1614 non-null   int64  \n",
      " 17  MaritalStatus             963 non-null    object \n",
      " 18  MonthlyIncome             771 non-null    object \n",
      " 19  MonthlyRate               1614 non-null   int64  \n",
      " 20  NUMCOMPANIESWORKED        1614 non-null   int64  \n",
      " 21  Over18                    713 non-null    object \n",
      " 22  OverTime                  938 non-null    object \n",
      " 23  PercentSalaryHike         1614 non-null   int64  \n",
      " 24  PerformanceRating         1419 non-null   object \n",
      " 25  RelationshipSatisfaction  1614 non-null   int64  \n",
      " 26  StandardHours             419 non-null    object \n",
      " 27  StockOptionLevel          1614 non-null   int64  \n",
      " 28  TOTALWORKINGYEARS         1088 non-null   object \n",
      " 29  TrainingTimesLastYear     1614 non-null   int64  \n",
      " 30  WORKLIFEBALANCE           1506 non-null   object \n",
      " 31  YearsAtCompany            1614 non-null   int64  \n",
      " 32  YearsInCurrentRole        34 non-null     object \n",
      " 33  YearsSinceLastPromotion   1614 non-null   int64  \n",
      " 34  YEARSWITHCURRMANAGER      1614 non-null   int64  \n",
      " 35  SameAsMonthlyIncome       771 non-null    object \n",
      " 36  DateBirth                 1614 non-null   int64  \n",
      " 37  Salary                    1614 non-null   object \n",
      " 38  RoleDepartament           302 non-null    object \n",
      " 39  NUMBERCHILDREN            0 non-null      float64\n",
      " 40  RemoteWork                1614 non-null   object \n",
      "dtypes: float64(1), int64(18), object(22)\n",
      "memory usage: 529.6+ KB\n"
     ]
    }
   ],
   "source": [
    "df.info()"
   ]
  },
  {
   "cell_type": "markdown",
   "metadata": {},
   "source": [
    "## Paso 1: Limpieza de datos"
   ]
  },
  {
   "cell_type": "markdown",
   "metadata": {},
   "source": [
    "### 1.1. Modificar nombre columnas\n"
   ]
  },
  {
   "cell_type": "code",
<<<<<<< HEAD
<<<<<<< HEAD
   "execution_count": 155,
=======
   "execution_count": 106,
>>>>>>> 1d05b4e (Actualizar: Fase2.ipynb, Fase3_1.xlsx, HR_CLEAN_DATA.csv)
=======
   "execution_count": 231,
>>>>>>> d6bd9fd (Actualizar: Fase2.ipynb, Fase3_1.xlsx y HR_CLEAN_DATA.csv)
   "metadata": {},
   "outputs": [
    {
     "data": {
      "text/plain": [
       "Index(['Age', 'Attrition', 'Business_Travel', 'Daily_Rate', 'Department',\n",
       "       'Distance_From_Home', 'Education', 'Education_Field', 'Employee_Count',\n",
       "       'Employee_Number', 'Environment_Satisfaction', 'Gender', 'Hourly_Rate',\n",
       "       'Job_Involvement', 'Job_Level', 'Job_Role', 'Job_Satisfaction',\n",
       "       'Marital_Status', 'Monthly_Income', 'Monthly_Rate',\n",
       "       'Num_Companies_Worked', 'Over_18', 'Over_Time', 'Percent_Salary_Hike',\n",
       "       'Performance_Rating', 'Relationship_Satisfaction', 'Standard_Hours',\n",
       "       'Stock_Option_Level', 'Total_Working_Years', 'Training_Times_Last_Year',\n",
       "       'Work_Life_Balance', 'Years_At_Company', 'Years_In_Current_Role',\n",
       "       'Years_Since_Last_Promotion', 'Years_With_Curr_Manager',\n",
       "       'Same_As_Monthly_Income', 'Date_Birth', 'Salary', 'Role_Departament',\n",
       "       'Number_Children', 'Remote_Work'],\n",
       "      dtype='object')"
      ]
     },
<<<<<<< HEAD
     "execution_count": 155,
=======
     "execution_count": 231,
>>>>>>> d6bd9fd (Actualizar: Fase2.ipynb, Fase3_1.xlsx y HR_CLEAN_DATA.csv)
     "metadata": {},
     "output_type": "execute_result"
    }
   ],
   "source": [
<<<<<<< HEAD
<<<<<<< HEAD
    "columnas = df.columns\n",
    "\n",
    "def normalizar_encabezados(encabezado):\n",
    "    # Mapeo para palabras completamente en mayúsculas pq no encuentro patrón para dividir.\n",
    "    casos_especiales = {\n",
    "        'NUMCOMPANIESWORKED': 'Num_Companies_Worked',\n",
    "        'TOTALWORKINGYEARS': 'Total_Working_Years',\n",
    "        'YEARSWITHCURRMANAGER': 'Years_With_Curr_Manager',\n",
    "        'NUMBERCHILDREN': 'Number_Children', # Añado otros casos especiales, Los pongo en mayúsculas para que los trate trate igual a los anteriores.\n",
    "        'EMPLOYEECOUNT': 'Employee_Count',\n",
    "        'EMPLOYEENUMBER': 'Employee_Number',\n",
    "        'WORKLIFEBALANCE': 'Work_Life_Balance'\n",
    "    }\n",
    "\n",
    "    # Si el encabezado está en casos especiales devolver el formato dado.\n",
    "    if encabezado.upper() in casos_especiales:\n",
    "        return casos_especiales[encabezado.upper()]\n",
    "\n",
    "    # Añadir guion bajo entre letras y números\n",
    "    encabezado = re.sub(r'([a-zA-Z])(\\d)', r'\\1_\\2', encabezado)\n",
    "\n",
    "    # Para formatos que incluyen transiciones de minúscula a mayúscula\n",
    "    if re.match(r'^[A-Za-z0-9]+$', encabezado):  # Si son letras seguidas de números sin guiones\n",
    "        encabezado = re.sub(r'([a-z])([A-Z])', r'\\1_\\2', encabezado)\n",
    "        encabezado = re.sub(r'([A-Z]+)([A-Z][a-z]+)', r'\\1_\\2', encabezado)\n",
    "\n",
    "    # Capitalizar cada string separado por guiones\n",
    "    palabras = encabezado.split('_')\n",
    "    return '_'.join(word.capitalize() for word in palabras)\n",
    "\n",
    "encabezados_normalizados = [normalizar_encabezados(columna) for columna in columnas]\n",
    "\n",
    "df.columns= encabezados_normalizados\n",
    "df.columns"
=======
    "# columnas = df.columns\n",
    "# columnas"
   ]
  },
  {
   "cell_type": "code",
   "execution_count": 107,
   "metadata": {},
   "outputs": [],
   "source": [
    "# def normalizar_encabezados(encabezado):\n",
    "#     # Mapeo para palabras completamente en mayúsculas pq no encuentro patrón para dividir.\n",
    "#     casos_especiales = {\n",
    "#         'NUMCOMPANIESWORKED': 'Num_Companies_Worked',\n",
    "#         'TOTALWORKINGYEARS': 'Total_Working_Years',\n",
    "#         'YEARSWITHCURRMANAGER': 'Years_With_Curr_Manager',\n",
    "#         'NUMBERCHILDREN': 'Number_Children', # Añado otros casos especiales, Los pongo en mayúsculas para que los trate trate igual a los anteriores.\n",
    "#         'EMPLOYEECOUNT': 'Employee_Count',\n",
    "#         'EMPLOYEENUMBER': 'Employee_number',\n",
    "#         'WORKLIFEBALANCE': 'Work_Life_Balance'\n",
    "#     }\n",
=======
    "columnas = df.columns\n",
>>>>>>> d6bd9fd (Actualizar: Fase2.ipynb, Fase3_1.xlsx y HR_CLEAN_DATA.csv)
    "\n",
    "def normalizar_encabezados(encabezado):\n",
    "    # Mapeo para palabras completamente en mayúsculas pq no encuentro patrón para dividir.\n",
    "    casos_especiales = {\n",
    "        'NUMCOMPANIESWORKED': 'Num_Companies_Worked',\n",
    "        'TOTALWORKINGYEARS': 'Total_Working_Years',\n",
    "        'YEARSWITHCURRMANAGER': 'Years_With_Curr_Manager',\n",
    "        'NUMBERCHILDREN': 'Number_Children', # Añado otros casos especiales, Los pongo en mayúsculas para que los trate trate igual a los anteriores.\n",
    "        'EMPLOYEECOUNT': 'Employee_Count',\n",
    "        'EMPLOYEENUMBER': 'Employee_Number',\n",
    "        'WORKLIFEBALANCE': 'Work_Life_Balance'\n",
    "    }\n",
    "\n",
    "    # Si el encabezado está en casos especiales devolver el formato dado.\n",
    "    if encabezado.upper() in casos_especiales:\n",
    "        return casos_especiales[encabezado.upper()]\n",
    "\n",
    "    # Añadir guion bajo entre letras y números\n",
    "    encabezado = re.sub(r'([a-zA-Z])(\\d)', r'\\1_\\2', encabezado)\n",
    "\n",
    "    # Para formatos que incluyen transiciones de minúscula a mayúscula\n",
    "    if re.match(r'^[A-Za-z0-9]+$', encabezado):  # Si son letras seguidas de números sin guiones\n",
    "        encabezado = re.sub(r'([a-z])([A-Z])', r'\\1_\\2', encabezado)\n",
    "        encabezado = re.sub(r'([A-Z]+)([A-Z][a-z]+)', r'\\1_\\2', encabezado)\n",
    "\n",
<<<<<<< HEAD
    "# encabezados_normalizados = [normalizar_encabezados(columna) for columna in columnas]"
   ]
  },
  {
   "cell_type": "code",
   "execution_count": 108,
   "metadata": {},
   "outputs": [],
   "source": [
    "# df.columns"
   ]
  },
  {
   "cell_type": "code",
   "execution_count": 109,
   "metadata": {},
   "outputs": [],
   "source": [
    "# cambiamos el nombre a las columnas \n",
    "dict_nombre_columnas= {'BusinessTravel':'Business_Travel',\n",
    "                       'DailyRate': 'Daily_Rate',\n",
    "                       'DistanceFromHome': 'Distance_From_Home',\n",
    "                       'EducationField': 'Education_Field',\n",
    "                       'employeenumber':'Employee_Number', \n",
    "                       'EnvironmentSatisfaction': 'Environment_Satisfaction', \n",
    "                       'HourlyRate': 'Hourly_Rate', \n",
    "                       'JobInvolvement': 'Job_Involvement', \n",
    "                       'JobLevel': 'Job_Level', \n",
    "                       'JobRole': 'Job_Role', \n",
    "                       'JobSatisfaction': 'Job_Satisfaction', \n",
    "                       'MaritalStatus': 'Marital_Status',\n",
    "                       'MonthlyIncome': 'Monthly_Income',\n",
    "                       'MonthlyRate': 'Monthly_Rate',\n",
    "                       'NUMCOMPANIESWORKED':'Num_Companies_Worked',\n",
    "                       'Over18':'Over_18',\n",
    "                       'OverTime':'Over_Time',\n",
    "                       'PercentSalaryHike':'Percent_Salary_Hike',\n",
    "                       'PerformanceRating':'Performance_Rating',\n",
    "                       'RelationshipSatisfaction':'Relationship_Satisfaction',\n",
    "                       'StandardHours':'Standard_Hours',\n",
    "                       'StockOptionLevel':'Stock_Option_Level',\n",
    "                       'TOTALWORKINGYEARS':'Total_Working_Years',\n",
    "                       'TrainingTimesLastYear':'Training_Times_Last_Year',\n",
    "                       'WORKLIFEBALANCE':'Work_Life_Balance',\n",
    "                       'YearsAtCompany': 'Years_At_Company', \n",
    "                       'YearsSinceLastPromotion': 'Years_Since_Last_Promotion', \n",
    "                       'YEARSWITHCURRMANAGER': 'Years_With_Curr_Manager', \n",
    "                       'DateBirth': 'Date_Birth', \n",
    "                       'RemoteWork': 'Remote_Work'\n",
    "                       }\n",
    "df.rename(columns=dict_nombre_columnas, inplace=True)"
>>>>>>> 1d05b4e (Actualizar: Fase2.ipynb, Fase3_1.xlsx, HR_CLEAN_DATA.csv)
=======
    "    # Capitalizar cada string separado por guiones\n",
    "    palabras = encabezado.split('_')\n",
    "    return '_'.join(word.capitalize() for word in palabras)\n",
    "\n",
    "encabezados_normalizados = [normalizar_encabezados(columna) for columna in columnas]\n",
    "\n",
    "df.columns= encabezados_normalizados\n",
    "df.columns"
>>>>>>> d6bd9fd (Actualizar: Fase2.ipynb, Fase3_1.xlsx y HR_CLEAN_DATA.csv)
   ]
  },
  {
   "cell_type": "markdown",
   "metadata": {},
   "source": [
    "### 1.2. Eliminar columnas no necesarias"
   ]
  },
  {
   "cell_type": "code",
<<<<<<< HEAD
<<<<<<< HEAD
   "execution_count": 156,
   "metadata": {},
   "outputs": [],
   "source": [
    "lista_col_eliminar=['Employee_Count','Over_18','Years_In_Current_Role','Same_As_Monthly_Income','Salary', 'Standard_Hours','Role_Departament', 'Number_Children']\n",
=======
   "execution_count": 110,
   "metadata": {},
   "outputs": [],
   "source": [
    "lista_col_eliminar=['employeecount','SameAsMonthlyIncome','Salary', 'RoleDepartament', 'NUMBERCHILDREN','YearsInCurrentRole']\n",
>>>>>>> 1d05b4e (Actualizar: Fase2.ipynb, Fase3_1.xlsx, HR_CLEAN_DATA.csv)
=======
   "execution_count": 232,
   "metadata": {},
   "outputs": [],
   "source": [
    "lista_col_eliminar=['Employee_Count','Over_18','Years_In_Current_Role','Same_As_Monthly_Income','Salary', 'Standard_Hours','Role_Departament', 'Number_Children']\n",
>>>>>>> d6bd9fd (Actualizar: Fase2.ipynb, Fase3_1.xlsx y HR_CLEAN_DATA.csv)
    "\n",
    "for col in lista_col_eliminar:\n",
    "    df.drop(col, axis=1, inplace=True)"
   ]
  },
  {
   "cell_type": "code",
<<<<<<< HEAD
<<<<<<< HEAD
   "execution_count": 157,
=======
   "execution_count": 111,
>>>>>>> 1d05b4e (Actualizar: Fase2.ipynb, Fase3_1.xlsx, HR_CLEAN_DATA.csv)
=======
   "execution_count": 233,
>>>>>>> d6bd9fd (Actualizar: Fase2.ipynb, Fase3_1.xlsx y HR_CLEAN_DATA.csv)
   "metadata": {},
   "outputs": [
    {
     "data": {
      "text/plain": [
<<<<<<< HEAD
<<<<<<< HEAD
       "(1614, 33)"
      ]
     },
     "execution_count": 157,
=======
       "(1614, 35)"
      ]
     },
     "execution_count": 111,
>>>>>>> 1d05b4e (Actualizar: Fase2.ipynb, Fase3_1.xlsx, HR_CLEAN_DATA.csv)
=======
       "(1614, 33)"
      ]
     },
     "execution_count": 233,
>>>>>>> d6bd9fd (Actualizar: Fase2.ipynb, Fase3_1.xlsx y HR_CLEAN_DATA.csv)
     "metadata": {},
     "output_type": "execute_result"
    }
   ],
   "source": [
    "df.shape"
   ]
  },
  {
   "cell_type": "markdown",
   "metadata": {},
   "source": [
    "### 1.3. Crear columnas nuevas"
   ]
  },
  {
   "cell_type": "code",
<<<<<<< HEAD
<<<<<<< HEAD
   "execution_count": 158,
=======
   "execution_count": 112,
>>>>>>> 1d05b4e (Actualizar: Fase2.ipynb, Fase3_1.xlsx, HR_CLEAN_DATA.csv)
=======
   "execution_count": 234,
>>>>>>> d6bd9fd (Actualizar: Fase2.ipynb, Fase3_1.xlsx y HR_CLEAN_DATA.csv)
   "metadata": {},
   "outputs": [],
   "source": [
    "df.insert(1, 'Age_Group', '')"
   ]
  },
  {
   "cell_type": "code",
<<<<<<< HEAD
<<<<<<< HEAD
   "execution_count": 159,
=======
   "execution_count": 113,
>>>>>>> 1d05b4e (Actualizar: Fase2.ipynb, Fase3_1.xlsx, HR_CLEAN_DATA.csv)
=======
   "execution_count": 235,
>>>>>>> d6bd9fd (Actualizar: Fase2.ipynb, Fase3_1.xlsx y HR_CLEAN_DATA.csv)
   "metadata": {},
   "outputs": [
    {
     "data": {
      "text/plain": [
<<<<<<< HEAD
<<<<<<< HEAD
       "(1614, 34)"
      ]
     },
     "execution_count": 159,
=======
       "(1614, 36)"
      ]
     },
     "execution_count": 113,
>>>>>>> 1d05b4e (Actualizar: Fase2.ipynb, Fase3_1.xlsx, HR_CLEAN_DATA.csv)
=======
       "(1614, 34)"
      ]
     },
     "execution_count": 235,
>>>>>>> d6bd9fd (Actualizar: Fase2.ipynb, Fase3_1.xlsx y HR_CLEAN_DATA.csv)
     "metadata": {},
     "output_type": "execute_result"
    }
   ],
   "source": [
    "df.shape"
   ]
  },
  {
   "cell_type": "markdown",
   "metadata": {},
   "source": [
    "### 1.4. Modificar valores en columnas"
   ]
  },
  {
   "cell_type": "markdown",
   "metadata": {},
   "source": [
    "1.4.1 Convertir a str"
   ]
  },
  {
   "cell_type": "code",
<<<<<<< HEAD
<<<<<<< HEAD
   "execution_count": 160,
   "metadata": {},
   "outputs": [],
   "source": [
    "lista_col_to_str=['Daily_Rate','Department','Employee_Number','Distance_From_Home','Environment_Satisfaction','Gender','Monthly_Income','Performance_Rating','Remote_Work','Total_Working_Years','Work_Life_Balance' ]\n",
=======
   "execution_count": 114,
   "metadata": {},
   "outputs": [],
   "source": [
    "lista_col_to_str=['Daily_Rate','Department','Employee_Number','Distance_From_Home','Environment_Satisfaction','Gender','Over_18','Performance_Rating','Remote_Work','Standard_Hours','Total_Working_Years','Work_Life_Balance' ]\n",
>>>>>>> 1d05b4e (Actualizar: Fase2.ipynb, Fase3_1.xlsx, HR_CLEAN_DATA.csv)
=======
   "execution_count": 236,
   "metadata": {},
   "outputs": [],
   "source": [
    "lista_col_to_str=['Daily_Rate','Department','Employee_Number','Distance_From_Home','Environment_Satisfaction','Gender','Monthly_Income','Performance_Rating','Remote_Work','Total_Working_Years','Work_Life_Balance' ]\n",
>>>>>>> d6bd9fd (Actualizar: Fase2.ipynb, Fase3_1.xlsx y HR_CLEAN_DATA.csv)
    "\n",
    "for col in lista_col_to_str:\n",
    "    df[col] = df[col].astype(str)"
   ]
  },
  {
   "cell_type": "markdown",
   "metadata": {},
   "source": [
    "1.4.2 Cambio de ',' por '.'"
   ]
  },
  {
   "cell_type": "code",
<<<<<<< HEAD
<<<<<<< HEAD
   "execution_count": 161,
=======
   "execution_count": 115,
>>>>>>> 1d05b4e (Actualizar: Fase2.ipynb, Fase3_1.xlsx, HR_CLEAN_DATA.csv)
=======
   "execution_count": 237,
>>>>>>> d6bd9fd (Actualizar: Fase2.ipynb, Fase3_1.xlsx y HR_CLEAN_DATA.csv)
   "metadata": {},
   "outputs": [],
   "source": [
    "lista_col_to_punto=['Daily_Rate']\n",
    "\n",
    "for col in lista_col_to_punto:\n",
    "    df[col] = df[col].str.replace(',','.')"
   ]
  },
  {
   "cell_type": "markdown",
   "metadata": {},
   "source": [
    "1.4.3 Cambio de ',0' por ''"
   ]
  },
  {
   "cell_type": "code",
<<<<<<< HEAD
<<<<<<< HEAD
   "execution_count": 162,
=======
   "execution_count": 116,
>>>>>>> 1d05b4e (Actualizar: Fase2.ipynb, Fase3_1.xlsx, HR_CLEAN_DATA.csv)
=======
   "execution_count": 238,
>>>>>>> d6bd9fd (Actualizar: Fase2.ipynb, Fase3_1.xlsx y HR_CLEAN_DATA.csv)
   "metadata": {},
   "outputs": [],
   "source": [
    "lista_col_to_no_coma=['Employee_Number', 'Monthly_Income','Performance_Rating','Total_Working_Years','Work_Life_Balance']\n",
    "\n",
    "for col in lista_col_to_no_coma:\n",
    "    df[col] = df[col].str.replace(',0','')"
   ]
  },
  {
   "cell_type": "markdown",
   "metadata": {},
   "source": [
    "1.4.4 Booleanos"
   ]
  },
  {
   "cell_type": "code",
<<<<<<< HEAD
<<<<<<< HEAD
   "execution_count": 163,
=======
   "execution_count": 117,
>>>>>>> 1d05b4e (Actualizar: Fase2.ipynb, Fase3_1.xlsx, HR_CLEAN_DATA.csv)
=======
   "execution_count": 239,
>>>>>>> d6bd9fd (Actualizar: Fase2.ipynb, Fase3_1.xlsx y HR_CLEAN_DATA.csv)
   "metadata": {},
   "outputs": [],
   "source": [
    "dict_booleanos = {'1':True, \n",
    "                  'Yes':True, \n",
    "                  'True':True, \n",
    "                  '0':False, \n",
    "                  'No':False,\n",
    "                  'False':False}\n",
    "\n",
    "lista_col_to_booleanos = ['Attrition', 'Over_Time','Remote_Work']\n",
    "\n",
    "for col in lista_col_to_booleanos:\n",
    "    df[col] = df[col].replace(dict_booleanos)"
   ]
  },
  {
   "cell_type": "markdown",
   "metadata": {},
   "source": [
    "1.4.5 Otros cambios"
   ]
  },
  {
   "cell_type": "code",
<<<<<<< HEAD
<<<<<<< HEAD
   "execution_count": 164,
=======
   "execution_count": 118,
>>>>>>> 1d05b4e (Actualizar: Fase2.ipynb, Fase3_1.xlsx, HR_CLEAN_DATA.csv)
=======
   "execution_count": 240,
>>>>>>> d6bd9fd (Actualizar: Fase2.ipynb, Fase3_1.xlsx y HR_CLEAN_DATA.csv)
   "metadata": {},
   "outputs": [
    {
     "name": "stderr",
     "output_type": "stream",
     "text": [
<<<<<<< HEAD
<<<<<<< HEAD
      "/var/folders/g3/22l1jqy501nblpbhtydz9b0w0000gn/T/ipykernel_9541/1074539664.py:21: FutureWarning: The default value of regex will change from True to False in a future version. In addition, single character regular expressions will *not* be treated as literal strings when regex=True.\n",
=======
      "/var/folders/g3/22l1jqy501nblpbhtydz9b0w0000gn/T/ipykernel_7400/3900390147.py:17: FutureWarning: The default value of regex will change from True to False in a future version. In addition, single character regular expressions will *not* be treated as literal strings when regex=True.\n",
>>>>>>> 1d05b4e (Actualizar: Fase2.ipynb, Fase3_1.xlsx, HR_CLEAN_DATA.csv)
=======
      "/var/folders/g3/22l1jqy501nblpbhtydz9b0w0000gn/T/ipykernel_3328/1573065219.py:21: FutureWarning: The default value of regex will change from True to False in a future version. In addition, single character regular expressions will *not* be treated as literal strings when regex=True.\n",
>>>>>>> d6bd9fd (Actualizar: Fase2.ipynb, Fase3_1.xlsx y HR_CLEAN_DATA.csv)
      "  df['Daily_Rate'] = df['Daily_Rate'].str.replace('$', '')\n"
     ]
    }
   ],
   "source": [
    "#Columna 'Age'\n",
    "reemplazos = {\n",
    "    'forty-seven': 47,\n",
    "    'fifty-eight': 58,\n",
    "    'thirty-six': 36,\n",
    "    'fifty-five': 55,\n",
    "    'fifty-two': 52,\n",
    "    'thirty-one': 31,\n",
    "    'thirty': 30,\n",
    "    'twenty-six': 26,\n",
    "    'thirty-seven': 37,\n",
    "    'thirty-two': 32,\n",
    "    'twenty-four': 24\n",
    "}\n",
    "df['Age'] = df['Age'].replace(reemplazos)\n",
    "\n",
    "#Columna 'Business_Travel'\n",
    "df['Business_Travel'] = df['Business_Travel'].str.replace('-',' ').str.replace('_',' ')\n",
    "\n",
    "#Columna 'Daily_Rate'\n",
    "df['Daily_Rate'] = df['Daily_Rate'].str.replace('$', '')\n",
    "\n",
<<<<<<< HEAD
    "#Columna 'Department'\n",
    "df['Department']=df['Department'].str.strip()\n",
    "\n",
=======
>>>>>>> d6bd9fd (Actualizar: Fase2.ipynb, Fase3_1.xlsx y HR_CLEAN_DATA.csv)
    "#Columna 'Distance_From_Home'\n",
    "df['Distance_From_Home'] = df['Distance_From_Home'].str.replace('-', '')\n",
    "\n",
    "#Columna 'Environment_Satisfaction'\n",
    "#Creamos 4 grupos diferentes\n",
    "for index, row in df.iterrows():\n",
    "    numero = int(row['Environment_Satisfaction'])\n",
    "    if numero < 10 and numero not in [2, 3, 4]:\n",
    "        df.loc[index, 'Environment_Satisfaction'] = 1\n",
    "    elif 10 <= numero <= 20:\n",
    "        df.loc[index, 'Environment_Satisfaction'] = 2\n",
    "    elif 20 < numero <= 30:\n",
    "        df.loc[index, 'Environment_Satisfaction'] = 3\n",
    "    elif 30 < numero <= 49:\n",
    "        df.loc[index, 'Environment_Satisfaction'] = 4\n",
    "\n",
    "#Columna 'Gender'        \n",
    "df['Gender'] = df['Gender'].replace({'0': 'M', '1': 'F'})\n",
<<<<<<< HEAD
<<<<<<< HEAD
    "\n",
    "#Columna 'Marital_Status'\n",
    "df['Marital_Status']= df['Marital_Status'].replace({'Marreid':'Married'})"
=======
    "df['Job_Role'] = df['Job_Role'].str.title()\n",
    "df['Marital_Status']= df['Marital_Status'].replace({'Marreid':'Married'}).str.title()\n",
    "df['Over_18'] = df['Over_18'].replace('Nan','Y')\n"
>>>>>>> 1d05b4e (Actualizar: Fase2.ipynb, Fase3_1.xlsx, HR_CLEAN_DATA.csv)
=======
    "\n",
    "#Columna 'Marital_Status'\n",
    "df['Marital_Status']= df['Marital_Status'].replace({'Marreid':'Married'})"
>>>>>>> d6bd9fd (Actualizar: Fase2.ipynb, Fase3_1.xlsx y HR_CLEAN_DATA.csv)
   ]
  },
  {
   "cell_type": "markdown",
   "metadata": {},
   "source": [
    "1.4.6 Str a .title()"
<<<<<<< HEAD
   ]
  },
  {
   "cell_type": "markdown",
   "metadata": {},
   "source": [
    "1.4.6.1 Int"
=======
>>>>>>> d6bd9fd (Actualizar: Fase2.ipynb, Fase3_1.xlsx y HR_CLEAN_DATA.csv)
   ]
  },
  {
   "cell_type": "code",
<<<<<<< HEAD
<<<<<<< HEAD
   "execution_count": 165,
=======
   "execution_count": 119,
>>>>>>> 1d05b4e (Actualizar: Fase2.ipynb, Fase3_1.xlsx, HR_CLEAN_DATA.csv)
=======
   "execution_count": 241,
>>>>>>> d6bd9fd (Actualizar: Fase2.ipynb, Fase3_1.xlsx y HR_CLEAN_DATA.csv)
   "metadata": {},
   "outputs": [],
   "source": [
    "lista_col_to_title = ['Business_Travel', 'Education_Field','Job_Role','Marital_Status']\n",
    "\n",
    "for col in lista_col_to_title:\n",
    "    df[col] = df[col].str.title()"
   ]
  },
  {
   "cell_type": "markdown",
   "metadata": {},
   "source": [
    "## 1.5 Cambio de nulos\n"
   ]
  },
  {
   "cell_type": "markdown",
   "metadata": {},
   "source": [
    "# creo lista de columnas\n",
    "columnas_nulos =['Department',]\n",
    " # creo la funcion\n",
    "def reemplazar_nulos_por_unknown(df, columnas_nulos):\n",
    "    for columna in columnas_nulos:\n",
    "        df[columna].fillna('unknown', inplace=True)\n",
    "        return df\n",
    "df  = reemplazar_nulos_por_unknown(df, columnas_nulos)"
   ]
  },
  {
   "cell_type": "markdown",
   "metadata": {},
   "source": [
    "1.5.1 Int"
   ]
  },
  {
   "cell_type": "code",
<<<<<<< HEAD
   "execution_count": 166,
=======
   "execution_count": 242,
>>>>>>> d6bd9fd (Actualizar: Fase2.ipynb, Fase3_1.xlsx y HR_CLEAN_DATA.csv)
   "metadata": {},
   "outputs": [],
   "source": [
    "lista_col_int_nulos=['Employee_Number','Hourly_Rate','Monthly_Income','Performance_Rating','Total_Working_Years','Work_Life_Balance']\n",
    "\n",
    "for col in lista_col_int_nulos:\n",
    "    df[col]=df[col].replace({'nan':99999,'NaN':99999, 'Not Available':99999})\n"
   ]
  },
  {
   "cell_type": "markdown",
   "metadata": {},
   "source": [
<<<<<<< HEAD
<<<<<<< HEAD
    "1.5.2 Categoricos"
=======
    "1.4.6.2 Categoricos"
=======
    "1.5.2 Categoricos"
>>>>>>> d6bd9fd (Actualizar: Fase2.ipynb, Fase3_1.xlsx y HR_CLEAN_DATA.csv)
   ]
  },
  {
   "cell_type": "code",
   "execution_count": 243,
   "metadata": {},
   "outputs": [],
   "source": [
    "lista_col_cat_nulos = ['Education_Field']\n",
    "\n",
    "for col in lista_col_cat_nulos:\n",
    "    df[col]=df[col].replace({'NaN':'Unknown'})"
   ]
  },
  {
   "cell_type": "markdown",
   "metadata": {},
   "source": [
<<<<<<< HEAD
    "1.4.7 Cambio a int"
>>>>>>> 1d05b4e (Actualizar: Fase2.ipynb, Fase3_1.xlsx, HR_CLEAN_DATA.csv)
=======
    "## 1.6 Cambio a formato deseado"
   ]
  },
  {
   "cell_type": "markdown",
   "metadata": {},
   "source": [
    "1.6.1 Cambio a int"
>>>>>>> d6bd9fd (Actualizar: Fase2.ipynb, Fase3_1.xlsx y HR_CLEAN_DATA.csv)
   ]
  },
  {
   "cell_type": "code",
<<<<<<< HEAD
<<<<<<< HEAD
   "execution_count": 167,
=======
   "execution_count": 121,
>>>>>>> 1d05b4e (Actualizar: Fase2.ipynb, Fase3_1.xlsx, HR_CLEAN_DATA.csv)
   "metadata": {},
   "outputs": [],
   "source": [
    "lista_col_cat_nulos = ['Education_Field']\n",
    "\n",
    "for col in lista_col_cat_nulos:\n",
    "    df[col]=df[col].replace({'NaN':'Unknown'})"
   ]
  },
  {
   "cell_type": "markdown",
   "metadata": {},
   "source": [
    "## 1.6 Cambio a formato deseado"
   ]
  },
  {
   "cell_type": "markdown",
   "metadata": {},
   "source": [
    "1.6.1 Cambio a int"
   ]
  },
  {
   "cell_type": "code",
   "execution_count": 168,
   "metadata": {},
   "outputs": [],
   "source": [
=======
   "execution_count": 244,
   "metadata": {},
   "outputs": [],
   "source": [
>>>>>>> d6bd9fd (Actualizar: Fase2.ipynb, Fase3_1.xlsx y HR_CLEAN_DATA.csv)
    "lista_col_to_int=['Age','Distance_From_Home','Employee_Number','Environment_Satisfaction','Hourly_Rate','Job_Involvement','Monthly_Income','Monthly_Rate','Total_Working_Years','Performance_Rating','Work_Life_Balance']\n",
    "\n",
    "for col in lista_col_to_int:\n",
    "    df[col] = df[col].astype(int)"
   ]
  },
  {
   "cell_type": "markdown",
   "metadata": {},
   "source": [
    "1.6.2 Cambio a float"
   ]
  },
  {
   "cell_type": "code",
<<<<<<< HEAD
<<<<<<< HEAD
   "execution_count": 169,
=======
   "execution_count": 122,
>>>>>>> 1d05b4e (Actualizar: Fase2.ipynb, Fase3_1.xlsx, HR_CLEAN_DATA.csv)
=======
   "execution_count": 245,
>>>>>>> d6bd9fd (Actualizar: Fase2.ipynb, Fase3_1.xlsx y HR_CLEAN_DATA.csv)
   "metadata": {},
   "outputs": [],
   "source": [
    "lista_col_to_float=['Daily_Rate']\n",
    "\n",
    "for col in lista_col_to_float:\n",
    "    df[col] = df[col].astype(float)"
   ]
  },
  {
   "cell_type": "markdown",
   "metadata": {},
   "source": [
    "1.6.3 Cambio a Bool"
   ]
  },
  {
   "cell_type": "code",
<<<<<<< HEAD
<<<<<<< HEAD
   "execution_count": 170,
=======
   "execution_count": 123,
>>>>>>> 1d05b4e (Actualizar: Fase2.ipynb, Fase3_1.xlsx, HR_CLEAN_DATA.csv)
=======
   "execution_count": 246,
>>>>>>> d6bd9fd (Actualizar: Fase2.ipynb, Fase3_1.xlsx y HR_CLEAN_DATA.csv)
   "metadata": {},
   "outputs": [],
   "source": [
    "lista_col_to_bool=['Remote_Work']\n",
    "\n",
    "for col in lista_col_to_bool:\n",
    "    df[col] = df[col].astype(bool)"
   ]
  },
  {
   "cell_type": "code",
<<<<<<< HEAD
   "execution_count": 171,
=======
   "execution_count": 247,
>>>>>>> d6bd9fd (Actualizar: Fase2.ipynb, Fase3_1.xlsx y HR_CLEAN_DATA.csv)
   "metadata": {},
   "outputs": [
    {
     "data": {
      "text/plain": [
       "Age                             int64\n",
       "Age_Group                      object\n",
       "Attrition                        bool\n",
       "Business_Travel                object\n",
       "Daily_Rate                    float64\n",
       "Department                     object\n",
       "Distance_From_Home              int64\n",
       "Education                       int64\n",
       "Education_Field                object\n",
       "Employee_Number                 int64\n",
       "Environment_Satisfaction        int64\n",
       "Gender                         object\n",
       "Hourly_Rate                     int64\n",
       "Job_Involvement                 int64\n",
       "Job_Level                       int64\n",
       "Job_Role                       object\n",
       "Job_Satisfaction                int64\n",
       "Marital_Status                 object\n",
       "Monthly_Income                  int64\n",
       "Monthly_Rate                    int64\n",
       "Num_Companies_Worked            int64\n",
       "Over_Time                      object\n",
       "Percent_Salary_Hike             int64\n",
       "Performance_Rating              int64\n",
       "Relationship_Satisfaction       int64\n",
       "Stock_Option_Level              int64\n",
       "Total_Working_Years             int64\n",
       "Training_Times_Last_Year        int64\n",
       "Work_Life_Balance               int64\n",
       "Years_At_Company                int64\n",
       "Years_Since_Last_Promotion      int64\n",
       "Years_With_Curr_Manager         int64\n",
       "Date_Birth                      int64\n",
       "Remote_Work                      bool\n",
       "dtype: object"
      ]
     },
<<<<<<< HEAD
     "execution_count": 171,
=======
     "execution_count": 247,
>>>>>>> d6bd9fd (Actualizar: Fase2.ipynb, Fase3_1.xlsx y HR_CLEAN_DATA.csv)
     "metadata": {},
     "output_type": "execute_result"
    }
   ],
   "source": [
    "# Comprobamos los dtypes del DF\n",
    "df.dtypes"
   ]
  },
  {
   "cell_type": "markdown",
   "metadata": {},
   "source": [
    "## Paso 2:Eliminamos duplicados"
   ]
  },
  {
   "cell_type": "code",
<<<<<<< HEAD
<<<<<<< HEAD
   "execution_count": 172,
=======
   "execution_count": 124,
>>>>>>> 1d05b4e (Actualizar: Fase2.ipynb, Fase3_1.xlsx, HR_CLEAN_DATA.csv)
=======
   "execution_count": 249,
>>>>>>> d6bd9fd (Actualizar: Fase2.ipynb, Fase3_1.xlsx y HR_CLEAN_DATA.csv)
   "metadata": {},
   "outputs": [
    {
     "data": {
      "text/plain": [
<<<<<<< HEAD
<<<<<<< HEAD
       "34"
      ]
     },
     "execution_count": 172,
=======
       "36"
      ]
     },
     "execution_count": 124,
>>>>>>> 1d05b4e (Actualizar: Fase2.ipynb, Fase3_1.xlsx, HR_CLEAN_DATA.csv)
=======
       "34"
      ]
     },
     "execution_count": 249,
>>>>>>> d6bd9fd (Actualizar: Fase2.ipynb, Fase3_1.xlsx y HR_CLEAN_DATA.csv)
     "metadata": {},
     "output_type": "execute_result"
    }
   ],
   "source": [
    "#Obtenemos el listado del nombre de las columnas del DF\n",
    "lista_col_names = set(df.columns.tolist())\n",
    "len(lista_col_names)"
   ]
  },
  {
   "cell_type": "code",
<<<<<<< HEAD
<<<<<<< HEAD
   "execution_count": 173,
=======
   "execution_count": 125,
>>>>>>> 1d05b4e (Actualizar: Fase2.ipynb, Fase3_1.xlsx, HR_CLEAN_DATA.csv)
=======
   "execution_count": 250,
>>>>>>> d6bd9fd (Actualizar: Fase2.ipynb, Fase3_1.xlsx y HR_CLEAN_DATA.csv)
   "metadata": {},
   "outputs": [
    {
     "data": {
      "text/html": [
       "<div>\n",
       "<style scoped>\n",
       "    .dataframe tbody tr th:only-of-type {\n",
       "        vertical-align: middle;\n",
       "    }\n",
       "\n",
       "    .dataframe tbody tr th {\n",
       "        vertical-align: top;\n",
       "    }\n",
       "\n",
       "    .dataframe thead th {\n",
       "        text-align: right;\n",
       "    }\n",
       "</style>\n",
       "<table border=\"1\" class=\"dataframe\">\n",
       "  <thead>\n",
       "    <tr style=\"text-align: right;\">\n",
       "      <th></th>\n",
       "      <th>Age</th>\n",
       "      <th>Age_Group</th>\n",
       "      <th>Attrition</th>\n",
       "      <th>Business_Travel</th>\n",
       "      <th>Daily_Rate</th>\n",
       "      <th>Department</th>\n",
       "      <th>Distance_From_Home</th>\n",
       "      <th>Education</th>\n",
       "      <th>Education_Field</th>\n",
       "      <th>Employee_Number</th>\n",
       "      <th>Environment_Satisfaction</th>\n",
       "      <th>Gender</th>\n",
       "      <th>Hourly_Rate</th>\n",
       "      <th>Job_Involvement</th>\n",
       "      <th>Job_Level</th>\n",
       "      <th>Job_Role</th>\n",
       "      <th>Job_Satisfaction</th>\n",
       "      <th>Marital_Status</th>\n",
       "      <th>Monthly_Income</th>\n",
       "      <th>Monthly_Rate</th>\n",
       "      <th>Num_Companies_Worked</th>\n",
       "      <th>Over_Time</th>\n",
       "      <th>Percent_Salary_Hike</th>\n",
       "      <th>Performance_Rating</th>\n",
       "      <th>Relationship_Satisfaction</th>\n",
       "      <th>Stock_Option_Level</th>\n",
       "      <th>Total_Working_Years</th>\n",
       "      <th>Training_Times_Last_Year</th>\n",
       "      <th>Work_Life_Balance</th>\n",
       "      <th>Years_At_Company</th>\n",
       "      <th>Years_Since_Last_Promotion</th>\n",
       "      <th>Years_With_Curr_Manager</th>\n",
       "      <th>Date_Birth</th>\n",
       "      <th>Remote_Work</th>\n",
       "    </tr>\n",
       "  </thead>\n",
       "  <tbody>\n",
       "    <tr>\n",
       "      <th>82</th>\n",
       "      <td>38</td>\n",
       "      <td></td>\n",
       "      <td>False</td>\n",
       "      <td>NaN</td>\n",
       "      <td>119.0</td>\n",
       "      <td>nan</td>\n",
       "      <td>3</td>\n",
       "      <td>3</td>\n",
       "      <td>Life Sciences</td>\n",
       "      <td>307</td>\n",
       "      <td>1</td>\n",
       "      <td>M</td>\n",
       "      <td>76</td>\n",
       "      <td>3</td>\n",
       "      <td>3</td>\n",
       "      <td>Sales Executive</td>\n",
       "      <td>3</td>\n",
       "      <td>Divorced</td>\n",
       "      <td>99999</td>\n",
       "      <td>9647</td>\n",
       "      <td>0</td>\n",
       "      <td>NaN</td>\n",
       "      <td>12</td>\n",
       "      <td>3</td>\n",
       "      <td>3</td>\n",
       "      <td>2</td>\n",
       "      <td>99999</td>\n",
       "      <td>6</td>\n",
       "      <td>2</td>\n",
       "      <td>16</td>\n",
       "      <td>5</td>\n",
       "      <td>13</td>\n",
       "      <td>1985</td>\n",
       "      <td>True</td>\n",
       "    </tr>\n",
       "    <tr>\n",
       "      <th>1474</th>\n",
       "      <td>38</td>\n",
       "      <td></td>\n",
       "      <td>False</td>\n",
       "      <td>NaN</td>\n",
       "      <td>119.0</td>\n",
       "      <td>nan</td>\n",
       "      <td>3</td>\n",
       "      <td>3</td>\n",
       "      <td>Life Sciences</td>\n",
       "      <td>307</td>\n",
       "      <td>1</td>\n",
       "      <td>M</td>\n",
       "      <td>76</td>\n",
       "      <td>3</td>\n",
       "      <td>3</td>\n",
       "      <td>Sales Executive</td>\n",
       "      <td>3</td>\n",
       "      <td>Divorced</td>\n",
       "      <td>99999</td>\n",
       "      <td>9647</td>\n",
       "      <td>0</td>\n",
       "      <td>NaN</td>\n",
       "      <td>12</td>\n",
       "      <td>3</td>\n",
       "      <td>3</td>\n",
       "      <td>2</td>\n",
       "      <td>99999</td>\n",
       "      <td>6</td>\n",
       "      <td>2</td>\n",
       "      <td>16</td>\n",
       "      <td>5</td>\n",
       "      <td>13</td>\n",
       "      <td>1985</td>\n",
       "      <td>True</td>\n",
       "    </tr>\n",
       "    <tr>\n",
       "      <th>1476</th>\n",
       "      <td>55</td>\n",
       "      <td></td>\n",
       "      <td>False</td>\n",
       "      <td>Travel Rarely</td>\n",
       "      <td>452.0</td>\n",
       "      <td>nan</td>\n",
       "      <td>1</td>\n",
       "      <td>3</td>\n",
       "      <td>Medical</td>\n",
       "      <td>374</td>\n",
       "      <td>4</td>\n",
       "      <td>M</td>\n",
       "      <td>81</td>\n",
       "      <td>3</td>\n",
       "      <td>5</td>\n",
       "      <td>Manager</td>\n",
       "      <td>1</td>\n",
       "      <td>Single</td>\n",
       "      <td>19045</td>\n",
       "      <td>18938</td>\n",
       "      <td>0</td>\n",
       "      <td>NaN</td>\n",
       "      <td>14</td>\n",
       "      <td>3</td>\n",
       "      <td>3</td>\n",
       "      <td>0</td>\n",
       "      <td>37</td>\n",
       "      <td>2</td>\n",
       "      <td>3</td>\n",
       "      <td>36</td>\n",
       "      <td>4</td>\n",
       "      <td>13</td>\n",
       "      <td>1968</td>\n",
       "      <td>True</td>\n",
       "    </tr>\n",
       "    <tr>\n",
       "      <th>84</th>\n",
       "      <td>55</td>\n",
       "      <td></td>\n",
       "      <td>False</td>\n",
       "      <td>Travel Rarely</td>\n",
       "      <td>452.0</td>\n",
       "      <td>nan</td>\n",
       "      <td>1</td>\n",
       "      <td>3</td>\n",
       "      <td>Medical</td>\n",
       "      <td>374</td>\n",
       "      <td>4</td>\n",
       "      <td>M</td>\n",
       "      <td>81</td>\n",
       "      <td>3</td>\n",
       "      <td>5</td>\n",
       "      <td>Manager</td>\n",
       "      <td>1</td>\n",
       "      <td>Single</td>\n",
       "      <td>19045</td>\n",
       "      <td>18938</td>\n",
       "      <td>0</td>\n",
       "      <td>NaN</td>\n",
       "      <td>14</td>\n",
       "      <td>3</td>\n",
       "      <td>3</td>\n",
       "      <td>0</td>\n",
       "      <td>37</td>\n",
       "      <td>2</td>\n",
       "      <td>3</td>\n",
       "      <td>36</td>\n",
       "      <td>4</td>\n",
       "      <td>13</td>\n",
       "      <td>1968</td>\n",
       "      <td>True</td>\n",
       "    </tr>\n",
       "    <tr>\n",
       "      <th>1542</th>\n",
       "      <td>47</td>\n",
       "      <td></td>\n",
       "      <td>True</td>\n",
       "      <td>Non Travel</td>\n",
       "      <td>666.0</td>\n",
       "      <td>nan</td>\n",
       "      <td>29</td>\n",
       "      <td>4</td>\n",
       "      <td>Life Sciences</td>\n",
       "      <td>376</td>\n",
       "      <td>1</td>\n",
       "      <td>M</td>\n",
       "      <td>88</td>\n",
       "      <td>3</td>\n",
       "      <td>3</td>\n",
       "      <td>Manager</td>\n",
       "      <td>2</td>\n",
       "      <td>Married</td>\n",
       "      <td>99999</td>\n",
       "      <td>10268</td>\n",
       "      <td>1</td>\n",
<<<<<<< HEAD
<<<<<<< HEAD
=======
       "      <td>nan</td>\n",
>>>>>>> 1d05b4e (Actualizar: Fase2.ipynb, Fase3_1.xlsx, HR_CLEAN_DATA.csv)
=======
>>>>>>> d6bd9fd (Actualizar: Fase2.ipynb, Fase3_1.xlsx y HR_CLEAN_DATA.csv)
       "      <td>NaN</td>\n",
       "      <td>12</td>\n",
       "      <td>3</td>\n",
       "      <td>4</td>\n",
       "      <td>1</td>\n",
       "      <td>99999</td>\n",
       "      <td>2</td>\n",
       "      <td>2</td>\n",
       "      <td>10</td>\n",
       "      <td>9</td>\n",
       "      <td>9</td>\n",
       "      <td>1976</td>\n",
       "      <td>False</td>\n",
       "    </tr>\n",
       "    <tr>\n",
       "      <th>...</th>\n",
       "      <td>...</td>\n",
       "      <td>...</td>\n",
       "      <td>...</td>\n",
       "      <td>...</td>\n",
       "      <td>...</td>\n",
       "      <td>...</td>\n",
       "      <td>...</td>\n",
       "      <td>...</td>\n",
       "      <td>...</td>\n",
       "      <td>...</td>\n",
       "      <td>...</td>\n",
       "      <td>...</td>\n",
       "      <td>...</td>\n",
       "      <td>...</td>\n",
       "      <td>...</td>\n",
       "      <td>...</td>\n",
       "      <td>...</td>\n",
       "      <td>...</td>\n",
       "      <td>...</td>\n",
       "      <td>...</td>\n",
       "      <td>...</td>\n",
       "      <td>...</td>\n",
       "      <td>...</td>\n",
       "      <td>...</td>\n",
       "      <td>...</td>\n",
       "      <td>...</td>\n",
       "      <td>...</td>\n",
       "      <td>...</td>\n",
       "      <td>...</td>\n",
       "      <td>...</td>\n",
       "      <td>...</td>\n",
       "      <td>...</td>\n",
       "      <td>...</td>\n",
       "      <td>...</td>\n",
<<<<<<< HEAD
<<<<<<< HEAD
=======
       "      <td>...</td>\n",
       "      <td>...</td>\n",
>>>>>>> 1d05b4e (Actualizar: Fase2.ipynb, Fase3_1.xlsx, HR_CLEAN_DATA.csv)
=======
>>>>>>> d6bd9fd (Actualizar: Fase2.ipynb, Fase3_1.xlsx y HR_CLEAN_DATA.csv)
       "    </tr>\n",
       "    <tr>\n",
       "      <th>614</th>\n",
       "      <td>35</td>\n",
       "      <td></td>\n",
       "      <td>False</td>\n",
       "      <td>Travel Rarely</td>\n",
       "      <td>528.0</td>\n",
       "      <td>nan</td>\n",
       "      <td>8</td>\n",
       "      <td>4</td>\n",
       "      <td>Technical Degree</td>\n",
       "      <td>99999</td>\n",
       "      <td>3</td>\n",
       "      <td>M</td>\n",
       "      <td>100</td>\n",
       "      <td>3</td>\n",
       "      <td>1</td>\n",
       "      <td>Human Resources</td>\n",
       "      <td>3</td>\n",
       "      <td>NaN</td>\n",
       "      <td>4323</td>\n",
       "      <td>7108</td>\n",
       "      <td>1</td>\n",
       "      <td>False</td>\n",
       "      <td>17</td>\n",
       "      <td>3</td>\n",
       "      <td>2</td>\n",
       "      <td>0</td>\n",
       "      <td>6</td>\n",
       "      <td>2</td>\n",
       "      <td>1</td>\n",
       "      <td>5</td>\n",
       "      <td>1</td>\n",
       "      <td>4</td>\n",
       "      <td>1988</td>\n",
       "      <td>True</td>\n",
       "    </tr>\n",
       "    <tr>\n",
       "      <th>610</th>\n",
       "      <td>54</td>\n",
       "      <td></td>\n",
       "      <td>False</td>\n",
       "      <td>NaN</td>\n",
       "      <td>1082.0</td>\n",
       "      <td>nan</td>\n",
       "      <td>2</td>\n",
       "      <td>4</td>\n",
       "      <td>Life Sciences</td>\n",
       "      <td>99999</td>\n",
       "      <td>3</td>\n",
       "      <td>F</td>\n",
       "      <td>41</td>\n",
       "      <td>2</td>\n",
       "      <td>3</td>\n",
       "      <td>Sales Executive</td>\n",
       "      <td>3</td>\n",
       "      <td>Married</td>\n",
       "      <td>99999</td>\n",
       "      <td>8392</td>\n",
       "      <td>6</td>\n",
       "      <td>False</td>\n",
       "      <td>11</td>\n",
       "      <td>3</td>\n",
       "      <td>2</td>\n",
       "      <td>1</td>\n",
       "      <td>13</td>\n",
       "      <td>4</td>\n",
       "      <td>3</td>\n",
       "      <td>9</td>\n",
       "      <td>7</td>\n",
       "      <td>0</td>\n",
       "      <td>1969</td>\n",
       "      <td>True</td>\n",
       "    </tr>\n",
       "    <tr>\n",
       "      <th>607</th>\n",
       "      <td>30</td>\n",
       "      <td></td>\n",
       "      <td>False</td>\n",
       "      <td>Travel Rarely</td>\n",
       "      <td>231.0</td>\n",
       "      <td>nan</td>\n",
       "      <td>8</td>\n",
       "      <td>2</td>\n",
       "      <td>NaN</td>\n",
       "      <td>99999</td>\n",
       "      <td>3</td>\n",
       "      <td>M</td>\n",
       "      <td>62</td>\n",
       "      <td>3</td>\n",
       "      <td>3</td>\n",
       "      <td>Sales Executive</td>\n",
       "      <td>3</td>\n",
       "      <td>NaN</td>\n",
       "      <td>99999</td>\n",
       "      <td>9977</td>\n",
       "      <td>5</td>\n",
<<<<<<< HEAD
<<<<<<< HEAD
=======
       "      <td>nan</td>\n",
>>>>>>> 1d05b4e (Actualizar: Fase2.ipynb, Fase3_1.xlsx, HR_CLEAN_DATA.csv)
=======
>>>>>>> d6bd9fd (Actualizar: Fase2.ipynb, Fase3_1.xlsx y HR_CLEAN_DATA.csv)
       "      <td>False</td>\n",
       "      <td>11</td>\n",
       "      <td>3</td>\n",
       "      <td>1</td>\n",
       "      <td>1</td>\n",
       "      <td>99999</td>\n",
       "      <td>2</td>\n",
       "      <td>4</td>\n",
       "      <td>8</td>\n",
       "      <td>7</td>\n",
       "      <td>7</td>\n",
       "      <td>1993</td>\n",
       "      <td>False</td>\n",
       "    </tr>\n",
       "    <tr>\n",
       "      <th>661</th>\n",
       "      <td>31</td>\n",
       "      <td></td>\n",
       "      <td>False</td>\n",
       "      <td>Non Travel</td>\n",
       "      <td>NaN</td>\n",
       "      <td>nan</td>\n",
       "      <td>5</td>\n",
       "      <td>3</td>\n",
       "      <td>Medical</td>\n",
       "      <td>99999</td>\n",
       "      <td>2</td>\n",
       "      <td>M</td>\n",
       "      <td>74</td>\n",
       "      <td>3</td>\n",
       "      <td>2</td>\n",
       "      <td>Manufacturing Director</td>\n",
       "      <td>1</td>\n",
       "      <td>NaN</td>\n",
       "      <td>9936</td>\n",
       "      <td>3787</td>\n",
       "      <td>0</td>\n",
       "      <td>False</td>\n",
       "      <td>19</td>\n",
       "      <td>3</td>\n",
       "      <td>2</td>\n",
       "      <td>0</td>\n",
       "      <td>10</td>\n",
       "      <td>2</td>\n",
       "      <td>3</td>\n",
       "      <td>9</td>\n",
       "      <td>1</td>\n",
       "      <td>7</td>\n",
       "      <td>1992</td>\n",
       "      <td>True</td>\n",
       "    </tr>\n",
       "    <tr>\n",
       "      <th>1613</th>\n",
       "      <td>46</td>\n",
       "      <td></td>\n",
       "      <td>False</td>\n",
       "      <td>NaN</td>\n",
       "      <td>566.0</td>\n",
       "      <td>nan</td>\n",
       "      <td>7</td>\n",
       "      <td>2</td>\n",
       "      <td>Medical</td>\n",
       "      <td>99999</td>\n",
       "      <td>4</td>\n",
       "      <td>M</td>\n",
       "      <td>75</td>\n",
       "      <td>3</td>\n",
       "      <td>3</td>\n",
       "      <td>Manufacturing Director</td>\n",
       "      <td>3</td>\n",
       "      <td>NaN</td>\n",
       "      <td>10845</td>\n",
       "      <td>24208</td>\n",
       "      <td>6</td>\n",
       "      <td>NaN</td>\n",
       "      <td>13</td>\n",
       "      <td>3</td>\n",
       "      <td>2</td>\n",
       "      <td>1</td>\n",
       "      <td>99999</td>\n",
       "      <td>3</td>\n",
       "      <td>3</td>\n",
       "      <td>8</td>\n",
       "      <td>0</td>\n",
       "      <td>7</td>\n",
       "      <td>1977</td>\n",
       "      <td>False</td>\n",
       "    </tr>\n",
       "  </tbody>\n",
       "</table>\n",
<<<<<<< HEAD
<<<<<<< HEAD
       "<p>639 rows × 34 columns</p>\n",
=======
       "<p>639 rows × 36 columns</p>\n",
>>>>>>> 1d05b4e (Actualizar: Fase2.ipynb, Fase3_1.xlsx, HR_CLEAN_DATA.csv)
=======
       "<p>639 rows × 34 columns</p>\n",
>>>>>>> d6bd9fd (Actualizar: Fase2.ipynb, Fase3_1.xlsx y HR_CLEAN_DATA.csv)
       "</div>"
      ],
      "text/plain": [
       "      Age Age_Group  Attrition Business_Travel  Daily_Rate Department  \\\n",
       "82     38                False             NaN       119.0        nan   \n",
       "1474   38                False             NaN       119.0        nan   \n",
<<<<<<< HEAD
<<<<<<< HEAD
       "1476   55                False   Travel Rarely       452.0        nan   \n",
       "84     55                False   Travel Rarely       452.0        nan   \n",
       "1542   47                 True      Non Travel       666.0        nan   \n",
       "...   ...       ...        ...             ...         ...        ...   \n",
       "614    35                False   Travel Rarely       528.0        nan   \n",
       "610    54                False             NaN      1082.0        nan   \n",
       "607    30                False   Travel Rarely       231.0        nan   \n",
       "661    31                False      Non Travel         NaN        nan   \n",
=======
       "1476   55                False   Travel_Rarely       452.0        nan   \n",
       "84     55                False   Travel_Rarely       452.0        nan   \n",
       "1542   47                 True      Non_Travel       666.0        nan   \n",
=======
       "1476   55                False   Travel Rarely       452.0        nan   \n",
       "84     55                False   Travel Rarely       452.0        nan   \n",
       "1542   47                 True      Non Travel       666.0        nan   \n",
>>>>>>> d6bd9fd (Actualizar: Fase2.ipynb, Fase3_1.xlsx y HR_CLEAN_DATA.csv)
       "...   ...       ...        ...             ...         ...        ...   \n",
       "614    35                False   Travel Rarely       528.0        nan   \n",
       "610    54                False             NaN      1082.0        nan   \n",
<<<<<<< HEAD
       "607    30                False   Travel_Rarely       231.0        nan   \n",
       "661    31                False      Non_Travel         NaN        nan   \n",
>>>>>>> 1d05b4e (Actualizar: Fase2.ipynb, Fase3_1.xlsx, HR_CLEAN_DATA.csv)
=======
       "607    30                False   Travel Rarely       231.0        nan   \n",
       "661    31                False      Non Travel         NaN        nan   \n",
>>>>>>> d6bd9fd (Actualizar: Fase2.ipynb, Fase3_1.xlsx y HR_CLEAN_DATA.csv)
       "1613   46                False             NaN       566.0        nan   \n",
       "\n",
       "      Distance_From_Home  Education   Education_Field  Employee_Number  \\\n",
       "82                     3          3     Life Sciences              307   \n",
       "1474                   3          3     Life Sciences              307   \n",
       "1476                   1          3           Medical              374   \n",
       "84                     1          3           Medical              374   \n",
       "1542                  29          4     Life Sciences              376   \n",
       "...                  ...        ...               ...              ...   \n",
       "614                    8          4  Technical Degree            99999   \n",
       "610                    2          4     Life Sciences            99999   \n",
       "607                    8          2               NaN            99999   \n",
       "661                    5          3           Medical            99999   \n",
       "1613                   7          2           Medical            99999   \n",
       "\n",
       "      Environment_Satisfaction Gender  Hourly_Rate  Job_Involvement  \\\n",
       "82                           1      M           76                3   \n",
       "1474                         1      M           76                3   \n",
       "1476                         4      M           81                3   \n",
       "84                           4      M           81                3   \n",
       "1542                         1      M           88                3   \n",
       "...                        ...    ...          ...              ...   \n",
       "614                          3      M          100                3   \n",
       "610                          3      F           41                2   \n",
       "607                          3      M           62                3   \n",
       "661                          2      M           74                3   \n",
       "1613                         4      M           75                3   \n",
       "\n",
       "      Job_Level                  Job_Role  Job_Satisfaction Marital_Status  \\\n",
       "82            3          Sales Executive                  3       Divorced   \n",
       "1474          3          Sales Executive                  3       Divorced   \n",
       "1476          5                  Manager                  1         Single   \n",
       "84            5                  Manager                  1         Single   \n",
       "1542          3                  Manager                  2        Married   \n",
       "...         ...                       ...               ...            ...   \n",
       "614           1          Human Resources                  3            NaN   \n",
       "610           3          Sales Executive                  3        Married   \n",
       "607           3          Sales Executive                  3            NaN   \n",
       "661           2   Manufacturing Director                  1            NaN   \n",
       "1613          3   Manufacturing Director                  3            NaN   \n",
       "\n",
<<<<<<< HEAD
<<<<<<< HEAD
=======
>>>>>>> d6bd9fd (Actualizar: Fase2.ipynb, Fase3_1.xlsx y HR_CLEAN_DATA.csv)
       "      Monthly_Income  Monthly_Rate  Num_Companies_Worked Over_Time  \\\n",
       "82             99999          9647                     0       NaN   \n",
       "1474           99999          9647                     0       NaN   \n",
       "1476           19045         18938                     0       NaN   \n",
       "84             19045         18938                     0       NaN   \n",
       "1542           99999         10268                     1       NaN   \n",
       "...              ...           ...                   ...       ...   \n",
       "614             4323          7108                     1     False   \n",
       "610            99999          8392                     6     False   \n",
       "607            99999          9977                     5     False   \n",
       "661             9936          3787                     0     False   \n",
       "1613           10845         24208                     6       NaN   \n",
<<<<<<< HEAD
=======
       "      Monthly_Income  Monthly_Rate  Num_Companies_Worked Over_18 Over_Time  \\\n",
       "82               NaN        9647.0                     0       Y       NaN   \n",
       "1474             NaN        9647.0                     0       Y       NaN   \n",
       "1476         19045.0       18938.0                     0       Y       NaN   \n",
       "84           19045.0       18938.0                     0       Y       NaN   \n",
       "1542             NaN       10268.0                     1     nan       NaN   \n",
       "...              ...           ...                   ...     ...       ...   \n",
       "614           4323.0        7108.0                     1       Y     False   \n",
       "610              NaN        8392.0                     6       Y     False   \n",
       "607              NaN        9977.0                     5     nan     False   \n",
       "661           9936.0        3787.0                     0       Y     False   \n",
       "1613         10845.0       24208.0                     6       Y       NaN   \n",
>>>>>>> 1d05b4e (Actualizar: Fase2.ipynb, Fase3_1.xlsx, HR_CLEAN_DATA.csv)
=======
>>>>>>> d6bd9fd (Actualizar: Fase2.ipynb, Fase3_1.xlsx y HR_CLEAN_DATA.csv)
       "\n",
       "      Percent_Salary_Hike  Performance_Rating  Relationship_Satisfaction  \\\n",
       "82                     12                   3                          3   \n",
       "1474                   12                   3                          3   \n",
       "1476                   14                   3                          3   \n",
       "84                     14                   3                          3   \n",
       "1542                   12                   3                          4   \n",
       "...                   ...                 ...                        ...   \n",
       "614                    17                   3                          2   \n",
       "610                    11                   3                          2   \n",
       "607                    11                   3                          1   \n",
       "661                    19                   3                          2   \n",
       "1613                   13                   3                          2   \n",
       "\n",
       "      Stock_Option_Level  Total_Working_Years  Training_Times_Last_Year  \\\n",
       "82                     2                99999                         6   \n",
       "1474                   2                99999                         6   \n",
       "1476                   0                   37                         2   \n",
       "84                     0                   37                         2   \n",
       "1542                   1                99999                         2   \n",
       "...                  ...                  ...                       ...   \n",
       "614                    0                    6                         2   \n",
       "610                    1                   13                         4   \n",
       "607                    1                99999                         2   \n",
       "661                    0                   10                         2   \n",
       "1613                   1                99999                         3   \n",
       "\n",
       "      Work_Life_Balance  Years_At_Company  Years_Since_Last_Promotion  \\\n",
       "82                    2                16                           5   \n",
       "1474                  2                16                           5   \n",
       "1476                  3                36                           4   \n",
       "84                    3                36                           4   \n",
       "1542                  2                10                           9   \n",
       "...                 ...               ...                         ...   \n",
       "614                   1                 5                           1   \n",
       "610                   3                 9                           7   \n",
       "607                   4                 8                           7   \n",
       "661                   3                 9                           1   \n",
       "1613                  3                 8                           0   \n",
       "\n",
       "      Years_With_Curr_Manager  Date_Birth  Remote_Work  \n",
       "82                         13        1985         True  \n",
       "1474                       13        1985         True  \n",
       "1476                       13        1968         True  \n",
       "84                         13        1968         True  \n",
       "1542                        9        1976        False  \n",
       "...                       ...         ...          ...  \n",
       "614                         4        1988         True  \n",
       "610                         0        1969         True  \n",
       "607                         7        1993        False  \n",
       "661                         7        1992         True  \n",
       "1613                        7        1977        False  \n",
       "\n",
<<<<<<< HEAD
<<<<<<< HEAD
       "[639 rows x 34 columns]"
      ]
     },
     "execution_count": 173,
=======
       "      Remote_Work  \n",
       "82           True  \n",
       "1474         True  \n",
       "1476         True  \n",
       "84           True  \n",
       "1542        False  \n",
       "...           ...  \n",
       "614          True  \n",
       "610          True  \n",
       "607         False  \n",
       "661          True  \n",
       "1613        False  \n",
       "\n",
       "[639 rows x 36 columns]"
      ]
     },
     "execution_count": 125,
>>>>>>> 1d05b4e (Actualizar: Fase2.ipynb, Fase3_1.xlsx, HR_CLEAN_DATA.csv)
=======
       "[639 rows x 34 columns]"
      ]
     },
     "execution_count": 250,
>>>>>>> d6bd9fd (Actualizar: Fase2.ipynb, Fase3_1.xlsx y HR_CLEAN_DATA.csv)
     "metadata": {},
     "output_type": "execute_result"
    }
   ],
   "source": [
    "#Obtenemos un df de los duplicados\n",
    "df_duplicados = df[df['Employee_Number'].isin(df['Employee_Number'][df['Employee_Number'].duplicated()])].sort_values('Employee_Number')\n",
    "df_duplicados"
   ]
  },
  {
   "cell_type": "code",
<<<<<<< HEAD
<<<<<<< HEAD
   "execution_count": 174,
=======
   "execution_count": 126,
>>>>>>> 1d05b4e (Actualizar: Fase2.ipynb, Fase3_1.xlsx, HR_CLEAN_DATA.csv)
=======
   "execution_count": 251,
>>>>>>> d6bd9fd (Actualizar: Fase2.ipynb, Fase3_1.xlsx y HR_CLEAN_DATA.csv)
   "metadata": {},
   "outputs": [
    {
     "data": {
      "text/plain": [
       "534"
      ]
     },
<<<<<<< HEAD
<<<<<<< HEAD
     "execution_count": 174,
=======
     "execution_count": 126,
>>>>>>> 1d05b4e (Actualizar: Fase2.ipynb, Fase3_1.xlsx, HR_CLEAN_DATA.csv)
=======
     "execution_count": 251,
>>>>>>> d6bd9fd (Actualizar: Fase2.ipynb, Fase3_1.xlsx y HR_CLEAN_DATA.csv)
     "metadata": {},
     "output_type": "execute_result"
    }
   ],
   "source": [
    "#Comprobamos cuantos duplicados tenemos en 'Employee_Number' \n",
    "df['Employee_Number'].duplicated().sum()"
   ]
  },
  {
   "cell_type": "code",
<<<<<<< HEAD
<<<<<<< HEAD
   "execution_count": 175,
=======
   "execution_count": 127,
>>>>>>> 1d05b4e (Actualizar: Fase2.ipynb, Fase3_1.xlsx, HR_CLEAN_DATA.csv)
=======
   "execution_count": 252,
>>>>>>> d6bd9fd (Actualizar: Fase2.ipynb, Fase3_1.xlsx y HR_CLEAN_DATA.csv)
   "metadata": {},
   "outputs": [
    {
     "data": {
      "text/plain": [
       "431"
      ]
     },
<<<<<<< HEAD
<<<<<<< HEAD
     "execution_count": 175,
=======
     "execution_count": 127,
>>>>>>> 1d05b4e (Actualizar: Fase2.ipynb, Fase3_1.xlsx, HR_CLEAN_DATA.csv)
=======
     "execution_count": 252,
>>>>>>> d6bd9fd (Actualizar: Fase2.ipynb, Fase3_1.xlsx y HR_CLEAN_DATA.csv)
     "metadata": {},
     "output_type": "execute_result"
    }
   ],
   "source": [
    "#Comprobamos la cantidad que tenemos de 'Employee_Number'==99999\n",
    "df[df['Employee_Number']==99999].shape[0]"
   ]
  },
  {
   "cell_type": "markdown",
   "metadata": {},
   "source": [
    "### 2.1 Situación 1: Todas las columnas son iguales"
   ]
  },
  {
   "cell_type": "code",
<<<<<<< HEAD
<<<<<<< HEAD
   "execution_count": 176,
=======
   "execution_count": 128,
>>>>>>> 1d05b4e (Actualizar: Fase2.ipynb, Fase3_1.xlsx, HR_CLEAN_DATA.csv)
=======
   "execution_count": 253,
>>>>>>> d6bd9fd (Actualizar: Fase2.ipynb, Fase3_1.xlsx y HR_CLEAN_DATA.csv)
   "metadata": {},
   "outputs": [
    {
     "data": {
      "text/plain": [
       "51"
      ]
     },
<<<<<<< HEAD
<<<<<<< HEAD
     "execution_count": 176,
=======
     "execution_count": 128,
>>>>>>> 1d05b4e (Actualizar: Fase2.ipynb, Fase3_1.xlsx, HR_CLEAN_DATA.csv)
=======
     "execution_count": 253,
>>>>>>> d6bd9fd (Actualizar: Fase2.ipynb, Fase3_1.xlsx y HR_CLEAN_DATA.csv)
     "metadata": {},
     "output_type": "execute_result"
    }
   ],
   "source": [
    "#Comprobamos el número de duplicados en el DF\n",
    "df.duplicated().sum()"
   ]
  },
  {
   "cell_type": "code",
<<<<<<< HEAD
<<<<<<< HEAD
   "execution_count": 177,
=======
   "execution_count": 129,
>>>>>>> 1d05b4e (Actualizar: Fase2.ipynb, Fase3_1.xlsx, HR_CLEAN_DATA.csv)
=======
   "execution_count": 254,
>>>>>>> d6bd9fd (Actualizar: Fase2.ipynb, Fase3_1.xlsx y HR_CLEAN_DATA.csv)
   "metadata": {},
   "outputs": [],
   "source": [
    "#Eliminamos los duplicados \n",
    "df.drop_duplicates(keep='last',inplace=True)"
   ]
  },
  {
   "cell_type": "code",
<<<<<<< HEAD
<<<<<<< HEAD
   "execution_count": 178,
=======
   "execution_count": 130,
>>>>>>> 1d05b4e (Actualizar: Fase2.ipynb, Fase3_1.xlsx, HR_CLEAN_DATA.csv)
=======
   "execution_count": 255,
>>>>>>> d6bd9fd (Actualizar: Fase2.ipynb, Fase3_1.xlsx y HR_CLEAN_DATA.csv)
   "metadata": {},
   "outputs": [
    {
     "data": {
      "text/plain": [
       "0"
      ]
     },
<<<<<<< HEAD
<<<<<<< HEAD
     "execution_count": 178,
=======
     "execution_count": 130,
>>>>>>> 1d05b4e (Actualizar: Fase2.ipynb, Fase3_1.xlsx, HR_CLEAN_DATA.csv)
=======
     "execution_count": 255,
>>>>>>> d6bd9fd (Actualizar: Fase2.ipynb, Fase3_1.xlsx y HR_CLEAN_DATA.csv)
     "metadata": {},
     "output_type": "execute_result"
    }
   ],
   "source": [
    "#Comprobamos el número de duplicados en el DF\n",
    "df.duplicated().sum()"
   ]
  },
  {
   "cell_type": "markdown",
   "metadata": {},
   "source": [
    "### 2.2 Situación 2:Columna 'Distance_From_Home' diferente"
   ]
  },
  {
   "cell_type": "code",
<<<<<<< HEAD
<<<<<<< HEAD
   "execution_count": 179,
=======
   "execution_count": 131,
>>>>>>> 1d05b4e (Actualizar: Fase2.ipynb, Fase3_1.xlsx, HR_CLEAN_DATA.csv)
=======
   "execution_count": 256,
>>>>>>> d6bd9fd (Actualizar: Fase2.ipynb, Fase3_1.xlsx y HR_CLEAN_DATA.csv)
   "metadata": {},
   "outputs": [
    {
     "data": {
      "text/plain": [
<<<<<<< HEAD
<<<<<<< HEAD
       "33"
      ]
     },
     "execution_count": 179,
=======
       "35"
      ]
     },
     "execution_count": 131,
>>>>>>> 1d05b4e (Actualizar: Fase2.ipynb, Fase3_1.xlsx, HR_CLEAN_DATA.csv)
=======
       "33"
      ]
     },
     "execution_count": 256,
>>>>>>> d6bd9fd (Actualizar: Fase2.ipynb, Fase3_1.xlsx y HR_CLEAN_DATA.csv)
     "metadata": {},
     "output_type": "execute_result"
    }
   ],
   "source": [
    "#Creamos la lista con el subset de columnas a analizar\n",
    "lista_columnas_2 = set(lista_col_names)\n",
    "lista_columnas_2.remove('Distance_From_Home')\n",
    "len(lista_columnas_2)"
   ]
  },
  {
   "cell_type": "code",
<<<<<<< HEAD
<<<<<<< HEAD
   "execution_count": 180,
=======
   "execution_count": 132,
>>>>>>> 1d05b4e (Actualizar: Fase2.ipynb, Fase3_1.xlsx, HR_CLEAN_DATA.csv)
=======
   "execution_count": 257,
>>>>>>> d6bd9fd (Actualizar: Fase2.ipynb, Fase3_1.xlsx y HR_CLEAN_DATA.csv)
   "metadata": {},
   "outputs": [
    {
     "data": {
      "text/plain": [
       "16"
      ]
     },
<<<<<<< HEAD
<<<<<<< HEAD
     "execution_count": 180,
=======
     "execution_count": 132,
>>>>>>> 1d05b4e (Actualizar: Fase2.ipynb, Fase3_1.xlsx, HR_CLEAN_DATA.csv)
=======
     "execution_count": 257,
>>>>>>> d6bd9fd (Actualizar: Fase2.ipynb, Fase3_1.xlsx y HR_CLEAN_DATA.csv)
     "metadata": {},
     "output_type": "execute_result"
    }
   ],
   "source": [
    "#Comprobamos el numero de duplicados en el subset\n",
    "df[lista_columnas_2].duplicated().sum()"
   ]
  },
  {
   "cell_type": "code",
<<<<<<< HEAD
<<<<<<< HEAD
   "execution_count": 181,
=======
   "execution_count": 133,
>>>>>>> 1d05b4e (Actualizar: Fase2.ipynb, Fase3_1.xlsx, HR_CLEAN_DATA.csv)
=======
   "execution_count": 258,
>>>>>>> d6bd9fd (Actualizar: Fase2.ipynb, Fase3_1.xlsx y HR_CLEAN_DATA.csv)
   "metadata": {},
   "outputs": [],
   "source": [
    "#Eliminamos los duplicados del subset\n",
    "df.drop_duplicates(subset=lista_columnas_2, keep='last',inplace=True)"
   ]
  },
  {
   "cell_type": "code",
<<<<<<< HEAD
<<<<<<< HEAD
   "execution_count": 182,
=======
   "execution_count": 134,
>>>>>>> 1d05b4e (Actualizar: Fase2.ipynb, Fase3_1.xlsx, HR_CLEAN_DATA.csv)
=======
   "execution_count": 259,
>>>>>>> d6bd9fd (Actualizar: Fase2.ipynb, Fase3_1.xlsx y HR_CLEAN_DATA.csv)
   "metadata": {},
   "outputs": [
    {
     "data": {
      "text/plain": [
       "0"
      ]
     },
<<<<<<< HEAD
<<<<<<< HEAD
     "execution_count": 182,
=======
     "execution_count": 134,
>>>>>>> 1d05b4e (Actualizar: Fase2.ipynb, Fase3_1.xlsx, HR_CLEAN_DATA.csv)
=======
     "execution_count": 259,
>>>>>>> d6bd9fd (Actualizar: Fase2.ipynb, Fase3_1.xlsx y HR_CLEAN_DATA.csv)
     "metadata": {},
     "output_type": "execute_result"
    }
   ],
   "source": [
    "#Comprobamos el numero de duplicados en el subset\n",
    "df[lista_columnas_2].duplicated().sum()"
   ]
  },
  {
   "cell_type": "markdown",
   "metadata": {},
   "source": [
    "### 2.3 Situación 3: Columnas 'Remote_Work' diferente"
   ]
  },
  {
   "cell_type": "code",
<<<<<<< HEAD
<<<<<<< HEAD
   "execution_count": 183,
=======
   "execution_count": 135,
>>>>>>> 1d05b4e (Actualizar: Fase2.ipynb, Fase3_1.xlsx, HR_CLEAN_DATA.csv)
=======
   "execution_count": 260,
>>>>>>> d6bd9fd (Actualizar: Fase2.ipynb, Fase3_1.xlsx y HR_CLEAN_DATA.csv)
   "metadata": {},
   "outputs": [
    {
     "data": {
      "text/plain": [
<<<<<<< HEAD
<<<<<<< HEAD
       "33"
      ]
     },
     "execution_count": 183,
=======
       "35"
      ]
     },
     "execution_count": 135,
>>>>>>> 1d05b4e (Actualizar: Fase2.ipynb, Fase3_1.xlsx, HR_CLEAN_DATA.csv)
=======
       "33"
      ]
     },
     "execution_count": 260,
>>>>>>> d6bd9fd (Actualizar: Fase2.ipynb, Fase3_1.xlsx y HR_CLEAN_DATA.csv)
     "metadata": {},
     "output_type": "execute_result"
    }
   ],
   "source": [
    "#Creamos la lista con el subset de columnas a analizar\n",
    "lista_columnas_3 = set(lista_col_names)\n",
    "lista_columnas_3.remove('Remote_Work')\n",
    "len(lista_columnas_3)"
   ]
  },
  {
   "cell_type": "code",
<<<<<<< HEAD
<<<<<<< HEAD
   "execution_count": 184,
=======
   "execution_count": 136,
>>>>>>> 1d05b4e (Actualizar: Fase2.ipynb, Fase3_1.xlsx, HR_CLEAN_DATA.csv)
=======
   "execution_count": 261,
>>>>>>> d6bd9fd (Actualizar: Fase2.ipynb, Fase3_1.xlsx y HR_CLEAN_DATA.csv)
   "metadata": {},
   "outputs": [
    {
     "data": {
      "text/plain": [
       "48"
      ]
     },
<<<<<<< HEAD
<<<<<<< HEAD
     "execution_count": 184,
=======
     "execution_count": 136,
>>>>>>> 1d05b4e (Actualizar: Fase2.ipynb, Fase3_1.xlsx, HR_CLEAN_DATA.csv)
=======
     "execution_count": 261,
>>>>>>> d6bd9fd (Actualizar: Fase2.ipynb, Fase3_1.xlsx y HR_CLEAN_DATA.csv)
     "metadata": {},
     "output_type": "execute_result"
    }
   ],
   "source": [
    "#Comprobamos el numero de duplicados en el subset\n",
    "df[lista_columnas_3].duplicated().sum()"
   ]
  },
  {
   "cell_type": "code",
<<<<<<< HEAD
<<<<<<< HEAD
   "execution_count": 185,
=======
   "execution_count": 137,
>>>>>>> 1d05b4e (Actualizar: Fase2.ipynb, Fase3_1.xlsx, HR_CLEAN_DATA.csv)
=======
   "execution_count": 262,
>>>>>>> d6bd9fd (Actualizar: Fase2.ipynb, Fase3_1.xlsx y HR_CLEAN_DATA.csv)
   "metadata": {},
   "outputs": [],
   "source": [
    "#Eliminamos los duplicados del subset\n",
    "df.drop_duplicates(subset=lista_columnas_3,keep='last',inplace=True)"
   ]
  },
  {
   "cell_type": "code",
<<<<<<< HEAD
<<<<<<< HEAD
   "execution_count": 186,
=======
   "execution_count": 138,
>>>>>>> 1d05b4e (Actualizar: Fase2.ipynb, Fase3_1.xlsx, HR_CLEAN_DATA.csv)
=======
   "execution_count": 263,
>>>>>>> d6bd9fd (Actualizar: Fase2.ipynb, Fase3_1.xlsx y HR_CLEAN_DATA.csv)
   "metadata": {},
   "outputs": [
    {
     "data": {
      "text/plain": [
       "0"
      ]
     },
<<<<<<< HEAD
<<<<<<< HEAD
     "execution_count": 186,
=======
     "execution_count": 138,
>>>>>>> 1d05b4e (Actualizar: Fase2.ipynb, Fase3_1.xlsx, HR_CLEAN_DATA.csv)
=======
     "execution_count": 263,
>>>>>>> d6bd9fd (Actualizar: Fase2.ipynb, Fase3_1.xlsx y HR_CLEAN_DATA.csv)
     "metadata": {},
     "output_type": "execute_result"
    }
   ],
   "source": [
    "#Comprobamos el numero de duplicados en el subset\n",
    "df[lista_columnas_3].duplicated().sum()"
   ]
  },
  {
   "cell_type": "markdown",
   "metadata": {},
   "source": [
    "### 2.4 Situación 4: Columna 'Distance_From_Home' & 'Remote_Work' diferentes"
   ]
  },
  {
   "cell_type": "code",
<<<<<<< HEAD
<<<<<<< HEAD
   "execution_count": 187,
=======
   "execution_count": 139,
>>>>>>> 1d05b4e (Actualizar: Fase2.ipynb, Fase3_1.xlsx, HR_CLEAN_DATA.csv)
=======
   "execution_count": 264,
>>>>>>> d6bd9fd (Actualizar: Fase2.ipynb, Fase3_1.xlsx y HR_CLEAN_DATA.csv)
   "metadata": {},
   "outputs": [
    {
     "data": {
      "text/plain": [
<<<<<<< HEAD
<<<<<<< HEAD
       "32"
      ]
     },
     "execution_count": 187,
=======
       "34"
      ]
     },
     "execution_count": 139,
>>>>>>> 1d05b4e (Actualizar: Fase2.ipynb, Fase3_1.xlsx, HR_CLEAN_DATA.csv)
=======
       "32"
      ]
     },
     "execution_count": 264,
>>>>>>> d6bd9fd (Actualizar: Fase2.ipynb, Fase3_1.xlsx y HR_CLEAN_DATA.csv)
     "metadata": {},
     "output_type": "execute_result"
    }
   ],
   "source": [
    "#Creamos la lista con el subset de columnas a analizar\n",
    "lista_columnas_4 = set(lista_col_names)\n",
    "lista_columnas_4.remove('Distance_From_Home')\n",
    "lista_columnas_4.remove('Remote_Work')\n",
    "len(lista_columnas_4)"
   ]
  },
  {
   "cell_type": "code",
<<<<<<< HEAD
<<<<<<< HEAD
   "execution_count": 188,
=======
   "execution_count": 140,
>>>>>>> 1d05b4e (Actualizar: Fase2.ipynb, Fase3_1.xlsx, HR_CLEAN_DATA.csv)
=======
   "execution_count": 265,
>>>>>>> d6bd9fd (Actualizar: Fase2.ipynb, Fase3_1.xlsx y HR_CLEAN_DATA.csv)
   "metadata": {},
   "outputs": [
    {
     "data": {
      "text/plain": [
       "6"
      ]
     },
<<<<<<< HEAD
<<<<<<< HEAD
     "execution_count": 188,
=======
     "execution_count": 140,
>>>>>>> 1d05b4e (Actualizar: Fase2.ipynb, Fase3_1.xlsx, HR_CLEAN_DATA.csv)
=======
     "execution_count": 265,
>>>>>>> d6bd9fd (Actualizar: Fase2.ipynb, Fase3_1.xlsx y HR_CLEAN_DATA.csv)
     "metadata": {},
     "output_type": "execute_result"
    }
   ],
   "source": [
    "#Comprobamos el numero de duplicados en el subset\n",
    "df[lista_columnas_4].duplicated().sum()"
   ]
  },
  {
   "cell_type": "code",
<<<<<<< HEAD
<<<<<<< HEAD
   "execution_count": 189,
=======
   "execution_count": 141,
>>>>>>> 1d05b4e (Actualizar: Fase2.ipynb, Fase3_1.xlsx, HR_CLEAN_DATA.csv)
=======
   "execution_count": 266,
>>>>>>> d6bd9fd (Actualizar: Fase2.ipynb, Fase3_1.xlsx y HR_CLEAN_DATA.csv)
   "metadata": {},
   "outputs": [],
   "source": [
    "#Eliminamos los duplicados del subset\n",
    "df.drop_duplicates(subset=lista_columnas_4,keep='last',inplace=True)"
   ]
  },
  {
   "cell_type": "code",
<<<<<<< HEAD
<<<<<<< HEAD
   "execution_count": 190,
=======
   "execution_count": 142,
>>>>>>> 1d05b4e (Actualizar: Fase2.ipynb, Fase3_1.xlsx, HR_CLEAN_DATA.csv)
=======
   "execution_count": 267,
>>>>>>> d6bd9fd (Actualizar: Fase2.ipynb, Fase3_1.xlsx y HR_CLEAN_DATA.csv)
   "metadata": {},
   "outputs": [
    {
     "data": {
      "text/plain": [
       "0"
      ]
     },
<<<<<<< HEAD
<<<<<<< HEAD
     "execution_count": 190,
=======
     "execution_count": 142,
>>>>>>> 1d05b4e (Actualizar: Fase2.ipynb, Fase3_1.xlsx, HR_CLEAN_DATA.csv)
=======
     "execution_count": 267,
>>>>>>> d6bd9fd (Actualizar: Fase2.ipynb, Fase3_1.xlsx y HR_CLEAN_DATA.csv)
     "metadata": {},
     "output_type": "execute_result"
    }
   ],
   "source": [
    "#Comprobamos el numero de duplicados en el subset\n",
    "df[lista_columnas_4].duplicated().sum()"
   ]
  },
  {
   "cell_type": "markdown",
   "metadata": {},
   "source": [
    "### 2.5 Situación 5: Columna 'Hourly_Rate' == 'Not_Available'"
   ]
  },
  {
   "cell_type": "code",
<<<<<<< HEAD
<<<<<<< HEAD
   "execution_count": 191,
=======
   "execution_count": 143,
>>>>>>> 1d05b4e (Actualizar: Fase2.ipynb, Fase3_1.xlsx, HR_CLEAN_DATA.csv)
=======
   "execution_count": 268,
>>>>>>> d6bd9fd (Actualizar: Fase2.ipynb, Fase3_1.xlsx y HR_CLEAN_DATA.csv)
   "metadata": {},
   "outputs": [
    {
     "data": {
      "text/html": [
       "<div>\n",
       "<style scoped>\n",
       "    .dataframe tbody tr th:only-of-type {\n",
       "        vertical-align: middle;\n",
       "    }\n",
       "\n",
       "    .dataframe tbody tr th {\n",
       "        vertical-align: top;\n",
       "    }\n",
       "\n",
       "    .dataframe thead th {\n",
       "        text-align: right;\n",
       "    }\n",
       "</style>\n",
       "<table border=\"1\" class=\"dataframe\">\n",
       "  <thead>\n",
       "    <tr style=\"text-align: right;\">\n",
       "      <th></th>\n",
       "      <th>Age</th>\n",
       "      <th>Age_Group</th>\n",
       "      <th>Attrition</th>\n",
       "      <th>Business_Travel</th>\n",
       "      <th>Daily_Rate</th>\n",
       "      <th>Department</th>\n",
       "      <th>Distance_From_Home</th>\n",
       "      <th>Education</th>\n",
       "      <th>Education_Field</th>\n",
       "      <th>Employee_Number</th>\n",
       "      <th>Environment_Satisfaction</th>\n",
       "      <th>Gender</th>\n",
       "      <th>Hourly_Rate</th>\n",
       "      <th>Job_Involvement</th>\n",
       "      <th>Job_Level</th>\n",
       "      <th>Job_Role</th>\n",
       "      <th>Job_Satisfaction</th>\n",
       "      <th>Marital_Status</th>\n",
       "      <th>Monthly_Income</th>\n",
       "      <th>Monthly_Rate</th>\n",
       "      <th>Num_Companies_Worked</th>\n",
       "      <th>Over_Time</th>\n",
       "      <th>Percent_Salary_Hike</th>\n",
       "      <th>Performance_Rating</th>\n",
       "      <th>Relationship_Satisfaction</th>\n",
       "      <th>Stock_Option_Level</th>\n",
       "      <th>Total_Working_Years</th>\n",
       "      <th>Training_Times_Last_Year</th>\n",
       "      <th>Work_Life_Balance</th>\n",
       "      <th>Years_At_Company</th>\n",
       "      <th>Years_Since_Last_Promotion</th>\n",
       "      <th>Years_With_Curr_Manager</th>\n",
       "      <th>Date_Birth</th>\n",
       "      <th>Remote_Work</th>\n",
       "    </tr>\n",
       "  </thead>\n",
       "  <tbody>\n",
       "    <tr>\n",
       "      <th>871</th>\n",
       "      <td>31</td>\n",
       "      <td></td>\n",
       "      <td>False</td>\n",
<<<<<<< HEAD
<<<<<<< HEAD
       "      <td>Travel Rarely</td>\n",
       "      <td>691.0</td>\n",
       "      <td>Research &amp; Development</td>\n",
       "      <td>11</td>\n",
       "      <td>4</td>\n",
       "      <td>NaN</td>\n",
       "      <td>423</td>\n",
=======
       "      <td>Travel_Rarely</td>\n",
       "      <td>147.0</td>\n",
       "      <td>Research &amp; Development</td>\n",
       "      <td>20</td>\n",
       "      <td>2</td>\n",
       "      <td>Technical Degree</td>\n",
       "      <td>389</td>\n",
>>>>>>> 1d05b4e (Actualizar: Fase2.ipynb, Fase3_1.xlsx, HR_CLEAN_DATA.csv)
=======
       "      <td>Travel Rarely</td>\n",
       "      <td>691.0</td>\n",
       "      <td>Research &amp; Development</td>\n",
       "      <td>11</td>\n",
       "      <td>4</td>\n",
       "      <td>NaN</td>\n",
       "      <td>423</td>\n",
>>>>>>> d6bd9fd (Actualizar: Fase2.ipynb, Fase3_1.xlsx y HR_CLEAN_DATA.csv)
       "      <td>2</td>\n",
       "      <td>M</td>\n",
       "      <td>86</td>\n",
       "      <td>3</td>\n",
       "      <td>1</td>\n",
       "      <td>Research Scientist</td>\n",
       "      <td>4</td>\n",
       "      <td>Married</td>\n",
       "      <td>99999</td>\n",
       "      <td>10077</td>\n",
       "      <td>0</td>\n",
       "      <td>NaN</td>\n",
       "      <td>12</td>\n",
       "      <td>3</td>\n",
       "      <td>3</td>\n",
       "      <td>1</td>\n",
       "      <td>99999</td>\n",
       "      <td>4</td>\n",
       "      <td>3</td>\n",
       "      <td>5</td>\n",
       "      <td>0</td>\n",
<<<<<<< HEAD
<<<<<<< HEAD
=======
       "      <td>8</td>\n",
       "      <td>1968</td>\n",
       "      <td>True</td>\n",
       "    </tr>\n",
       "    <tr>\n",
       "      <th>1545</th>\n",
       "      <td>55</td>\n",
       "      <td></td>\n",
       "      <td>False</td>\n",
       "      <td>Travel_Rarely</td>\n",
       "      <td>147.0</td>\n",
       "      <td>Research &amp; Development</td>\n",
       "      <td>17</td>\n",
       "      <td>2</td>\n",
       "      <td>Technical Degree</td>\n",
       "      <td>389</td>\n",
       "      <td>17</td>\n",
       "      <td>M</td>\n",
       "      <td>37</td>\n",
>>>>>>> 1d05b4e (Actualizar: Fase2.ipynb, Fase3_1.xlsx, HR_CLEAN_DATA.csv)
=======
>>>>>>> d6bd9fd (Actualizar: Fase2.ipynb, Fase3_1.xlsx y HR_CLEAN_DATA.csv)
       "      <td>3</td>\n",
       "      <td>1992</td>\n",
       "      <td>True</td>\n",
       "    </tr>\n",
       "    <tr>\n",
       "      <th>1512</th>\n",
       "      <td>31</td>\n",
       "      <td></td>\n",
       "      <td>False</td>\n",
       "      <td>Travel Rarely</td>\n",
       "      <td>691.0</td>\n",
       "      <td>Research &amp; Development</td>\n",
       "      <td>5</td>\n",
       "      <td>4</td>\n",
       "      <td>NaN</td>\n",
       "      <td>423</td>\n",
       "      <td>3</td>\n",
       "      <td>M</td>\n",
       "      <td>86</td>\n",
       "      <td>3</td>\n",
       "      <td>1</td>\n",
       "      <td>Research Scientist</td>\n",
       "      <td>4</td>\n",
       "      <td>Married</td>\n",
       "      <td>99999</td>\n",
       "      <td>10077</td>\n",
       "      <td>0</td>\n",
<<<<<<< HEAD
<<<<<<< HEAD
=======
       "      <td>nan</td>\n",
>>>>>>> 1d05b4e (Actualizar: Fase2.ipynb, Fase3_1.xlsx, HR_CLEAN_DATA.csv)
=======
>>>>>>> d6bd9fd (Actualizar: Fase2.ipynb, Fase3_1.xlsx y HR_CLEAN_DATA.csv)
       "      <td>NaN</td>\n",
       "      <td>12</td>\n",
       "      <td>3</td>\n",
       "      <td>3</td>\n",
       "      <td>1</td>\n",
       "      <td>99999</td>\n",
       "      <td>4</td>\n",
       "      <td>3</td>\n",
       "      <td>5</td>\n",
       "      <td>0</td>\n",
       "      <td>3</td>\n",
       "      <td>1992</td>\n",
       "      <td>True</td>\n",
       "    </tr>\n",
       "    <tr>\n",
<<<<<<< HEAD
<<<<<<< HEAD
       "      <th>1515</th>\n",
=======
       "      <th>871</th>\n",
       "      <td>31</td>\n",
=======
       "      <th>1515</th>\n",
       "      <td>52</td>\n",
>>>>>>> d6bd9fd (Actualizar: Fase2.ipynb, Fase3_1.xlsx y HR_CLEAN_DATA.csv)
       "      <td></td>\n",
       "      <td>True</td>\n",
       "      <td>NaN</td>\n",
       "      <td>723.0</td>\n",
       "      <td>nan</td>\n",
       "      <td>8</td>\n",
       "      <td>4</td>\n",
       "      <td>Medical</td>\n",
       "      <td>433</td>\n",
       "      <td>3</td>\n",
       "      <td>M</td>\n",
       "      <td>85</td>\n",
       "      <td>2</td>\n",
       "      <td>2</td>\n",
       "      <td>Research Scientist</td>\n",
       "      <td>2</td>\n",
       "      <td>NaN</td>\n",
       "      <td>4941</td>\n",
       "      <td>17747</td>\n",
       "      <td>2</td>\n",
       "      <td>False</td>\n",
       "      <td>15</td>\n",
       "      <td>99999</td>\n",
       "      <td>1</td>\n",
       "      <td>0</td>\n",
       "      <td>11</td>\n",
       "      <td>3</td>\n",
       "      <td>2</td>\n",
       "      <td>8</td>\n",
       "      <td>7</td>\n",
       "      <td>7</td>\n",
       "      <td>1971</td>\n",
       "      <td>False</td>\n",
       "    </tr>\n",
       "    <tr>\n",
       "      <th>874</th>\n",
>>>>>>> 1d05b4e (Actualizar: Fase2.ipynb, Fase3_1.xlsx, HR_CLEAN_DATA.csv)
       "      <td>52</td>\n",
       "      <td></td>\n",
       "      <td>True</td>\n",
       "      <td>NaN</td>\n",
       "      <td>723.0</td>\n",
       "      <td>nan</td>\n",
<<<<<<< HEAD
       "      <td>8</td>\n",
=======
       "      <td>17</td>\n",
>>>>>>> 1d05b4e (Actualizar: Fase2.ipynb, Fase3_1.xlsx, HR_CLEAN_DATA.csv)
       "      <td>4</td>\n",
       "      <td>Medical</td>\n",
       "      <td>433</td>\n",
       "      <td>3</td>\n",
       "      <td>M</td>\n",
       "      <td>85</td>\n",
       "      <td>2</td>\n",
       "      <td>2</td>\n",
       "      <td>Research Scientist</td>\n",
       "      <td>2</td>\n",
       "      <td>NaN</td>\n",
       "      <td>4941</td>\n",
       "      <td>17747</td>\n",
       "      <td>2</td>\n",
<<<<<<< HEAD
=======
       "      <td>nan</td>\n",
>>>>>>> 1d05b4e (Actualizar: Fase2.ipynb, Fase3_1.xlsx, HR_CLEAN_DATA.csv)
       "      <td>False</td>\n",
       "      <td>15</td>\n",
       "      <td>99999</td>\n",
       "      <td>1</td>\n",
       "      <td>0</td>\n",
       "      <td>11</td>\n",
       "      <td>3</td>\n",
       "      <td>2</td>\n",
       "      <td>8</td>\n",
       "      <td>7</td>\n",
       "      <td>7</td>\n",
       "      <td>1971</td>\n",
       "      <td>False</td>\n",
       "    </tr>\n",
       "    <tr>\n",
       "      <th>874</th>\n",
       "      <td>52</td>\n",
       "      <td></td>\n",
       "      <td>True</td>\n",
       "      <td>NaN</td>\n",
       "      <td>723.0</td>\n",
       "      <td>nan</td>\n",
       "      <td>17</td>\n",
       "      <td>4</td>\n",
       "      <td>Medical</td>\n",
       "      <td>433</td>\n",
       "      <td>2</td>\n",
       "      <td>M</td>\n",
       "      <td>85</td>\n",
       "      <td>2</td>\n",
       "      <td>2</td>\n",
       "      <td>Research Scientist</td>\n",
       "      <td>2</td>\n",
       "      <td>NaN</td>\n",
       "      <td>4941</td>\n",
       "      <td>17747</td>\n",
       "      <td>2</td>\n",
       "      <td>False</td>\n",
       "      <td>15</td>\n",
       "      <td>99999</td>\n",
       "      <td>1</td>\n",
       "      <td>0</td>\n",
       "      <td>11</td>\n",
       "      <td>3</td>\n",
       "      <td>2</td>\n",
       "      <td>8</td>\n",
       "      <td>7</td>\n",
       "      <td>7</td>\n",
       "      <td>1971</td>\n",
       "      <td>False</td>\n",
       "    </tr>\n",
       "    <tr>\n",
       "      <th>1527</th>\n",
       "      <td>29</td>\n",
       "      <td></td>\n",
       "      <td>False</td>\n",
       "      <td>NaN</td>\n",
       "      <td>1283.0</td>\n",
       "      <td>Research &amp; Development</td>\n",
       "      <td>23</td>\n",
       "      <td>3</td>\n",
       "      <td>NaN</td>\n",
       "      <td>495</td>\n",
       "      <td>4</td>\n",
       "      <td>M</td>\n",
       "      <td>54</td>\n",
       "      <td>3</td>\n",
       "      <td>1</td>\n",
       "      <td>Research Scientist</td>\n",
       "      <td>4</td>\n",
       "      <td>NaN</td>\n",
       "      <td>99999</td>\n",
       "      <td>18168</td>\n",
       "      <td>9</td>\n",
       "      <td>False</td>\n",
       "      <td>16</td>\n",
       "      <td>99999</td>\n",
       "      <td>4</td>\n",
       "      <td>0</td>\n",
       "      <td>6</td>\n",
       "      <td>4</td>\n",
       "      <td>3</td>\n",
       "      <td>3</td>\n",
       "      <td>1</td>\n",
       "      <td>2</td>\n",
       "      <td>1994</td>\n",
       "      <td>True</td>\n",
       "    </tr>\n",
       "    <tr>\n",
       "      <th>...</th>\n",
       "      <td>...</td>\n",
       "      <td>...</td>\n",
       "      <td>...</td>\n",
       "      <td>...</td>\n",
       "      <td>...</td>\n",
       "      <td>...</td>\n",
       "      <td>...</td>\n",
       "      <td>...</td>\n",
       "      <td>...</td>\n",
       "      <td>...</td>\n",
       "      <td>...</td>\n",
       "      <td>...</td>\n",
       "      <td>...</td>\n",
       "      <td>...</td>\n",
       "      <td>...</td>\n",
       "      <td>...</td>\n",
       "      <td>...</td>\n",
       "      <td>...</td>\n",
       "      <td>...</td>\n",
       "      <td>...</td>\n",
       "      <td>...</td>\n",
       "      <td>...</td>\n",
       "      <td>...</td>\n",
       "      <td>...</td>\n",
       "      <td>...</td>\n",
       "      <td>...</td>\n",
       "      <td>...</td>\n",
       "      <td>...</td>\n",
       "      <td>...</td>\n",
       "      <td>...</td>\n",
       "      <td>...</td>\n",
       "      <td>...</td>\n",
       "      <td>...</td>\n",
       "      <td>...</td>\n",
<<<<<<< HEAD
<<<<<<< HEAD
=======
       "      <td>...</td>\n",
       "      <td>...</td>\n",
       "    </tr>\n",
       "    <tr>\n",
       "      <th>579</th>\n",
       "      <td>50</td>\n",
       "      <td></td>\n",
       "      <td>False</td>\n",
       "      <td>NaN</td>\n",
       "      <td>797.0</td>\n",
       "      <td>Research &amp; Development</td>\n",
       "      <td>4</td>\n",
       "      <td>1</td>\n",
       "      <td>NaN</td>\n",
       "      <td>99999</td>\n",
       "      <td>1</td>\n",
       "      <td>M</td>\n",
       "      <td>96</td>\n",
       "      <td>3</td>\n",
       "      <td>5</td>\n",
       "      <td>Research Director</td>\n",
       "      <td>2</td>\n",
       "      <td>Divorced</td>\n",
       "      <td>NaN</td>\n",
       "      <td>15815.0</td>\n",
       "      <td>3</td>\n",
       "      <td>nan</td>\n",
       "      <td>False</td>\n",
       "      <td>14</td>\n",
       "      <td>3</td>\n",
       "      <td>1</td>\n",
       "      <td>NaN</td>\n",
       "      <td>2</td>\n",
       "      <td>28</td>\n",
       "      <td>4</td>\n",
       "      <td>2</td>\n",
       "      <td>10</td>\n",
       "      <td>1</td>\n",
       "      <td>6</td>\n",
       "      <td>1973</td>\n",
       "      <td>False</td>\n",
>>>>>>> 1d05b4e (Actualizar: Fase2.ipynb, Fase3_1.xlsx, HR_CLEAN_DATA.csv)
=======
>>>>>>> d6bd9fd (Actualizar: Fase2.ipynb, Fase3_1.xlsx y HR_CLEAN_DATA.csv)
       "    </tr>\n",
       "    <tr>\n",
       "      <th>562</th>\n",
       "      <td>35</td>\n",
       "      <td></td>\n",
       "      <td>False</td>\n",
       "      <td>Travel Rarely</td>\n",
       "      <td>1214.0</td>\n",
       "      <td>nan</td>\n",
       "      <td>1</td>\n",
       "      <td>3</td>\n",
       "      <td>Medical</td>\n",
       "      <td>99999</td>\n",
       "      <td>2</td>\n",
       "      <td>M</td>\n",
       "      <td>30</td>\n",
       "      <td>2</td>\n",
       "      <td>1</td>\n",
       "      <td>Research Scientist</td>\n",
       "      <td>3</td>\n",
       "      <td>Single</td>\n",
       "      <td>99999</td>\n",
       "      <td>26278</td>\n",
       "      <td>1</td>\n",
<<<<<<< HEAD
<<<<<<< HEAD
=======
       "      <td>nan</td>\n",
>>>>>>> 1d05b4e (Actualizar: Fase2.ipynb, Fase3_1.xlsx, HR_CLEAN_DATA.csv)
=======
>>>>>>> d6bd9fd (Actualizar: Fase2.ipynb, Fase3_1.xlsx y HR_CLEAN_DATA.csv)
       "      <td>False</td>\n",
       "      <td>18</td>\n",
       "      <td>3</td>\n",
       "      <td>1</td>\n",
       "      <td>0</td>\n",
       "      <td>6</td>\n",
       "      <td>3</td>\n",
       "      <td>3</td>\n",
       "      <td>6</td>\n",
       "      <td>0</td>\n",
       "      <td>4</td>\n",
       "      <td>1988</td>\n",
       "      <td>False</td>\n",
       "    </tr>\n",
       "    <tr>\n",
       "      <th>561</th>\n",
       "      <td>32</td>\n",
       "      <td></td>\n",
       "      <td>False</td>\n",
       "      <td>Travel Rarely</td>\n",
       "      <td>548.0</td>\n",
       "      <td>nan</td>\n",
       "      <td>1</td>\n",
       "      <td>3</td>\n",
       "      <td>Life Sciences</td>\n",
       "      <td>99999</td>\n",
       "      <td>2</td>\n",
       "      <td>M</td>\n",
       "      <td>66</td>\n",
       "      <td>3</td>\n",
       "      <td>2</td>\n",
       "      <td>Research Scientist</td>\n",
       "      <td>2</td>\n",
       "      <td>NaN</td>\n",
       "      <td>99999</td>\n",
       "      <td>7346</td>\n",
       "      <td>1</td>\n",
       "      <td>False</td>\n",
       "      <td>17</td>\n",
       "      <td>3</td>\n",
       "      <td>2</td>\n",
       "      <td>2</td>\n",
       "      <td>10</td>\n",
       "      <td>3</td>\n",
       "      <td>3</td>\n",
       "      <td>10</td>\n",
       "      <td>0</td>\n",
       "      <td>9</td>\n",
       "      <td>1991</td>\n",
       "      <td>True</td>\n",
       "    </tr>\n",
       "    <tr>\n",
       "      <th>559</th>\n",
       "      <td>35</td>\n",
       "      <td></td>\n",
       "      <td>False</td>\n",
<<<<<<< HEAD
<<<<<<< HEAD
=======
>>>>>>> d6bd9fd (Actualizar: Fase2.ipynb, Fase3_1.xlsx y HR_CLEAN_DATA.csv)
       "      <td>Travel Rarely</td>\n",
       "      <td>809.0</td>\n",
       "      <td>Research &amp; Development</td>\n",
       "      <td>16</td>\n",
<<<<<<< HEAD
=======
       "      <td>NaN</td>\n",
       "      <td>930.0</td>\n",
       "      <td>nan</td>\n",
>>>>>>> 1d05b4e (Actualizar: Fase2.ipynb, Fase3_1.xlsx, HR_CLEAN_DATA.csv)
=======
>>>>>>> d6bd9fd (Actualizar: Fase2.ipynb, Fase3_1.xlsx y HR_CLEAN_DATA.csv)
       "      <td>3</td>\n",
       "      <td>Medical</td>\n",
       "      <td>99999</td>\n",
       "      <td>1</td>\n",
       "      <td>M</td>\n",
       "      <td>84</td>\n",
       "      <td>4</td>\n",
       "      <td>1</td>\n",
       "      <td>Laboratory Technician</td>\n",
       "      <td>2</td>\n",
       "      <td>Married</td>\n",
       "      <td>99999</td>\n",
       "      <td>16479</td>\n",
       "      <td>0</td>\n",
       "      <td>NaN</td>\n",
       "      <td>13</td>\n",
       "      <td>3</td>\n",
       "      <td>3</td>\n",
       "      <td>1</td>\n",
       "      <td>6</td>\n",
       "      <td>5</td>\n",
       "      <td>3</td>\n",
       "      <td>5</td>\n",
       "      <td>0</td>\n",
       "      <td>3</td>\n",
       "      <td>1988</td>\n",
       "      <td>False</td>\n",
       "    </tr>\n",
       "    <tr>\n",
       "      <th>904</th>\n",
       "      <td>29</td>\n",
       "      <td></td>\n",
       "      <td>True</td>\n",
       "      <td>NaN</td>\n",
       "      <td>408.0</td>\n",
       "      <td>nan</td>\n",
       "      <td>25</td>\n",
       "      <td>5</td>\n",
       "      <td>Technical Degree</td>\n",
       "      <td>99999</td>\n",
       "      <td>3</td>\n",
       "      <td>F</td>\n",
       "      <td>71</td>\n",
       "      <td>2</td>\n",
       "      <td>1</td>\n",
       "      <td>Research Scientist</td>\n",
       "      <td>2</td>\n",
       "      <td>Married</td>\n",
       "      <td>2546</td>\n",
       "      <td>18300</td>\n",
       "      <td>5</td>\n",
       "      <td>False</td>\n",
       "      <td>16</td>\n",
       "      <td>3</td>\n",
       "      <td>2</td>\n",
       "      <td>0</td>\n",
       "      <td>6</td>\n",
       "      <td>2</td>\n",
       "      <td>4</td>\n",
       "      <td>2</td>\n",
       "      <td>1</td>\n",
       "      <td>1</td>\n",
       "      <td>1994</td>\n",
       "      <td>False</td>\n",
       "    </tr>\n",
       "    <tr>\n",
       "      <th>1613</th>\n",
       "      <td>46</td>\n",
       "      <td></td>\n",
       "      <td>False</td>\n",
       "      <td>NaN</td>\n",
       "      <td>566.0</td>\n",
       "      <td>nan</td>\n",
       "      <td>7</td>\n",
       "      <td>2</td>\n",
       "      <td>Medical</td>\n",
       "      <td>99999</td>\n",
       "      <td>4</td>\n",
       "      <td>M</td>\n",
       "      <td>75</td>\n",
       "      <td>3</td>\n",
       "      <td>3</td>\n",
       "      <td>Manufacturing Director</td>\n",
       "      <td>3</td>\n",
       "      <td>NaN</td>\n",
       "      <td>10845</td>\n",
       "      <td>24208</td>\n",
       "      <td>6</td>\n",
       "      <td>NaN</td>\n",
       "      <td>13</td>\n",
       "      <td>3</td>\n",
       "      <td>2</td>\n",
       "      <td>1</td>\n",
       "      <td>99999</td>\n",
       "      <td>3</td>\n",
       "      <td>3</td>\n",
       "      <td>8</td>\n",
       "      <td>0</td>\n",
       "      <td>7</td>\n",
       "      <td>1977</td>\n",
       "      <td>False</td>\n",
       "    </tr>\n",
       "  </tbody>\n",
       "</table>\n",
<<<<<<< HEAD
<<<<<<< HEAD
       "<p>430 rows × 34 columns</p>\n",
=======
       "<p>436 rows × 36 columns</p>\n",
>>>>>>> 1d05b4e (Actualizar: Fase2.ipynb, Fase3_1.xlsx, HR_CLEAN_DATA.csv)
=======
       "<p>430 rows × 34 columns</p>\n",
>>>>>>> d6bd9fd (Actualizar: Fase2.ipynb, Fase3_1.xlsx y HR_CLEAN_DATA.csv)
       "</div>"
      ],
      "text/plain": [
       "      Age Age_Group  Attrition Business_Travel  Daily_Rate  \\\n",
       "871    31                False   Travel Rarely       691.0   \n",
       "1512   31                False   Travel Rarely       691.0   \n",
       "1515   52                 True             NaN       723.0   \n",
       "874    52                 True             NaN       723.0   \n",
       "1527   29                False             NaN      1283.0   \n",
       "...   ...       ...        ...             ...         ...   \n",
       "562    35                False   Travel Rarely      1214.0   \n",
       "561    32                False   Travel Rarely       548.0   \n",
       "559    35                False   Travel Rarely       809.0   \n",
       "904    29                 True             NaN       408.0   \n",
       "1613   46                False             NaN       566.0   \n",
       "\n",
<<<<<<< HEAD
       "                  Department  Distance_From_Home  Education   Education_Field  \\\n",
       "871   Research & Development                  11          4               NaN   \n",
       "1512  Research & Development                   5          4               NaN   \n",
       "1515                     nan                   8          4           Medical   \n",
       "874                      nan                  17          4           Medical   \n",
       "1527  Research & Development                  23          3               NaN   \n",
       "...                      ...                 ...        ...               ...   \n",
       "562                      nan                   1          3           Medical   \n",
       "561                      nan                   1          3     Life Sciences   \n",
       "559   Research & Development                  16          3           Medical   \n",
       "904                      nan                  25          5  Technical Degree   \n",
       "1613                     nan                   7          2           Medical   \n",
       "\n",
       "      Employee_Number  Environment_Satisfaction Gender  Hourly_Rate  \\\n",
       "871               423                         2      M           86   \n",
       "1512              423                         3      M           86   \n",
       "1515              433                         3      M           85   \n",
       "874               433                         2      M           85   \n",
       "1527              495                         4      M           54   \n",
       "...               ...                       ...    ...          ...   \n",
       "562             99999                         2      M           30   \n",
       "561             99999                         2      M           66   \n",
       "559             99999                         1      M           84   \n",
       "904             99999                         3      F           71   \n",
       "1613            99999                         4      M           75   \n",
       "\n",
       "      Job_Involvement  Job_Level                  Job_Role  Job_Satisfaction  \\\n",
       "871                 3          1       Research Scientist                  4   \n",
       "1512                3          1       Research Scientist                  4   \n",
       "1515                2          2       Research Scientist                  2   \n",
       "874                 2          2       Research Scientist                  2   \n",
       "1527                3          1       Research Scientist                  4   \n",
       "...               ...        ...                       ...               ...   \n",
       "562                 2          1       Research Scientist                  3   \n",
       "561                 3          2       Research Scientist                  2   \n",
       "559                 4          1    Laboratory Technician                  2   \n",
       "904                 2          1       Research Scientist                  2   \n",
       "1613                3          3   Manufacturing Director                  3   \n",
       "\n",
       "     Marital_Status  Monthly_Income  Monthly_Rate  Num_Companies_Worked  \\\n",
       "871         Married           99999         10077                     0   \n",
       "1512        Married           99999         10077                     0   \n",
       "1515            NaN            4941         17747                     2   \n",
       "874             NaN            4941         17747                     2   \n",
       "1527            NaN           99999         18168                     9   \n",
       "...             ...             ...           ...                   ...   \n",
       "562          Single           99999         26278                     1   \n",
       "561             NaN           99999          7346                     1   \n",
       "559         Married           99999         16479                     0   \n",
       "904         Married            2546         18300                     5   \n",
       "1613            NaN           10845         24208                     6   \n",
       "\n",
       "     Over_Time  Percent_Salary_Hike  Performance_Rating  \\\n",
       "871        NaN                   12                   3   \n",
       "1512       NaN                   12                   3   \n",
       "1515     False                   15               99999   \n",
       "874      False                   15               99999   \n",
       "1527     False                   16               99999   \n",
       "...        ...                  ...                 ...   \n",
       "562      False                   18                   3   \n",
       "561      False                   17                   3   \n",
       "559        NaN                   13                   3   \n",
       "904      False                   16                   3   \n",
       "1613       NaN                   13                   3   \n",
       "\n",
       "      Relationship_Satisfaction  Stock_Option_Level  Total_Working_Years  \\\n",
       "871                           3                   1                99999   \n",
       "1512                          3                   1                99999   \n",
       "1515                          1                   0                   11   \n",
       "874                           1                   0                   11   \n",
       "1527                          4                   0                    6   \n",
       "...                         ...                 ...                  ...   \n",
       "562                           1                   0                    6   \n",
       "561                           2                   2                   10   \n",
       "559                           3                   1                    6   \n",
       "904                           2                   0                    6   \n",
       "1613                          2                   1                99999   \n",
       "\n",
       "      Training_Times_Last_Year  Work_Life_Balance  Years_At_Company  \\\n",
       "871                          4                  3                 5   \n",
       "1512                         4                  3                 5   \n",
       "1515                         3                  2                 8   \n",
       "874                          3                  2                 8   \n",
       "1527                         4                  3                 3   \n",
       "...                        ...                ...               ...   \n",
       "562                          3                  3                 6   \n",
       "561                          3                  3                10   \n",
       "559                          5                  3                 5   \n",
       "904                          2                  4                 2   \n",
       "1613                         3                  3                 8   \n",
       "\n",
       "      Years_Since_Last_Promotion  Years_With_Curr_Manager  Date_Birth  \\\n",
       "871                            0                        3        1992   \n",
       "1512                           0                        3        1992   \n",
       "1515                           7                        7        1971   \n",
       "874                            7                        7        1971   \n",
       "1527                           1                        2        1994   \n",
       "...                          ...                      ...         ...   \n",
       "562                            0                        4        1988   \n",
       "561                            0                        9        1991   \n",
       "559                            0                        3        1988   \n",
       "904                            1                        1        1994   \n",
       "1613                           0                        7        1977   \n",
       "\n",
       "      Remote_Work  \n",
       "871          True  \n",
       "1512         True  \n",
       "1515        False  \n",
       "874         False  \n",
       "1527         True  \n",
       "...           ...  \n",
       "562         False  \n",
       "561          True  \n",
       "559         False  \n",
       "904         False  \n",
       "1613        False  \n",
       "\n",
       "[430 rows x 34 columns]"
      ]
     },
     "execution_count": 191,
=======
       "                    Department  Distance_From_Home  Education  \\\n",
       "871    Research & Development                   11          4   \n",
       "1512   Research & Development                    5          4   \n",
       "1515                       nan                   8          4   \n",
       "874                        nan                  17          4   \n",
       "1527   Research & Development                   23          3   \n",
       "...                        ...                 ...        ...   \n",
       "562                        nan                   1          3   \n",
       "561                        nan                   1          3   \n",
       "559    Research & Development                   16          3   \n",
       "904                        nan                  25          5   \n",
       "1613                       nan                   7          2   \n",
       "\n",
       "       Education_Field  Employee_Number  Environment_Satisfaction Gender  \\\n",
       "871                NaN              423                         2      M   \n",
       "1512               NaN              423                         3      M   \n",
       "1515           Medical              433                         3      M   \n",
       "874            Medical              433                         2      M   \n",
       "1527               NaN              495                         4      M   \n",
       "...                ...              ...                       ...    ...   \n",
       "562            Medical            99999                         2      M   \n",
       "561      Life Sciences            99999                         2      M   \n",
       "559            Medical            99999                         1      M   \n",
       "904   Technical Degree            99999                         3      F   \n",
       "1613           Medical            99999                         4      M   \n",
       "\n",
       "      Hourly_Rate  Job_Involvement  Job_Level                  Job_Role  \\\n",
       "871            86                3          1       Research Scientist    \n",
       "1512           86                3          1       Research Scientist    \n",
       "1515           85                2          2       Research Scientist    \n",
       "874            85                2          2       Research Scientist    \n",
       "1527           54                3          1       Research Scientist    \n",
       "...           ...              ...        ...                       ...   \n",
       "562            30                2          1       Research Scientist    \n",
       "561            66                3          2       Research Scientist    \n",
       "559            84                4          1    Laboratory Technician    \n",
       "904            71                2          1       Research Scientist    \n",
       "1613           75                3          3   Manufacturing Director    \n",
       "\n",
       "      Job_Satisfaction Marital_Status  Monthly_Income  Monthly_Rate  \\\n",
       "871                  4        Married           99999         10077   \n",
       "1512                 4        Married           99999         10077   \n",
       "1515                 2            NaN            4941         17747   \n",
       "874                  2            NaN            4941         17747   \n",
       "1527                 4            NaN           99999         18168   \n",
       "...                ...            ...             ...           ...   \n",
       "562                  3         Single           99999         26278   \n",
       "561                  2            NaN           99999          7346   \n",
       "559                  2        Married           99999         16479   \n",
       "904                  2        Married            2546         18300   \n",
       "1613                 3            NaN           10845         24208   \n",
       "\n",
       "      Num_Companies_Worked Over_Time  Percent_Salary_Hike  Performance_Rating  \\\n",
       "871                      0       NaN                   12                   3   \n",
       "1512                     0       NaN                   12                   3   \n",
       "1515                     2     False                   15               99999   \n",
       "874                      2     False                   15               99999   \n",
       "1527                     9     False                   16               99999   \n",
       "...                    ...       ...                  ...                 ...   \n",
       "562                      1     False                   18                   3   \n",
       "561                      1     False                   17                   3   \n",
       "559                      0       NaN                   13                   3   \n",
       "904                      5     False                   16                   3   \n",
       "1613                     6       NaN                   13                   3   \n",
       "\n",
       "      Relationship_Satisfaction  Stock_Option_Level  Total_Working_Years  \\\n",
       "871                           3                   1                99999   \n",
       "1512                          3                   1                99999   \n",
       "1515                          1                   0                   11   \n",
       "874                           1                   0                   11   \n",
       "1527                          4                   0                    6   \n",
       "...                         ...                 ...                  ...   \n",
       "562                           1                   0                    6   \n",
       "561                           2                   2                   10   \n",
       "559                           3                   1                    6   \n",
       "904                           2                   0                    6   \n",
       "1613                          2                   1                99999   \n",
       "\n",
       "      Training_Times_Last_Year  Work_Life_Balance  Years_At_Company  \\\n",
       "871                          4                  3                 5   \n",
       "1512                         4                  3                 5   \n",
       "1515                         3                  2                 8   \n",
       "874                          3                  2                 8   \n",
       "1527                         4                  3                 3   \n",
       "...                        ...                ...               ...   \n",
       "562                          3                  3                 6   \n",
       "561                          3                  3                10   \n",
       "559                          5                  3                 5   \n",
       "904                          2                  4                 2   \n",
       "1613                         3                  3                 8   \n",
       "\n",
       "      Years_Since_Last_Promotion  Years_With_Curr_Manager  Date_Birth  \\\n",
       "871                            0                        3        1992   \n",
       "1512                           0                        3        1992   \n",
       "1515                           7                        7        1971   \n",
       "874                            7                        7        1971   \n",
       "1527                           1                        2        1994   \n",
       "...                          ...                      ...         ...   \n",
       "562                            0                        4        1988   \n",
       "561                            0                        9        1991   \n",
       "559                            0                        3        1988   \n",
       "904                            1                        1        1994   \n",
       "1613                           0                        7        1977   \n",
       "\n",
       "      Remote_Work  \n",
       "871          True  \n",
       "1512         True  \n",
       "1515        False  \n",
       "874         False  \n",
       "1527         True  \n",
       "...           ...  \n",
       "562         False  \n",
       "561          True  \n",
       "559         False  \n",
       "904         False  \n",
       "1613        False  \n",
       "\n",
       "[430 rows x 34 columns]"
      ]
     },
<<<<<<< HEAD
     "execution_count": 143,
>>>>>>> 1d05b4e (Actualizar: Fase2.ipynb, Fase3_1.xlsx, HR_CLEAN_DATA.csv)
=======
     "execution_count": 268,
>>>>>>> d6bd9fd (Actualizar: Fase2.ipynb, Fase3_1.xlsx y HR_CLEAN_DATA.csv)
     "metadata": {},
     "output_type": "execute_result"
    }
   ],
   "source": [
    "# Creamos un DF de duplicados nuevo\n",
    "df_duplicados_s5 = df[df['Employee_Number'].isin(df['Employee_Number'][df['Employee_Number'].duplicated() ])].sort_values('Employee_Number')\n",
    "df_duplicados_s5"
   ]
  },
  {
   "cell_type": "code",
<<<<<<< HEAD
<<<<<<< HEAD
   "execution_count": 192,
=======
   "execution_count": 144,
>>>>>>> 1d05b4e (Actualizar: Fase2.ipynb, Fase3_1.xlsx, HR_CLEAN_DATA.csv)
=======
   "execution_count": 269,
>>>>>>> d6bd9fd (Actualizar: Fase2.ipynb, Fase3_1.xlsx y HR_CLEAN_DATA.csv)
   "metadata": {},
   "outputs": [
    {
     "data": {
      "text/html": [
       "<div>\n",
       "<style scoped>\n",
       "    .dataframe tbody tr th:only-of-type {\n",
       "        vertical-align: middle;\n",
       "    }\n",
       "\n",
       "    .dataframe tbody tr th {\n",
       "        vertical-align: top;\n",
       "    }\n",
       "\n",
       "    .dataframe thead th {\n",
       "        text-align: right;\n",
       "    }\n",
       "</style>\n",
       "<table border=\"1\" class=\"dataframe\">\n",
       "  <thead>\n",
       "    <tr style=\"text-align: right;\">\n",
       "      <th></th>\n",
       "      <th>Age</th>\n",
       "      <th>Age_Group</th>\n",
       "      <th>Attrition</th>\n",
       "      <th>Business_Travel</th>\n",
       "      <th>Daily_Rate</th>\n",
       "      <th>Department</th>\n",
       "      <th>Distance_From_Home</th>\n",
       "      <th>Education</th>\n",
       "      <th>Education_Field</th>\n",
       "      <th>Employee_Number</th>\n",
       "      <th>Environment_Satisfaction</th>\n",
       "      <th>Gender</th>\n",
       "      <th>Hourly_Rate</th>\n",
       "      <th>Job_Involvement</th>\n",
       "      <th>Job_Level</th>\n",
       "      <th>Job_Role</th>\n",
       "      <th>Job_Satisfaction</th>\n",
       "      <th>Marital_Status</th>\n",
       "      <th>Monthly_Income</th>\n",
       "      <th>Monthly_Rate</th>\n",
       "      <th>Num_Companies_Worked</th>\n",
       "      <th>Over_Time</th>\n",
       "      <th>Percent_Salary_Hike</th>\n",
       "      <th>Performance_Rating</th>\n",
       "      <th>Relationship_Satisfaction</th>\n",
       "      <th>Stock_Option_Level</th>\n",
       "      <th>Total_Working_Years</th>\n",
       "      <th>Training_Times_Last_Year</th>\n",
       "      <th>Work_Life_Balance</th>\n",
       "      <th>Years_At_Company</th>\n",
       "      <th>Years_Since_Last_Promotion</th>\n",
       "      <th>Years_With_Curr_Manager</th>\n",
       "      <th>Date_Birth</th>\n",
       "      <th>Remote_Work</th>\n",
       "    </tr>\n",
       "  </thead>\n",
       "  <tbody>\n",
       "    <tr>\n",
       "      <th>892</th>\n",
       "      <td>42</td>\n",
       "      <td></td>\n",
       "      <td>False</td>\n",
       "      <td>NaN</td>\n",
       "      <td>201.0</td>\n",
       "      <td>nan</td>\n",
       "      <td>1</td>\n",
       "      <td>4</td>\n",
       "      <td>NaN</td>\n",
       "      <td>517</td>\n",
       "      <td>2</td>\n",
       "      <td>F</td>\n",
       "      <td>99999</td>\n",
       "      <td>3</td>\n",
       "      <td>1</td>\n",
       "      <td>Laboratory Technician</td>\n",
       "      <td>1</td>\n",
       "      <td>NaN</td>\n",
       "      <td>99999</td>\n",
       "      <td>20490</td>\n",
       "      <td>3</td>\n",
       "      <td>False</td>\n",
       "      <td>16</td>\n",
       "      <td>3</td>\n",
       "      <td>2</td>\n",
       "      <td>1</td>\n",
       "      <td>8</td>\n",
       "      <td>5</td>\n",
       "      <td>3</td>\n",
       "      <td>5</td>\n",
       "      <td>1</td>\n",
       "      <td>2</td>\n",
       "      <td>1981</td>\n",
       "      <td>True</td>\n",
       "    </tr>\n",
       "    <tr>\n",
       "      <th>1566</th>\n",
       "      <td>35</td>\n",
       "      <td></td>\n",
       "      <td>False</td>\n",
       "      <td>Travel Rarely</td>\n",
       "      <td>1276.0</td>\n",
       "      <td>nan</td>\n",
       "      <td>16</td>\n",
       "      <td>3</td>\n",
       "      <td>Life Sciences</td>\n",
       "      <td>586</td>\n",
       "      <td>4</td>\n",
       "      <td>M</td>\n",
       "      <td>99999</td>\n",
       "      <td>3</td>\n",
       "      <td>3</td>\n",
       "      <td>Healthcare Representative</td>\n",
       "      <td>3</td>\n",
       "      <td>NaN</td>\n",
       "      <td>99999</td>\n",
       "      <td>14295</td>\n",
       "      <td>4</td>\n",
<<<<<<< HEAD
<<<<<<< HEAD
=======
       "      <td>nan</td>\n",
>>>>>>> 1d05b4e (Actualizar: Fase2.ipynb, Fase3_1.xlsx, HR_CLEAN_DATA.csv)
=======
>>>>>>> d6bd9fd (Actualizar: Fase2.ipynb, Fase3_1.xlsx y HR_CLEAN_DATA.csv)
       "      <td>True</td>\n",
       "      <td>12</td>\n",
       "      <td>3</td>\n",
       "      <td>3</td>\n",
       "      <td>0</td>\n",
       "      <td>10</td>\n",
       "      <td>2</td>\n",
       "      <td>3</td>\n",
       "      <td>8</td>\n",
       "      <td>0</td>\n",
       "      <td>0</td>\n",
       "      <td>1988</td>\n",
       "      <td>True</td>\n",
       "    </tr>\n",
       "    <tr>\n",
       "      <th>1578</th>\n",
       "      <td>29</td>\n",
       "      <td></td>\n",
       "      <td>False</td>\n",
       "      <td>NaN</td>\n",
       "      <td>806.0</td>\n",
       "      <td>Research &amp; Development</td>\n",
       "      <td>1</td>\n",
       "      <td>4</td>\n",
       "      <td>Life Sciences</td>\n",
       "      <td>710</td>\n",
       "      <td>2</td>\n",
       "      <td>M</td>\n",
       "      <td>99999</td>\n",
       "      <td>1</td>\n",
       "      <td>1</td>\n",
       "      <td>Research Scientist</td>\n",
       "      <td>4</td>\n",
       "      <td>Divorced</td>\n",
       "      <td>99999</td>\n",
       "      <td>18959</td>\n",
       "      <td>1</td>\n",
       "      <td>NaN</td>\n",
       "      <td>18</td>\n",
       "      <td>3</td>\n",
       "      <td>4</td>\n",
       "      <td>1</td>\n",
       "      <td>10</td>\n",
       "      <td>5</td>\n",
       "      <td>3</td>\n",
       "      <td>10</td>\n",
       "      <td>2</td>\n",
       "      <td>8</td>\n",
       "      <td>1994</td>\n",
       "      <td>True</td>\n",
       "    </tr>\n",
       "    <tr>\n",
       "      <th>340</th>\n",
       "      <td>27</td>\n",
       "      <td></td>\n",
       "      <td>False</td>\n",
       "      <td>Travel Rarely</td>\n",
       "      <td>NaN</td>\n",
       "      <td>nan</td>\n",
       "      <td>1</td>\n",
       "      <td>2</td>\n",
       "      <td>Life Sciences</td>\n",
       "      <td>725</td>\n",
       "      <td>3</td>\n",
       "      <td>F</td>\n",
       "      <td>99999</td>\n",
       "      <td>3</td>\n",
       "      <td>3</td>\n",
       "      <td>Manufacturing Director</td>\n",
       "      <td>1</td>\n",
       "      <td>Married</td>\n",
       "      <td>99999</td>\n",
       "      <td>6009</td>\n",
       "      <td>1</td>\n",
<<<<<<< HEAD
<<<<<<< HEAD
=======
       "      <td>nan</td>\n",
>>>>>>> 1d05b4e (Actualizar: Fase2.ipynb, Fase3_1.xlsx, HR_CLEAN_DATA.csv)
=======
>>>>>>> d6bd9fd (Actualizar: Fase2.ipynb, Fase3_1.xlsx y HR_CLEAN_DATA.csv)
       "      <td>NaN</td>\n",
       "      <td>11</td>\n",
       "      <td>3</td>\n",
       "      <td>4</td>\n",
       "      <td>0</td>\n",
       "      <td>9</td>\n",
       "      <td>3</td>\n",
       "      <td>3</td>\n",
       "      <td>9</td>\n",
       "      <td>0</td>\n",
       "      <td>7</td>\n",
       "      <td>1996</td>\n",
       "      <td>False</td>\n",
       "    </tr>\n",
       "    <tr>\n",
       "      <th>1604</th>\n",
       "      <td>41</td>\n",
       "      <td></td>\n",
       "      <td>True</td>\n",
       "      <td>NaN</td>\n",
       "      <td>1085.0</td>\n",
       "      <td>Research &amp; Development</td>\n",
       "      <td>2</td>\n",
       "      <td>4</td>\n",
       "      <td>Life Sciences</td>\n",
       "      <td>927</td>\n",
       "      <td>2</td>\n",
       "      <td>F</td>\n",
       "      <td>99999</td>\n",
       "      <td>1</td>\n",
       "      <td>1</td>\n",
       "      <td>Laboratory Technician</td>\n",
       "      <td>4</td>\n",
       "      <td>Divorced</td>\n",
       "      <td>99999</td>\n",
       "      <td>17725</td>\n",
       "      <td>4</td>\n",
<<<<<<< HEAD
<<<<<<< HEAD
=======
       "      <td>nan</td>\n",
>>>>>>> 1d05b4e (Actualizar: Fase2.ipynb, Fase3_1.xlsx, HR_CLEAN_DATA.csv)
=======
>>>>>>> d6bd9fd (Actualizar: Fase2.ipynb, Fase3_1.xlsx y HR_CLEAN_DATA.csv)
       "      <td>True</td>\n",
       "      <td>13</td>\n",
       "      <td>3</td>\n",
       "      <td>3</td>\n",
       "      <td>1</td>\n",
       "      <td>99999</td>\n",
       "      <td>1</td>\n",
       "      <td>2</td>\n",
       "      <td>7</td>\n",
       "      <td>1</td>\n",
       "      <td>0</td>\n",
       "      <td>1982</td>\n",
       "      <td>True</td>\n",
       "    </tr>\n",
       "    <tr>\n",
       "      <th>1605</th>\n",
       "      <td>31</td>\n",
       "      <td></td>\n",
       "      <td>False</td>\n",
       "      <td>Travel Rarely</td>\n",
       "      <td>154.0</td>\n",
       "      <td>nan</td>\n",
       "      <td>7</td>\n",
       "      <td>4</td>\n",
       "      <td>NaN</td>\n",
       "      <td>941</td>\n",
       "      <td>2</td>\n",
       "      <td>M</td>\n",
       "      <td>99999</td>\n",
       "      <td>2</td>\n",
       "      <td>1</td>\n",
       "      <td>Sales Representative</td>\n",
       "      <td>3</td>\n",
       "      <td>NaN</td>\n",
       "      <td>2329</td>\n",
       "      <td>11737</td>\n",
       "      <td>3</td>\n",
<<<<<<< HEAD
<<<<<<< HEAD
=======
       "      <td>nan</td>\n",
>>>>>>> 1d05b4e (Actualizar: Fase2.ipynb, Fase3_1.xlsx, HR_CLEAN_DATA.csv)
=======
>>>>>>> d6bd9fd (Actualizar: Fase2.ipynb, Fase3_1.xlsx y HR_CLEAN_DATA.csv)
       "      <td>NaN</td>\n",
       "      <td>15</td>\n",
       "      <td>99999</td>\n",
       "      <td>2</td>\n",
       "      <td>0</td>\n",
       "      <td>99999</td>\n",
       "      <td>2</td>\n",
       "      <td>4</td>\n",
       "      <td>7</td>\n",
       "      <td>5</td>\n",
       "      <td>2</td>\n",
       "      <td>1992</td>\n",
       "      <td>True</td>\n",
       "    </tr>\n",
       "    <tr>\n",
       "      <th>987</th>\n",
       "      <td>33</td>\n",
       "      <td></td>\n",
       "      <td>False</td>\n",
       "      <td>Non Travel</td>\n",
       "      <td>1038.0</td>\n",
       "      <td>Sales</td>\n",
       "      <td>8</td>\n",
       "      <td>1</td>\n",
       "      <td>Life Sciences</td>\n",
       "      <td>1044</td>\n",
       "      <td>2</td>\n",
       "      <td>F</td>\n",
       "      <td>99999</td>\n",
       "      <td>2</td>\n",
       "      <td>1</td>\n",
       "      <td>Sales Representative</td>\n",
       "      <td>4</td>\n",
       "      <td>NaN</td>\n",
       "      <td>99999</td>\n",
       "      <td>21437</td>\n",
       "      <td>0</td>\n",
       "      <td>NaN</td>\n",
       "      <td>19</td>\n",
       "      <td>3</td>\n",
       "      <td>4</td>\n",
       "      <td>0</td>\n",
       "      <td>99999</td>\n",
       "      <td>2</td>\n",
       "      <td>2</td>\n",
       "      <td>2</td>\n",
       "      <td>2</td>\n",
       "      <td>2</td>\n",
       "      <td>1990</td>\n",
       "      <td>False</td>\n",
       "    </tr>\n",
       "    <tr>\n",
       "      <th>1008</th>\n",
       "      <td>35</td>\n",
       "      <td></td>\n",
       "      <td>False</td>\n",
       "      <td>Travel Frequently</td>\n",
       "      <td>NaN</td>\n",
       "      <td>nan</td>\n",
       "      <td>4</td>\n",
       "      <td>4</td>\n",
       "      <td>Other</td>\n",
       "      <td>1185</td>\n",
       "      <td>4</td>\n",
       "      <td>M</td>\n",
       "      <td>99999</td>\n",
       "      <td>2</td>\n",
       "      <td>1</td>\n",
       "      <td>Laboratory Technician</td>\n",
       "      <td>4</td>\n",
       "      <td>Married</td>\n",
       "      <td>2376</td>\n",
       "      <td>26537</td>\n",
       "      <td>1</td>\n",
<<<<<<< HEAD
<<<<<<< HEAD
=======
       "      <td>nan</td>\n",
>>>>>>> 1d05b4e (Actualizar: Fase2.ipynb, Fase3_1.xlsx, HR_CLEAN_DATA.csv)
=======
>>>>>>> d6bd9fd (Actualizar: Fase2.ipynb, Fase3_1.xlsx y HR_CLEAN_DATA.csv)
       "      <td>NaN</td>\n",
       "      <td>13</td>\n",
       "      <td>3</td>\n",
       "      <td>2</td>\n",
       "      <td>1</td>\n",
       "      <td>2</td>\n",
       "      <td>2</td>\n",
       "      <td>4</td>\n",
       "      <td>2</td>\n",
       "      <td>2</td>\n",
       "      <td>2</td>\n",
       "      <td>1988</td>\n",
       "      <td>True</td>\n",
       "    </tr>\n",
       "  </tbody>\n",
       "</table>\n",
       "</div>"
      ],
      "text/plain": [
       "      Age Age_Group  Attrition    Business_Travel  Daily_Rate  \\\n",
       "892    42                False                NaN       201.0   \n",
       "1566   35                False      Travel Rarely      1276.0   \n",
       "1578   29                False                NaN       806.0   \n",
       "340    27                False      Travel Rarely         NaN   \n",
       "1604   41                 True                NaN      1085.0   \n",
       "1605   31                False      Travel Rarely       154.0   \n",
       "987    33                False         Non Travel      1038.0   \n",
       "1008   35                False  Travel Frequently         NaN   \n",
       "\n",
<<<<<<< HEAD
       "                  Department  Distance_From_Home  Education Education_Field  \\\n",
       "892                      nan                   1          4             NaN   \n",
       "1566                     nan                  16          3   Life Sciences   \n",
       "1578  Research & Development                   1          4   Life Sciences   \n",
       "340                      nan                   1          2   Life Sciences   \n",
       "1604  Research & Development                   2          4   Life Sciences   \n",
       "1605                     nan                   7          4             NaN   \n",
       "987                    Sales                   8          1   Life Sciences   \n",
       "1008                     nan                   4          4           Other   \n",
=======
       "                    Department  Distance_From_Home  Education Education_Field  \\\n",
       "892                        nan                   1          4             NaN   \n",
       "1566                       nan                  16          3   Life Sciences   \n",
       "1578   Research & Development                    1          4   Life Sciences   \n",
       "340                        nan                   1          2   Life Sciences   \n",
       "1604   Research & Development                    2          4   Life Sciences   \n",
       "1605                       nan                   7          4             NaN   \n",
       "987                     Sales                    8          1   Life Sciences   \n",
       "1008                       nan                   4          4           Other   \n",
>>>>>>> 1d05b4e (Actualizar: Fase2.ipynb, Fase3_1.xlsx, HR_CLEAN_DATA.csv)
       "\n",
       "      Employee_Number  Environment_Satisfaction Gender  Hourly_Rate  \\\n",
       "892               517                         2      F        99999   \n",
       "1566              586                         4      M        99999   \n",
       "1578              710                         2      M        99999   \n",
       "340               725                         3      F        99999   \n",
       "1604              927                         2      F        99999   \n",
       "1605              941                         2      M        99999   \n",
       "987              1044                         2      F        99999   \n",
       "1008             1185                         4      M        99999   \n",
       "\n",
       "      Job_Involvement  Job_Level                     Job_Role  \\\n",
       "892                 3          1       Laboratory Technician    \n",
       "1566                3          3   Healthcare Representative    \n",
       "1578                1          1          Research Scientist    \n",
       "340                 3          3      Manufacturing Director    \n",
       "1604                1          1       Laboratory Technician    \n",
       "1605                2          1        Sales Representative    \n",
       "987                 2          1        Sales Representative    \n",
       "1008                2          1       Laboratory Technician    \n",
       "\n",
       "      Job_Satisfaction Marital_Status  Monthly_Income  Monthly_Rate  \\\n",
<<<<<<< HEAD
<<<<<<< HEAD
=======
>>>>>>> d6bd9fd (Actualizar: Fase2.ipynb, Fase3_1.xlsx y HR_CLEAN_DATA.csv)
       "892                  1            NaN           99999         20490   \n",
       "1566                 3            NaN           99999         14295   \n",
       "1578                 4       Divorced           99999         18959   \n",
       "340                  1        Married           99999          6009   \n",
       "1604                 4       Divorced           99999         17725   \n",
       "1605                 3            NaN            2329         11737   \n",
       "987                  4            NaN           99999         21437   \n",
       "1008                 4        Married            2376         26537   \n",
<<<<<<< HEAD
       "\n",
       "      Num_Companies_Worked Over_Time  Percent_Salary_Hike  Performance_Rating  \\\n",
       "892                      3     False                   16                   3   \n",
       "1566                     4      True                   12                   3   \n",
       "1578                     1       NaN                   18                   3   \n",
       "340                      1       NaN                   11                   3   \n",
       "1604                     4      True                   13                   3   \n",
       "1605                     3       NaN                   15               99999   \n",
       "987                      0       NaN                   19                   3   \n",
       "1008                     1       NaN                   13                   3   \n",
       "\n",
       "      Relationship_Satisfaction  Stock_Option_Level  Total_Working_Years  \\\n",
       "892                           2                   1                    8   \n",
       "1566                          3                   0                   10   \n",
       "1578                          4                   1                   10   \n",
       "340                           4                   0                    9   \n",
       "1604                          3                   1                99999   \n",
       "1605                          2                   0                99999   \n",
       "987                           4                   0                99999   \n",
       "1008                          2                   1                    2   \n",
=======
       "892                  1            NaN             NaN       20490.0   \n",
       "1566                 3            NaN             NaN       14295.0   \n",
       "1578                 4       Divorced             NaN       18959.0   \n",
       "340                  1        Married             NaN        6009.0   \n",
       "1604                 4       Divorced             NaN       17725.0   \n",
       "1605                 3            NaN          2329.0       11737.0   \n",
       "987                  4            NaN             NaN       21437.0   \n",
       "1008                 4        Married          2376.0       26537.0   \n",
=======
>>>>>>> d6bd9fd (Actualizar: Fase2.ipynb, Fase3_1.xlsx y HR_CLEAN_DATA.csv)
       "\n",
       "      Num_Companies_Worked Over_Time  Percent_Salary_Hike  Performance_Rating  \\\n",
       "892                      3     False                   16                   3   \n",
       "1566                     4      True                   12                   3   \n",
       "1578                     1       NaN                   18                   3   \n",
       "340                      1       NaN                   11                   3   \n",
       "1604                     4      True                   13                   3   \n",
       "1605                     3       NaN                   15               99999   \n",
       "987                      0       NaN                   19                   3   \n",
       "1008                     1       NaN                   13                   3   \n",
       "\n",
<<<<<<< HEAD
       "      Performance_Rating  Relationship_Satisfaction  Standard_Hours  \\\n",
       "892                    3                          2            80.0   \n",
       "1566                   3                          3             NaN   \n",
       "1578                   3                          4             NaN   \n",
       "340                    3                          4             NaN   \n",
       "1604                   3                          3            80.0   \n",
       "1605               99999                          2            80.0   \n",
       "987                    3                          4             NaN   \n",
       "1008                   3                          2             NaN   \n",
>>>>>>> 1d05b4e (Actualizar: Fase2.ipynb, Fase3_1.xlsx, HR_CLEAN_DATA.csv)
=======
       "      Relationship_Satisfaction  Stock_Option_Level  Total_Working_Years  \\\n",
       "892                           2                   1                    8   \n",
       "1566                          3                   0                   10   \n",
       "1578                          4                   1                   10   \n",
       "340                           4                   0                    9   \n",
       "1604                          3                   1                99999   \n",
       "1605                          2                   0                99999   \n",
       "987                           4                   0                99999   \n",
       "1008                          2                   1                    2   \n",
>>>>>>> d6bd9fd (Actualizar: Fase2.ipynb, Fase3_1.xlsx y HR_CLEAN_DATA.csv)
       "\n",
       "      Training_Times_Last_Year  Work_Life_Balance  Years_At_Company  \\\n",
       "892                          5                  3                 5   \n",
       "1566                         2                  3                 8   \n",
       "1578                         5                  3                10   \n",
       "340                          3                  3                 9   \n",
       "1604                         1                  2                 7   \n",
       "1605                         2                  4                 7   \n",
       "987                          2                  2                 2   \n",
       "1008                         2                  4                 2   \n",
       "\n",
       "      Years_Since_Last_Promotion  Years_With_Curr_Manager  Date_Birth  \\\n",
       "892                            1                        2        1981   \n",
       "1566                           0                        0        1988   \n",
       "1578                           2                        8        1994   \n",
       "340                            0                        7        1996   \n",
       "1604                           1                        0        1982   \n",
       "1605                           5                        2        1992   \n",
       "987                            2                        2        1990   \n",
       "1008                           2                        2        1988   \n",
       "\n",
       "      Remote_Work  \n",
       "892          True  \n",
       "1566         True  \n",
       "1578         True  \n",
       "340         False  \n",
       "1604         True  \n",
       "1605         True  \n",
       "987         False  \n",
       "1008         True  "
      ]
     },
<<<<<<< HEAD
<<<<<<< HEAD
     "execution_count": 192,
=======
     "execution_count": 144,
>>>>>>> 1d05b4e (Actualizar: Fase2.ipynb, Fase3_1.xlsx, HR_CLEAN_DATA.csv)
=======
     "execution_count": 269,
>>>>>>> d6bd9fd (Actualizar: Fase2.ipynb, Fase3_1.xlsx y HR_CLEAN_DATA.csv)
     "metadata": {},
     "output_type": "execute_result"
    }
   ],
   "source": [
    "# Filrtamos el DF para obtener el DF dónde el 'Hourly_Rate'==99999 y el 'Employee_Number' != 999999\n",
    "df_duplicados_s5_filtrado = df_duplicados_s5[df_duplicados_s5['Hourly_Rate']==99999]\n",
    "df_duplicados_s5_filtrado = df_duplicados_s5_filtrado.loc[df_duplicados_s5_filtrado['Employee_Number']!=99999,:]\n",
    "df_duplicados_s5_filtrado\n"
   ]
  },
  {
   "cell_type": "code",
<<<<<<< HEAD
<<<<<<< HEAD
   "execution_count": 193,
=======
   "execution_count": 145,
>>>>>>> 1d05b4e (Actualizar: Fase2.ipynb, Fase3_1.xlsx, HR_CLEAN_DATA.csv)
=======
   "execution_count": 270,
>>>>>>> d6bd9fd (Actualizar: Fase2.ipynb, Fase3_1.xlsx y HR_CLEAN_DATA.csv)
   "metadata": {},
   "outputs": [],
   "source": [
    "#Guardamos en una lista los números de los índices de todas las filas del DF filtrado 'df_duplicados_s5_filtrado'\n",
    "lista_index_situacion_5= df_duplicados_s5_filtrado.index.tolist()"
   ]
  },
  {
   "cell_type": "code",
<<<<<<< HEAD
<<<<<<< HEAD
   "execution_count": 194,
=======
   "execution_count": 146,
>>>>>>> 1d05b4e (Actualizar: Fase2.ipynb, Fase3_1.xlsx, HR_CLEAN_DATA.csv)
=======
   "execution_count": 271,
>>>>>>> d6bd9fd (Actualizar: Fase2.ipynb, Fase3_1.xlsx y HR_CLEAN_DATA.csv)
   "metadata": {},
   "outputs": [],
   "source": [
    "#Utilizamos un for loop para iterar por la lista de los números de índice y eliminamos cada uno de estos de nuestro DF original\n",
    "for employee in lista_index_situacion_5:\n",
    "    df.drop(employee,axis=0,inplace=True)"
   ]
  },
  {
   "cell_type": "code",
<<<<<<< HEAD
<<<<<<< HEAD
   "execution_count": 195,
=======
   "execution_count": 147,
>>>>>>> 1d05b4e (Actualizar: Fase2.ipynb, Fase3_1.xlsx, HR_CLEAN_DATA.csv)
=======
   "execution_count": 272,
>>>>>>> d6bd9fd (Actualizar: Fase2.ipynb, Fase3_1.xlsx y HR_CLEAN_DATA.csv)
   "metadata": {},
   "outputs": [
    {
     "data": {
      "text/plain": [
       "405"
      ]
     },
<<<<<<< HEAD
<<<<<<< HEAD
     "execution_count": 195,
=======
     "execution_count": 147,
>>>>>>> 1d05b4e (Actualizar: Fase2.ipynb, Fase3_1.xlsx, HR_CLEAN_DATA.csv)
=======
     "execution_count": 272,
>>>>>>> d6bd9fd (Actualizar: Fase2.ipynb, Fase3_1.xlsx y HR_CLEAN_DATA.csv)
     "metadata": {},
     "output_type": "execute_result"
    }
   ],
   "source": [
    "df['Employee_Number'].duplicated().sum()"
   ]
  },
  {
   "cell_type": "markdown",
   "metadata": {},
   "source": [
    "### 2.6 Situación 6: Columna 'Distance_From_Home' == 'Environment_Satisfaction'"
   ]
  },
  {
   "cell_type": "code",
<<<<<<< HEAD
<<<<<<< HEAD
   "execution_count": 196,
=======
   "execution_count": 148,
>>>>>>> 1d05b4e (Actualizar: Fase2.ipynb, Fase3_1.xlsx, HR_CLEAN_DATA.csv)
=======
   "execution_count": 273,
>>>>>>> d6bd9fd (Actualizar: Fase2.ipynb, Fase3_1.xlsx y HR_CLEAN_DATA.csv)
   "metadata": {},
   "outputs": [
    {
     "data": {
      "text/html": [
       "<div>\n",
       "<style scoped>\n",
       "    .dataframe tbody tr th:only-of-type {\n",
       "        vertical-align: middle;\n",
       "    }\n",
       "\n",
       "    .dataframe tbody tr th {\n",
       "        vertical-align: top;\n",
       "    }\n",
       "\n",
       "    .dataframe thead th {\n",
       "        text-align: right;\n",
       "    }\n",
       "</style>\n",
       "<table border=\"1\" class=\"dataframe\">\n",
       "  <thead>\n",
       "    <tr style=\"text-align: right;\">\n",
       "      <th></th>\n",
       "      <th>Age</th>\n",
       "      <th>Age_Group</th>\n",
       "      <th>Attrition</th>\n",
       "      <th>Business_Travel</th>\n",
       "      <th>Daily_Rate</th>\n",
       "      <th>Department</th>\n",
       "      <th>Distance_From_Home</th>\n",
       "      <th>Education</th>\n",
       "      <th>Education_Field</th>\n",
       "      <th>Employee_Number</th>\n",
       "      <th>Environment_Satisfaction</th>\n",
       "      <th>Gender</th>\n",
       "      <th>Hourly_Rate</th>\n",
       "      <th>Job_Involvement</th>\n",
       "      <th>Job_Level</th>\n",
       "      <th>Job_Role</th>\n",
       "      <th>Job_Satisfaction</th>\n",
       "      <th>Marital_Status</th>\n",
       "      <th>Monthly_Income</th>\n",
       "      <th>Monthly_Rate</th>\n",
       "      <th>Num_Companies_Worked</th>\n",
       "      <th>Over_Time</th>\n",
       "      <th>Percent_Salary_Hike</th>\n",
       "      <th>Performance_Rating</th>\n",
       "      <th>Relationship_Satisfaction</th>\n",
       "      <th>Stock_Option_Level</th>\n",
       "      <th>Total_Working_Years</th>\n",
       "      <th>Training_Times_Last_Year</th>\n",
       "      <th>Work_Life_Balance</th>\n",
       "      <th>Years_At_Company</th>\n",
       "      <th>Years_Since_Last_Promotion</th>\n",
       "      <th>Years_With_Curr_Manager</th>\n",
       "      <th>Date_Birth</th>\n",
       "      <th>Remote_Work</th>\n",
       "    </tr>\n",
       "  </thead>\n",
       "  <tbody>\n",
       "    <tr>\n",
<<<<<<< HEAD
<<<<<<< HEAD
       "      <th>871</th>\n",
=======
       "      <th>302</th>\n",
       "      <td>55</td>\n",
       "      <td></td>\n",
       "      <td>False</td>\n",
       "      <td>Travel_Rarely</td>\n",
       "      <td>147.0</td>\n",
       "      <td>Research &amp; Development</td>\n",
       "      <td>20</td>\n",
       "      <td>2</td>\n",
       "      <td>Technical Degree</td>\n",
       "      <td>389</td>\n",
       "      <td>2</td>\n",
       "      <td>M</td>\n",
       "      <td>37</td>\n",
       "      <td>3</td>\n",
       "      <td>2</td>\n",
       "      <td>Laboratory Technician</td>\n",
       "      <td>4</td>\n",
       "      <td>Married</td>\n",
       "      <td>NaN</td>\n",
       "      <td>15972.0</td>\n",
       "      <td>3</td>\n",
       "      <td>Y</td>\n",
       "      <td>NaN</td>\n",
       "      <td>19</td>\n",
       "      <td>99999</td>\n",
       "      <td>4</td>\n",
       "      <td>NaN</td>\n",
       "      <td>1</td>\n",
       "      <td>12</td>\n",
       "      <td>4</td>\n",
       "      <td>3</td>\n",
       "      <td>10</td>\n",
       "      <td>0</td>\n",
       "      <td>8</td>\n",
       "      <td>1968</td>\n",
       "      <td>True</td>\n",
       "    </tr>\n",
       "    <tr>\n",
       "      <th>1545</th>\n",
       "      <td>55</td>\n",
       "      <td></td>\n",
       "      <td>False</td>\n",
       "      <td>Travel_Rarely</td>\n",
       "      <td>147.0</td>\n",
       "      <td>Research &amp; Development</td>\n",
       "      <td>17</td>\n",
       "      <td>2</td>\n",
       "      <td>Technical Degree</td>\n",
       "      <td>389</td>\n",
       "      <td>17</td>\n",
       "      <td>M</td>\n",
       "      <td>37</td>\n",
       "      <td>3</td>\n",
       "      <td>2</td>\n",
       "      <td>Laboratory Technician</td>\n",
       "      <td>4</td>\n",
       "      <td>Married</td>\n",
       "      <td>NaN</td>\n",
       "      <td>15972.0</td>\n",
       "      <td>3</td>\n",
       "      <td>Y</td>\n",
       "      <td>NaN</td>\n",
       "      <td>19</td>\n",
       "      <td>99999</td>\n",
       "      <td>4</td>\n",
       "      <td>NaN</td>\n",
       "      <td>1</td>\n",
       "      <td>12</td>\n",
       "      <td>4</td>\n",
       "      <td>3</td>\n",
       "      <td>10</td>\n",
       "      <td>0</td>\n",
       "      <td>8</td>\n",
       "      <td>1968</td>\n",
       "      <td>True</td>\n",
       "    </tr>\n",
       "    <tr>\n",
       "      <th>1512</th>\n",
>>>>>>> 1d05b4e (Actualizar: Fase2.ipynb, Fase3_1.xlsx, HR_CLEAN_DATA.csv)
=======
       "      <th>871</th>\n",
>>>>>>> d6bd9fd (Actualizar: Fase2.ipynb, Fase3_1.xlsx y HR_CLEAN_DATA.csv)
       "      <td>31</td>\n",
       "      <td></td>\n",
       "      <td>False</td>\n",
       "      <td>Travel Rarely</td>\n",
       "      <td>691.0</td>\n",
       "      <td>Research &amp; Development</td>\n",
<<<<<<< HEAD
<<<<<<< HEAD
       "      <td>11</td>\n",
=======
       "      <td>5</td>\n",
>>>>>>> 1d05b4e (Actualizar: Fase2.ipynb, Fase3_1.xlsx, HR_CLEAN_DATA.csv)
=======
       "      <td>11</td>\n",
>>>>>>> d6bd9fd (Actualizar: Fase2.ipynb, Fase3_1.xlsx y HR_CLEAN_DATA.csv)
       "      <td>4</td>\n",
       "      <td>NaN</td>\n",
       "      <td>423</td>\n",
       "      <td>2</td>\n",
       "      <td>M</td>\n",
       "      <td>86</td>\n",
       "      <td>3</td>\n",
       "      <td>1</td>\n",
       "      <td>Research Scientist</td>\n",
       "      <td>4</td>\n",
       "      <td>Married</td>\n",
       "      <td>99999</td>\n",
       "      <td>10077</td>\n",
       "      <td>0</td>\n",
<<<<<<< HEAD
<<<<<<< HEAD
=======
       "      <td>nan</td>\n",
>>>>>>> 1d05b4e (Actualizar: Fase2.ipynb, Fase3_1.xlsx, HR_CLEAN_DATA.csv)
=======
>>>>>>> d6bd9fd (Actualizar: Fase2.ipynb, Fase3_1.xlsx y HR_CLEAN_DATA.csv)
       "      <td>NaN</td>\n",
       "      <td>12</td>\n",
       "      <td>3</td>\n",
       "      <td>3</td>\n",
       "      <td>1</td>\n",
       "      <td>99999</td>\n",
       "      <td>4</td>\n",
       "      <td>3</td>\n",
       "      <td>5</td>\n",
       "      <td>0</td>\n",
       "      <td>3</td>\n",
       "      <td>1992</td>\n",
       "      <td>True</td>\n",
       "    </tr>\n",
       "    <tr>\n",
       "      <th>1512</th>\n",
       "      <td>31</td>\n",
       "      <td></td>\n",
       "      <td>False</td>\n",
       "      <td>Travel Rarely</td>\n",
       "      <td>691.0</td>\n",
       "      <td>Research &amp; Development</td>\n",
<<<<<<< HEAD
<<<<<<< HEAD
       "      <td>5</td>\n",
=======
       "      <td>11</td>\n",
>>>>>>> 1d05b4e (Actualizar: Fase2.ipynb, Fase3_1.xlsx, HR_CLEAN_DATA.csv)
=======
       "      <td>5</td>\n",
>>>>>>> d6bd9fd (Actualizar: Fase2.ipynb, Fase3_1.xlsx y HR_CLEAN_DATA.csv)
       "      <td>4</td>\n",
       "      <td>NaN</td>\n",
       "      <td>423</td>\n",
       "      <td>3</td>\n",
       "      <td>M</td>\n",
       "      <td>86</td>\n",
       "      <td>3</td>\n",
       "      <td>1</td>\n",
       "      <td>Research Scientist</td>\n",
       "      <td>4</td>\n",
       "      <td>Married</td>\n",
       "      <td>99999</td>\n",
       "      <td>10077</td>\n",
       "      <td>0</td>\n",
<<<<<<< HEAD
<<<<<<< HEAD
=======
       "      <td>nan</td>\n",
>>>>>>> 1d05b4e (Actualizar: Fase2.ipynb, Fase3_1.xlsx, HR_CLEAN_DATA.csv)
=======
>>>>>>> d6bd9fd (Actualizar: Fase2.ipynb, Fase3_1.xlsx y HR_CLEAN_DATA.csv)
       "      <td>NaN</td>\n",
       "      <td>12</td>\n",
       "      <td>3</td>\n",
       "      <td>3</td>\n",
       "      <td>1</td>\n",
       "      <td>99999</td>\n",
       "      <td>4</td>\n",
       "      <td>3</td>\n",
       "      <td>5</td>\n",
       "      <td>0</td>\n",
       "      <td>3</td>\n",
       "      <td>1992</td>\n",
       "      <td>True</td>\n",
       "    </tr>\n",
       "    <tr>\n",
       "      <th>1515</th>\n",
       "      <td>52</td>\n",
       "      <td></td>\n",
       "      <td>True</td>\n",
       "      <td>NaN</td>\n",
       "      <td>723.0</td>\n",
       "      <td>nan</td>\n",
       "      <td>8</td>\n",
       "      <td>4</td>\n",
       "      <td>Medical</td>\n",
       "      <td>433</td>\n",
       "      <td>3</td>\n",
       "      <td>M</td>\n",
       "      <td>85</td>\n",
       "      <td>2</td>\n",
       "      <td>2</td>\n",
       "      <td>Research Scientist</td>\n",
       "      <td>2</td>\n",
       "      <td>NaN</td>\n",
       "      <td>4941</td>\n",
       "      <td>17747</td>\n",
       "      <td>2</td>\n",
<<<<<<< HEAD
<<<<<<< HEAD
=======
       "      <td>nan</td>\n",
>>>>>>> 1d05b4e (Actualizar: Fase2.ipynb, Fase3_1.xlsx, HR_CLEAN_DATA.csv)
=======
>>>>>>> d6bd9fd (Actualizar: Fase2.ipynb, Fase3_1.xlsx y HR_CLEAN_DATA.csv)
       "      <td>False</td>\n",
       "      <td>15</td>\n",
       "      <td>99999</td>\n",
       "      <td>1</td>\n",
       "      <td>0</td>\n",
       "      <td>11</td>\n",
       "      <td>3</td>\n",
       "      <td>2</td>\n",
       "      <td>8</td>\n",
       "      <td>7</td>\n",
       "      <td>7</td>\n",
       "      <td>1971</td>\n",
       "      <td>False</td>\n",
       "    </tr>\n",
       "    <tr>\n",
<<<<<<< HEAD
<<<<<<< HEAD
=======
=======
       "      <th>874</th>\n",
       "      <td>52</td>\n",
       "      <td></td>\n",
       "      <td>True</td>\n",
       "      <td>NaN</td>\n",
       "      <td>723.0</td>\n",
       "      <td>nan</td>\n",
       "      <td>17</td>\n",
       "      <td>4</td>\n",
       "      <td>Medical</td>\n",
       "      <td>433</td>\n",
       "      <td>2</td>\n",
       "      <td>M</td>\n",
       "      <td>85</td>\n",
       "      <td>2</td>\n",
       "      <td>2</td>\n",
       "      <td>Research Scientist</td>\n",
       "      <td>2</td>\n",
       "      <td>NaN</td>\n",
       "      <td>4941</td>\n",
       "      <td>17747</td>\n",
       "      <td>2</td>\n",
       "      <td>False</td>\n",
       "      <td>15</td>\n",
       "      <td>99999</td>\n",
       "      <td>1</td>\n",
       "      <td>0</td>\n",
       "      <td>11</td>\n",
       "      <td>3</td>\n",
       "      <td>2</td>\n",
       "      <td>8</td>\n",
       "      <td>7</td>\n",
       "      <td>7</td>\n",
       "      <td>1971</td>\n",
       "      <td>False</td>\n",
       "    </tr>\n",
       "    <tr>\n",
       "      <th>886</th>\n",
       "      <td>29</td>\n",
       "      <td></td>\n",
       "      <td>False</td>\n",
       "      <td>NaN</td>\n",
       "      <td>1283.0</td>\n",
       "      <td>Research &amp; Development</td>\n",
       "      <td>17</td>\n",
       "      <td>3</td>\n",
       "      <td>NaN</td>\n",
       "      <td>495</td>\n",
       "      <td>2</td>\n",
       "      <td>M</td>\n",
       "      <td>54</td>\n",
       "      <td>3</td>\n",
       "      <td>1</td>\n",
       "      <td>Research Scientist</td>\n",
       "      <td>4</td>\n",
       "      <td>NaN</td>\n",
       "      <td>99999</td>\n",
       "      <td>18168</td>\n",
       "      <td>9</td>\n",
       "      <td>False</td>\n",
       "      <td>16</td>\n",
       "      <td>99999</td>\n",
       "      <td>4</td>\n",
       "      <td>0</td>\n",
       "      <td>6</td>\n",
       "      <td>4</td>\n",
       "      <td>3</td>\n",
       "      <td>3</td>\n",
       "      <td>1</td>\n",
       "      <td>2</td>\n",
       "      <td>1994</td>\n",
       "      <td>False</td>\n",
       "    </tr>\n",
       "    <tr>\n",
>>>>>>> d6bd9fd (Actualizar: Fase2.ipynb, Fase3_1.xlsx y HR_CLEAN_DATA.csv)
       "      <th>...</th>\n",
       "      <td>...</td>\n",
       "      <td>...</td>\n",
       "      <td>...</td>\n",
       "      <td>...</td>\n",
       "      <td>...</td>\n",
       "      <td>...</td>\n",
       "      <td>...</td>\n",
       "      <td>...</td>\n",
       "      <td>...</td>\n",
       "      <td>...</td>\n",
       "      <td>...</td>\n",
       "      <td>...</td>\n",
       "      <td>...</td>\n",
       "      <td>...</td>\n",
       "      <td>...</td>\n",
       "      <td>...</td>\n",
       "      <td>...</td>\n",
       "      <td>...</td>\n",
       "      <td>...</td>\n",
       "      <td>...</td>\n",
       "      <td>...</td>\n",
       "      <td>...</td>\n",
       "      <td>...</td>\n",
       "      <td>...</td>\n",
       "      <td>...</td>\n",
       "      <td>...</td>\n",
       "      <td>...</td>\n",
       "      <td>...</td>\n",
       "      <td>...</td>\n",
       "      <td>...</td>\n",
       "      <td>...</td>\n",
       "      <td>...</td>\n",
       "      <td>...</td>\n",
       "      <td>...</td>\n",
       "    </tr>\n",
       "    <tr>\n",
       "      <th>559</th>\n",
       "      <td>35</td>\n",
       "      <td></td>\n",
       "      <td>False</td>\n",
       "      <td>Travel Rarely</td>\n",
       "      <td>809.0</td>\n",
       "      <td>Research &amp; Development</td>\n",
       "      <td>16</td>\n",
       "      <td>3</td>\n",
       "      <td>Medical</td>\n",
       "      <td>99999</td>\n",
       "      <td>1</td>\n",
       "      <td>M</td>\n",
       "      <td>84</td>\n",
       "      <td>4</td>\n",
       "      <td>1</td>\n",
       "      <td>Laboratory Technician</td>\n",
       "      <td>2</td>\n",
       "      <td>Married</td>\n",
       "      <td>99999</td>\n",
       "      <td>16479</td>\n",
       "      <td>0</td>\n",
       "      <td>NaN</td>\n",
       "      <td>13</td>\n",
       "      <td>3</td>\n",
       "      <td>3</td>\n",
       "      <td>1</td>\n",
       "      <td>6</td>\n",
       "      <td>5</td>\n",
       "      <td>3</td>\n",
       "      <td>5</td>\n",
       "      <td>0</td>\n",
       "      <td>3</td>\n",
       "      <td>1988</td>\n",
       "      <td>False</td>\n",
       "    </tr>\n",
       "    <tr>\n",
       "      <th>558</th>\n",
       "      <td>41</td>\n",
       "      <td></td>\n",
       "      <td>True</td>\n",
       "      <td>NaN</td>\n",
       "      <td>1102.0</td>\n",
       "      <td>nan</td>\n",
       "      <td>1</td>\n",
       "      <td>2</td>\n",
       "      <td>NaN</td>\n",
       "      <td>99999</td>\n",
       "      <td>2</td>\n",
       "      <td>F</td>\n",
       "      <td>94</td>\n",
       "      <td>3</td>\n",
       "      <td>2</td>\n",
       "      <td>Sales Executive</td>\n",
       "      <td>4</td>\n",
       "      <td>NaN</td>\n",
       "      <td>99999</td>\n",
       "      <td>19479</td>\n",
       "      <td>8</td>\n",
       "      <td>True</td>\n",
       "      <td>11</td>\n",
       "      <td>3</td>\n",
       "      <td>1</td>\n",
       "      <td>0</td>\n",
       "      <td>8</td>\n",
       "      <td>0</td>\n",
       "      <td>1</td>\n",
       "      <td>6</td>\n",
       "      <td>0</td>\n",
       "      <td>5</td>\n",
       "      <td>1982</td>\n",
       "      <td>False</td>\n",
       "    </tr>\n",
       "    <tr>\n",
       "      <th>557</th>\n",
       "      <td>47</td>\n",
       "      <td></td>\n",
       "      <td>True</td>\n",
       "      <td>NaN</td>\n",
       "      <td>1093.0</td>\n",
       "      <td>Sales</td>\n",
       "      <td>9</td>\n",
       "      <td>3</td>\n",
       "      <td>NaN</td>\n",
       "      <td>99999</td>\n",
       "      <td>3</td>\n",
       "      <td>M</td>\n",
       "      <td>82</td>\n",
       "      <td>1</td>\n",
       "      <td>4</td>\n",
       "      <td>Sales Executive</td>\n",
       "      <td>3</td>\n",
       "      <td>Married</td>\n",
       "      <td>12936</td>\n",
       "      <td>24164</td>\n",
       "      <td>7</td>\n",
       "      <td>False</td>\n",
       "      <td>11</td>\n",
       "      <td>99999</td>\n",
       "      <td>3</td>\n",
       "      <td>0</td>\n",
       "      <td>25</td>\n",
       "      <td>3</td>\n",
       "      <td>1</td>\n",
       "      <td>23</td>\n",
       "      <td>14</td>\n",
       "      <td>10</td>\n",
       "      <td>1976</td>\n",
       "      <td>True</td>\n",
       "    </tr>\n",
       "    <tr>\n",
       "      <th>591</th>\n",
       "      <td>52</td>\n",
       "      <td></td>\n",
       "      <td>False</td>\n",
       "      <td>Travel Rarely</td>\n",
       "      <td>319.0</td>\n",
       "      <td>nan</td>\n",
       "      <td>32</td>\n",
       "      <td>3</td>\n",
       "      <td>NaN</td>\n",
       "      <td>99999</td>\n",
       "      <td>4</td>\n",
       "      <td>M</td>\n",
       "      <td>99999</td>\n",
       "      <td>2</td>\n",
       "      <td>3</td>\n",
       "      <td>Manufacturing Director</td>\n",
       "      <td>3</td>\n",
       "      <td>Married</td>\n",
       "      <td>99999</td>\n",
       "      <td>19609</td>\n",
       "      <td>2</td>\n",
       "      <td>NaN</td>\n",
       "      <td>14</td>\n",
       "      <td>99999</td>\n",
       "      <td>3</td>\n",
       "      <td>0</td>\n",
       "      <td>99999</td>\n",
       "      <td>4</td>\n",
       "      <td>3</td>\n",
       "      <td>5</td>\n",
       "      <td>0</td>\n",
       "      <td>4</td>\n",
       "      <td>1971</td>\n",
       "      <td>False</td>\n",
       "    </tr>\n",
       "    <tr>\n",
       "      <th>1613</th>\n",
       "      <td>46</td>\n",
       "      <td></td>\n",
       "      <td>False</td>\n",
       "      <td>NaN</td>\n",
       "      <td>566.0</td>\n",
       "      <td>nan</td>\n",
       "      <td>7</td>\n",
       "      <td>2</td>\n",
       "      <td>Medical</td>\n",
       "      <td>99999</td>\n",
       "      <td>4</td>\n",
       "      <td>M</td>\n",
       "      <td>75</td>\n",
       "      <td>3</td>\n",
       "      <td>3</td>\n",
       "      <td>Manufacturing Director</td>\n",
       "      <td>3</td>\n",
       "      <td>NaN</td>\n",
       "      <td>10845</td>\n",
       "      <td>24208</td>\n",
       "      <td>6</td>\n",
       "      <td>NaN</td>\n",
       "      <td>13</td>\n",
       "      <td>3</td>\n",
       "      <td>2</td>\n",
       "      <td>1</td>\n",
       "      <td>99999</td>\n",
       "      <td>3</td>\n",
       "      <td>3</td>\n",
       "      <td>8</td>\n",
       "      <td>0</td>\n",
       "      <td>7</td>\n",
       "      <td>1977</td>\n",
       "      <td>False</td>\n",
       "    </tr>\n",
       "  </tbody>\n",
       "</table>\n",
       "<p>414 rows × 34 columns</p>\n",
       "</div>"
      ],
      "text/plain": [
       "      Age Age_Group  Attrition Business_Travel  Daily_Rate  \\\n",
       "871    31                False   Travel Rarely       691.0   \n",
       "1512   31                False   Travel Rarely       691.0   \n",
       "1515   52                 True             NaN       723.0   \n",
       "874    52                 True             NaN       723.0   \n",
       "886    29                False             NaN      1283.0   \n",
       "...   ...       ...        ...             ...         ...   \n",
       "559    35                False   Travel Rarely       809.0   \n",
       "558    41                 True             NaN      1102.0   \n",
       "557    47                 True             NaN      1093.0   \n",
       "591    52                False   Travel Rarely       319.0   \n",
       "1613   46                False             NaN       566.0   \n",
       "\n",
       "                    Department  Distance_From_Home  Education Education_Field  \\\n",
       "871    Research & Development                   11          4             NaN   \n",
       "1512   Research & Development                    5          4             NaN   \n",
       "1515                       nan                   8          4         Medical   \n",
       "874                        nan                  17          4         Medical   \n",
       "886    Research & Development                   17          3             NaN   \n",
       "...                        ...                 ...        ...             ...   \n",
       "559    Research & Development                   16          3         Medical   \n",
       "558                        nan                   1          2             NaN   \n",
       "557                     Sales                    9          3             NaN   \n",
       "591                        nan                  32          3             NaN   \n",
       "1613                       nan                   7          2         Medical   \n",
       "\n",
       "      Employee_Number  Environment_Satisfaction Gender  Hourly_Rate  \\\n",
       "871               423                         2      M           86   \n",
       "1512              423                         3      M           86   \n",
       "1515              433                         3      M           85   \n",
       "874               433                         2      M           85   \n",
       "886               495                         2      M           54   \n",
       "...               ...                       ...    ...          ...   \n",
       "559             99999                         1      M           84   \n",
       "558             99999                         2      F           94   \n",
       "557             99999                         3      M           82   \n",
       "591             99999                         4      M        99999   \n",
       "1613            99999                         4      M           75   \n",
       "\n",
       "      Job_Involvement  Job_Level                  Job_Role  Job_Satisfaction  \\\n",
       "871                 3          1       Research Scientist                  4   \n",
       "1512                3          1       Research Scientist                  4   \n",
       "1515                2          2       Research Scientist                  2   \n",
       "874                 2          2       Research Scientist                  2   \n",
       "886                 3          1       Research Scientist                  4   \n",
       "...               ...        ...                       ...               ...   \n",
       "559                 4          1    Laboratory Technician                  2   \n",
       "558                 3          2          Sales Executive                  4   \n",
       "557                 1          4          Sales Executive                  3   \n",
       "591                 2          3   Manufacturing Director                  3   \n",
       "1613                3          3   Manufacturing Director                  3   \n",
       "\n",
       "     Marital_Status  Monthly_Income  Monthly_Rate  Num_Companies_Worked  \\\n",
       "871         Married           99999         10077                     0   \n",
       "1512        Married           99999         10077                     0   \n",
       "1515            NaN            4941         17747                     2   \n",
       "874             NaN            4941         17747                     2   \n",
       "886             NaN           99999         18168                     9   \n",
       "...             ...             ...           ...                   ...   \n",
       "559         Married           99999         16479                     0   \n",
       "558             NaN           99999         19479                     8   \n",
       "557         Married           12936         24164                     7   \n",
       "591         Married           99999         19609                     2   \n",
       "1613            NaN           10845         24208                     6   \n",
       "\n",
       "     Over_Time  Percent_Salary_Hike  Performance_Rating  \\\n",
       "871        NaN                   12                   3   \n",
       "1512       NaN                   12                   3   \n",
       "1515     False                   15               99999   \n",
       "874      False                   15               99999   \n",
       "886      False                   16               99999   \n",
       "...        ...                  ...                 ...   \n",
       "559        NaN                   13                   3   \n",
       "558       True                   11                   3   \n",
       "557      False                   11               99999   \n",
       "591        NaN                   14               99999   \n",
       "1613       NaN                   13                   3   \n",
       "\n",
       "      Relationship_Satisfaction  Stock_Option_Level  Total_Working_Years  \\\n",
       "871                           3                   1                99999   \n",
       "1512                          3                   1                99999   \n",
       "1515                          1                   0                   11   \n",
       "874                           1                   0                   11   \n",
       "886                           4                   0                    6   \n",
       "...                         ...                 ...                  ...   \n",
       "559                           3                   1                    6   \n",
       "558                           1                   0                    8   \n",
       "557                           3                   0                   25   \n",
       "591                           3                   0                99999   \n",
       "1613                          2                   1                99999   \n",
       "\n",
       "      Training_Times_Last_Year  Work_Life_Balance  Years_At_Company  \\\n",
       "871                          4                  3                 5   \n",
       "1512                         4                  3                 5   \n",
       "1515                         3                  2                 8   \n",
       "874                          3                  2                 8   \n",
       "886                          4                  3                 3   \n",
       "...                        ...                ...               ...   \n",
       "559                          5                  3                 5   \n",
       "558                          0                  1                 6   \n",
       "557                          3                  1                23   \n",
       "591                          4                  3                 5   \n",
       "1613                         3                  3                 8   \n",
       "\n",
       "      Years_Since_Last_Promotion  Years_With_Curr_Manager  Date_Birth  \\\n",
       "871                            0                        3        1992   \n",
       "1512                           0                        3        1992   \n",
       "1515                           7                        7        1971   \n",
       "874                            7                        7        1971   \n",
       "886                            1                        2        1994   \n",
       "...                          ...                      ...         ...   \n",
       "559                            0                        3        1988   \n",
       "558                            0                        5        1982   \n",
       "557                           14                       10        1976   \n",
       "591                            0                        4        1971   \n",
       "1613                           0                        7        1977   \n",
       "\n",
       "      Remote_Work  \n",
       "871          True  \n",
       "1512         True  \n",
       "1515        False  \n",
       "874         False  \n",
       "886         False  \n",
       "...           ...  \n",
       "559         False  \n",
       "558         False  \n",
       "557          True  \n",
       "591         False  \n",
       "1613        False  \n",
       "\n",
       "[414 rows x 34 columns]"
      ]
     },
     "execution_count": 273,
     "metadata": {},
     "output_type": "execute_result"
    }
   ],
   "source": [
    "# Creamos un DF de duplicados nuevo\n",
    "df_duplicados_s6 = df[df['Employee_Number'].isin(df['Employee_Number'][df['Employee_Number'].duplicated() ])].sort_values('Employee_Number')\n",
    "df_duplicados_s6"
   ]
  },
  {
   "cell_type": "code",
   "execution_count": 274,
   "metadata": {},
   "outputs": [
    {
     "data": {
      "text/html": [
       "<div>\n",
       "<style scoped>\n",
       "    .dataframe tbody tr th:only-of-type {\n",
       "        vertical-align: middle;\n",
       "    }\n",
       "\n",
       "    .dataframe tbody tr th {\n",
       "        vertical-align: top;\n",
       "    }\n",
       "\n",
       "    .dataframe thead th {\n",
       "        text-align: right;\n",
       "    }\n",
       "</style>\n",
       "<table border=\"1\" class=\"dataframe\">\n",
       "  <thead>\n",
       "    <tr style=\"text-align: right;\">\n",
       "      <th></th>\n",
       "      <th>Age</th>\n",
       "      <th>Age_Group</th>\n",
       "      <th>Attrition</th>\n",
       "      <th>Business_Travel</th>\n",
       "      <th>Daily_Rate</th>\n",
       "      <th>Department</th>\n",
       "      <th>Distance_From_Home</th>\n",
       "      <th>Education</th>\n",
       "      <th>Education_Field</th>\n",
       "      <th>Employee_Number</th>\n",
       "      <th>Environment_Satisfaction</th>\n",
       "      <th>Gender</th>\n",
       "      <th>Hourly_Rate</th>\n",
       "      <th>Job_Involvement</th>\n",
       "      <th>Job_Level</th>\n",
       "      <th>Job_Role</th>\n",
       "      <th>Job_Satisfaction</th>\n",
       "      <th>Marital_Status</th>\n",
       "      <th>Monthly_Income</th>\n",
       "      <th>Monthly_Rate</th>\n",
       "      <th>Num_Companies_Worked</th>\n",
       "      <th>Over_Time</th>\n",
       "      <th>Percent_Salary_Hike</th>\n",
       "      <th>Performance_Rating</th>\n",
       "      <th>Relationship_Satisfaction</th>\n",
       "      <th>Stock_Option_Level</th>\n",
       "      <th>Total_Working_Years</th>\n",
       "      <th>Training_Times_Last_Year</th>\n",
       "      <th>Work_Life_Balance</th>\n",
       "      <th>Years_At_Company</th>\n",
       "      <th>Years_Since_Last_Promotion</th>\n",
       "      <th>Years_With_Curr_Manager</th>\n",
       "      <th>Date_Birth</th>\n",
       "      <th>Remote_Work</th>\n",
       "    </tr>\n",
       "  </thead>\n",
       "  <tbody>\n",
<<<<<<< HEAD
       "    <tr>\n",
       "      <th>1545</th>\n",
       "      <td>55</td>\n",
       "      <td></td>\n",
       "      <td>False</td>\n",
       "      <td>Travel_Rarely</td>\n",
       "      <td>147.0</td>\n",
       "      <td>Research &amp; Development</td>\n",
       "      <td>17</td>\n",
       "      <td>2</td>\n",
       "      <td>Technical Degree</td>\n",
       "      <td>389</td>\n",
       "      <td>17</td>\n",
       "      <td>M</td>\n",
       "      <td>37</td>\n",
       "      <td>3</td>\n",
       "      <td>2</td>\n",
       "      <td>Laboratory Technician</td>\n",
       "      <td>4</td>\n",
       "      <td>Married</td>\n",
       "      <td>NaN</td>\n",
       "      <td>15972.0</td>\n",
       "      <td>3</td>\n",
       "      <td>Y</td>\n",
       "      <td>NaN</td>\n",
       "      <td>19</td>\n",
       "      <td>99999</td>\n",
       "      <td>4</td>\n",
       "      <td>NaN</td>\n",
       "      <td>1</td>\n",
       "      <td>12</td>\n",
       "      <td>4</td>\n",
       "      <td>3</td>\n",
       "      <td>10</td>\n",
       "      <td>0</td>\n",
       "      <td>8</td>\n",
       "      <td>1968</td>\n",
       "      <td>True</td>\n",
       "    </tr>\n",
       "    <tr>\n",
       "      <th>871</th>\n",
       "      <td>31</td>\n",
       "      <td></td>\n",
       "      <td>False</td>\n",
       "      <td>Travel_Rarely</td>\n",
       "      <td>691.0</td>\n",
       "      <td>Research &amp; Development</td>\n",
       "      <td>11</td>\n",
       "      <td>4</td>\n",
       "      <td>NaN</td>\n",
       "      <td>423</td>\n",
       "      <td>11</td>\n",
       "      <td>M</td>\n",
       "      <td>86</td>\n",
       "      <td>3</td>\n",
       "      <td>1</td>\n",
       "      <td>Research Scientist</td>\n",
       "      <td>4</td>\n",
       "      <td>Married</td>\n",
       "      <td>NaN</td>\n",
       "      <td>10077.0</td>\n",
       "      <td>0</td>\n",
       "      <td>nan</td>\n",
       "      <td>NaN</td>\n",
       "      <td>12</td>\n",
       "      <td>3</td>\n",
       "      <td>3</td>\n",
       "      <td>NaN</td>\n",
       "      <td>1</td>\n",
       "      <td>99999</td>\n",
       "      <td>4</td>\n",
       "      <td>3</td>\n",
       "      <td>5</td>\n",
       "      <td>0</td>\n",
       "      <td>3</td>\n",
       "      <td>1992</td>\n",
       "      <td>True</td>\n",
       "    </tr>\n",
       "    <tr>\n",
>>>>>>> 1d05b4e (Actualizar: Fase2.ipynb, Fase3_1.xlsx, HR_CLEAN_DATA.csv)
       "      <th>874</th>\n",
       "      <td>52</td>\n",
       "      <td></td>\n",
       "      <td>True</td>\n",
       "      <td>NaN</td>\n",
       "      <td>723.0</td>\n",
       "      <td>nan</td>\n",
       "      <td>17</td>\n",
       "      <td>4</td>\n",
       "      <td>Medical</td>\n",
       "      <td>433</td>\n",
       "      <td>2</td>\n",
       "      <td>M</td>\n",
       "      <td>85</td>\n",
       "      <td>2</td>\n",
       "      <td>2</td>\n",
       "      <td>Research Scientist</td>\n",
       "      <td>2</td>\n",
       "      <td>NaN</td>\n",
       "      <td>4941</td>\n",
       "      <td>17747</td>\n",
       "      <td>2</td>\n",
<<<<<<< HEAD
=======
       "      <td>nan</td>\n",
>>>>>>> 1d05b4e (Actualizar: Fase2.ipynb, Fase3_1.xlsx, HR_CLEAN_DATA.csv)
       "      <td>False</td>\n",
       "      <td>15</td>\n",
       "      <td>99999</td>\n",
       "      <td>1</td>\n",
       "      <td>0</td>\n",
       "      <td>11</td>\n",
       "      <td>3</td>\n",
       "      <td>2</td>\n",
       "      <td>8</td>\n",
       "      <td>7</td>\n",
       "      <td>7</td>\n",
       "      <td>1971</td>\n",
       "      <td>False</td>\n",
       "    </tr>\n",
       "    <tr>\n",
       "      <th>886</th>\n",
       "      <td>29</td>\n",
       "      <td></td>\n",
       "      <td>False</td>\n",
       "      <td>NaN</td>\n",
       "      <td>1283.0</td>\n",
       "      <td>Research &amp; Development</td>\n",
       "      <td>17</td>\n",
       "      <td>3</td>\n",
       "      <td>NaN</td>\n",
       "      <td>495</td>\n",
       "      <td>2</td>\n",
       "      <td>M</td>\n",
       "      <td>54</td>\n",
       "      <td>3</td>\n",
       "      <td>1</td>\n",
       "      <td>Research Scientist</td>\n",
       "      <td>4</td>\n",
       "      <td>NaN</td>\n",
       "      <td>99999</td>\n",
       "      <td>18168</td>\n",
       "      <td>9</td>\n",
<<<<<<< HEAD
=======
       "      <td>nan</td>\n",
>>>>>>> 1d05b4e (Actualizar: Fase2.ipynb, Fase3_1.xlsx, HR_CLEAN_DATA.csv)
       "      <td>False</td>\n",
       "      <td>16</td>\n",
       "      <td>99999</td>\n",
       "      <td>4</td>\n",
       "      <td>0</td>\n",
       "      <td>6</td>\n",
       "      <td>4</td>\n",
       "      <td>3</td>\n",
       "      <td>3</td>\n",
       "      <td>1</td>\n",
       "      <td>2</td>\n",
       "      <td>1994</td>\n",
       "      <td>False</td>\n",
       "    </tr>\n",
       "    <tr>\n",
<<<<<<< HEAD
       "      <th>...</th>\n",
       "      <td>...</td>\n",
       "      <td>...</td>\n",
       "      <td>...</td>\n",
       "      <td>...</td>\n",
       "      <td>...</td>\n",
       "      <td>...</td>\n",
       "      <td>...</td>\n",
       "      <td>...</td>\n",
       "      <td>...</td>\n",
       "      <td>...</td>\n",
       "      <td>...</td>\n",
       "      <td>...</td>\n",
       "      <td>...</td>\n",
       "      <td>...</td>\n",
       "      <td>...</td>\n",
       "      <td>...</td>\n",
       "      <td>...</td>\n",
       "      <td>...</td>\n",
       "      <td>...</td>\n",
       "      <td>...</td>\n",
       "      <td>...</td>\n",
       "      <td>...</td>\n",
       "      <td>...</td>\n",
       "      <td>...</td>\n",
       "      <td>...</td>\n",
       "      <td>...</td>\n",
       "      <td>...</td>\n",
       "      <td>...</td>\n",
       "      <td>...</td>\n",
       "      <td>...</td>\n",
       "      <td>...</td>\n",
       "      <td>...</td>\n",
       "      <td>...</td>\n",
       "      <td>...</td>\n",
       "    </tr>\n",
       "    <tr>\n",
       "      <th>559</th>\n",
=======
       "      <th>1560</th>\n",
       "      <td>51</td>\n",
       "      <td></td>\n",
       "      <td>False</td>\n",
       "      <td>Travel_Rarely</td>\n",
       "      <td>1178.0</td>\n",
       "      <td>nan</td>\n",
       "      <td>31</td>\n",
       "      <td>2</td>\n",
       "      <td>NaN</td>\n",
       "      <td>500</td>\n",
       "      <td>31</td>\n",
       "      <td>F</td>\n",
       "      <td>87</td>\n",
       "      <td>3</td>\n",
       "      <td>2</td>\n",
       "      <td>Sales Executive</td>\n",
       "      <td>4</td>\n",
       "      <td>NaN</td>\n",
       "      <td>NaN</td>\n",
       "      <td>14862.0</td>\n",
       "      <td>4</td>\n",
       "      <td>nan</td>\n",
       "      <td>False</td>\n",
       "      <td>11</td>\n",
       "      <td>3</td>\n",
       "      <td>3</td>\n",
       "      <td>NaN</td>\n",
       "      <td>1</td>\n",
       "      <td>18</td>\n",
       "      <td>2</td>\n",
       "      <td>2</td>\n",
       "      <td>7</td>\n",
       "      <td>0</td>\n",
       "      <td>7</td>\n",
       "      <td>1972</td>\n",
       "      <td>False</td>\n",
       "    </tr>\n",
       "    <tr>\n",
       "      <th>90</th>\n",
       "      <td>50</td>\n",
       "      <td></td>\n",
       "      <td>False</td>\n",
       "      <td>Travel_Rarely</td>\n",
       "      <td>1099.0</td>\n",
       "      <td>Research &amp; Development</td>\n",
       "      <td>27</td>\n",
       "      <td>4</td>\n",
       "      <td>Life Sciences</td>\n",
       "      <td>569</td>\n",
       "      <td>27</td>\n",
       "      <td>M</td>\n",
       "      <td>88</td>\n",
       "      <td>2</td>\n",
       "      <td>4</td>\n",
       "      <td>Manager</td>\n",
       "      <td>3</td>\n",
       "      <td>Married</td>\n",
       "      <td>17046.0</td>\n",
       "      <td>9314.0</td>\n",
       "      <td>0</td>\n",
       "      <td>Y</td>\n",
       "      <td>False</td>\n",
       "      <td>15</td>\n",
       "      <td>3</td>\n",
       "      <td>2</td>\n",
       "      <td>NaN</td>\n",
       "      <td>1</td>\n",
       "      <td>28</td>\n",
       "      <td>2</td>\n",
       "      <td>3</td>\n",
       "      <td>27</td>\n",
       "      <td>15</td>\n",
       "      <td>7</td>\n",
       "      <td>1973</td>\n",
       "      <td>True</td>\n",
       "    </tr>\n",
       "    <tr>\n",
       "      <th>1590</th>\n",
       "      <td>30</td>\n",
       "      <td></td>\n",
       "      <td>False</td>\n",
       "      <td>NaN</td>\n",
       "      <td>501.0</td>\n",
       "      <td>nan</td>\n",
>>>>>>> 1d05b4e (Actualizar: Fase2.ipynb, Fase3_1.xlsx, HR_CLEAN_DATA.csv)
       "      <td>35</td>\n",
       "      <td></td>\n",
       "      <td>False</td>\n",
<<<<<<< HEAD
       "      <td>Travel Rarely</td>\n",
       "      <td>809.0</td>\n",
       "      <td>Research &amp; Development</td>\n",
       "      <td>16</td>\n",
=======
       "      <td>Travel_Frequently</td>\n",
       "      <td>1283.0</td>\n",
       "      <td>Sales</td>\n",
       "      <td>28</td>\n",
>>>>>>> 1d05b4e (Actualizar: Fase2.ipynb, Fase3_1.xlsx, HR_CLEAN_DATA.csv)
       "      <td>3</td>\n",
       "      <td>Medical</td>\n",
       "      <td>99999</td>\n",
<<<<<<< HEAD
       "      <td>1</td>\n",
=======
       "      <td>2</td>\n",
       "      <td>3</td>\n",
       "      <td>7</td>\n",
       "      <td>0</td>\n",
       "      <td>7</td>\n",
       "      <td>1997</td>\n",
       "      <td>True</td>\n",
       "    </tr>\n",
       "    <tr>\n",
       "      <th>367</th>\n",
       "      <td>45</td>\n",
       "      <td></td>\n",
       "      <td>False</td>\n",
       "      <td>Non_Travel</td>\n",
       "      <td>805.0</td>\n",
       "      <td>nan</td>\n",
       "      <td>47</td>\n",
       "      <td>2</td>\n",
       "      <td>NaN</td>\n",
       "      <td>972</td>\n",
       "      <td>47</td>\n",
>>>>>>> 1d05b4e (Actualizar: Fase2.ipynb, Fase3_1.xlsx, HR_CLEAN_DATA.csv)
       "      <td>M</td>\n",
       "      <td>84</td>\n",
       "      <td>4</td>\n",
       "      <td>1</td>\n",
       "      <td>Laboratory Technician</td>\n",
       "      <td>2</td>\n",
       "      <td>Married</td>\n",
       "      <td>99999</td>\n",
       "      <td>16479</td>\n",
       "      <td>0</td>\n",
       "      <td>NaN</td>\n",
       "      <td>13</td>\n",
       "      <td>3</td>\n",
       "      <td>3</td>\n",
       "      <td>1</td>\n",
<<<<<<< HEAD
       "      <td>6</td>\n",
       "      <td>5</td>\n",
       "      <td>3</td>\n",
       "      <td>5</td>\n",
       "      <td>0</td>\n",
       "      <td>3</td>\n",
       "      <td>1988</td>\n",
       "      <td>False</td>\n",
       "    </tr>\n",
       "    <tr>\n",
       "      <th>558</th>\n",
       "      <td>41</td>\n",
       "      <td></td>\n",
       "      <td>True</td>\n",
       "      <td>NaN</td>\n",
       "      <td>1102.0</td>\n",
       "      <td>nan</td>\n",
       "      <td>1</td>\n",
       "      <td>2</td>\n",
=======
       "      <td>nan</td>\n",
>>>>>>> 1d05b4e (Actualizar: Fase2.ipynb, Fase3_1.xlsx, HR_CLEAN_DATA.csv)
       "      <td>NaN</td>\n",
       "      <td>99999</td>\n",
       "      <td>2</td>\n",
       "      <td>F</td>\n",
       "      <td>94</td>\n",
       "      <td>3</td>\n",
       "      <td>2</td>\n",
       "      <td>Sales Executive</td>\n",
       "      <td>4</td>\n",
       "      <td>NaN</td>\n",
       "      <td>99999</td>\n",
       "      <td>19479</td>\n",
       "      <td>8</td>\n",
       "      <td>True</td>\n",
       "      <td>11</td>\n",
       "      <td>3</td>\n",
       "      <td>1</td>\n",
       "      <td>0</td>\n",
       "      <td>8</td>\n",
       "      <td>0</td>\n",
       "      <td>1</td>\n",
       "      <td>6</td>\n",
       "      <td>0</td>\n",
       "      <td>5</td>\n",
       "      <td>1982</td>\n",
       "      <td>False</td>\n",
       "    </tr>\n",
       "    <tr>\n",
       "      <th>557</th>\n",
       "      <td>47</td>\n",
       "      <td></td>\n",
       "      <td>True</td>\n",
       "      <td>NaN</td>\n",
       "      <td>1093.0</td>\n",
       "      <td>Sales</td>\n",
       "      <td>9</td>\n",
       "      <td>3</td>\n",
       "      <td>NaN</td>\n",
       "      <td>99999</td>\n",
       "      <td>3</td>\n",
       "      <td>M</td>\n",
       "      <td>82</td>\n",
       "      <td>1</td>\n",
       "      <td>4</td>\n",
       "      <td>Sales Executive</td>\n",
       "      <td>3</td>\n",
       "      <td>Married</td>\n",
       "      <td>12936</td>\n",
       "      <td>24164</td>\n",
       "      <td>7</td>\n",
       "      <td>False</td>\n",
       "      <td>11</td>\n",
       "      <td>99999</td>\n",
       "      <td>3</td>\n",
       "      <td>0</td>\n",
       "      <td>25</td>\n",
       "      <td>3</td>\n",
       "      <td>1</td>\n",
       "      <td>23</td>\n",
       "      <td>14</td>\n",
       "      <td>10</td>\n",
       "      <td>1976</td>\n",
       "      <td>True</td>\n",
       "    </tr>\n",
       "    <tr>\n",
       "      <th>591</th>\n",
       "      <td>52</td>\n",
       "      <td></td>\n",
       "      <td>False</td>\n",
       "      <td>Travel Rarely</td>\n",
       "      <td>319.0</td>\n",
       "      <td>nan</td>\n",
       "      <td>32</td>\n",
       "      <td>3</td>\n",
       "      <td>NaN</td>\n",
       "      <td>99999</td>\n",
       "      <td>4</td>\n",
       "      <td>M</td>\n",
       "      <td>99999</td>\n",
       "      <td>2</td>\n",
       "      <td>3</td>\n",
       "      <td>Manufacturing Director</td>\n",
       "      <td>3</td>\n",
       "      <td>Married</td>\n",
       "      <td>99999</td>\n",
       "      <td>19609</td>\n",
       "      <td>2</td>\n",
       "      <td>NaN</td>\n",
       "      <td>14</td>\n",
       "      <td>99999</td>\n",
       "      <td>3</td>\n",
       "      <td>0</td>\n",
       "      <td>99999</td>\n",
       "      <td>4</td>\n",
       "      <td>3</td>\n",
       "      <td>5</td>\n",
       "      <td>0</td>\n",
       "      <td>4</td>\n",
       "      <td>1971</td>\n",
       "      <td>False</td>\n",
       "    </tr>\n",
       "    <tr>\n",
       "      <th>1613</th>\n",
       "      <td>46</td>\n",
       "      <td></td>\n",
       "      <td>False</td>\n",
       "      <td>NaN</td>\n",
<<<<<<< HEAD
       "      <td>566.0</td>\n",
       "      <td>nan</td>\n",
       "      <td>7</td>\n",
       "      <td>2</td>\n",
=======
       "      <td>430.0</td>\n",
       "      <td>nan</td>\n",
       "      <td>47</td>\n",
       "      <td>4</td>\n",
>>>>>>> 1d05b4e (Actualizar: Fase2.ipynb, Fase3_1.xlsx, HR_CLEAN_DATA.csv)
       "      <td>Medical</td>\n",
       "      <td>99999</td>\n",
       "      <td>4</td>\n",
       "      <td>M</td>\n",
<<<<<<< HEAD
       "      <td>75</td>\n",
=======
       "      <td>40</td>\n",
       "      <td>3</td>\n",
       "      <td>5</td>\n",
       "      <td>Research Director</td>\n",
       "      <td>4</td>\n",
       "      <td>NaN</td>\n",
       "      <td>NaN</td>\n",
       "      <td>21445.0</td>\n",
       "      <td>9</td>\n",
       "      <td>nan</td>\n",
       "      <td>False</td>\n",
       "      <td>17</td>\n",
       "      <td>3</td>\n",
       "      <td>4</td>\n",
       "      <td>80.0</td>\n",
       "      <td>2</td>\n",
       "      <td>23</td>\n",
       "      <td>0</td>\n",
       "      <td>3</td>\n",
       "      <td>2</td>\n",
       "      <td>2</td>\n",
       "      <td>2</td>\n",
       "      <td>1977</td>\n",
       "      <td>True</td>\n",
       "    </tr>\n",
       "    <tr>\n",
       "      <th>1502</th>\n",
       "      <td>30</td>\n",
       "      <td></td>\n",
       "      <td>False</td>\n",
       "      <td>NaN</td>\n",
       "      <td>1092.0</td>\n",
       "      <td>nan</td>\n",
       "      <td>47</td>\n",
       "      <td>3</td>\n",
       "      <td>Medical</td>\n",
       "      <td>1816</td>\n",
       "      <td>47</td>\n",
       "      <td>F</td>\n",
       "      <td>64</td>\n",
>>>>>>> 1d05b4e (Actualizar: Fase2.ipynb, Fase3_1.xlsx, HR_CLEAN_DATA.csv)
       "      <td>3</td>\n",
       "      <td>3</td>\n",
       "      <td>Manufacturing Director</td>\n",
       "      <td>3</td>\n",
       "      <td>NaN</td>\n",
       "      <td>10845</td>\n",
       "      <td>24208</td>\n",
       "      <td>6</td>\n",
       "      <td>NaN</td>\n",
       "      <td>13</td>\n",
       "      <td>3</td>\n",
       "      <td>2</td>\n",
       "      <td>1</td>\n",
       "      <td>99999</td>\n",
       "      <td>3</td>\n",
       "      <td>3</td>\n",
       "      <td>8</td>\n",
       "      <td>0</td>\n",
       "      <td>7</td>\n",
       "      <td>1977</td>\n",
       "      <td>False</td>\n",
       "    </tr>\n",
=======
>>>>>>> d6bd9fd (Actualizar: Fase2.ipynb, Fase3_1.xlsx y HR_CLEAN_DATA.csv)
       "  </tbody>\n",
       "</table>\n",
       "<p>414 rows × 34 columns</p>\n",
       "</div>"
      ],
      "text/plain": [
<<<<<<< HEAD
       "      Age Age_Group  Attrition Business_Travel  Daily_Rate  \\\n",
       "871    31                False   Travel Rarely       691.0   \n",
       "1512   31                False   Travel Rarely       691.0   \n",
       "1515   52                 True             NaN       723.0   \n",
       "874    52                 True             NaN       723.0   \n",
       "886    29                False             NaN      1283.0   \n",
       "...   ...       ...        ...             ...         ...   \n",
       "559    35                False   Travel Rarely       809.0   \n",
       "558    41                 True             NaN      1102.0   \n",
       "557    47                 True             NaN      1093.0   \n",
       "591    52                False   Travel Rarely       319.0   \n",
       "1613   46                False             NaN       566.0   \n",
       "\n",
<<<<<<< HEAD
       "                  Department  Distance_From_Home  Education Education_Field  \\\n",
       "871   Research & Development                  11          4             NaN   \n",
       "1512  Research & Development                   5          4             NaN   \n",
       "1515                     nan                   8          4         Medical   \n",
       "874                      nan                  17          4         Medical   \n",
       "886   Research & Development                  17          3             NaN   \n",
       "...                      ...                 ...        ...             ...   \n",
       "559   Research & Development                  16          3         Medical   \n",
       "558                      nan                   1          2             NaN   \n",
       "557                    Sales                   9          3             NaN   \n",
       "591                      nan                  32          3             NaN   \n",
       "1613                     nan                   7          2         Medical   \n",
       "\n",
       "      Employee_Number  Environment_Satisfaction Gender  Hourly_Rate  \\\n",
       "871               423                         2      M           86   \n",
       "1512              423                         3      M           86   \n",
       "1515              433                         3      M           85   \n",
       "874               433                         2      M           85   \n",
       "886               495                         2      M           54   \n",
       "...               ...                       ...    ...          ...   \n",
       "559             99999                         1      M           84   \n",
       "558             99999                         2      F           94   \n",
       "557             99999                         3      M           82   \n",
       "591             99999                         4      M        99999   \n",
       "1613            99999                         4      M           75   \n",
       "\n",
       "      Job_Involvement  Job_Level                  Job_Role  Job_Satisfaction  \\\n",
       "871                 3          1       Research Scientist                  4   \n",
       "1512                3          1       Research Scientist                  4   \n",
       "1515                2          2       Research Scientist                  2   \n",
       "874                 2          2       Research Scientist                  2   \n",
       "886                 3          1       Research Scientist                  4   \n",
       "...               ...        ...                       ...               ...   \n",
       "559                 4          1    Laboratory Technician                  2   \n",
       "558                 3          2          Sales Executive                  4   \n",
       "557                 1          4          Sales Executive                  3   \n",
       "591                 2          3   Manufacturing Director                  3   \n",
       "1613                3          3   Manufacturing Director                  3   \n",
       "\n",
       "     Marital_Status  Monthly_Income  Monthly_Rate  Num_Companies_Worked  \\\n",
       "871         Married           99999         10077                     0   \n",
       "1512        Married           99999         10077                     0   \n",
       "1515            NaN            4941         17747                     2   \n",
       "874             NaN            4941         17747                     2   \n",
       "886             NaN           99999         18168                     9   \n",
       "...             ...             ...           ...                   ...   \n",
       "559         Married           99999         16479                     0   \n",
       "558             NaN           99999         19479                     8   \n",
       "557         Married           12936         24164                     7   \n",
       "591         Married           99999         19609                     2   \n",
       "1613            NaN           10845         24208                     6   \n",
       "\n",
       "     Over_Time  Percent_Salary_Hike  Performance_Rating  \\\n",
       "871        NaN                   12                   3   \n",
       "1512       NaN                   12                   3   \n",
       "1515     False                   15               99999   \n",
       "874      False                   15               99999   \n",
       "886      False                   16               99999   \n",
       "...        ...                  ...                 ...   \n",
       "559        NaN                   13                   3   \n",
       "558       True                   11                   3   \n",
       "557      False                   11               99999   \n",
       "591        NaN                   14               99999   \n",
       "1613       NaN                   13                   3   \n",
       "\n",
       "      Relationship_Satisfaction  Stock_Option_Level  Total_Working_Years  \\\n",
       "871                           3                   1                99999   \n",
       "1512                          3                   1                99999   \n",
       "1515                          1                   0                   11   \n",
       "874                           1                   0                   11   \n",
       "886                           4                   0                    6   \n",
       "...                         ...                 ...                  ...   \n",
       "559                           3                   1                    6   \n",
       "558                           1                   0                    8   \n",
       "557                           3                   0                   25   \n",
       "591                           3                   0                99999   \n",
       "1613                          2                   1                99999   \n",
       "\n",
       "      Training_Times_Last_Year  Work_Life_Balance  Years_At_Company  \\\n",
       "871                          4                  3                 5   \n",
       "1512                         4                  3                 5   \n",
       "1515                         3                  2                 8   \n",
       "874                          3                  2                 8   \n",
       "886                          4                  3                 3   \n",
       "...                        ...                ...               ...   \n",
       "559                          5                  3                 5   \n",
       "558                          0                  1                 6   \n",
       "557                          3                  1                23   \n",
       "591                          4                  3                 5   \n",
       "1613                         3                  3                 8   \n",
       "\n",
       "      Years_Since_Last_Promotion  Years_With_Curr_Manager  Date_Birth  \\\n",
       "871                            0                        3        1992   \n",
       "1512                           0                        3        1992   \n",
       "1515                           7                        7        1971   \n",
       "874                            7                        7        1971   \n",
       "886                            1                        2        1994   \n",
       "...                          ...                      ...         ...   \n",
       "559                            0                        3        1988   \n",
       "558                            0                        5        1982   \n",
       "557                           14                       10        1976   \n",
       "591                            0                        4        1971   \n",
       "1613                           0                        7        1977   \n",
       "\n",
       "      Remote_Work  \n",
       "871          True  \n",
       "1512         True  \n",
       "1515        False  \n",
       "874         False  \n",
       "886         False  \n",
       "...           ...  \n",
       "559         False  \n",
       "558         False  \n",
       "557          True  \n",
       "591         False  \n",
       "1613        False  \n",
       "\n",
       "[414 rows x 34 columns]"
      ]
     },
     "execution_count": 196,
=======
       "                    Department  Distance_From_Home  Education  \\\n",
       "1545   Research & Development                   17          2   \n",
       "871    Research & Development                   11          4   \n",
       "874                        nan                  17          4   \n",
       "886    Research & Development                   17          3   \n",
       "1560                       nan                  31          2   \n",
       "90     Research & Development                   27          4   \n",
       "1590                       nan                  35          5   \n",
       "363                     Sales                   28          3   \n",
       "367                        nan                  47          2   \n",
       "990                        nan                  47          4   \n",
       "1502                       nan                  47          3   \n",
       "\n",
       "       Education_Field  Employee_Number  Environment_Satisfaction Gender  \\\n",
       "1545  Technical Degree              389                        17      M   \n",
       "871                NaN              423                        11      M   \n",
       "874            Medical              433                        17      M   \n",
       "886                NaN              495                        17      M   \n",
       "1560               NaN              500                        31      F   \n",
       "90       Life Sciences              569                        27      M   \n",
       "1590         Marketing              747                        35      M   \n",
       "363            Medical              956                        28      M   \n",
       "367                NaN              972                        47      M   \n",
       "990            Medical             1069                        47      M   \n",
       "1502           Medical             1816                        47      F   \n",
       "\n",
       "      Hourly_Rate  Job_Involvement  Job_Level                  Job_Role  \\\n",
       "1545           37                3          2    Laboratory Technician    \n",
       "871            86                3          1       Research Scientist    \n",
       "874            85                2          2       Research Scientist    \n",
       "886            54                3          1       Research Scientist    \n",
       "1560           87                3          2          Sales Executive    \n",
       "90             88                2          4                  Manager    \n",
       "1590           99                3          2          Sales Executive    \n",
       "363            52                2          2          Sales Executive    \n",
       "367            57                3          2    Laboratory Technician    \n",
       "990            40                3          5        Research Director    \n",
       "1502           64                3          3   Manufacturing Director    \n",
       "\n",
       "      Job_Satisfaction Marital_Status  Monthly_Income  Monthly_Rate  \\\n",
       "1545                 4        Married             NaN       15972.0   \n",
       "871                  4        Married             NaN       10077.0   \n",
       "874                  2            NaN          4941.0       17747.0   \n",
       "886                  4            NaN             NaN       18168.0   \n",
       "1560                 4            NaN             NaN       14862.0   \n",
       "90                   3        Married         17046.0        9314.0   \n",
       "1590                 4       Divorced          5304.0       25275.0   \n",
       "363                  1            NaN          4294.0       11148.0   \n",
       "367                  2            NaN          4447.0       23163.0   \n",
       "990                  4            NaN             NaN       21445.0   \n",
       "1502                 3         Single          9667.0        2739.0   \n",
       "\n",
       "      Num_Companies_Worked Over_18 Over_Time  Percent_Salary_Hike  \\\n",
       "1545                     3       Y       NaN                   19   \n",
       "871                      0     nan       NaN                   12   \n",
       "874                      2     nan     False                   15   \n",
       "886                      9     nan     False                   16   \n",
       "1560                     4     nan     False                   11   \n",
       "90                       0       Y     False                   15   \n",
       "1590                     7       Y     False                   23   \n",
       "363                      1       Y       NaN                   12   \n",
       "367                      1     nan       NaN                   12   \n",
       "990                      9     nan     False                   17   \n",
       "1502                     9       Y     False                   14   \n",
       "\n",
       "      Performance_Rating  Relationship_Satisfaction  Standard_Hours  \\\n",
       "1545               99999                          4             NaN   \n",
       "871                    3                          3             NaN   \n",
       "874                99999                          1            80.0   \n",
       "886                99999                          4             NaN   \n",
       "1560                   3                          3             NaN   \n",
       "90                     3                          2             NaN   \n",
       "1590               99999                          4            80.0   \n",
       "363                    3                          2             NaN   \n",
       "367                    3                          2             NaN   \n",
       "990                    3                          4            80.0   \n",
       "1502                   3                          2             NaN   \n",
       "\n",
       "      Stock_Option_Level  Total_Working_Years  Training_Times_Last_Year  \\\n",
       "1545                   1                   12                         4   \n",
       "871                    1                99999                         4   \n",
       "874                    0                   11                         3   \n",
       "886                    0                    6                         4   \n",
       "1560                   1                   18                         2   \n",
       "90                     1                   28                         2   \n",
       "1590                   1                   10                         2   \n",
       "363                    0                99999                         2   \n",
       "367                    0                99999                         5   \n",
       "990                    2                   23                         0   \n",
       "1502                   0                    9                         3   \n",
       "\n",
       "      Work_Life_Balance  Years_At_Company  Years_Since_Last_Promotion  \\\n",
       "1545                  3                10                           0   \n",
       "871                   3                 5                           0   \n",
       "874                   2                 8                           7   \n",
       "886                   3                 3                           1   \n",
       "1560                  2                 7                           0   \n",
       "90                    3                27                          15   \n",
       "1590                  2                 8                           7   \n",
       "363                   3                 7                           0   \n",
       "367                   2                 9                           0   \n",
       "990                   3                 2                           2   \n",
       "1502                  3                 7                           0   \n",
       "\n",
       "      Years_With_Curr_Manager  Date_Birth  Remote_Work  \n",
       "1545                        8        1968         True  \n",
       "871                         3        1992         True  \n",
       "874                         7        1971        False  \n",
       "886                         2        1994        False  \n",
       "1560                        7        1972        False  \n",
       "90                          7        1973         True  \n",
       "1590                        7        1993        False  \n",
       "363                         7        1997         True  \n",
       "367                         8        1978         True  \n",
       "990                         2        1977         True  \n",
       "1502                        2        1993        False  "
      ]
     },
     "execution_count": 149,
>>>>>>> 1d05b4e (Actualizar: Fase2.ipynb, Fase3_1.xlsx, HR_CLEAN_DATA.csv)
=======
       "Empty DataFrame\n",
       "Columns: [Age, Age_Group, Attrition, Business_Travel, Daily_Rate, Department, Distance_From_Home, Education, Education_Field, Employee_Number, Environment_Satisfaction, Gender, Hourly_Rate, Job_Involvement, Job_Level, Job_Role, Job_Satisfaction, Marital_Status, Monthly_Income, Monthly_Rate, Num_Companies_Worked, Over_Time, Percent_Salary_Hike, Performance_Rating, Relationship_Satisfaction, Stock_Option_Level, Total_Working_Years, Training_Times_Last_Year, Work_Life_Balance, Years_At_Company, Years_Since_Last_Promotion, Years_With_Curr_Manager, Date_Birth, Remote_Work]\n",
       "Index: []"
      ]
     },
     "execution_count": 274,
>>>>>>> d6bd9fd (Actualizar: Fase2.ipynb, Fase3_1.xlsx y HR_CLEAN_DATA.csv)
     "metadata": {},
     "output_type": "execute_result"
    }
   ],
   "source": [
    "# Creamos un DF de duplicados nuevo\n",
    "df_duplicados_s6 = df[df['Employee_Number'].isin(df['Employee_Number'][df['Employee_Number'].duplicated() ])].sort_values('Employee_Number')\n",
    "df_duplicados_s6"
   ]
  },
  {
   "cell_type": "code",
<<<<<<< HEAD
<<<<<<< HEAD
   "execution_count": 197,
=======
   "execution_count": 150,
=======
   "execution_count": 275,
>>>>>>> d6bd9fd (Actualizar: Fase2.ipynb, Fase3_1.xlsx y HR_CLEAN_DATA.csv)
   "metadata": {},
   "outputs": [],
   "source": [
    "# Guardamos en una lista los números de los índices de todas las filas del DF filtrado 'df_duplicados_s6_filtrado'\n",
    "lista_index_situacion_6=df_duplicados_s6_filtrado.index.tolist()"
   ]
  },
  {
   "cell_type": "code",
   "execution_count": 276,
   "metadata": {},
   "outputs": [],
   "source": [
    "#Utilizamos un for loop para iterar por la lista de los números de índice y eliminamos cada uno de estos de nuestro DF original\n",
    "for employee in lista_index_situacion_6:\n",
    "    df.drop(employee,axis=0,inplace=True)"
   ]
  },
  {
   "cell_type": "markdown",
   "metadata": {},
   "source": [
    "## Paso 3: Cambio 'Employee_Number' Nulos"
   ]
  },
  {
   "cell_type": "code",
<<<<<<< HEAD
   "execution_count": 152,
>>>>>>> 1d05b4e (Actualizar: Fase2.ipynb, Fase3_1.xlsx, HR_CLEAN_DATA.csv)
=======
   "execution_count": 277,
>>>>>>> d6bd9fd (Actualizar: Fase2.ipynb, Fase3_1.xlsx y HR_CLEAN_DATA.csv)
   "metadata": {},
   "outputs": [
    {
     "data": {
      "text/html": [
       "<div>\n",
       "<style scoped>\n",
       "    .dataframe tbody tr th:only-of-type {\n",
       "        vertical-align: middle;\n",
       "    }\n",
       "\n",
       "    .dataframe tbody tr th {\n",
       "        vertical-align: top;\n",
       "    }\n",
       "\n",
       "    .dataframe thead th {\n",
       "        text-align: right;\n",
       "    }\n",
       "</style>\n",
       "<table border=\"1\" class=\"dataframe\">\n",
       "  <thead>\n",
       "    <tr style=\"text-align: right;\">\n",
       "      <th></th>\n",
       "      <th>Age</th>\n",
       "      <th>Age_Group</th>\n",
       "      <th>Attrition</th>\n",
       "      <th>Business_Travel</th>\n",
       "      <th>Daily_Rate</th>\n",
       "      <th>Department</th>\n",
<<<<<<< HEAD
       "      <th>Distance_From_Home</th>\n",
       "      <th>Education</th>\n",
       "      <th>Education_Field</th>\n",
       "      <th>Employee_Number</th>\n",
       "      <th>Environment_Satisfaction</th>\n",
       "      <th>Gender</th>\n",
       "      <th>Hourly_Rate</th>\n",
       "      <th>Job_Involvement</th>\n",
       "      <th>Job_Level</th>\n",
       "      <th>Job_Role</th>\n",
       "      <th>Job_Satisfaction</th>\n",
       "      <th>Marital_Status</th>\n",
       "      <th>Monthly_Income</th>\n",
       "      <th>Monthly_Rate</th>\n",
       "      <th>Num_Companies_Worked</th>\n",
       "      <th>Over_Time</th>\n",
       "      <th>Percent_Salary_Hike</th>\n",
       "      <th>Performance_Rating</th>\n",
       "      <th>Relationship_Satisfaction</th>\n",
       "      <th>Stock_Option_Level</th>\n",
       "      <th>Total_Working_Years</th>\n",
       "      <th>Training_Times_Last_Year</th>\n",
       "      <th>Work_Life_Balance</th>\n",
       "      <th>Years_At_Company</th>\n",
       "      <th>Years_Since_Last_Promotion</th>\n",
       "      <th>Years_With_Curr_Manager</th>\n",
       "      <th>Date_Birth</th>\n",
       "      <th>Remote_Work</th>\n",
       "    </tr>\n",
       "  </thead>\n",
       "  <tbody>\n",
       "  </tbody>\n",
       "</table>\n",
       "</div>"
      ],
      "text/plain": [
       "Empty DataFrame\n",
       "Columns: [Age, Age_Group, Attrition, Business_Travel, Daily_Rate, Department, Distance_From_Home, Education, Education_Field, Employee_Number, Environment_Satisfaction, Gender, Hourly_Rate, Job_Involvement, Job_Level, Job_Role, Job_Satisfaction, Marital_Status, Monthly_Income, Monthly_Rate, Num_Companies_Worked, Over_Time, Percent_Salary_Hike, Performance_Rating, Relationship_Satisfaction, Stock_Option_Level, Total_Working_Years, Training_Times_Last_Year, Work_Life_Balance, Years_At_Company, Years_Since_Last_Promotion, Years_With_Curr_Manager, Date_Birth, Remote_Work]\n",
       "Index: []"
      ]
     },
     "execution_count": 197,
     "metadata": {},
     "output_type": "execute_result"
    }
   ],
   "source": [
    "# Filtramos el DF para obtener el DF dónde el 'Distance_From_Home' == 'Environment_Satisfaction'\n",
    "# y el 'Employee_Number' != 999999\n",
    "df_duplicados_s6_filtrado = df_duplicados_s6[(df_duplicados_s6['Distance_From_Home']==df_duplicados_s6['Environment_Satisfaction'])]\n",
    "df_duplicados_s6_filtrado = df_duplicados_s6_filtrado.loc[df_duplicados_s6_filtrado['Employee_Number']!=99999,:]\n",
    "df_duplicados_s6_filtrado"
   ]
  },
  {
   "cell_type": "code",
   "execution_count": 198,
   "metadata": {},
   "outputs": [],
   "source": [
    "# Guardamos en una lista los números de los índices de todas las filas del DF filtrado 'df_duplicados_s6_filtrado'\n",
    "lista_index_situacion_6=df_duplicados_s6_filtrado.index.tolist()"
   ]
  },
  {
   "cell_type": "code",
   "execution_count": 199,
   "metadata": {},
   "outputs": [],
   "source": [
    "#Utilizamos un for loop para iterar por la lista de los números de índice y eliminamos cada uno de estos de nuestro DF original\n",
    "for employee in lista_index_situacion_6:\n",
    "    df.drop(employee,axis=0,inplace=True)"
   ]
  },
  {
   "cell_type": "markdown",
   "metadata": {},
   "source": [
    "## Paso 3: Cambio 'Employee_Number' Nulos"
   ]
  },
  {
   "cell_type": "code",
   "execution_count": 200,
   "metadata": {},
   "outputs": [
    {
     "data": {
      "text/html": [
       "<div>\n",
       "<style scoped>\n",
       "    .dataframe tbody tr th:only-of-type {\n",
       "        vertical-align: middle;\n",
       "    }\n",
       "\n",
       "    .dataframe tbody tr th {\n",
       "        vertical-align: top;\n",
       "    }\n",
       "\n",
       "    .dataframe thead th {\n",
       "        text-align: right;\n",
       "    }\n",
       "</style>\n",
       "<table border=\"1\" class=\"dataframe\">\n",
       "  <thead>\n",
       "    <tr style=\"text-align: right;\">\n",
       "      <th></th>\n",
       "      <th>Age</th>\n",
       "      <th>Age_Group</th>\n",
       "      <th>Attrition</th>\n",
       "      <th>Business_Travel</th>\n",
       "      <th>Daily_Rate</th>\n",
       "      <th>Department</th>\n",
=======
>>>>>>> 1d05b4e (Actualizar: Fase2.ipynb, Fase3_1.xlsx, HR_CLEAN_DATA.csv)
       "      <th>Distance_From_Home</th>\n",
       "      <th>Education</th>\n",
       "      <th>Education_Field</th>\n",
       "      <th>Employee_Number</th>\n",
       "      <th>Environment_Satisfaction</th>\n",
       "      <th>Gender</th>\n",
       "      <th>Hourly_Rate</th>\n",
       "      <th>Job_Involvement</th>\n",
       "      <th>Job_Level</th>\n",
       "      <th>Job_Role</th>\n",
       "      <th>Job_Satisfaction</th>\n",
       "      <th>Marital_Status</th>\n",
       "      <th>Monthly_Income</th>\n",
       "      <th>Monthly_Rate</th>\n",
       "      <th>Num_Companies_Worked</th>\n",
       "      <th>Over_Time</th>\n",
       "      <th>Percent_Salary_Hike</th>\n",
       "      <th>Performance_Rating</th>\n",
       "      <th>Relationship_Satisfaction</th>\n",
       "      <th>Stock_Option_Level</th>\n",
       "      <th>Total_Working_Years</th>\n",
       "      <th>Training_Times_Last_Year</th>\n",
       "      <th>Work_Life_Balance</th>\n",
       "      <th>Years_At_Company</th>\n",
       "      <th>Years_Since_Last_Promotion</th>\n",
       "      <th>Years_With_Curr_Manager</th>\n",
       "      <th>Date_Birth</th>\n",
       "      <th>Remote_Work</th>\n",
       "    </tr>\n",
       "  </thead>\n",
       "  <tbody>\n",
       "    <tr>\n",
       "      <th>3</th>\n",
       "      <td>47</td>\n",
       "      <td></td>\n",
       "      <td>False</td>\n",
       "      <td>Travel Rarely</td>\n",
       "      <td>359.0</td>\n",
       "      <td>nan</td>\n",
       "      <td>2</td>\n",
       "      <td>4</td>\n",
       "      <td>Medical</td>\n",
       "      <td>99999</td>\n",
       "      <td>1</td>\n",
       "      <td>F</td>\n",
       "      <td>82</td>\n",
       "      <td>3</td>\n",
       "      <td>4</td>\n",
       "      <td>Research Director</td>\n",
       "      <td>3</td>\n",
       "      <td>Married</td>\n",
       "      <td>17169</td>\n",
       "      <td>26703</td>\n",
       "      <td>3</td>\n",
       "      <td>NaN</td>\n",
       "      <td>19</td>\n",
       "      <td>3</td>\n",
       "      <td>2</td>\n",
       "      <td>2</td>\n",
       "      <td>99999</td>\n",
       "      <td>2</td>\n",
       "      <td>99999</td>\n",
       "      <td>20</td>\n",
       "      <td>5</td>\n",
       "      <td>6</td>\n",
       "      <td>1976</td>\n",
       "      <td>False</td>\n",
       "    </tr>\n",
       "    <tr>\n",
       "      <th>4</th>\n",
       "      <td>46</td>\n",
       "      <td></td>\n",
       "      <td>False</td>\n",
       "      <td>NaN</td>\n",
       "      <td>1319.0</td>\n",
       "      <td>nan</td>\n",
       "      <td>3</td>\n",
       "      <td>3</td>\n",
       "      <td>Technical Degree</td>\n",
       "      <td>99999</td>\n",
       "      <td>1</td>\n",
       "      <td>F</td>\n",
       "      <td>45</td>\n",
       "      <td>4</td>\n",
       "      <td>4</td>\n",
       "      <td>Sales Executive</td>\n",
       "      <td>1</td>\n",
       "      <td>Divorced</td>\n",
       "      <td>99999</td>\n",
       "      <td>7739</td>\n",
       "      <td>2</td>\n",
       "      <td>False</td>\n",
       "      <td>12</td>\n",
       "      <td>3</td>\n",
       "      <td>4</td>\n",
       "      <td>1</td>\n",
       "      <td>99999</td>\n",
       "      <td>5</td>\n",
       "      <td>3</td>\n",
       "      <td>19</td>\n",
       "      <td>2</td>\n",
       "      <td>8</td>\n",
       "      <td>1977</td>\n",
       "      <td>False</td>\n",
       "    </tr>\n",
       "    <tr>\n",
       "      <th>8</th>\n",
       "      <td>41</td>\n",
       "      <td></td>\n",
       "      <td>False</td>\n",
       "      <td>NaN</td>\n",
       "      <td>1276.0</td>\n",
       "      <td>nan</td>\n",
       "      <td>2</td>\n",
       "      <td>5</td>\n",
       "      <td>NaN</td>\n",
       "      <td>99999</td>\n",
       "      <td>2</td>\n",
       "      <td>F</td>\n",
       "      <td>91</td>\n",
       "      <td>3</td>\n",
       "      <td>4</td>\n",
       "      <td>Manager</td>\n",
       "      <td>1</td>\n",
       "      <td>Married</td>\n",
       "      <td>16595</td>\n",
       "      <td>5626</td>\n",
       "      <td>7</td>\n",
<<<<<<< HEAD
<<<<<<< HEAD
=======
       "      <td>nan</td>\n",
>>>>>>> 1d05b4e (Actualizar: Fase2.ipynb, Fase3_1.xlsx, HR_CLEAN_DATA.csv)
=======
>>>>>>> d6bd9fd (Actualizar: Fase2.ipynb, Fase3_1.xlsx y HR_CLEAN_DATA.csv)
       "      <td>False</td>\n",
       "      <td>16</td>\n",
       "      <td>3</td>\n",
       "      <td>2</td>\n",
       "      <td>1</td>\n",
       "      <td>22</td>\n",
       "      <td>2</td>\n",
       "      <td>3</td>\n",
       "      <td>18</td>\n",
       "      <td>11</td>\n",
       "      <td>8</td>\n",
       "      <td>1982</td>\n",
       "      <td>True</td>\n",
       "    </tr>\n",
       "    <tr>\n",
       "      <th>11</th>\n",
       "      <td>56</td>\n",
       "      <td></td>\n",
       "      <td>False</td>\n",
       "      <td>Travel Rarely</td>\n",
       "      <td>1369.0</td>\n",
       "      <td>nan</td>\n",
       "      <td>23</td>\n",
       "      <td>3</td>\n",
       "      <td>Life Sciences</td>\n",
       "      <td>99999</td>\n",
       "      <td>4</td>\n",
       "      <td>M</td>\n",
       "      <td>68</td>\n",
       "      <td>3</td>\n",
       "      <td>4</td>\n",
       "      <td>Manufacturing Director</td>\n",
       "      <td>2</td>\n",
       "      <td>Married</td>\n",
       "      <td>13402</td>\n",
       "      <td>18235</td>\n",
       "      <td>4</td>\n",
<<<<<<< HEAD
<<<<<<< HEAD
=======
       "      <td>nan</td>\n",
>>>>>>> 1d05b4e (Actualizar: Fase2.ipynb, Fase3_1.xlsx, HR_CLEAN_DATA.csv)
=======
>>>>>>> d6bd9fd (Actualizar: Fase2.ipynb, Fase3_1.xlsx y HR_CLEAN_DATA.csv)
       "      <td>True</td>\n",
       "      <td>12</td>\n",
       "      <td>99999</td>\n",
       "      <td>1</td>\n",
       "      <td>1</td>\n",
       "      <td>33</td>\n",
       "      <td>0</td>\n",
       "      <td>3</td>\n",
       "      <td>19</td>\n",
       "      <td>15</td>\n",
       "      <td>9</td>\n",
       "      <td>1967</td>\n",
       "      <td>False</td>\n",
       "    </tr>\n",
       "    <tr>\n",
       "      <th>12</th>\n",
       "      <td>38</td>\n",
       "      <td></td>\n",
       "      <td>False</td>\n",
       "      <td>NaN</td>\n",
       "      <td>201.0</td>\n",
       "      <td>nan</td>\n",
       "      <td>10</td>\n",
       "      <td>3</td>\n",
       "      <td>Medical</td>\n",
       "      <td>99999</td>\n",
       "      <td>2</td>\n",
       "      <td>F</td>\n",
       "      <td>99</td>\n",
       "      <td>1</td>\n",
       "      <td>3</td>\n",
       "      <td>Research Director</td>\n",
       "      <td>3</td>\n",
       "      <td>Married</td>\n",
       "      <td>13206</td>\n",
       "      <td>3376</td>\n",
       "      <td>3</td>\n",
       "      <td>False</td>\n",
       "      <td>12</td>\n",
       "      <td>3</td>\n",
       "      <td>1</td>\n",
       "      <td>1</td>\n",
       "      <td>99999</td>\n",
       "      <td>3</td>\n",
       "      <td>3</td>\n",
       "      <td>18</td>\n",
       "      <td>1</td>\n",
       "      <td>11</td>\n",
       "      <td>1985</td>\n",
       "      <td>True</td>\n",
       "    </tr>\n",
       "    <tr>\n",
       "      <th>...</th>\n",
       "      <td>...</td>\n",
       "      <td>...</td>\n",
       "      <td>...</td>\n",
       "      <td>...</td>\n",
       "      <td>...</td>\n",
       "      <td>...</td>\n",
       "      <td>...</td>\n",
       "      <td>...</td>\n",
       "      <td>...</td>\n",
       "      <td>...</td>\n",
       "      <td>...</td>\n",
       "      <td>...</td>\n",
       "      <td>...</td>\n",
       "      <td>...</td>\n",
       "      <td>...</td>\n",
       "      <td>...</td>\n",
       "      <td>...</td>\n",
       "      <td>...</td>\n",
       "      <td>...</td>\n",
       "      <td>...</td>\n",
       "      <td>...</td>\n",
       "      <td>...</td>\n",
       "      <td>...</td>\n",
       "      <td>...</td>\n",
       "      <td>...</td>\n",
       "      <td>...</td>\n",
       "      <td>...</td>\n",
       "      <td>...</td>\n",
       "      <td>...</td>\n",
       "      <td>...</td>\n",
       "      <td>...</td>\n",
       "      <td>...</td>\n",
       "      <td>...</td>\n",
       "      <td>...</td>\n",
<<<<<<< HEAD
<<<<<<< HEAD
=======
       "      <td>...</td>\n",
       "      <td>...</td>\n",
>>>>>>> 1d05b4e (Actualizar: Fase2.ipynb, Fase3_1.xlsx, HR_CLEAN_DATA.csv)
=======
>>>>>>> d6bd9fd (Actualizar: Fase2.ipynb, Fase3_1.xlsx y HR_CLEAN_DATA.csv)
       "    </tr>\n",
       "    <tr>\n",
       "      <th>1601</th>\n",
       "      <td>28</td>\n",
       "      <td></td>\n",
       "      <td>False</td>\n",
       "      <td>NaN</td>\n",
       "      <td>760.0</td>\n",
       "      <td>Sales</td>\n",
       "      <td>43</td>\n",
       "      <td>4</td>\n",
       "      <td>NaN</td>\n",
       "      <td>99999</td>\n",
       "      <td>4</td>\n",
       "      <td>F</td>\n",
       "      <td>81</td>\n",
       "      <td>3</td>\n",
       "      <td>2</td>\n",
       "      <td>Sales Executive</td>\n",
       "      <td>2</td>\n",
       "      <td>NaN</td>\n",
       "      <td>99999</td>\n",
       "      <td>3698</td>\n",
       "      <td>1</td>\n",
       "      <td>NaN</td>\n",
       "      <td>20</td>\n",
       "      <td>4</td>\n",
       "      <td>1</td>\n",
       "      <td>0</td>\n",
       "      <td>8</td>\n",
       "      <td>2</td>\n",
       "      <td>3</td>\n",
       "      <td>8</td>\n",
       "      <td>7</td>\n",
       "      <td>5</td>\n",
       "      <td>1995</td>\n",
       "      <td>False</td>\n",
       "    </tr>\n",
       "    <tr>\n",
       "      <th>1602</th>\n",
       "      <td>26</td>\n",
       "      <td></td>\n",
       "      <td>True</td>\n",
       "      <td>NaN</td>\n",
       "      <td>NaN</td>\n",
       "      <td>nan</td>\n",
       "      <td>5</td>\n",
       "      <td>2</td>\n",
       "      <td>Medical</td>\n",
       "      <td>99999</td>\n",
       "      <td>3</td>\n",
       "      <td>F</td>\n",
       "      <td>88</td>\n",
       "      <td>2</td>\n",
       "      <td>1</td>\n",
       "      <td>Research Scientist</td>\n",
       "      <td>3</td>\n",
       "      <td>Married</td>\n",
       "      <td>2366</td>\n",
       "      <td>20898</td>\n",
       "      <td>1</td>\n",
<<<<<<< HEAD
<<<<<<< HEAD
=======
       "      <td>nan</td>\n",
>>>>>>> 1d05b4e (Actualizar: Fase2.ipynb, Fase3_1.xlsx, HR_CLEAN_DATA.csv)
=======
>>>>>>> d6bd9fd (Actualizar: Fase2.ipynb, Fase3_1.xlsx y HR_CLEAN_DATA.csv)
       "      <td>NaN</td>\n",
       "      <td>14</td>\n",
       "      <td>3</td>\n",
       "      <td>1</td>\n",
       "      <td>1</td>\n",
       "      <td>8</td>\n",
       "      <td>2</td>\n",
       "      <td>3</td>\n",
       "      <td>8</td>\n",
       "      <td>1</td>\n",
       "      <td>7</td>\n",
       "      <td>1997</td>\n",
       "      <td>True</td>\n",
       "    </tr>\n",
       "    <tr>\n",
       "      <th>1607</th>\n",
       "      <td>31</td>\n",
       "      <td></td>\n",
       "      <td>False</td>\n",
       "      <td>NaN</td>\n",
       "      <td>616.0</td>\n",
       "      <td>nan</td>\n",
       "      <td>12</td>\n",
       "      <td>3</td>\n",
       "      <td>Medical</td>\n",
       "      <td>99999</td>\n",
       "      <td>4</td>\n",
       "      <td>F</td>\n",
       "      <td>41</td>\n",
       "      <td>3</td>\n",
       "      <td>2</td>\n",
       "      <td>Healthcare Representative</td>\n",
       "      <td>4</td>\n",
       "      <td>NaN</td>\n",
       "      <td>99999</td>\n",
       "      <td>17369</td>\n",
       "      <td>0</td>\n",
<<<<<<< HEAD
<<<<<<< HEAD
=======
       "      <td>nan</td>\n",
>>>>>>> 1d05b4e (Actualizar: Fase2.ipynb, Fase3_1.xlsx, HR_CLEAN_DATA.csv)
=======
>>>>>>> d6bd9fd (Actualizar: Fase2.ipynb, Fase3_1.xlsx y HR_CLEAN_DATA.csv)
       "      <td>NaN</td>\n",
       "      <td>11</td>\n",
       "      <td>3</td>\n",
       "      <td>3</td>\n",
       "      <td>2</td>\n",
       "      <td>10</td>\n",
       "      <td>2</td>\n",
       "      <td>1</td>\n",
       "      <td>9</td>\n",
       "      <td>8</td>\n",
       "      <td>5</td>\n",
       "      <td>1992</td>\n",
       "      <td>True</td>\n",
       "    </tr>\n",
       "    <tr>\n",
       "      <th>1611</th>\n",
       "      <td>39</td>\n",
       "      <td></td>\n",
       "      <td>False</td>\n",
       "      <td>Travel Rarely</td>\n",
       "      <td>903.0</td>\n",
       "      <td>nan</td>\n",
       "      <td>13</td>\n",
       "      <td>5</td>\n",
       "      <td>NaN</td>\n",
       "      <td>99999</td>\n",
       "      <td>2</td>\n",
       "      <td>M</td>\n",
       "      <td>41</td>\n",
       "      <td>4</td>\n",
       "      <td>3</td>\n",
       "      <td>Sales Executive</td>\n",
       "      <td>3</td>\n",
       "      <td>Single</td>\n",
       "      <td>99999</td>\n",
       "      <td>2560</td>\n",
       "      <td>0</td>\n",
<<<<<<< HEAD
<<<<<<< HEAD
=======
       "      <td>nan</td>\n",
>>>>>>> 1d05b4e (Actualizar: Fase2.ipynb, Fase3_1.xlsx, HR_CLEAN_DATA.csv)
=======
>>>>>>> d6bd9fd (Actualizar: Fase2.ipynb, Fase3_1.xlsx y HR_CLEAN_DATA.csv)
       "      <td>False</td>\n",
       "      <td>18</td>\n",
       "      <td>3</td>\n",
       "      <td>4</td>\n",
       "      <td>0</td>\n",
       "      <td>9</td>\n",
       "      <td>3</td>\n",
       "      <td>3</td>\n",
       "      <td>8</td>\n",
       "      <td>0</td>\n",
       "      <td>7</td>\n",
       "      <td>1984</td>\n",
       "      <td>True</td>\n",
       "    </tr>\n",
       "    <tr>\n",
       "      <th>1613</th>\n",
       "      <td>46</td>\n",
       "      <td></td>\n",
       "      <td>False</td>\n",
       "      <td>NaN</td>\n",
       "      <td>566.0</td>\n",
       "      <td>nan</td>\n",
       "      <td>7</td>\n",
       "      <td>2</td>\n",
       "      <td>Medical</td>\n",
       "      <td>99999</td>\n",
       "      <td>4</td>\n",
       "      <td>M</td>\n",
       "      <td>75</td>\n",
       "      <td>3</td>\n",
       "      <td>3</td>\n",
       "      <td>Manufacturing Director</td>\n",
       "      <td>3</td>\n",
       "      <td>NaN</td>\n",
       "      <td>10845</td>\n",
       "      <td>24208</td>\n",
       "      <td>6</td>\n",
       "      <td>NaN</td>\n",
       "      <td>13</td>\n",
       "      <td>3</td>\n",
       "      <td>2</td>\n",
       "      <td>1</td>\n",
       "      <td>99999</td>\n",
       "      <td>3</td>\n",
       "      <td>3</td>\n",
       "      <td>8</td>\n",
       "      <td>0</td>\n",
       "      <td>7</td>\n",
       "      <td>1977</td>\n",
       "      <td>False</td>\n",
       "    </tr>\n",
       "  </tbody>\n",
       "</table>\n",
<<<<<<< HEAD
<<<<<<< HEAD
       "<p>398 rows × 34 columns</p>\n",
=======
       "<p>398 rows × 36 columns</p>\n",
>>>>>>> 1d05b4e (Actualizar: Fase2.ipynb, Fase3_1.xlsx, HR_CLEAN_DATA.csv)
=======
       "<p>398 rows × 34 columns</p>\n",
>>>>>>> d6bd9fd (Actualizar: Fase2.ipynb, Fase3_1.xlsx y HR_CLEAN_DATA.csv)
       "</div>"
      ],
      "text/plain": [
       "      Age Age_Group  Attrition Business_Travel  Daily_Rate Department  \\\n",
<<<<<<< HEAD
<<<<<<< HEAD
       "3      47                False   Travel Rarely       359.0        nan   \n",
       "4      46                False             NaN      1319.0        nan   \n",
       "8      41                False             NaN      1276.0        nan   \n",
       "11     56                False   Travel Rarely      1369.0        nan   \n",
       "12     38                False             NaN       201.0        nan   \n",
       "...   ...       ...        ...             ...         ...        ...   \n",
       "1601   28                False             NaN       760.0      Sales   \n",
       "1602   26                 True             NaN         NaN        nan   \n",
       "1607   31                False             NaN       616.0        nan   \n",
       "1611   39                False   Travel Rarely       903.0        nan   \n",
=======
       "3      47                False   Travel_Rarely       359.0        nan   \n",
=======
       "3      47                False   Travel Rarely       359.0        nan   \n",
>>>>>>> d6bd9fd (Actualizar: Fase2.ipynb, Fase3_1.xlsx y HR_CLEAN_DATA.csv)
       "4      46                False             NaN      1319.0        nan   \n",
       "8      41                False             NaN      1276.0        nan   \n",
       "11     56                False   Travel Rarely      1369.0        nan   \n",
       "12     38                False             NaN       201.0        nan   \n",
       "...   ...       ...        ...             ...         ...        ...   \n",
       "1601   28                False             NaN       760.0     Sales    \n",
       "1602   26                 True             NaN         NaN        nan   \n",
       "1607   31                False             NaN       616.0        nan   \n",
<<<<<<< HEAD
       "1611   39                False   Travel_Rarely       903.0        nan   \n",
>>>>>>> 1d05b4e (Actualizar: Fase2.ipynb, Fase3_1.xlsx, HR_CLEAN_DATA.csv)
=======
       "1611   39                False   Travel Rarely       903.0        nan   \n",
>>>>>>> d6bd9fd (Actualizar: Fase2.ipynb, Fase3_1.xlsx y HR_CLEAN_DATA.csv)
       "1613   46                False             NaN       566.0        nan   \n",
       "\n",
       "      Distance_From_Home  Education   Education_Field  Employee_Number  \\\n",
       "3                      2          4           Medical            99999   \n",
       "4                      3          3  Technical Degree            99999   \n",
       "8                      2          5               NaN            99999   \n",
       "11                    23          3     Life Sciences            99999   \n",
       "12                    10          3           Medical            99999   \n",
       "...                  ...        ...               ...              ...   \n",
       "1601                  43          4               NaN            99999   \n",
       "1602                   5          2           Medical            99999   \n",
       "1607                  12          3           Medical            99999   \n",
       "1611                  13          5               NaN            99999   \n",
       "1613                   7          2           Medical            99999   \n",
       "\n",
       "      Environment_Satisfaction Gender  Hourly_Rate  Job_Involvement  \\\n",
       "3                            1      F           82                3   \n",
       "4                            1      F           45                4   \n",
       "8                            2      F           91                3   \n",
       "11                           4      M           68                3   \n",
       "12                           2      F           99                1   \n",
       "...                        ...    ...          ...              ...   \n",
       "1601                         4      F           81                3   \n",
       "1602                         3      F           88                2   \n",
       "1607                         4      F           41                3   \n",
       "1611                         2      M           41                4   \n",
       "1613                         4      M           75                3   \n",
       "\n",
       "      Job_Level                     Job_Role  Job_Satisfaction Marital_Status  \\\n",
       "3             4           Research Director                  3        Married   \n",
       "4             4             Sales Executive                  1       Divorced   \n",
       "8             4                     Manager                  1        Married   \n",
       "11            4      Manufacturing Director                  2        Married   \n",
       "12            3           Research Director                  3        Married   \n",
       "...         ...                          ...               ...            ...   \n",
       "1601          2             Sales Executive                  2            NaN   \n",
       "1602          1          Research Scientist                  3        Married   \n",
       "1607          2   Healthcare Representative                  4            NaN   \n",
       "1611          3             Sales Executive                  3         Single   \n",
       "1613          3      Manufacturing Director                  3            NaN   \n",
       "\n",
<<<<<<< HEAD
<<<<<<< HEAD
=======
>>>>>>> d6bd9fd (Actualizar: Fase2.ipynb, Fase3_1.xlsx y HR_CLEAN_DATA.csv)
       "      Monthly_Income  Monthly_Rate  Num_Companies_Worked Over_Time  \\\n",
       "3              17169         26703                     3       NaN   \n",
       "4              99999          7739                     2     False   \n",
       "8              16595          5626                     7     False   \n",
       "11             13402         18235                     4      True   \n",
       "12             13206          3376                     3     False   \n",
       "...              ...           ...                   ...       ...   \n",
       "1601           99999          3698                     1       NaN   \n",
       "1602            2366         20898                     1       NaN   \n",
       "1607           99999         17369                     0       NaN   \n",
       "1611           99999          2560                     0     False   \n",
       "1613           10845         24208                     6       NaN   \n",
<<<<<<< HEAD
=======
       "      Monthly_Income  Monthly_Rate  Num_Companies_Worked Over_18 Over_Time  \\\n",
       "3            17169.0       26703.0                     3       Y       NaN   \n",
       "4                NaN        7739.0                     2       Y     False   \n",
       "8            16595.0        5626.0                     7     nan     False   \n",
       "11           13402.0       18235.0                     4     nan      True   \n",
       "12           13206.0        3376.0                     3       Y     False   \n",
       "...              ...           ...                   ...     ...       ...   \n",
       "1601             NaN        3698.0                     1       Y       NaN   \n",
       "1602          2366.0       20898.0                     1     nan       NaN   \n",
       "1607             NaN       17369.0                     0     nan       NaN   \n",
       "1611             NaN        2560.0                     0     nan     False   \n",
       "1613         10845.0       24208.0                     6       Y       NaN   \n",
>>>>>>> 1d05b4e (Actualizar: Fase2.ipynb, Fase3_1.xlsx, HR_CLEAN_DATA.csv)
=======
>>>>>>> d6bd9fd (Actualizar: Fase2.ipynb, Fase3_1.xlsx y HR_CLEAN_DATA.csv)
       "\n",
       "      Percent_Salary_Hike  Performance_Rating  Relationship_Satisfaction  \\\n",
       "3                      19                   3                          2   \n",
       "4                      12                   3                          4   \n",
       "8                      16                   3                          2   \n",
       "11                     12               99999                          1   \n",
       "12                     12                   3                          1   \n",
       "...                   ...                 ...                        ...   \n",
       "1601                   20                   4                          1   \n",
       "1602                   14                   3                          1   \n",
       "1607                   11                   3                          3   \n",
       "1611                   18                   3                          4   \n",
       "1613                   13                   3                          2   \n",
       "\n",
       "      Stock_Option_Level  Total_Working_Years  Training_Times_Last_Year  \\\n",
       "3                      2                99999                         2   \n",
       "4                      1                99999                         5   \n",
       "8                      1                   22                         2   \n",
       "11                     1                   33                         0   \n",
       "12                     1                99999                         3   \n",
       "...                  ...                  ...                       ...   \n",
       "1601                   0                    8                         2   \n",
       "1602                   1                    8                         2   \n",
       "1607                   2                   10                         2   \n",
       "1611                   0                    9                         3   \n",
       "1613                   1                99999                         3   \n",
       "\n",
       "      Work_Life_Balance  Years_At_Company  Years_Since_Last_Promotion  \\\n",
       "3                 99999                20                           5   \n",
       "4                     3                19                           2   \n",
       "8                     3                18                          11   \n",
       "11                    3                19                          15   \n",
       "12                    3                18                           1   \n",
       "...                 ...               ...                         ...   \n",
       "1601                  3                 8                           7   \n",
       "1602                  3                 8                           1   \n",
       "1607                  1                 9                           8   \n",
       "1611                  3                 8                           0   \n",
       "1613                  3                 8                           0   \n",
       "\n",
       "      Years_With_Curr_Manager  Date_Birth  Remote_Work  \n",
       "3                           6        1976        False  \n",
       "4                           8        1977        False  \n",
       "8                           8        1982         True  \n",
       "11                          9        1967        False  \n",
       "12                         11        1985         True  \n",
       "...                       ...         ...          ...  \n",
       "1601                        5        1995        False  \n",
       "1602                        7        1997         True  \n",
       "1607                        5        1992         True  \n",
       "1611                        7        1984         True  \n",
       "1613                        7        1977        False  \n",
       "\n",
<<<<<<< HEAD
<<<<<<< HEAD
       "[398 rows x 34 columns]"
      ]
     },
     "execution_count": 200,
=======
       "      Remote_Work  \n",
       "3           False  \n",
       "4           False  \n",
       "8            True  \n",
       "11          False  \n",
       "12           True  \n",
       "...           ...  \n",
       "1601        False  \n",
       "1602         True  \n",
       "1607         True  \n",
       "1611         True  \n",
       "1613        False  \n",
       "\n",
       "[398 rows x 36 columns]"
      ]
     },
     "execution_count": 152,
>>>>>>> 1d05b4e (Actualizar: Fase2.ipynb, Fase3_1.xlsx, HR_CLEAN_DATA.csv)
=======
       "[398 rows x 34 columns]"
      ]
     },
     "execution_count": 277,
>>>>>>> d6bd9fd (Actualizar: Fase2.ipynb, Fase3_1.xlsx y HR_CLEAN_DATA.csv)
     "metadata": {},
     "output_type": "execute_result"
    }
   ],
   "source": [
    "# Mostramos del DF original los 'Employee_number' == 99999\n",
    "df[df['Employee_Number']==99999]"
   ]
  },
  {
   "cell_type": "code",
<<<<<<< HEAD
<<<<<<< HEAD
   "execution_count": 201,
=======
   "execution_count": 153,
>>>>>>> 1d05b4e (Actualizar: Fase2.ipynb, Fase3_1.xlsx, HR_CLEAN_DATA.csv)
=======
   "execution_count": 278,
>>>>>>> d6bd9fd (Actualizar: Fase2.ipynb, Fase3_1.xlsx y HR_CLEAN_DATA.csv)
   "metadata": {},
   "outputs": [],
   "source": [
    "# Obtenemos una lista de los todos los 'Employee_Number' y la ordenamos de manera ascendente\n",
    "lista_employee_number = df['Employee_Number'].unique().tolist()\n",
    "lista_employee_number.sort()"
   ]
  },
  {
   "cell_type": "code",
<<<<<<< HEAD
<<<<<<< HEAD
   "execution_count": 202,
=======
   "execution_count": 154,
>>>>>>> 1d05b4e (Actualizar: Fase2.ipynb, Fase3_1.xlsx, HR_CLEAN_DATA.csv)
=======
   "execution_count": 279,
>>>>>>> d6bd9fd (Actualizar: Fase2.ipynb, Fase3_1.xlsx y HR_CLEAN_DATA.csv)
   "metadata": {},
   "outputs": [
    {
     "data": {
      "text/plain": [
       "2068"
      ]
     },
<<<<<<< HEAD
<<<<<<< HEAD
     "execution_count": 202,
=======
     "execution_count": 154,
>>>>>>> 1d05b4e (Actualizar: Fase2.ipynb, Fase3_1.xlsx, HR_CLEAN_DATA.csv)
=======
     "execution_count": 279,
>>>>>>> d6bd9fd (Actualizar: Fase2.ipynb, Fase3_1.xlsx y HR_CLEAN_DATA.csv)
     "metadata": {},
     "output_type": "execute_result"
    }
   ],
   "source": [
    "# Obtenemos el número del último 'Employee_Number' sin tener en cuenta el 99999\n",
    "lista_employee_number.remove(99999)\n",
    "last_employee_number = lista_employee_number[-1]\n",
    "last_employee_number"
   ]
  },
  {
   "cell_type": "code",
<<<<<<< HEAD
<<<<<<< HEAD
   "execution_count": 203,
=======
   "execution_count": 155,
>>>>>>> 1d05b4e (Actualizar: Fase2.ipynb, Fase3_1.xlsx, HR_CLEAN_DATA.csv)
=======
   "execution_count": 280,
>>>>>>> d6bd9fd (Actualizar: Fase2.ipynb, Fase3_1.xlsx y HR_CLEAN_DATA.csv)
   "metadata": {},
   "outputs": [],
   "source": [
    "# Creamos la variable del primer nuevo número de 'Employee_Number' y\n",
    "# del número de los índices de los 'Employee_Number' == 99999\n",
    "new_employee_number = last_employee_number + 1\n",
    "indices = df.index[df['Employee_Number'] == 99999]\n",
    "\n",
    "#Iteramos con un for loop por la lista de índices y cambiamos el valor del 'Employee_Number' por el nuevo valor\n",
    "for i in indices:\n",
    "    df.loc[i, 'Employee_Number'] = new_employee_number\n",
    "    new_employee_number += 1"
   ]
  },
  {
   "cell_type": "code",
<<<<<<< HEAD
<<<<<<< HEAD
   "execution_count": 204,
=======
   "execution_count": 156,
>>>>>>> 1d05b4e (Actualizar: Fase2.ipynb, Fase3_1.xlsx, HR_CLEAN_DATA.csv)
=======
   "execution_count": 281,
>>>>>>> d6bd9fd (Actualizar: Fase2.ipynb, Fase3_1.xlsx y HR_CLEAN_DATA.csv)
   "metadata": {},
   "outputs": [
    {
     "data": {
      "text/plain": [
<<<<<<< HEAD
<<<<<<< HEAD
       "(1485, 34)"
      ]
     },
     "execution_count": 204,
=======
       "(1477, 36)"
      ]
     },
     "execution_count": 156,
>>>>>>> 1d05b4e (Actualizar: Fase2.ipynb, Fase3_1.xlsx, HR_CLEAN_DATA.csv)
=======
       "(1485, 34)"
      ]
     },
     "execution_count": 281,
>>>>>>> d6bd9fd (Actualizar: Fase2.ipynb, Fase3_1.xlsx y HR_CLEAN_DATA.csv)
     "metadata": {},
     "output_type": "execute_result"
    }
   ],
   "source": [
    "#Comprobamos el tamaño final del DF\n",
    "df.shape"
   ]
  },
  {
   "cell_type": "code",
<<<<<<< HEAD
<<<<<<< HEAD
   "execution_count": 205,
=======
   "execution_count": 157,
>>>>>>> 1d05b4e (Actualizar: Fase2.ipynb, Fase3_1.xlsx, HR_CLEAN_DATA.csv)
=======
   "execution_count": 282,
>>>>>>> d6bd9fd (Actualizar: Fase2.ipynb, Fase3_1.xlsx y HR_CLEAN_DATA.csv)
   "metadata": {},
   "outputs": [
    {
     "data": {
      "text/plain": [
       "8"
      ]
     },
<<<<<<< HEAD
<<<<<<< HEAD
     "execution_count": 205,
=======
     "execution_count": 157,
>>>>>>> 1d05b4e (Actualizar: Fase2.ipynb, Fase3_1.xlsx, HR_CLEAN_DATA.csv)
=======
     "execution_count": 282,
>>>>>>> d6bd9fd (Actualizar: Fase2.ipynb, Fase3_1.xlsx y HR_CLEAN_DATA.csv)
     "metadata": {},
     "output_type": "execute_result"
    }
   ],
   "source": [
    "#Comprobamos si quedan duplicados en la columna de 'Employee_Number'\n",
    "df['Employee_Number'].duplicated().sum()"
   ]
  },
  {
   "cell_type": "code",
<<<<<<< HEAD
<<<<<<< HEAD
   "execution_count": 206,
=======
   "execution_count": 158,
>>>>>>> 1d05b4e (Actualizar: Fase2.ipynb, Fase3_1.xlsx, HR_CLEAN_DATA.csv)
=======
   "execution_count": 283,
>>>>>>> d6bd9fd (Actualizar: Fase2.ipynb, Fase3_1.xlsx y HR_CLEAN_DATA.csv)
   "metadata": {},
   "outputs": [],
   "source": [
    "#Adjudicamos la columna 'Employee_Number' cómo la columna de ínidce y eliminamos el actual índice\n",
    "df.set_index('Employee_Number',drop=True,inplace=True)"
   ]
  },
  {
   "cell_type": "code",
<<<<<<< HEAD
<<<<<<< HEAD
   "execution_count": 207,
=======
   "execution_count": 159,
>>>>>>> 1d05b4e (Actualizar: Fase2.ipynb, Fase3_1.xlsx, HR_CLEAN_DATA.csv)
=======
   "execution_count": 284,
>>>>>>> d6bd9fd (Actualizar: Fase2.ipynb, Fase3_1.xlsx y HR_CLEAN_DATA.csv)
   "metadata": {},
   "outputs": [
    {
     "data": {
      "text/html": [
       "<div>\n",
       "<style scoped>\n",
       "    .dataframe tbody tr th:only-of-type {\n",
       "        vertical-align: middle;\n",
       "    }\n",
       "\n",
       "    .dataframe tbody tr th {\n",
       "        vertical-align: top;\n",
       "    }\n",
       "\n",
       "    .dataframe thead th {\n",
       "        text-align: right;\n",
       "    }\n",
       "</style>\n",
       "<table border=\"1\" class=\"dataframe\">\n",
       "  <thead>\n",
       "    <tr style=\"text-align: right;\">\n",
       "      <th></th>\n",
       "      <th>Age</th>\n",
       "      <th>Age_Group</th>\n",
       "      <th>Attrition</th>\n",
       "      <th>Business_Travel</th>\n",
       "      <th>Daily_Rate</th>\n",
       "      <th>Department</th>\n",
       "      <th>Distance_From_Home</th>\n",
       "      <th>Education</th>\n",
       "      <th>Education_Field</th>\n",
       "      <th>Environment_Satisfaction</th>\n",
       "      <th>Gender</th>\n",
       "      <th>Hourly_Rate</th>\n",
       "      <th>Job_Involvement</th>\n",
       "      <th>Job_Level</th>\n",
       "      <th>Job_Role</th>\n",
       "      <th>Job_Satisfaction</th>\n",
       "      <th>Marital_Status</th>\n",
       "      <th>Monthly_Income</th>\n",
       "      <th>Monthly_Rate</th>\n",
       "      <th>Num_Companies_Worked</th>\n",
       "      <th>Over_Time</th>\n",
       "      <th>Percent_Salary_Hike</th>\n",
       "      <th>Performance_Rating</th>\n",
       "      <th>Relationship_Satisfaction</th>\n",
       "      <th>Stock_Option_Level</th>\n",
       "      <th>Total_Working_Years</th>\n",
       "      <th>Training_Times_Last_Year</th>\n",
       "      <th>Work_Life_Balance</th>\n",
       "      <th>Years_At_Company</th>\n",
       "      <th>Years_Since_Last_Promotion</th>\n",
       "      <th>Years_With_Curr_Manager</th>\n",
       "      <th>Date_Birth</th>\n",
       "      <th>Remote_Work</th>\n",
       "    </tr>\n",
       "    <tr>\n",
       "      <th>Employee_Number</th>\n",
       "      <th></th>\n",
       "      <th></th>\n",
       "      <th></th>\n",
       "      <th></th>\n",
       "      <th></th>\n",
       "      <th></th>\n",
       "      <th></th>\n",
       "      <th></th>\n",
       "      <th></th>\n",
       "      <th></th>\n",
       "      <th></th>\n",
       "      <th></th>\n",
       "      <th></th>\n",
       "      <th></th>\n",
       "      <th></th>\n",
       "      <th></th>\n",
       "      <th></th>\n",
       "      <th></th>\n",
       "      <th></th>\n",
       "      <th></th>\n",
       "      <th></th>\n",
       "      <th></th>\n",
       "      <th></th>\n",
       "      <th></th>\n",
       "      <th></th>\n",
       "      <th></th>\n",
       "      <th></th>\n",
       "      <th></th>\n",
       "      <th></th>\n",
       "      <th></th>\n",
       "      <th></th>\n",
       "      <th></th>\n",
       "      <th></th>\n",
<<<<<<< HEAD
<<<<<<< HEAD
=======
       "      <th></th>\n",
       "      <th></th>\n",
>>>>>>> 1d05b4e (Actualizar: Fase2.ipynb, Fase3_1.xlsx, HR_CLEAN_DATA.csv)
=======
>>>>>>> d6bd9fd (Actualizar: Fase2.ipynb, Fase3_1.xlsx y HR_CLEAN_DATA.csv)
       "    </tr>\n",
       "  </thead>\n",
       "  <tbody>\n",
       "    <tr>\n",
       "      <th>162</th>\n",
       "      <td>51</td>\n",
       "      <td></td>\n",
       "      <td>False</td>\n",
       "      <td>NaN</td>\n",
       "      <td>684.0</td>\n",
       "      <td>nan</td>\n",
       "      <td>6</td>\n",
       "      <td>3</td>\n",
       "      <td>NaN</td>\n",
       "      <td>1</td>\n",
       "      <td>M</td>\n",
       "      <td>51</td>\n",
       "      <td>3</td>\n",
       "      <td>5</td>\n",
       "      <td>Research Director</td>\n",
       "      <td>3</td>\n",
       "      <td>NaN</td>\n",
       "      <td>19537</td>\n",
       "      <td>6462</td>\n",
       "      <td>7</td>\n",
       "      <td>False</td>\n",
       "      <td>13</td>\n",
       "      <td>3</td>\n",
       "      <td>3</td>\n",
       "      <td>0</td>\n",
       "      <td>99999</td>\n",
       "      <td>5</td>\n",
       "      <td>3</td>\n",
       "      <td>20</td>\n",
       "      <td>15</td>\n",
       "      <td>15</td>\n",
       "      <td>1972</td>\n",
       "      <td>True</td>\n",
       "    </tr>\n",
       "    <tr>\n",
       "      <th>259</th>\n",
       "      <td>52</td>\n",
       "      <td></td>\n",
       "      <td>False</td>\n",
       "      <td>NaN</td>\n",
       "      <td>699.0</td>\n",
       "      <td>nan</td>\n",
       "      <td>1</td>\n",
       "      <td>4</td>\n",
       "      <td>Life Sciences</td>\n",
       "      <td>3</td>\n",
       "      <td>M</td>\n",
       "      <td>65</td>\n",
       "      <td>2</td>\n",
       "      <td>5</td>\n",
       "      <td>Manager</td>\n",
       "      <td>3</td>\n",
       "      <td>NaN</td>\n",
       "      <td>19999</td>\n",
       "      <td>5678</td>\n",
       "      <td>0</td>\n",
<<<<<<< HEAD
<<<<<<< HEAD
=======
       "      <td>nan</td>\n",
>>>>>>> 1d05b4e (Actualizar: Fase2.ipynb, Fase3_1.xlsx, HR_CLEAN_DATA.csv)
=======
>>>>>>> d6bd9fd (Actualizar: Fase2.ipynb, Fase3_1.xlsx y HR_CLEAN_DATA.csv)
       "      <td>NaN</td>\n",
       "      <td>14</td>\n",
       "      <td>3</td>\n",
       "      <td>1</td>\n",
       "      <td>1</td>\n",
       "      <td>34</td>\n",
       "      <td>5</td>\n",
       "      <td>3</td>\n",
       "      <td>33</td>\n",
       "      <td>11</td>\n",
       "      <td>9</td>\n",
       "      <td>1971</td>\n",
       "      <td>True</td>\n",
       "    </tr>\n",
       "    <tr>\n",
       "      <th>319</th>\n",
       "      <td>42</td>\n",
       "      <td></td>\n",
       "      <td>False</td>\n",
       "      <td>Travel Rarely</td>\n",
       "      <td>532.0</td>\n",
       "      <td>Research &amp; Development</td>\n",
       "      <td>4</td>\n",
       "      <td>2</td>\n",
       "      <td>Technical Degree</td>\n",
       "      <td>3</td>\n",
       "      <td>M</td>\n",
       "      <td>58</td>\n",
       "      <td>3</td>\n",
       "      <td>5</td>\n",
       "      <td>Manager</td>\n",
       "      <td>4</td>\n",
       "      <td>Married</td>\n",
       "      <td>19232</td>\n",
       "      <td>4933</td>\n",
       "      <td>1</td>\n",
<<<<<<< HEAD
<<<<<<< HEAD
=======
       "      <td>nan</td>\n",
>>>>>>> 1d05b4e (Actualizar: Fase2.ipynb, Fase3_1.xlsx, HR_CLEAN_DATA.csv)
=======
>>>>>>> d6bd9fd (Actualizar: Fase2.ipynb, Fase3_1.xlsx y HR_CLEAN_DATA.csv)
       "      <td>False</td>\n",
       "      <td>11</td>\n",
       "      <td>3</td>\n",
       "      <td>4</td>\n",
       "      <td>0</td>\n",
       "      <td>22</td>\n",
       "      <td>3</td>\n",
       "      <td>99999</td>\n",
       "      <td>22</td>\n",
       "      <td>11</td>\n",
       "      <td>15</td>\n",
       "      <td>1981</td>\n",
       "      <td>True</td>\n",
       "    </tr>\n",
       "    <tr>\n",
       "      <th>2069</th>\n",
       "      <td>47</td>\n",
       "      <td></td>\n",
       "      <td>False</td>\n",
       "      <td>Travel Rarely</td>\n",
       "      <td>359.0</td>\n",
       "      <td>nan</td>\n",
       "      <td>2</td>\n",
       "      <td>4</td>\n",
       "      <td>Medical</td>\n",
       "      <td>1</td>\n",
       "      <td>F</td>\n",
       "      <td>82</td>\n",
       "      <td>3</td>\n",
       "      <td>4</td>\n",
       "      <td>Research Director</td>\n",
       "      <td>3</td>\n",
       "      <td>Married</td>\n",
       "      <td>17169</td>\n",
       "      <td>26703</td>\n",
       "      <td>3</td>\n",
       "      <td>NaN</td>\n",
       "      <td>19</td>\n",
       "      <td>3</td>\n",
       "      <td>2</td>\n",
       "      <td>2</td>\n",
       "      <td>99999</td>\n",
       "      <td>2</td>\n",
       "      <td>99999</td>\n",
       "      <td>20</td>\n",
       "      <td>5</td>\n",
       "      <td>6</td>\n",
       "      <td>1976</td>\n",
       "      <td>False</td>\n",
       "    </tr>\n",
       "    <tr>\n",
       "      <th>2070</th>\n",
       "      <td>46</td>\n",
       "      <td></td>\n",
       "      <td>False</td>\n",
       "      <td>NaN</td>\n",
       "      <td>1319.0</td>\n",
       "      <td>nan</td>\n",
       "      <td>3</td>\n",
       "      <td>3</td>\n",
       "      <td>Technical Degree</td>\n",
       "      <td>1</td>\n",
       "      <td>F</td>\n",
       "      <td>45</td>\n",
       "      <td>4</td>\n",
       "      <td>4</td>\n",
       "      <td>Sales Executive</td>\n",
       "      <td>1</td>\n",
       "      <td>Divorced</td>\n",
       "      <td>99999</td>\n",
       "      <td>7739</td>\n",
       "      <td>2</td>\n",
       "      <td>False</td>\n",
       "      <td>12</td>\n",
       "      <td>3</td>\n",
       "      <td>4</td>\n",
       "      <td>1</td>\n",
       "      <td>99999</td>\n",
       "      <td>5</td>\n",
       "      <td>3</td>\n",
       "      <td>19</td>\n",
       "      <td>2</td>\n",
       "      <td>8</td>\n",
       "      <td>1977</td>\n",
       "      <td>False</td>\n",
       "    </tr>\n",
       "  </tbody>\n",
       "</table>\n",
       "</div>"
      ],
      "text/plain": [
       "                 Age Age_Group  Attrition Business_Travel  Daily_Rate  \\\n",
       "Employee_Number                                                         \n",
       "162               51                False             NaN       684.0   \n",
       "259               52                False             NaN       699.0   \n",
       "319               42                False   Travel Rarely       532.0   \n",
       "2069              47                False   Travel Rarely       359.0   \n",
       "2070              46                False             NaN      1319.0   \n",
       "\n",
<<<<<<< HEAD
       "                             Department  Distance_From_Home  Education  \\\n",
       "Employee_Number                                                          \n",
       "162                                 nan                   6          3   \n",
       "259                                 nan                   1          4   \n",
       "319              Research & Development                   4          2   \n",
       "2069                                nan                   2          4   \n",
       "2070                                nan                   3          3   \n",
=======
       "                               Department  Distance_From_Home  Education  \\\n",
       "Employee_Number                                                            \n",
       "162                                   nan                   6          3   \n",
       "259                                   nan                   1          4   \n",
       "319               Research & Development                    4          2   \n",
       "2069                                  nan                   2          4   \n",
       "2070                                  nan                   3          3   \n",
>>>>>>> 1d05b4e (Actualizar: Fase2.ipynb, Fase3_1.xlsx, HR_CLEAN_DATA.csv)
       "\n",
       "                  Education_Field  Environment_Satisfaction Gender  \\\n",
       "Employee_Number                                                      \n",
       "162                           NaN                         1      M   \n",
       "259                 Life Sciences                         3      M   \n",
       "319              Technical Degree                         3      M   \n",
       "2069                      Medical                         1      F   \n",
       "2070             Technical Degree                         1      F   \n",
       "\n",
       "                 Hourly_Rate  Job_Involvement  Job_Level             Job_Role  \\\n",
       "Employee_Number                                                                 \n",
       "162                       51                3          5   Research Director    \n",
       "259                       65                2          5             Manager    \n",
       "319                       58                3          5             Manager    \n",
       "2069                      82                3          4   Research Director    \n",
       "2070                      45                4          4     Sales Executive    \n",
       "\n",
       "                 Job_Satisfaction Marital_Status  Monthly_Income  \\\n",
       "Employee_Number                                                    \n",
       "162                             3            NaN           19537   \n",
       "259                             3            NaN           19999   \n",
       "319                             4        Married           19232   \n",
       "2069                            3        Married           17169   \n",
       "2070                            1       Divorced           99999   \n",
       "\n",
<<<<<<< HEAD
<<<<<<< HEAD
=======
>>>>>>> d6bd9fd (Actualizar: Fase2.ipynb, Fase3_1.xlsx y HR_CLEAN_DATA.csv)
       "                 Monthly_Rate  Num_Companies_Worked Over_Time  \\\n",
       "Employee_Number                                                 \n",
       "162                      6462                     7     False   \n",
       "259                      5678                     0       NaN   \n",
       "319                      4933                     1     False   \n",
       "2069                    26703                     3       NaN   \n",
       "2070                     7739                     2     False   \n",
<<<<<<< HEAD
=======
       "                 Monthly_Rate  Num_Companies_Worked Over_18 Over_Time  \\\n",
       "Employee_Number                                                         \n",
       "162                    6462.0                     7       Y     False   \n",
       "259                    5678.0                     0     nan       NaN   \n",
       "319                    4933.0                     1     nan     False   \n",
       "2069                  26703.0                     3       Y       NaN   \n",
       "2070                   7739.0                     2       Y     False   \n",
>>>>>>> 1d05b4e (Actualizar: Fase2.ipynb, Fase3_1.xlsx, HR_CLEAN_DATA.csv)
=======
>>>>>>> d6bd9fd (Actualizar: Fase2.ipynb, Fase3_1.xlsx y HR_CLEAN_DATA.csv)
       "\n",
       "                 Percent_Salary_Hike  Performance_Rating  \\\n",
       "Employee_Number                                            \n",
       "162                               13                   3   \n",
       "259                               14                   3   \n",
       "319                               11                   3   \n",
       "2069                              19                   3   \n",
       "2070                              12                   3   \n",
       "\n",
       "                 Relationship_Satisfaction  Stock_Option_Level  \\\n",
       "Employee_Number                                                  \n",
       "162                                      3                   0   \n",
       "259                                      1                   1   \n",
       "319                                      4                   0   \n",
       "2069                                     2                   2   \n",
       "2070                                     4                   1   \n",
       "\n",
       "                 Total_Working_Years  Training_Times_Last_Year  \\\n",
       "Employee_Number                                                  \n",
       "162                            99999                         5   \n",
       "259                               34                         5   \n",
       "319                               22                         3   \n",
       "2069                           99999                         2   \n",
       "2070                           99999                         5   \n",
       "\n",
       "                 Work_Life_Balance  Years_At_Company  \\\n",
       "Employee_Number                                        \n",
       "162                              3                20   \n",
       "259                              3                33   \n",
       "319                          99999                22   \n",
       "2069                         99999                20   \n",
       "2070                             3                19   \n",
       "\n",
       "                 Years_Since_Last_Promotion  Years_With_Curr_Manager  \\\n",
       "Employee_Number                                                        \n",
       "162                                      15                       15   \n",
       "259                                      11                        9   \n",
       "319                                      11                       15   \n",
       "2069                                      5                        6   \n",
       "2070                                      2                        8   \n",
       "\n",
       "                 Date_Birth  Remote_Work  \n",
       "Employee_Number                           \n",
       "162                    1972         True  \n",
       "259                    1971         True  \n",
       "319                    1981         True  \n",
       "2069                   1976        False  \n",
       "2070                   1977        False  "
      ]
     },
<<<<<<< HEAD
<<<<<<< HEAD
     "execution_count": 207,
=======
     "execution_count": 159,
>>>>>>> 1d05b4e (Actualizar: Fase2.ipynb, Fase3_1.xlsx, HR_CLEAN_DATA.csv)
=======
     "execution_count": 284,
>>>>>>> d6bd9fd (Actualizar: Fase2.ipynb, Fase3_1.xlsx y HR_CLEAN_DATA.csv)
     "metadata": {},
     "output_type": "execute_result"
    }
   ],
   "source": [
    "#Visualizamos el DF resultante\n",
    "df.head(5)"
   ]
  },
  {
   "cell_type": "code",
<<<<<<< HEAD
<<<<<<< HEAD
   "execution_count": 208,
=======
   "execution_count": 160,
>>>>>>> 1d05b4e (Actualizar: Fase2.ipynb, Fase3_1.xlsx, HR_CLEAN_DATA.csv)
=======
   "execution_count": 285,
>>>>>>> d6bd9fd (Actualizar: Fase2.ipynb, Fase3_1.xlsx y HR_CLEAN_DATA.csv)
   "metadata": {},
   "outputs": [
    {
     "name": "stdout",
     "output_type": "stream",
     "text": [
      "<class 'pandas.core.frame.DataFrame'>\n",
<<<<<<< HEAD
<<<<<<< HEAD
      "Int64Index: 1485 entries, 162 to 2466\n",
      "Data columns (total 33 columns):\n",
      " #   Column                      Non-Null Count  Dtype  \n",
      "---  ------                      --------------  -----  \n",
      " 0   Age                         1485 non-null   int64  \n",
      " 1   Age_Group                   1485 non-null   object \n",
      " 2   Attrition                   1485 non-null   bool   \n",
      " 3   Business_Travel             772 non-null    object \n",
      " 4   Daily_Rate                  1373 non-null   float64\n",
      " 5   Department                  1485 non-null   object \n",
      " 6   Distance_From_Home          1485 non-null   int64  \n",
      " 7   Education                   1485 non-null   int64  \n",
      " 8   Education_Field             793 non-null    object \n",
      " 9   Environment_Satisfaction    1485 non-null   int64  \n",
      " 10  Gender                      1485 non-null   object \n",
      " 11  Hourly_Rate                 1485 non-null   int64  \n",
      " 12  Job_Involvement             1485 non-null   int64  \n",
      " 13  Job_Level                   1485 non-null   int64  \n",
      " 14  Job_Role                    1485 non-null   object \n",
      " 15  Job_Satisfaction            1485 non-null   int64  \n",
      " 16  Marital_Status              888 non-null    object \n",
      " 17  Monthly_Income              1485 non-null   int64  \n",
      " 18  Monthly_Rate                1485 non-null   int64  \n",
      " 19  Num_Companies_Worked        1485 non-null   int64  \n",
      " 20  Over_Time                   871 non-null    object \n",
      " 21  Percent_Salary_Hike         1485 non-null   int64  \n",
      " 22  Performance_Rating          1485 non-null   int64  \n",
      " 23  Relationship_Satisfaction   1485 non-null   int64  \n",
      " 24  Stock_Option_Level          1485 non-null   int64  \n",
      " 25  Total_Working_Years         1485 non-null   int64  \n",
      " 26  Training_Times_Last_Year    1485 non-null   int64  \n",
      " 27  Work_Life_Balance           1485 non-null   int64  \n",
      " 28  Years_At_Company            1485 non-null   int64  \n",
      " 29  Years_Since_Last_Promotion  1485 non-null   int64  \n",
      " 30  Years_With_Curr_Manager     1485 non-null   int64  \n",
      " 31  Date_Birth                  1485 non-null   int64  \n",
      " 32  Remote_Work                 1485 non-null   bool   \n",
      "dtypes: bool(2), float64(1), int64(22), object(8)\n",
      "memory usage: 374.2+ KB\n"
=======
      "Int64Index: 1477 entries, 162 to 2466\n",
      "Data columns (total 35 columns):\n",
      " #   Column                      Non-Null Count  Dtype  \n",
      "---  ------                      --------------  -----  \n",
      " 0   Age                         1477 non-null   int64  \n",
      " 1   Age_Group                   1477 non-null   object \n",
      " 2   Attrition                   1477 non-null   bool   \n",
      " 3   Business_Travel             768 non-null    object \n",
      " 4   Daily_Rate                  1365 non-null   float64\n",
      " 5   Department                  1477 non-null   object \n",
      " 6   Distance_From_Home          1477 non-null   int64  \n",
      " 7   Education                   1477 non-null   int64  \n",
      " 8   Education_Field             789 non-null    object \n",
      " 9   Environment_Satisfaction    1477 non-null   int64  \n",
      " 10  Gender                      1477 non-null   object \n",
      " 11  Hourly_Rate                 1477 non-null   int64  \n",
      " 12  Job_Involvement             1477 non-null   int64  \n",
      " 13  Job_Level                   1477 non-null   int64  \n",
      " 14  Job_Role                    1477 non-null   object \n",
      " 15  Job_Satisfaction            1477 non-null   int64  \n",
      " 16  Marital_Status              884 non-null    object \n",
      " 17  Monthly_Income              695 non-null    float64\n",
      " 18  Monthly_Rate                1477 non-null   float64\n",
      " 19  Num_Companies_Worked        1477 non-null   int64  \n",
      " 20  Over_18                     1477 non-null   object \n",
      " 21  Over_Time                   865 non-null    object \n",
      " 22  Percent_Salary_Hike         1477 non-null   int64  \n",
      " 23  Performance_Rating          1477 non-null   int64  \n",
      " 24  Relationship_Satisfaction   1477 non-null   int64  \n",
      " 25  Standard_Hours              381 non-null    float64\n",
      " 26  Stock_Option_Level          1477 non-null   int64  \n",
      " 27  Total_Working_Years         1477 non-null   int64  \n",
      " 28  Training_Times_Last_Year    1477 non-null   int64  \n",
      " 29  Work_Life_Balance           1477 non-null   int64  \n",
      " 30  Years_At_Company            1477 non-null   int64  \n",
      " 31  Years_Since_Last_Promotion  1477 non-null   int64  \n",
      " 32  Years_With_Curr_Manager     1477 non-null   int64  \n",
      " 33  Date_Birth                  1477 non-null   int64  \n",
      " 34  Remote_Work                 1477 non-null   bool   \n",
      "dtypes: bool(2), float64(4), int64(20), object(9)\n",
      "memory usage: 395.2+ KB\n"
>>>>>>> 1d05b4e (Actualizar: Fase2.ipynb, Fase3_1.xlsx, HR_CLEAN_DATA.csv)
=======
      "Int64Index: 1485 entries, 162 to 2466\n",
      "Data columns (total 33 columns):\n",
      " #   Column                      Non-Null Count  Dtype  \n",
      "---  ------                      --------------  -----  \n",
      " 0   Age                         1485 non-null   int64  \n",
      " 1   Age_Group                   1485 non-null   object \n",
      " 2   Attrition                   1485 non-null   bool   \n",
      " 3   Business_Travel             772 non-null    object \n",
      " 4   Daily_Rate                  1373 non-null   float64\n",
      " 5   Department                  1485 non-null   object \n",
      " 6   Distance_From_Home          1485 non-null   int64  \n",
      " 7   Education                   1485 non-null   int64  \n",
      " 8   Education_Field             793 non-null    object \n",
      " 9   Environment_Satisfaction    1485 non-null   int64  \n",
      " 10  Gender                      1485 non-null   object \n",
      " 11  Hourly_Rate                 1485 non-null   int64  \n",
      " 12  Job_Involvement             1485 non-null   int64  \n",
      " 13  Job_Level                   1485 non-null   int64  \n",
      " 14  Job_Role                    1485 non-null   object \n",
      " 15  Job_Satisfaction            1485 non-null   int64  \n",
      " 16  Marital_Status              888 non-null    object \n",
      " 17  Monthly_Income              1485 non-null   int64  \n",
      " 18  Monthly_Rate                1485 non-null   int64  \n",
      " 19  Num_Companies_Worked        1485 non-null   int64  \n",
      " 20  Over_Time                   871 non-null    object \n",
      " 21  Percent_Salary_Hike         1485 non-null   int64  \n",
      " 22  Performance_Rating          1485 non-null   int64  \n",
      " 23  Relationship_Satisfaction   1485 non-null   int64  \n",
      " 24  Stock_Option_Level          1485 non-null   int64  \n",
      " 25  Total_Working_Years         1485 non-null   int64  \n",
      " 26  Training_Times_Last_Year    1485 non-null   int64  \n",
      " 27  Work_Life_Balance           1485 non-null   int64  \n",
      " 28  Years_At_Company            1485 non-null   int64  \n",
      " 29  Years_Since_Last_Promotion  1485 non-null   int64  \n",
      " 30  Years_With_Curr_Manager     1485 non-null   int64  \n",
      " 31  Date_Birth                  1485 non-null   int64  \n",
      " 32  Remote_Work                 1485 non-null   bool   \n",
      "dtypes: bool(2), float64(1), int64(22), object(8)\n",
      "memory usage: 374.2+ KB\n"
>>>>>>> d6bd9fd (Actualizar: Fase2.ipynb, Fase3_1.xlsx y HR_CLEAN_DATA.csv)
     ]
    }
   ],
   "source": [
    "df.info()"
   ]
  },
  {
   "cell_type": "code",
<<<<<<< HEAD
<<<<<<< HEAD
   "execution_count": 209,
=======
   "execution_count": 161,
>>>>>>> 1d05b4e (Actualizar: Fase2.ipynb, Fase3_1.xlsx, HR_CLEAN_DATA.csv)
=======
   "execution_count": 286,
>>>>>>> d6bd9fd (Actualizar: Fase2.ipynb, Fase3_1.xlsx y HR_CLEAN_DATA.csv)
   "metadata": {},
   "outputs": [
    {
     "data": {
      "text/html": [
       "<div>\n",
       "<style scoped>\n",
       "    .dataframe tbody tr th:only-of-type {\n",
       "        vertical-align: middle;\n",
       "    }\n",
       "\n",
       "    .dataframe tbody tr th {\n",
       "        vertical-align: top;\n",
       "    }\n",
       "\n",
       "    .dataframe thead th {\n",
       "        text-align: right;\n",
       "    }\n",
       "</style>\n",
       "<table border=\"1\" class=\"dataframe\">\n",
       "  <thead>\n",
       "    <tr style=\"text-align: right;\">\n",
       "      <th></th>\n",
       "      <th>count</th>\n",
       "      <th>unique</th>\n",
       "      <th>top</th>\n",
       "      <th>freq</th>\n",
       "      <th>mean</th>\n",
       "      <th>std</th>\n",
       "      <th>min</th>\n",
       "      <th>25%</th>\n",
       "      <th>50%</th>\n",
       "      <th>75%</th>\n",
       "      <th>max</th>\n",
       "    </tr>\n",
       "  </thead>\n",
       "  <tbody>\n",
       "    <tr>\n",
       "      <th>Age</th>\n",
       "      <td>1485.0</td>\n",
       "      <td>NaN</td>\n",
       "      <td>NaN</td>\n",
       "      <td>NaN</td>\n",
       "      <td>36.942761</td>\n",
       "      <td>9.134814</td>\n",
       "      <td>18.0</td>\n",
       "      <td>30.0</td>\n",
       "      <td>36.0</td>\n",
       "      <td>43.0</td>\n",
       "      <td>60.0</td>\n",
       "    </tr>\n",
       "    <tr>\n",
       "      <th>Age_Group</th>\n",
       "      <td>1485</td>\n",
       "      <td>1</td>\n",
       "      <td></td>\n",
       "      <td>1485</td>\n",
       "      <td>NaN</td>\n",
       "      <td>NaN</td>\n",
       "      <td>NaN</td>\n",
       "      <td>NaN</td>\n",
       "      <td>NaN</td>\n",
       "      <td>NaN</td>\n",
       "      <td>NaN</td>\n",
       "    </tr>\n",
       "    <tr>\n",
       "      <th>Business_Travel</th>\n",
       "      <td>772</td>\n",
       "      <td>3</td>\n",
       "      <td>Travel Rarely</td>\n",
       "      <td>539</td>\n",
       "      <td>NaN</td>\n",
       "      <td>NaN</td>\n",
       "      <td>NaN</td>\n",
       "      <td>NaN</td>\n",
       "      <td>NaN</td>\n",
       "      <td>NaN</td>\n",
       "      <td>NaN</td>\n",
       "    </tr>\n",
       "    <tr>\n",
       "      <th>Daily_Rate</th>\n",
       "      <td>1373.0</td>\n",
       "      <td>NaN</td>\n",
       "      <td>NaN</td>\n",
       "      <td>NaN</td>\n",
       "      <td>806.512017</td>\n",
       "      <td>400.708175</td>\n",
       "      <td>103.0</td>\n",
       "      <td>477.0</td>\n",
       "      <td>805.0</td>\n",
       "      <td>1157.0</td>\n",
       "      <td>1499.0</td>\n",
       "    </tr>\n",
       "    <tr>\n",
       "      <th>Department</th>\n",
<<<<<<< HEAD
<<<<<<< HEAD
       "      <td>1485</td>\n",
       "      <td>4</td>\n",
       "      <td>nan</td>\n",
       "      <td>1203</td>\n",
=======
       "      <td>1477</td>\n",
       "      <td>4</td>\n",
       "      <td>nan</td>\n",
       "      <td>1198</td>\n",
>>>>>>> 1d05b4e (Actualizar: Fase2.ipynb, Fase3_1.xlsx, HR_CLEAN_DATA.csv)
=======
       "      <td>1485</td>\n",
       "      <td>4</td>\n",
       "      <td>nan</td>\n",
       "      <td>1203</td>\n",
>>>>>>> d6bd9fd (Actualizar: Fase2.ipynb, Fase3_1.xlsx y HR_CLEAN_DATA.csv)
       "      <td>NaN</td>\n",
       "      <td>NaN</td>\n",
       "      <td>NaN</td>\n",
       "      <td>NaN</td>\n",
       "      <td>NaN</td>\n",
       "      <td>NaN</td>\n",
       "      <td>NaN</td>\n",
       "    </tr>\n",
       "    <tr>\n",
       "      <th>Distance_From_Home</th>\n",
       "      <td>1485.0</td>\n",
       "      <td>NaN</td>\n",
       "      <td>NaN</td>\n",
       "      <td>NaN</td>\n",
       "      <td>11.299663</td>\n",
       "      <td>10.527645</td>\n",
       "      <td>1.0</td>\n",
       "      <td>2.0</td>\n",
       "      <td>8.0</td>\n",
       "      <td>17.0</td>\n",
       "      <td>49.0</td>\n",
       "    </tr>\n",
       "    <tr>\n",
       "      <th>Education</th>\n",
       "      <td>1485.0</td>\n",
       "      <td>NaN</td>\n",
       "      <td>NaN</td>\n",
       "      <td>NaN</td>\n",
       "      <td>2.916498</td>\n",
       "      <td>1.02517</td>\n",
       "      <td>1.0</td>\n",
       "      <td>2.0</td>\n",
       "      <td>3.0</td>\n",
       "      <td>4.0</td>\n",
       "      <td>5.0</td>\n",
       "    </tr>\n",
       "    <tr>\n",
       "      <th>Education_Field</th>\n",
       "      <td>793</td>\n",
       "      <td>6</td>\n",
       "      <td>Life Sciences</td>\n",
       "      <td>323</td>\n",
       "      <td>NaN</td>\n",
       "      <td>NaN</td>\n",
       "      <td>NaN</td>\n",
       "      <td>NaN</td>\n",
       "      <td>NaN</td>\n",
       "      <td>NaN</td>\n",
       "      <td>NaN</td>\n",
       "    </tr>\n",
       "    <tr>\n",
       "      <th>Environment_Satisfaction</th>\n",
       "      <td>1485.0</td>\n",
       "      <td>NaN</td>\n",
       "      <td>NaN</td>\n",
       "      <td>NaN</td>\n",
       "      <td>2.740741</td>\n",
       "      <td>1.089395</td>\n",
       "      <td>1.0</td>\n",
       "      <td>2.0</td>\n",
       "      <td>3.0</td>\n",
       "      <td>4.0</td>\n",
       "      <td>4.0</td>\n",
       "    </tr>\n",
       "    <tr>\n",
       "      <th>Gender</th>\n",
       "      <td>1485</td>\n",
       "      <td>2</td>\n",
       "      <td>M</td>\n",
       "      <td>891</td>\n",
       "      <td>NaN</td>\n",
       "      <td>NaN</td>\n",
       "      <td>NaN</td>\n",
       "      <td>NaN</td>\n",
       "      <td>NaN</td>\n",
       "      <td>NaN</td>\n",
       "      <td>NaN</td>\n",
       "    </tr>\n",
       "    <tr>\n",
       "      <th>Hourly_Rate</th>\n",
       "      <td>1485.0</td>\n",
       "      <td>NaN</td>\n",
       "      <td>NaN</td>\n",
       "      <td>NaN</td>\n",
       "      <td>5180.501684</td>\n",
       "      <td>22028.799079</td>\n",
       "      <td>30.0</td>\n",
       "      <td>50.0</td>\n",
       "      <td>68.0</td>\n",
       "      <td>86.0</td>\n",
       "      <td>99999.0</td>\n",
       "    </tr>\n",
       "    <tr>\n",
       "      <th>Job_Involvement</th>\n",
       "      <td>1485.0</td>\n",
       "      <td>NaN</td>\n",
       "      <td>NaN</td>\n",
       "      <td>NaN</td>\n",
       "      <td>2.73064</td>\n",
       "      <td>0.711977</td>\n",
       "      <td>1.0</td>\n",
       "      <td>2.0</td>\n",
       "      <td>3.0</td>\n",
       "      <td>3.0</td>\n",
       "      <td>4.0</td>\n",
       "    </tr>\n",
       "    <tr>\n",
       "      <th>Job_Level</th>\n",
       "      <td>1485.0</td>\n",
       "      <td>NaN</td>\n",
       "      <td>NaN</td>\n",
       "      <td>NaN</td>\n",
       "      <td>2.065993</td>\n",
       "      <td>1.105467</td>\n",
       "      <td>1.0</td>\n",
       "      <td>1.0</td>\n",
       "      <td>2.0</td>\n",
       "      <td>3.0</td>\n",
       "      <td>5.0</td>\n",
       "    </tr>\n",
       "    <tr>\n",
       "      <th>Job_Role</th>\n",
       "      <td>1485</td>\n",
       "      <td>9</td>\n",
       "      <td>Sales Executive</td>\n",
       "      <td>331</td>\n",
       "      <td>NaN</td>\n",
       "      <td>NaN</td>\n",
       "      <td>NaN</td>\n",
       "      <td>NaN</td>\n",
       "      <td>NaN</td>\n",
       "      <td>NaN</td>\n",
       "      <td>NaN</td>\n",
       "    </tr>\n",
       "    <tr>\n",
       "      <th>Job_Satisfaction</th>\n",
       "      <td>1485.0</td>\n",
       "      <td>NaN</td>\n",
       "      <td>NaN</td>\n",
       "      <td>NaN</td>\n",
       "      <td>2.729966</td>\n",
       "      <td>1.10033</td>\n",
       "      <td>1.0</td>\n",
       "      <td>2.0</td>\n",
       "      <td>3.0</td>\n",
       "      <td>4.0</td>\n",
       "      <td>4.0</td>\n",
       "    </tr>\n",
       "    <tr>\n",
       "      <th>Marital_Status</th>\n",
       "      <td>888</td>\n",
       "      <td>3</td>\n",
       "      <td>Married</td>\n",
       "      <td>402</td>\n",
       "      <td>NaN</td>\n",
       "      <td>NaN</td>\n",
       "      <td>NaN</td>\n",
       "      <td>NaN</td>\n",
       "      <td>NaN</td>\n",
       "      <td>NaN</td>\n",
       "      <td>NaN</td>\n",
       "    </tr>\n",
       "    <tr>\n",
       "      <th>Monthly_Income</th>\n",
       "      <td>1485.0</td>\n",
       "      <td>NaN</td>\n",
       "      <td>NaN</td>\n",
       "      <td>NaN</td>\n",
       "      <td>55936.149495</td>\n",
       "      <td>46794.415899</td>\n",
       "      <td>1009.0</td>\n",
       "      <td>5070.0</td>\n",
       "      <td>99999.0</td>\n",
       "      <td>99999.0</td>\n",
       "      <td>99999.0</td>\n",
       "    </tr>\n",
       "    <tr>\n",
       "      <th>Monthly_Rate</th>\n",
       "      <td>1485.0</td>\n",
       "      <td>NaN</td>\n",
       "      <td>NaN</td>\n",
       "      <td>NaN</td>\n",
       "      <td>14296.219529</td>\n",
       "      <td>7129.464478</td>\n",
       "      <td>2094.0</td>\n",
       "      <td>8040.0</td>\n",
       "      <td>14229.0</td>\n",
       "      <td>20460.0</td>\n",
       "      <td>26999.0</td>\n",
       "    </tr>\n",
       "    <tr>\n",
       "      <th>Num_Companies_Worked</th>\n",
       "      <td>1485.0</td>\n",
       "      <td>NaN</td>\n",
       "      <td>NaN</td>\n",
       "      <td>NaN</td>\n",
       "      <td>2.70101</td>\n",
       "      <td>2.507569</td>\n",
       "      <td>0.0</td>\n",
       "      <td>1.0</td>\n",
       "      <td>2.0</td>\n",
       "      <td>4.0</td>\n",
       "      <td>9.0</td>\n",
       "    </tr>\n",
       "    <tr>\n",
<<<<<<< HEAD
<<<<<<< HEAD
=======
       "      <th>Over_18</th>\n",
       "      <td>1477</td>\n",
       "      <td>2</td>\n",
       "      <td>nan</td>\n",
       "      <td>829</td>\n",
       "      <td>NaN</td>\n",
       "      <td>NaN</td>\n",
       "      <td>NaN</td>\n",
       "      <td>NaN</td>\n",
       "      <td>NaN</td>\n",
       "      <td>NaN</td>\n",
       "      <td>NaN</td>\n",
       "    </tr>\n",
       "    <tr>\n",
>>>>>>> 1d05b4e (Actualizar: Fase2.ipynb, Fase3_1.xlsx, HR_CLEAN_DATA.csv)
=======
>>>>>>> d6bd9fd (Actualizar: Fase2.ipynb, Fase3_1.xlsx y HR_CLEAN_DATA.csv)
       "      <th>Over_Time</th>\n",
       "      <td>871</td>\n",
       "      <td>2</td>\n",
       "      <td>False</td>\n",
       "      <td>631</td>\n",
       "      <td>NaN</td>\n",
       "      <td>NaN</td>\n",
       "      <td>NaN</td>\n",
       "      <td>NaN</td>\n",
       "      <td>NaN</td>\n",
       "      <td>NaN</td>\n",
       "      <td>NaN</td>\n",
       "    </tr>\n",
       "    <tr>\n",
       "      <th>Percent_Salary_Hike</th>\n",
       "      <td>1485.0</td>\n",
       "      <td>NaN</td>\n",
       "      <td>NaN</td>\n",
       "      <td>NaN</td>\n",
       "      <td>15.216835</td>\n",
       "      <td>3.667459</td>\n",
       "      <td>11.0</td>\n",
       "      <td>12.0</td>\n",
       "      <td>14.0</td>\n",
       "      <td>18.0</td>\n",
       "      <td>25.0</td>\n",
       "    </tr>\n",
       "    <tr>\n",
       "      <th>Performance_Rating</th>\n",
       "      <td>1485.0</td>\n",
       "      <td>NaN</td>\n",
       "      <td>NaN</td>\n",
       "      <td>NaN</td>\n",
       "      <td>12191.201347</td>\n",
       "      <td>32725.015251</td>\n",
       "      <td>3.0</td>\n",
       "      <td>3.0</td>\n",
       "      <td>3.0</td>\n",
       "      <td>4.0</td>\n",
       "      <td>99999.0</td>\n",
       "    </tr>\n",
       "    <tr>\n",
       "      <th>Relationship_Satisfaction</th>\n",
       "      <td>1485.0</td>\n",
       "      <td>NaN</td>\n",
       "      <td>NaN</td>\n",
       "      <td>NaN</td>\n",
       "      <td>2.712458</td>\n",
       "      <td>1.081023</td>\n",
       "      <td>1.0</td>\n",
       "      <td>2.0</td>\n",
       "      <td>3.0</td>\n",
       "      <td>4.0</td>\n",
       "      <td>4.0</td>\n",
       "    </tr>\n",
       "    <tr>\n",
       "      <th>Stock_Option_Level</th>\n",
       "      <td>1485.0</td>\n",
       "      <td>NaN</td>\n",
       "      <td>NaN</td>\n",
       "      <td>NaN</td>\n",
       "      <td>0.791919</td>\n",
       "      <td>0.850203</td>\n",
       "      <td>0.0</td>\n",
       "      <td>0.0</td>\n",
       "      <td>1.0</td>\n",
       "      <td>1.0</td>\n",
       "      <td>3.0</td>\n",
       "    </tr>\n",
       "    <tr>\n",
       "      <th>Total_Working_Years</th>\n",
       "      <td>1485.0</td>\n",
       "      <td>NaN</td>\n",
       "      <td>NaN</td>\n",
       "      <td>NaN</td>\n",
       "      <td>32801.863973</td>\n",
       "      <td>46956.557897</td>\n",
       "      <td>0.0</td>\n",
       "      <td>8.0</td>\n",
       "      <td>15.0</td>\n",
       "      <td>99999.0</td>\n",
       "      <td>99999.0</td>\n",
       "    </tr>\n",
       "    <tr>\n",
       "      <th>Training_Times_Last_Year</th>\n",
       "      <td>1485.0</td>\n",
       "      <td>NaN</td>\n",
       "      <td>NaN</td>\n",
       "      <td>NaN</td>\n",
       "      <td>2.801347</td>\n",
       "      <td>1.286043</td>\n",
       "      <td>0.0</td>\n",
       "      <td>2.0</td>\n",
       "      <td>3.0</td>\n",
       "      <td>3.0</td>\n",
       "      <td>6.0</td>\n",
       "    </tr>\n",
       "    <tr>\n",
       "      <th>Work_Life_Balance</th>\n",
       "      <td>1485.0</td>\n",
       "      <td>NaN</td>\n",
       "      <td>NaN</td>\n",
       "      <td>NaN</td>\n",
       "      <td>6601.835017</td>\n",
       "      <td>24834.463223</td>\n",
       "      <td>1.0</td>\n",
       "      <td>2.0</td>\n",
       "      <td>3.0</td>\n",
       "      <td>3.0</td>\n",
       "      <td>99999.0</td>\n",
       "    </tr>\n",
       "    <tr>\n",
       "      <th>Years_At_Company</th>\n",
       "      <td>1485.0</td>\n",
       "      <td>NaN</td>\n",
       "      <td>NaN</td>\n",
       "      <td>NaN</td>\n",
       "      <td>7.03569</td>\n",
       "      <td>6.136976</td>\n",
       "      <td>0.0</td>\n",
       "      <td>3.0</td>\n",
       "      <td>5.0</td>\n",
       "      <td>9.0</td>\n",
       "      <td>40.0</td>\n",
       "    </tr>\n",
       "    <tr>\n",
       "      <th>Years_Since_Last_Promotion</th>\n",
       "      <td>1485.0</td>\n",
       "      <td>NaN</td>\n",
       "      <td>NaN</td>\n",
       "      <td>NaN</td>\n",
       "      <td>2.2</td>\n",
       "      <td>3.234709</td>\n",
       "      <td>0.0</td>\n",
       "      <td>0.0</td>\n",
       "      <td>1.0</td>\n",
       "      <td>3.0</td>\n",
       "      <td>15.0</td>\n",
       "    </tr>\n",
       "    <tr>\n",
       "      <th>Years_With_Curr_Manager</th>\n",
       "      <td>1485.0</td>\n",
       "      <td>NaN</td>\n",
       "      <td>NaN</td>\n",
       "      <td>NaN</td>\n",
       "      <td>4.143434</td>\n",
       "      <td>3.561781</td>\n",
       "      <td>0.0</td>\n",
       "      <td>2.0</td>\n",
       "      <td>3.0</td>\n",
       "      <td>7.0</td>\n",
       "      <td>17.0</td>\n",
       "    </tr>\n",
       "    <tr>\n",
       "      <th>Date_Birth</th>\n",
       "      <td>1485.0</td>\n",
       "      <td>NaN</td>\n",
       "      <td>NaN</td>\n",
       "      <td>NaN</td>\n",
       "      <td>1986.053872</td>\n",
       "      <td>9.133913</td>\n",
       "      <td>1963.0</td>\n",
       "      <td>1980.0</td>\n",
       "      <td>1987.0</td>\n",
       "      <td>1993.0</td>\n",
       "      <td>2005.0</td>\n",
       "    </tr>\n",
       "  </tbody>\n",
       "</table>\n",
       "</div>"
      ],
      "text/plain": [
       "                             count unique                top  freq  \\\n",
<<<<<<< HEAD
<<<<<<< HEAD
=======
>>>>>>> d6bd9fd (Actualizar: Fase2.ipynb, Fase3_1.xlsx y HR_CLEAN_DATA.csv)
       "Age                         1485.0    NaN                NaN   NaN   \n",
       "Age_Group                     1485      1                     1485   \n",
       "Business_Travel                772      3      Travel Rarely   539   \n",
       "Daily_Rate                  1373.0    NaN                NaN   NaN   \n",
       "Department                    1485      4                nan  1203   \n",
       "Distance_From_Home          1485.0    NaN                NaN   NaN   \n",
       "Education                   1485.0    NaN                NaN   NaN   \n",
       "Education_Field                793      6      Life Sciences   323   \n",
       "Environment_Satisfaction    1485.0    NaN                NaN   NaN   \n",
       "Gender                        1485      2                  M   891   \n",
       "Hourly_Rate                 1485.0    NaN                NaN   NaN   \n",
       "Job_Involvement             1485.0    NaN                NaN   NaN   \n",
       "Job_Level                   1485.0    NaN                NaN   NaN   \n",
       "Job_Role                      1485      9   Sales Executive    331   \n",
       "Job_Satisfaction            1485.0    NaN                NaN   NaN   \n",
       "Marital_Status                 888      3            Married   402   \n",
       "Monthly_Income              1485.0    NaN                NaN   NaN   \n",
       "Monthly_Rate                1485.0    NaN                NaN   NaN   \n",
       "Num_Companies_Worked        1485.0    NaN                NaN   NaN   \n",
       "Over_Time                      871      2              False   631   \n",
       "Percent_Salary_Hike         1485.0    NaN                NaN   NaN   \n",
       "Performance_Rating          1485.0    NaN                NaN   NaN   \n",
       "Relationship_Satisfaction   1485.0    NaN                NaN   NaN   \n",
       "Stock_Option_Level          1485.0    NaN                NaN   NaN   \n",
       "Total_Working_Years         1485.0    NaN                NaN   NaN   \n",
       "Training_Times_Last_Year    1485.0    NaN                NaN   NaN   \n",
       "Work_Life_Balance           1485.0    NaN                NaN   NaN   \n",
       "Years_At_Company            1485.0    NaN                NaN   NaN   \n",
       "Years_Since_Last_Promotion  1485.0    NaN                NaN   NaN   \n",
       "Years_With_Curr_Manager     1485.0    NaN                NaN   NaN   \n",
       "Date_Birth                  1485.0    NaN                NaN   NaN   \n",
<<<<<<< HEAD
=======
       "Age                         1477.0    NaN                NaN   NaN   \n",
       "Age_Group                     1477      1                     1477   \n",
       "Business_Travel                768      3      Travel_Rarely   536   \n",
       "Daily_Rate                  1365.0    NaN                NaN   NaN   \n",
       "Department                    1477      4                nan  1198   \n",
       "Distance_From_Home          1477.0    NaN                NaN   NaN   \n",
       "Education                   1477.0    NaN                NaN   NaN   \n",
       "Education_Field                789      6      Life Sciences   322   \n",
       "Environment_Satisfaction    1477.0    NaN                NaN   NaN   \n",
       "Gender                        1477      2                  M   885   \n",
       "Hourly_Rate                 1477.0    NaN                NaN   NaN   \n",
       "Job_Involvement             1477.0    NaN                NaN   NaN   \n",
       "Job_Level                   1477.0    NaN                NaN   NaN   \n",
       "Job_Role                      1477      9   Sales Executive    329   \n",
       "Job_Satisfaction            1477.0    NaN                NaN   NaN   \n",
       "Marital_Status                 884      3            Married   400   \n",
       "Monthly_Income               695.0    NaN                NaN   NaN   \n",
       "Monthly_Rate                1477.0    NaN                NaN   NaN   \n",
       "Num_Companies_Worked        1477.0    NaN                NaN   NaN   \n",
       "Over_18                       1477      2                nan   829   \n",
       "Over_Time                      865      2              False   625   \n",
       "Percent_Salary_Hike         1477.0    NaN                NaN   NaN   \n",
       "Performance_Rating          1477.0    NaN                NaN   NaN   \n",
       "Relationship_Satisfaction   1477.0    NaN                NaN   NaN   \n",
       "Standard_Hours               381.0    NaN                NaN   NaN   \n",
       "Stock_Option_Level          1477.0    NaN                NaN   NaN   \n",
       "Total_Working_Years         1477.0    NaN                NaN   NaN   \n",
       "Training_Times_Last_Year    1477.0    NaN                NaN   NaN   \n",
       "Work_Life_Balance           1477.0    NaN                NaN   NaN   \n",
       "Years_At_Company            1477.0    NaN                NaN   NaN   \n",
       "Years_Since_Last_Promotion  1477.0    NaN                NaN   NaN   \n",
       "Years_With_Curr_Manager     1477.0    NaN                NaN   NaN   \n",
       "Date_Birth                  1477.0    NaN                NaN   NaN   \n",
>>>>>>> 1d05b4e (Actualizar: Fase2.ipynb, Fase3_1.xlsx, HR_CLEAN_DATA.csv)
=======
>>>>>>> d6bd9fd (Actualizar: Fase2.ipynb, Fase3_1.xlsx y HR_CLEAN_DATA.csv)
       "\n",
       "                                    mean           std     min     25%  \\\n",
       "Age                            36.942761      9.134814    18.0    30.0   \n",
       "Age_Group                            NaN           NaN     NaN     NaN   \n",
       "Business_Travel                      NaN           NaN     NaN     NaN   \n",
<<<<<<< HEAD
<<<<<<< HEAD
       "Daily_Rate                    806.512017    400.708175   103.0   477.0   \n",
       "Department                           NaN           NaN     NaN     NaN   \n",
       "Distance_From_Home             11.299663     10.527645     1.0     2.0   \n",
       "Education                       2.916498       1.02517     1.0     2.0   \n",
=======
       "Daily_Rate                    805.838095    401.291543   103.0   472.0   \n",
       "Department                           NaN           NaN     NaN     NaN   \n",
       "Distance_From_Home             11.205823     10.434121     1.0     2.0   \n",
       "Education                       2.914015      1.024788     1.0     2.0   \n",
>>>>>>> 1d05b4e (Actualizar: Fase2.ipynb, Fase3_1.xlsx, HR_CLEAN_DATA.csv)
=======
       "Daily_Rate                    806.512017    400.708175   103.0   477.0   \n",
       "Department                           NaN           NaN     NaN     NaN   \n",
       "Distance_From_Home             11.299663     10.527645     1.0     2.0   \n",
       "Education                       2.916498       1.02517     1.0     2.0   \n",
>>>>>>> d6bd9fd (Actualizar: Fase2.ipynb, Fase3_1.xlsx y HR_CLEAN_DATA.csv)
       "Education_Field                      NaN           NaN     NaN     NaN   \n",
       "Environment_Satisfaction        2.740741      1.089395     1.0     2.0   \n",
       "Gender                               NaN           NaN     NaN     NaN   \n",
       "Hourly_Rate                  5180.501684  22028.799079    30.0    50.0   \n",
       "Job_Involvement                  2.73064      0.711977     1.0     2.0   \n",
       "Job_Level                       2.065993      1.105467     1.0     1.0   \n",
       "Job_Role                             NaN           NaN     NaN     NaN   \n",
       "Job_Satisfaction                2.729966       1.10033     1.0     2.0   \n",
       "Marital_Status                       NaN           NaN     NaN     NaN   \n",
       "Monthly_Income              55936.149495  46794.415899  1009.0  5070.0   \n",
       "Monthly_Rate                14296.219529   7129.464478  2094.0  8040.0   \n",
       "Num_Companies_Worked             2.70101      2.507569     0.0     1.0   \n",
       "Over_Time                            NaN           NaN     NaN     NaN   \n",
       "Percent_Salary_Hike            15.216835      3.667459    11.0    12.0   \n",
       "Performance_Rating          12191.201347  32725.015251     3.0     3.0   \n",
       "Relationship_Satisfaction       2.712458      1.081023     1.0     2.0   \n",
       "Stock_Option_Level              0.791919      0.850203     0.0     0.0   \n",
       "Total_Working_Years         32801.863973  46956.557897     0.0     8.0   \n",
       "Training_Times_Last_Year        2.801347      1.286043     0.0     2.0   \n",
       "Work_Life_Balance            6601.835017  24834.463223     1.0     2.0   \n",
       "Years_At_Company                 7.03569      6.136976     0.0     3.0   \n",
       "Years_Since_Last_Promotion           2.2      3.234709     0.0     0.0   \n",
       "Years_With_Curr_Manager         4.143434      3.561781     0.0     2.0   \n",
       "Date_Birth                   1986.053872      9.133913  1963.0  1980.0   \n",
       "\n",
       "                                50%      75%      max  \n",
       "Age                            36.0     43.0     60.0  \n",
       "Age_Group                       NaN      NaN      NaN  \n",
       "Business_Travel                 NaN      NaN      NaN  \n",
       "Daily_Rate                    805.0   1157.0   1499.0  \n",
       "Department                      NaN      NaN      NaN  \n",
       "Distance_From_Home              8.0     17.0     49.0  \n",
       "Education                       3.0      4.0      5.0  \n",
       "Education_Field                 NaN      NaN      NaN  \n",
       "Environment_Satisfaction        3.0      4.0      4.0  \n",
       "Gender                          NaN      NaN      NaN  \n",
       "Hourly_Rate                    68.0     86.0  99999.0  \n",
       "Job_Involvement                 3.0      3.0      4.0  \n",
       "Job_Level                       2.0      3.0      5.0  \n",
       "Job_Role                        NaN      NaN      NaN  \n",
       "Job_Satisfaction                3.0      4.0      4.0  \n",
       "Marital_Status                  NaN      NaN      NaN  \n",
       "Monthly_Income              99999.0  99999.0  99999.0  \n",
       "Monthly_Rate                14229.0  20460.0  26999.0  \n",
       "Num_Companies_Worked            2.0      4.0      9.0  \n",
       "Over_Time                       NaN      NaN      NaN  \n",
       "Percent_Salary_Hike            14.0     18.0     25.0  \n",
       "Performance_Rating              3.0      4.0  99999.0  \n",
       "Relationship_Satisfaction       3.0      4.0      4.0  \n",
       "Stock_Option_Level              1.0      1.0      3.0  \n",
       "Total_Working_Years            15.0  99999.0  99999.0  \n",
       "Training_Times_Last_Year        3.0      3.0      6.0  \n",
       "Work_Life_Balance               3.0      3.0  99999.0  \n",
       "Years_At_Company                5.0      9.0     40.0  \n",
       "Years_Since_Last_Promotion      1.0      3.0     15.0  \n",
       "Years_With_Curr_Manager         3.0      7.0     17.0  \n",
       "Date_Birth                   1987.0   1993.0   2005.0  "
      ]
     },
<<<<<<< HEAD
<<<<<<< HEAD
     "execution_count": 209,
=======
     "execution_count": 161,
>>>>>>> 1d05b4e (Actualizar: Fase2.ipynb, Fase3_1.xlsx, HR_CLEAN_DATA.csv)
=======
     "execution_count": 286,
>>>>>>> d6bd9fd (Actualizar: Fase2.ipynb, Fase3_1.xlsx y HR_CLEAN_DATA.csv)
     "metadata": {},
     "output_type": "execute_result"
    }
   ],
   "source": [
    "df.describe(include=['O','int','float']).T"
   ]
  },
  {
   "cell_type": "code",
<<<<<<< HEAD
<<<<<<< HEAD
   "execution_count": 210,
=======
   "execution_count": 162,
>>>>>>> 1d05b4e (Actualizar: Fase2.ipynb, Fase3_1.xlsx, HR_CLEAN_DATA.csv)
=======
   "execution_count": 287,
>>>>>>> d6bd9fd (Actualizar: Fase2.ipynb, Fase3_1.xlsx y HR_CLEAN_DATA.csv)
   "metadata": {},
   "outputs": [],
   "source": [
    "#Guardamos el DF en formato .csv\n",
    "url_clean_data='https://raw.githubusercontent.com/nuriancg/project-da-promo-H-module-3-team-1/master/HR_CLEAN_DATA.csv'\n",
    "df.to_csv(url_clean_data, index=True)"
   ]
  }
 ],
 "metadata": {
  "kernelspec": {
   "display_name": "base",
   "language": "python",
   "name": "python3"
  },
  "language_info": {
   "codemirror_mode": {
    "name": "ipython",
    "version": 3
   },
   "file_extension": ".py",
   "mimetype": "text/x-python",
   "name": "python",
   "nbconvert_exporter": "python",
   "pygments_lexer": "ipython3",
   "version": "3.9.7"
  }
 },
 "nbformat": 4,
 "nbformat_minor": 2
}
