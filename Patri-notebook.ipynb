{
 "cells": [
  {
   "cell_type": "code",
   "execution_count": 1,
   "metadata": {},
   "outputs": [],
   "source": [
    "import pandas as pd\n",
    "from sklearn.experimental import enable_iterative_imputer\n",
    "from sklearn.impute import IterativeImputer\n",
    "from sklearn.preprocessing import OneHotEncoder\n",
    "from sklearn.compose import ColumnTransformer\n",
    "from sklearn.impute import KNNImputer\n",
    "import numpy as np\n",
    "pd.set_option('display.max_columns', None)\n"
   ]
  },
  {
   "cell_type": "code",
   "execution_count": 3,
   "metadata": {},
   "outputs": [
    {
     "data": {
      "text/html": [
       "<div>\n",
       "<style scoped>\n",
       "    .dataframe tbody tr th:only-of-type {\n",
       "        vertical-align: middle;\n",
       "    }\n",
       "\n",
       "    .dataframe tbody tr th {\n",
       "        vertical-align: top;\n",
       "    }\n",
       "\n",
       "    .dataframe thead th {\n",
       "        text-align: right;\n",
       "    }\n",
       "</style>\n",
       "<table border=\"1\" class=\"dataframe\">\n",
       "  <thead>\n",
       "    <tr style=\"text-align: right;\">\n",
       "      <th></th>\n",
       "      <th>Employee_Number</th>\n",
       "      <th>Age</th>\n",
       "      <th>Age_Group</th>\n",
       "      <th>Attrition</th>\n",
       "      <th>Business_Travel</th>\n",
       "      <th>Daily_Rate</th>\n",
       "      <th>Department</th>\n",
       "      <th>Distance_From_Home</th>\n",
       "      <th>Education</th>\n",
       "      <th>Education_Field</th>\n",
       "      <th>Environment_Satisfaction</th>\n",
       "      <th>Gender</th>\n",
       "      <th>Hourly_Rate</th>\n",
       "      <th>Job_Involvement</th>\n",
       "      <th>Job_Level</th>\n",
       "      <th>Job_Role</th>\n",
       "      <th>Job_Satisfaction</th>\n",
       "      <th>Marital_Status</th>\n",
       "      <th>Monthly_Income</th>\n",
       "      <th>Monthly_Rate</th>\n",
       "      <th>Num_Companies_Worked</th>\n",
       "      <th>Over_18</th>\n",
       "      <th>Over_Time</th>\n",
       "      <th>Percent_Salary_Hike</th>\n",
       "      <th>Performance_Rating</th>\n",
       "      <th>Relationship_Satisfaction</th>\n",
       "      <th>Standard_Hours</th>\n",
       "      <th>Stock_Option_Level</th>\n",
       "      <th>Total_Working_Years</th>\n",
       "      <th>Training_Times_Last_Year</th>\n",
       "      <th>Work_Life_Balance</th>\n",
       "      <th>Years_At_Company</th>\n",
       "      <th>Years_Since_Last_Promotion</th>\n",
       "      <th>Years_With_Curr_Manager</th>\n",
       "      <th>Date_Birth</th>\n",
       "      <th>Remote_Work</th>\n",
       "    </tr>\n",
       "  </thead>\n",
       "  <tbody>\n",
       "    <tr>\n",
       "      <th>0</th>\n",
       "      <td>162</td>\n",
       "      <td>51</td>\n",
       "      <td>NaN</td>\n",
       "      <td>False</td>\n",
       "      <td>NaN</td>\n",
       "      <td>684.0</td>\n",
       "      <td>NaN</td>\n",
       "      <td>6</td>\n",
       "      <td>3</td>\n",
       "      <td>NaN</td>\n",
       "      <td>1</td>\n",
       "      <td>M</td>\n",
       "      <td>51</td>\n",
       "      <td>3</td>\n",
       "      <td>5</td>\n",
       "      <td>Research Director</td>\n",
       "      <td>3</td>\n",
       "      <td>NaN</td>\n",
       "      <td>19537.0</td>\n",
       "      <td>6462.0</td>\n",
       "      <td>7</td>\n",
       "      <td>Y</td>\n",
       "      <td>False</td>\n",
       "      <td>13</td>\n",
       "      <td>3</td>\n",
       "      <td>3</td>\n",
       "      <td>NaN</td>\n",
       "      <td>0</td>\n",
       "      <td>99999</td>\n",
       "      <td>5</td>\n",
       "      <td>3</td>\n",
       "      <td>20</td>\n",
       "      <td>15</td>\n",
       "      <td>15</td>\n",
       "      <td>1972</td>\n",
       "      <td>True</td>\n",
       "    </tr>\n",
       "  </tbody>\n",
       "</table>\n",
       "</div>"
      ],
      "text/plain": [
       "   Employee_Number  Age  Age_Group  Attrition Business_Travel  Daily_Rate  \\\n",
       "0              162   51        NaN      False             NaN       684.0   \n",
       "\n",
       "  Department  Distance_From_Home  Education Education_Field  \\\n",
       "0        NaN                   6          3             NaN   \n",
       "\n",
       "   Environment_Satisfaction Gender  Hourly_Rate  Job_Involvement  Job_Level  \\\n",
       "0                         1      M           51                3          5   \n",
       "\n",
       "              Job_Role  Job_Satisfaction Marital_Status  Monthly_Income  \\\n",
       "0   Research Director                  3            NaN         19537.0   \n",
       "\n",
       "   Monthly_Rate  Num_Companies_Worked Over_18 Over_Time  Percent_Salary_Hike  \\\n",
       "0        6462.0                     7       Y     False                   13   \n",
       "\n",
       "   Performance_Rating  Relationship_Satisfaction  Standard_Hours  \\\n",
       "0                   3                          3             NaN   \n",
       "\n",
       "   Stock_Option_Level  Total_Working_Years  Training_Times_Last_Year  \\\n",
       "0                   0                99999                         5   \n",
       "\n",
       "   Work_Life_Balance  Years_At_Company  Years_Since_Last_Promotion  \\\n",
       "0                  3                20                          15   \n",
       "\n",
       "   Years_With_Curr_Manager  Date_Birth  Remote_Work  \n",
       "0                       15        1972         True  "
      ]
     },
     "execution_count": 3,
     "metadata": {},
     "output_type": "execute_result"
    }
   ],
   "source": [
    "df = pd.read_csv('HR_CLEAN_DATA.csv')\n",
    "df.head(1)"
   ]
  },
  {
   "cell_type": "markdown",
   "metadata": {},
   "source": [
    "Performance_Rating:"
   ]
  },
  {
   "cell_type": "code",
   "execution_count": 4,
   "metadata": {},
   "outputs": [
    {
     "name": "stdout",
     "output_type": "stream",
     "text": [
      "El valor 99999 aparece en 178 registros, lo que representa el 12.05% del total.\n"
     ]
    }
   ],
   "source": [
    "conteo2_NaN = (df['Performance_Rating'] == 99999).sum()\n",
    "total_valores = len(df)\n",
    "porcentaje_99999 = (conteo2_NaN / total_valores) * 100\n",
    "\n",
    "print(f\"El valor 99999 aparece en {conteo2_NaN} registros, lo que representa el {porcentaje_99999:.2f}% del total.\")"
   ]
  },
  {
   "cell_type": "code",
   "execution_count": 5,
   "metadata": {},
   "outputs": [
    {
     "data": {
      "text/plain": [
       "array([nan, 80.])"
      ]
     },
     "execution_count": 5,
     "metadata": {},
     "output_type": "execute_result"
    }
   ],
   "source": [
    "df['Standard_Hours'].unique()"
   ]
  },
  {
   "cell_type": "markdown",
   "metadata": {},
   "source": [
    "Standard_Hours:"
   ]
  },
  {
   "cell_type": "code",
   "execution_count": 6,
   "metadata": {},
   "outputs": [
    {
     "name": "stdout",
     "output_type": "stream",
     "text": [
      "El valor nulo aparece en 1096 registros, lo que representa el 74.20% del total.\n"
     ]
    }
   ],
   "source": [
    "conteo2_NaN = (df['Standard_Hours'].isnull()).sum()\n",
    "total_valores2 = len(df)\n",
    "porcentaje2_NaN = (conteo2_NaN / total_valores2) * 100\n",
    "\n",
    "print(f\"El valor nulo aparece en {conteo2_NaN} registros, lo que representa el {porcentaje2_NaN:.2f}% del total.\")"
   ]
  },
  {
   "cell_type": "markdown",
   "metadata": {},
   "source": [
    "Performance_Rating Mediana y Media:"
   ]
  },
  {
   "cell_type": "code",
   "execution_count": 7,
   "metadata": {},
   "outputs": [
    {
     "name": "stdout",
     "output_type": "stream",
     "text": [
      "Media de Performance_Rating: 3.1562740569668977\n",
      "Mediana de Performance_Rating: 3.0\n"
     ]
    }
   ],
   "source": [
    "df['Performance_Rating'].replace(99999, np.nan, inplace=True)\n",
    "media_performance_rating = df['Performance_Rating'].mean()\n",
    "mediana_performance_rating = df['Performance_Rating'].median()\n",
    "\n",
    "print(f\"Media de Performance_Rating: {media_performance_rating}\")\n",
    "print(f\"Mediana de Performance_Rating: {mediana_performance_rating}\")"
   ]
  },
  {
   "cell_type": "markdown",
   "metadata": {},
   "source": [
    "Standard Hours Mediana:"
   ]
  },
  {
   "cell_type": "code",
   "execution_count": 8,
   "metadata": {},
   "outputs": [
    {
     "name": "stdout",
     "output_type": "stream",
     "text": [
      "Media de Standard_Hours: 80.0\n",
      "Mediana de Standard_Hours: 80.0\n"
     ]
    }
   ],
   "source": [
    "mean_standard_hours = df['Standard_Hours'].mean()\n",
    "median_standard_hours = df['Standard_Hours'].median()\n",
    "\n",
    "print(f\"Media de Standard_Hours: {mean_standard_hours}\")\n",
    "print(f\"Mediana de Standard_Hours: {median_standard_hours}\")"
   ]
  },
  {
   "cell_type": "markdown",
   "metadata": {},
   "source": [
    "Conclusion:"
   ]
  },
  {
   "cell_type": "markdown",
   "metadata": {},
   "source": [
    "1. 'Standard_Hours' = borrar columna.\n",
    "- El valor nan aparece en 1096 registros, lo que representa el 74.20% del total.\n",
    "2. 'Performance_Rating' = Reemplazar con la Implementación de Imputación por Mediana: 3 \n",
    "- El valor 99999 aparece en 178 registros, lo que representa el 12.05% del total."
   ]
  },
  {
   "cell_type": "code",
   "execution_count": null,
   "metadata": {},
   "outputs": [],
   "source": []
  }
 ],
 "metadata": {
  "kernelspec": {
   "display_name": "base",
   "language": "python",
   "name": "python3"
  },
  "language_info": {
   "codemirror_mode": {
    "name": "ipython",
    "version": 3
   },
   "file_extension": ".py",
   "mimetype": "text/x-python",
   "name": "python",
   "nbconvert_exporter": "python",
   "pygments_lexer": "ipython3",
   "version": "3.11.8"
  }
 },
 "nbformat": 4,
 "nbformat_minor": 2
}
